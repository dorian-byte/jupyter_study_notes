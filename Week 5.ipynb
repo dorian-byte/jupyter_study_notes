{
 "cells": [
  {
   "cell_type": "markdown",
   "id": "74e1a42b",
   "metadata": {},
   "source": [
    "Make pairs\n",
    "5 PTS\n",
    "\n",
    "Please complete the pair_up function below so that it takes a list of items and returns a list of pairs of consecutive items. Here's an example:\n",
    "\n",
    "input = [1,2,3,4,5,6,7]\n",
    "\n",
    "pair_up(input)  # Returns [[1,2], [3,4], [5,6]]"
   ]
  },
  {
   "cell_type": "code",
   "execution_count": 13,
   "id": "a3e84fb0",
   "metadata": {},
   "outputs": [],
   "source": [
    "#MINE\n",
    "def pair_up(items):\n",
    "    res = []\n",
    "    if len(items)%2 != 0:\n",
    "        items.pop(-1)\n",
    "    for i in range(len(items)):\n",
    "        if i%2 == 0:\n",
    "            res.append([items[i]])\n",
    "        else:\n",
    "            res[i//2].append(items[i])\n",
    "    return res"
   ]
  },
  {
   "cell_type": "code",
   "execution_count": 10,
   "id": "4c3c3ac9",
   "metadata": {},
   "outputs": [],
   "source": [
    "#LATER\n",
    "def pair_up(items):\n",
    "    max_i = len(items) - 1\n",
    "    res = []\n",
    "    for i, item in enumerate(items):\n",
    "        if i % 2 == 0 and i < max_i:\n",
    "            res.append([item, items[i+1]])\n",
    "    return res"
   ]
  },
  {
   "cell_type": "code",
   "execution_count": 2,
   "id": "00bfede1",
   "metadata": {},
   "outputs": [],
   "source": [
    "#JEFF\n",
    "def pair_up(items):\n",
    "    list =[]\n",
    "    for i in range(0,len(items)-1,2):\n",
    "        list.append([items[i],items[i+1]])\n",
    "    return list"
   ]
  },
  {
   "cell_type": "code",
   "execution_count": 3,
   "id": "a165ddac",
   "metadata": {},
   "outputs": [],
   "source": [
    "#ChatGPT\n",
    "def pair_up(items):\n",
    "    return [[items[i], items[i+1]] for i in range(0, len(items)-1, 2)]"
   ]
  },
  {
   "cell_type": "code",
   "execution_count": 4,
   "id": "31a373d5",
   "metadata": {},
   "outputs": [],
   "source": [
    "input = [1,2,3,4,5,6,7]"
   ]
  },
  {
   "cell_type": "code",
   "execution_count": 5,
   "id": "c1b4aa32",
   "metadata": {
    "scrolled": true
   },
   "outputs": [
    {
     "data": {
      "text/plain": [
       "[[1, 2], [3, 4], [5, 6]]"
      ]
     },
     "execution_count": 5,
     "metadata": {},
     "output_type": "execute_result"
    }
   ],
   "source": [
    "pair_up(input)"
   ]
  },
  {
   "cell_type": "markdown",
   "id": "182b284d",
   "metadata": {},
   "source": [
    "Write a function to find the longest common prefix string amongst an array of strings.\n",
    "\n",
    "If there is no common prefix, return an empty string \"\".\n",
    "\n",
    " \n",
    "\n",
    "Example 1:\n",
    "\n",
    "Input: strs = [\"flower\",\"flow\",\"flight\"]\n",
    "Output: \"fl\"\n",
    "Example 2:\n",
    "\n",
    "Input: strs = [\"dog\",\"racecar\",\"car\"]\n",
    "Output: \"\"\n",
    "Explanation: There is no common prefix among the input strings.\n",
    " \n",
    "\n",
    "Constraints:\n",
    "\n",
    "1 <= strs.length <= 200\n",
    "0 <= strs[i].length <= 200\n",
    "strs[i] consists of only lowercase English letters."
   ]
  },
  {
   "cell_type": "code",
   "execution_count": 1,
   "id": "4264cf13",
   "metadata": {},
   "outputs": [],
   "source": [
    "def longest_common_prefix(lst_str):\n",
    "    min_len = min([len(i) for i in lst_str])\n",
    "    for i in range(min_len):\n",
    "        for s in lst_str:\n",
    "            if s[i] != lst_str[0][i]:\n",
    "                return lst_str[0][:i]\n",
    "    return lst_str[0][:min_len]"
   ]
  },
  {
   "cell_type": "code",
   "execution_count": 2,
   "id": "84b9b3dd",
   "metadata": {},
   "outputs": [],
   "source": [
    "lst_str = ['abbxaibd','abbaigaaas','abbbaiace']"
   ]
  },
  {
   "cell_type": "code",
   "execution_count": 3,
   "id": "6144301d",
   "metadata": {},
   "outputs": [],
   "source": [
    "lst_str = ['ab','a']"
   ]
  },
  {
   "cell_type": "code",
   "execution_count": 4,
   "id": "62ce7740",
   "metadata": {},
   "outputs": [
    {
     "data": {
      "text/plain": [
       "'a'"
      ]
     },
     "execution_count": 4,
     "metadata": {},
     "output_type": "execute_result"
    }
   ],
   "source": [
    "longest_common_prefix(lst_str)"
   ]
  },
  {
   "cell_type": "code",
   "execution_count": 76,
   "id": "82cf105d",
   "metadata": {},
   "outputs": [],
   "source": [
    "# Second Practice\n",
    "def longest_common_prefix(lst_str):\n",
    "    min_len = min([len(i) for i in lst_str])\n",
    "    for i in range(min_len):\n",
    "        for s in lst_str:\n",
    "            if s[i] != lst_str[0][i]:\n",
    "                return lst_str[0][:i]\n",
    "    return lst_str[0][:min_len]"
   ]
  },
  {
   "cell_type": "code",
   "execution_count": null,
   "id": "7ad1186c",
   "metadata": {},
   "outputs": [],
   "source": [
    "class Solution:\n",
    "    def longestCommonPrefix(self, strs: List[str]) -> str:\n",
    "        min_l_str = min(strs, key=len)\n",
    "        if min_l_str == 0:\n",
    "            return \"\"\n",
    "        for i in range(len(min_l_str)):\n",
    "            c = strs[0][i]\n",
    "            for s in strs:\n",
    "                if s[i] != c:\n",
    "                    return min_l_str[0:i]\n",
    "        return min_l_str"
   ]
  },
  {
   "cell_type": "markdown",
   "id": "2958e451",
   "metadata": {},
   "source": [
    "Practicing Indexing and slicing"
   ]
  },
  {
   "cell_type": "markdown",
   "id": "fb31cd88",
   "metadata": {},
   "source": [
    "<table width=\"200\" border=\"1\">\n",
    "  <tbody><tr>\n",
    "    <td>String content           </td>\n",
    "    <td>a</td>\n",
    "    <td>b</td>\n",
    "    <td>c</td>\n",
    "    <td>d</td>\n",
    "    <td>e</td>\n",
    "    <td>f</td>\n",
    "  </tr>\n",
    "  <tr>\n",
    "    <td>String index from left    </td>\n",
    "    <td>0</td>\n",
    "    <td>1</td>\n",
    "    <td>2</td>\n",
    "    <td>3</td>\n",
    "    <td>4</td>\n",
    "    <td>5</td>\n",
    "  </tr>\n",
    "  <tr>\n",
    "    <td>String index from right   </td>\n",
    "    <td>-6</td>\n",
    "    <td>-5</td>\n",
    "    <td>-4</td>\n",
    "    <td>-3</td>\n",
    "    <td>-2</td>\n",
    "    <td>-1</td>\n",
    "  </tr>\n",
    "</tbody></table>"
   ]
  },
  {
   "cell_type": "markdown",
   "id": "d0d12d4a",
   "metadata": {},
   "source": [
    "# **reversed_index = index - length**"
   ]
  },
  {
   "cell_type": "code",
   "execution_count": 4,
   "id": "80c04fbb",
   "metadata": {},
   "outputs": [
    {
     "data": {
      "text/plain": [
       "False"
      ]
     },
     "execution_count": 4,
     "metadata": {},
     "output_type": "execute_result"
    }
   ],
   "source": [
    "3 in range(3,3)"
   ]
  },
  {
   "cell_type": "code",
   "execution_count": 3,
   "id": "d8d3e2cb",
   "metadata": {},
   "outputs": [
    {
     "data": {
      "text/plain": [
       "[]"
      ]
     },
     "execution_count": 3,
     "metadata": {},
     "output_type": "execute_result"
    }
   ],
   "source": [
    "list(range(3,3))"
   ]
  },
  {
   "cell_type": "code",
   "execution_count": 20,
   "id": "e6b791b1",
   "metadata": {},
   "outputs": [
    {
     "data": {
      "text/plain": [
       "'gfedcb'"
      ]
     },
     "execution_count": 20,
     "metadata": {},
     "output_type": "execute_result"
    }
   ],
   "source": [
    "MyString = 'abcdefg'\n",
    "\n",
    "MyString[-1:-7:-1]"
   ]
  },
  {
   "cell_type": "code",
   "execution_count": 45,
   "id": "9aa0787f",
   "metadata": {
    "scrolled": true
   },
   "outputs": [
    {
     "data": {
      "text/plain": [
       "'gfedcb'"
      ]
     },
     "execution_count": 45,
     "metadata": {},
     "output_type": "execute_result"
    }
   ],
   "source": [
    "MyString = 'abcdefg'\n",
    "\n",
    "MyString[6:0:-1]"
   ]
  },
  {
   "cell_type": "code",
   "execution_count": 46,
   "id": "ce52a5b3",
   "metadata": {},
   "outputs": [
    {
     "data": {
      "text/plain": [
       "True"
      ]
     },
     "execution_count": 46,
     "metadata": {},
     "output_type": "execute_result"
    }
   ],
   "source": [
    "MyString[-1:-7:-1] == MyString[6:0:-1]"
   ]
  },
  {
   "cell_type": "code",
   "execution_count": 47,
   "id": "53a0a6e5",
   "metadata": {},
   "outputs": [
    {
     "data": {
      "text/plain": [
       "'gec'"
      ]
     },
     "execution_count": 47,
     "metadata": {},
     "output_type": "execute_result"
    }
   ],
   "source": [
    "MyString[6:0:-2]"
   ]
  },
  {
   "cell_type": "code",
   "execution_count": 21,
   "id": "3158f9e4",
   "metadata": {},
   "outputs": [
    {
     "data": {
      "text/plain": [
       "'bcdefg'"
      ]
     },
     "execution_count": 21,
     "metadata": {},
     "output_type": "execute_result"
    }
   ],
   "source": [
    "MyString[1:7:1]"
   ]
  },
  {
   "cell_type": "code",
   "execution_count": 22,
   "id": "e7ea6172",
   "metadata": {},
   "outputs": [
    {
     "data": {
      "text/plain": [
       "'bdf'"
      ]
     },
     "execution_count": 22,
     "metadata": {},
     "output_type": "execute_result"
    }
   ],
   "source": [
    "MyString[1:7:2]"
   ]
  },
  {
   "cell_type": "code",
   "execution_count": 24,
   "id": "fbfa97ad",
   "metadata": {},
   "outputs": [
    {
     "data": {
      "text/plain": [
       "''"
      ]
     },
     "execution_count": 24,
     "metadata": {},
     "output_type": "execute_result"
    }
   ],
   "source": [
    "MyString[-1:-7]"
   ]
  },
  {
   "cell_type": "code",
   "execution_count": 30,
   "id": "62d0ce45",
   "metadata": {},
   "outputs": [
    {
     "data": {
      "text/plain": [
       "''"
      ]
     },
     "execution_count": 30,
     "metadata": {},
     "output_type": "execute_result"
    }
   ],
   "source": [
    "MyString[-1:-7:2]"
   ]
  },
  {
   "cell_type": "code",
   "execution_count": 35,
   "id": "d1649970",
   "metadata": {},
   "outputs": [
    {
     "data": {
      "text/plain": [
       "'g'"
      ]
     },
     "execution_count": 35,
     "metadata": {},
     "output_type": "execute_result"
    }
   ],
   "source": [
    "MyString[-1:7]"
   ]
  },
  {
   "cell_type": "code",
   "execution_count": 36,
   "id": "f9adb626",
   "metadata": {},
   "outputs": [
    {
     "data": {
      "text/plain": [
       "'g'"
      ]
     },
     "execution_count": 36,
     "metadata": {},
     "output_type": "execute_result"
    }
   ],
   "source": [
    "MyString[6]"
   ]
  },
  {
   "cell_type": "code",
   "execution_count": 37,
   "id": "dd02e137",
   "metadata": {},
   "outputs": [
    {
     "data": {
      "text/plain": [
       "'g'"
      ]
     },
     "execution_count": 37,
     "metadata": {},
     "output_type": "execute_result"
    }
   ],
   "source": [
    "MyString[6:7]"
   ]
  },
  {
   "cell_type": "code",
   "execution_count": 40,
   "id": "8a8bffd6",
   "metadata": {},
   "outputs": [
    {
     "data": {
      "text/plain": [
       "'g'"
      ]
     },
     "execution_count": 40,
     "metadata": {},
     "output_type": "execute_result"
    }
   ],
   "source": [
    "MyString[6:10]"
   ]
  },
  {
   "cell_type": "code",
   "execution_count": 41,
   "id": "3a3d630e",
   "metadata": {
    "scrolled": true
   },
   "outputs": [
    {
     "data": {
      "text/plain": [
       "''"
      ]
     },
     "execution_count": 41,
     "metadata": {},
     "output_type": "execute_result"
    }
   ],
   "source": [
    "MyString[100:200]"
   ]
  },
  {
   "cell_type": "markdown",
   "id": "db37ed53",
   "metadata": {},
   "source": [
    "# **index overflow raises error, while slicing doesn't**"
   ]
  },
  {
   "cell_type": "code",
   "execution_count": 42,
   "id": "a59b0e73",
   "metadata": {
    "scrolled": true
   },
   "outputs": [
    {
     "ename": "IndexError",
     "evalue": "string index out of range",
     "output_type": "error",
     "traceback": [
      "\u001b[0;31m---------------------------------------------------------------------------\u001b[0m",
      "\u001b[0;31mIndexError\u001b[0m                                Traceback (most recent call last)",
      "Cell \u001b[0;32mIn[42], line 1\u001b[0m\n\u001b[0;32m----> 1\u001b[0m \u001b[43mMyString\u001b[49m\u001b[43m[\u001b[49m\u001b[38;5;241;43m10\u001b[39;49m\u001b[43m]\u001b[49m\n",
      "\u001b[0;31mIndexError\u001b[0m: string index out of range"
     ]
    }
   ],
   "source": [
    "MyString[10]"
   ]
  },
  {
   "cell_type": "code",
   "execution_count": 44,
   "id": "c4d8d163",
   "metadata": {},
   "outputs": [
    {
     "data": {
      "text/plain": [
       "'abcde'"
      ]
     },
     "execution_count": 44,
     "metadata": {},
     "output_type": "execute_result"
    }
   ],
   "source": [
    "MyString[0:-2] # print until the last two"
   ]
  },
  {
   "cell_type": "code",
   "execution_count": 47,
   "id": "93cf8fe7",
   "metadata": {},
   "outputs": [],
   "source": [
    "lst = [1,7,2,4,5,6,8,9,6,4]"
   ]
  },
  {
   "cell_type": "code",
   "execution_count": 48,
   "id": "7749934e",
   "metadata": {},
   "outputs": [],
   "source": [
    "def even_occurrence(lst):\n",
    "    pool = {}\n",
    "    for i in lst:\n",
    "        if i not in pool:\n",
    "            pool[i] = 1\n",
    "        else:\n",
    "            pool[i] += 1\n",
    "    for i in lst:\n",
    "        if pool[i]%2==0:\n",
    "            return i\n",
    "    return None"
   ]
  },
  {
   "cell_type": "code",
   "execution_count": 49,
   "id": "2f63a12e",
   "metadata": {},
   "outputs": [
    {
     "data": {
      "text/plain": [
       "4"
      ]
     },
     "execution_count": 49,
     "metadata": {},
     "output_type": "execute_result"
    }
   ],
   "source": [
    "even_occurrence(lst)"
   ]
  },
  {
   "cell_type": "code",
   "execution_count": 59,
   "id": "5eba5c32",
   "metadata": {},
   "outputs": [],
   "source": [
    "from collections import Counter\n",
    "def character_frequency(str_):\n",
    "    return [list(i) for i in Counter(str_).items()]"
   ]
  },
  {
   "cell_type": "code",
   "execution_count": 61,
   "id": "d0cf61d2",
   "metadata": {},
   "outputs": [],
   "source": [
    "def character_frequency(str_):\n",
    "    dct = {}\n",
    "    for c in str_:\n",
    "        if c not in dct:\n",
    "            dct[c] = 1\n",
    "        else:\n",
    "            dct[c] += 1\n",
    "    return [list(i) for i in dct.items()]"
   ]
  },
  {
   "cell_type": "code",
   "execution_count": 62,
   "id": "7165f3aa",
   "metadata": {
    "scrolled": true
   },
   "outputs": [
    {
     "data": {
      "text/plain": [
       "[['m', 1], ['i', 4], ['s', 4], ['p', 2]]"
      ]
     },
     "execution_count": 62,
     "metadata": {},
     "output_type": "execute_result"
    }
   ],
   "source": [
    "character_frequency(\"mississippi\")"
   ]
  },
  {
   "cell_type": "code",
   "execution_count": null,
   "id": "10eac4f5",
   "metadata": {},
   "outputs": [],
   "source": []
  }
 ],
 "metadata": {
  "kernelspec": {
   "display_name": "Python 3 (ipykernel)",
   "language": "python",
   "name": "python3"
  },
  "language_info": {
   "codemirror_mode": {
    "name": "ipython",
    "version": 3
   },
   "file_extension": ".py",
   "mimetype": "text/x-python",
   "name": "python",
   "nbconvert_exporter": "python",
   "pygments_lexer": "ipython3",
   "version": "3.10.2"
  }
 },
 "nbformat": 4,
 "nbformat_minor": 5
}
