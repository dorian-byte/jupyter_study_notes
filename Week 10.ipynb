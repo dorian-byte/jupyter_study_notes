{
 "cells": [
  {
   "cell_type": "code",
   "execution_count": 2,
   "id": "565da1e6",
   "metadata": {},
   "outputs": [],
   "source": [
    "# get mode of a list\n",
    "\n",
    "# from collections import Counter\n",
    "# from functools import reduct\n",
    "# def mode(numbers):\n",
    "#     d = Counter(numbers)\n",
    "#     return reduce(lambda x,y: max(x[1],y[1]), d.items())\n",
    "    \n",
    "def mode(numbers):\n",
    "    return max(numbers, key=numbers.count)"
   ]
  },
  {
   "cell_type": "markdown",
   "id": "aa57df66",
   "metadata": {},
   "source": [
    "```python\n",
    "input = [\n",
    "    \"arrays in JavaScript, lists in Python\",\n",
    "    \"objects in JavaScript, dictionaries in Python\"\n",
    "]\n",
    "\n",
    "output = [\n",
    "    'ARRAYS IN JAVASCRIPT, LISTS IN PYTHON',\n",
    "    'OBJECTS IN JAVASCRIPT, DICTIONARIES IN PYTHON'\n",
    "]\n",
    "```"
   ]
  },
  {
   "cell_type": "code",
   "execution_count": 10,
   "id": "e08a7ee3",
   "metadata": {},
   "outputs": [
    {
     "data": {
      "text/plain": [
       "'ARRAYS'"
      ]
     },
     "execution_count": 10,
     "metadata": {},
     "output_type": "execute_result"
    }
   ],
   "source": [
    "\"arrays\".upper()"
   ]
  },
  {
   "cell_type": "code",
   "execution_count": 7,
   "id": "0e8c3d97",
   "metadata": {},
   "outputs": [
    {
     "name": "stdout",
     "output_type": "stream",
     "text": [
      "600\n"
     ]
    }
   ],
   "source": [
    "from functools import reduce\n",
    "\n",
    "#NOTE: the third argument (initializer) is optional\n",
    "\n",
    "product = reduce(lambda x, y: x * y, range(1, 4),100)\n",
    "print(product) # Output: 120"
   ]
  },
  {
   "cell_type": "code",
   "execution_count": 13,
   "id": "10a9fa9f",
   "metadata": {},
   "outputs": [],
   "source": [
    "from functools import reduce\n",
    "def find_lists_with_minimum_value(lists):\n",
    "    min_ = reduce(lambda x,y: min(x,min(y)), lists, float(\"inf\"))\n",
    "    print(min_)\n",
    "    return [lists.index(l) for l in lists if min_ in l]"
   ]
  },
  {
   "cell_type": "code",
   "execution_count": 14,
   "id": "a69b9223",
   "metadata": {},
   "outputs": [],
   "source": [
    "lists = [\n",
    "  [6, 4, 5, 2, 6, 3, 2],\n",
    "  [3, 3, 3, 4],\n",
    "  [4, 2, 3, 2, 4],\n",
    "]"
   ]
  },
  {
   "cell_type": "code",
   "execution_count": 15,
   "id": "2feb25cd",
   "metadata": {
    "scrolled": true
   },
   "outputs": [
    {
     "name": "stdout",
     "output_type": "stream",
     "text": [
      "2\n"
     ]
    },
    {
     "data": {
      "text/plain": [
       "[0, 2]"
      ]
     },
     "execution_count": 15,
     "metadata": {},
     "output_type": "execute_result"
    }
   ],
   "source": [
    "find_lists_with_minimum_value(lists)"
   ]
  },
  {
   "cell_type": "code",
   "execution_count": 16,
   "id": "e5045d7e",
   "metadata": {},
   "outputs": [],
   "source": [
    "def is_bbt(s):\n",
    "    if len(s)%2 != 0:\n",
    "        return False\n",
    "    elif s[0:len(s)//2] == s[len(s)//2:]:\n",
    "        return True\n",
    "\n",
    "def baby_talk(s):\n",
    "    cnt = 0\n",
    "    i = 0\n",
    "    while i < len(s):\n",
    "        j = i + 1\n",
    "        while j <= len(s):\n",
    "            if is_bbt(s[i:j]):\n",
    "                if cnt < len(s[i:j]):\n",
    "                    cnt = len(s[i:j])\n",
    "            j+=1\n",
    "        i+=1\n",
    "    return cnt"
   ]
  },
  {
   "cell_type": "markdown",
   "id": "a095cf87",
   "metadata": {},
   "source": [
    "### |Binary Search"
   ]
  },
  {
   "cell_type": "code",
   "execution_count": 22,
   "id": "54ccc0b2",
   "metadata": {},
   "outputs": [],
   "source": [
    "def binary_search(items, target):\n",
    "    low = 0\n",
    "    high = len(items) - 1\n",
    "    while low <= high:\n",
    "        mid = (low + high) // 2\n",
    "        if items[mid] == target:\n",
    "            return target\n",
    "        elif items[mid] < target:\n",
    "            low = mid + 1\n",
    "        else:\n",
    "            high = mid - 1\n",
    "    return None"
   ]
  },
  {
   "cell_type": "code",
   "execution_count": 23,
   "id": "7c8b9a99",
   "metadata": {},
   "outputs": [],
   "source": [
    "items = [1, 2, 4]\n",
    "target = 2"
   ]
  },
  {
   "cell_type": "code",
   "execution_count": 24,
   "id": "cd964452",
   "metadata": {},
   "outputs": [
    {
     "data": {
      "text/plain": [
       "2"
      ]
     },
     "execution_count": 24,
     "metadata": {},
     "output_type": "execute_result"
    }
   ],
   "source": [
    "binary_search(items, target)"
   ]
  },
  {
   "cell_type": "code",
   "execution_count": 1,
   "id": "894e6fa1",
   "metadata": {},
   "outputs": [],
   "source": [
    "class MyNode:\n",
    "    def __init__(self, value=None, link=None):\n",
    "        self.value = value\n",
    "        self.link = link\n",
    "\n",
    "    def __str__(self):\n",
    "        return f\"Node with value:{self.value}\"\n",
    "\n",
    "\n",
    "class MySLL:\n",
    "    def __init__(self, head=None, tail=None):\n",
    "\n",
    "        self.head = head\n",
    "        self.tail = tail\n",
    "        self._length = 0\n",
    "\n",
    "    def __str__(self):\n",
    "        return f\"Sll with length {self.length}\"\n",
    "\n",
    "    # Length instance attribute\n",
    "    # \"read-only\" length property\n",
    "    @property\n",
    "    def length(self):\n",
    "        return self._length\n",
    "\n",
    "    # Traverse\n",
    "    def traverse(self, idx):\n",
    "\n",
    "        # handle negative idx\n",
    "        if idx < 0:\n",
    "            idx == self._length + idx\n",
    "\n",
    "        # If list empty\n",
    "        # If idx out of bounds\n",
    "        if self._length == 0 or idx > (self._length - 1):\n",
    "            raise IndexError(\"idx out of range\")\n",
    "\n",
    "        # If idx not an integer\n",
    "        if not isinstance(idx, int):\n",
    "            raise TypeError(\"idx must be an integer\")\n",
    "\n",
    "        i = 0\n",
    "        _current_node = self.head\n",
    "\n",
    "        while i < idx:\n",
    "            _current_node = _current_node.link\n",
    "            i += 1\n",
    "\n",
    "        return _current_node\n",
    "\n",
    "    def insert(self, val, idx=None):\n",
    "\n",
    "        _new_node = MyNode(val, link=None)\n",
    "\n",
    "        # idx None (default)\n",
    "        if idx is None:\n",
    "            idx = self._length\n",
    "\n",
    "        # handle negative indices\n",
    "        if idx < 0:\n",
    "            idx = self._length + idx\n",
    "\n",
    "        # list empty, inserting first node\n",
    "        if self.head is None:\n",
    "            self.head = _new_node\n",
    "            self.tail = _new_node\n",
    "            self._length += 1\n",
    "            return None\n",
    "\n",
    "        # insert at tail (default)\n",
    "        elif idx == self._length:\n",
    "            self.tail.link = _new_node\n",
    "            self.tail = _new_node\n",
    "            self._length += 1\n",
    "            return None\n",
    "\n",
    "        # insert before head\n",
    "        elif idx == 0:\n",
    "            _new_node.link = self.head\n",
    "            self.head = _new_node\n",
    "            self._length += 1\n",
    "            return None\n",
    "\n",
    "        # insert between two nodes\n",
    "        else:\n",
    "\n",
    "            this_idx_node = self.traverse(idx - 1)\n",
    "            next_idx_node = this_idx_node.link\n",
    "\n",
    "            _new_node.link = next_idx_node\n",
    "            this_idx_node.link = _new_node\n",
    "\n",
    "            self._length += 1\n",
    "            return None\n",
    "\n",
    "    def remove(self, idx=0):\n",
    "\n",
    "        # If list empty\n",
    "        # If idx out of bounds\n",
    "        if self._length == 0 or idx > (self._length - 1):\n",
    "            raise IndexError(\"idx out of range\")\n",
    "\n",
    "        # If idx not an integer\n",
    "        if not isinstance(idx, int):\n",
    "            raise TypeError(\"idx must be an integer\")\n",
    "\n",
    "        # If idx 0\n",
    "        if idx == 0:\n",
    "            _val = self.head.value\n",
    "            self.head = self.head.link\n",
    "            self._length -= 1\n",
    "\n",
    "            # If no other members\n",
    "            if self._length == 0:\n",
    "                self.tail = None\n",
    "\n",
    "            return _val\n",
    "        if idx < 0:\n",
    "            idx = self._length + idx\n",
    "\n",
    "        # other indices\n",
    "        previous_idx_node = self.traverse(idx - 1)\n",
    "        this_idx_node = previous_idx_node.link\n",
    "\n",
    "        _val = this_idx_node.value\n",
    "\n",
    "        next_idx_node = this_idx_node.link\n",
    "\n",
    "        # connect previous to next\n",
    "        previous_idx_node.link = next_idx_node\n",
    "\n",
    "        if next_idx_node is None:\n",
    "            self.tail = previous_idx_node\n",
    "\n",
    "        self._length -= 1\n",
    "        return _val\n",
    "\n",
    "    def search(self, given_val):\n",
    "        \"\"\"\n",
    "        search\n",
    "        if given_val is in the sll, return the idx\n",
    "        of the first occurrence\n",
    "        else return -1\n",
    "        \"\"\"\n",
    "        dummy_node = self.head\n",
    "        i = 0\n",
    "        while dummy_node.link is not None:\n",
    "            if dummy_node.value == given_val:\n",
    "                return i\n",
    "            dummy_node = dummy_node.link\n",
    "            i += 1\n",
    "        return -1\n"
   ]
  },
  {
   "cell_type": "code",
   "execution_count": null,
   "id": "9eda0dd8",
   "metadata": {},
   "outputs": [],
   "source": []
  },
  {
   "cell_type": "code",
   "execution_count": 1,
   "id": "088d0db7",
   "metadata": {},
   "outputs": [],
   "source": [
    "from functools import reduce\n",
    "def intersection(nums):\n",
    "    return sorted(reduce(lambda x,y:set(x)&set(y),nums))"
   ]
  },
  {
   "cell_type": "code",
   "execution_count": 2,
   "id": "b6e26967",
   "metadata": {},
   "outputs": [],
   "source": [
    "nums = [[3,1,2,4,5],[1,2,3,4],[3,4,5,6]]"
   ]
  },
  {
   "cell_type": "code",
   "execution_count": 3,
   "id": "8e0c651c",
   "metadata": {},
   "outputs": [
    {
     "data": {
      "text/plain": [
       "[3, 4]"
      ]
     },
     "execution_count": 3,
     "metadata": {},
     "output_type": "execute_result"
    }
   ],
   "source": [
    "intersection(nums)"
   ]
  },
  {
   "cell_type": "code",
   "execution_count": 4,
   "id": "b510da33",
   "metadata": {},
   "outputs": [],
   "source": [
    "from functools import reduce\n",
    "def union(nums):\n",
    "    return sorted(reduce(lambda x,y:set(x)|set(y),nums))"
   ]
  },
  {
   "cell_type": "code",
   "execution_count": 5,
   "id": "5ee0655c",
   "metadata": {},
   "outputs": [
    {
     "data": {
      "text/plain": [
       "[1, 2, 3, 4, 5, 6]"
      ]
     },
     "execution_count": 5,
     "metadata": {},
     "output_type": "execute_result"
    }
   ],
   "source": [
    "union(nums)"
   ]
  },
  {
   "cell_type": "code",
   "execution_count": null,
   "id": "b089e5ea",
   "metadata": {},
   "outputs": [],
   "source": []
  },
  {
   "cell_type": "code",
   "execution_count": 1,
   "id": "732f17a1",
   "metadata": {},
   "outputs": [
    {
     "data": {
      "text/plain": [
       "1"
      ]
     },
     "execution_count": 1,
     "metadata": {},
     "output_type": "execute_result"
    }
   ],
   "source": [
    "(0+3)//2"
   ]
  },
  {
   "cell_type": "code",
   "execution_count": 4,
   "id": "92b1e8d1",
   "metadata": {},
   "outputs": [
    {
     "data": {
      "text/plain": [
       "True"
      ]
     },
     "execution_count": 4,
     "metadata": {},
     "output_type": "execute_result"
    }
   ],
   "source": [
    "x = 2\n",
    "-1 < 1 < x < 3 < 5"
   ]
  },
  {
   "cell_type": "code",
   "execution_count": 8,
   "id": "33545fe2",
   "metadata": {},
   "outputs": [],
   "source": [
    "a = b = c = d= True"
   ]
  },
  {
   "cell_type": "code",
   "execution_count": 9,
   "id": "e44d3de2",
   "metadata": {},
   "outputs": [
    {
     "data": {
      "text/plain": [
       "True"
      ]
     },
     "execution_count": 9,
     "metadata": {},
     "output_type": "execute_result"
    }
   ],
   "source": [
    "a"
   ]
  },
  {
   "cell_type": "code",
   "execution_count": 10,
   "id": "9c1e7b42",
   "metadata": {},
   "outputs": [
    {
     "data": {
      "text/plain": [
       "True"
      ]
     },
     "execution_count": 10,
     "metadata": {},
     "output_type": "execute_result"
    }
   ],
   "source": [
    "b"
   ]
  },
  {
   "cell_type": "code",
   "execution_count": 11,
   "id": "2773f7ef",
   "metadata": {},
   "outputs": [
    {
     "data": {
      "text/plain": [
       "True"
      ]
     },
     "execution_count": 11,
     "metadata": {},
     "output_type": "execute_result"
    }
   ],
   "source": [
    "c"
   ]
  },
  {
   "cell_type": "code",
   "execution_count": 12,
   "id": "d15b56e6",
   "metadata": {},
   "outputs": [
    {
     "data": {
      "text/plain": [
       "True"
      ]
     },
     "execution_count": 12,
     "metadata": {},
     "output_type": "execute_result"
    }
   ],
   "source": [
    "d"
   ]
  },
  {
   "cell_type": "code",
   "execution_count": null,
   "id": "bfd7ea1d",
   "metadata": {},
   "outputs": [],
   "source": []
  }
 ],
 "metadata": {
  "kernelspec": {
   "display_name": "Python 3 (ipykernel)",
   "language": "python",
   "name": "python3"
  },
  "language_info": {
   "codemirror_mode": {
    "name": "ipython",
    "version": 3
   },
   "file_extension": ".py",
   "mimetype": "text/x-python",
   "name": "python",
   "nbconvert_exporter": "python",
   "pygments_lexer": "ipython3",
   "version": "3.10.2"
  }
 },
 "nbformat": 4,
 "nbformat_minor": 5
}
