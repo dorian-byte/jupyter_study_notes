{
 "cells": [
  {
   "cell_type": "code",
   "execution_count": 1,
   "id": "11f7c4cd",
   "metadata": {},
   "outputs": [],
   "source": [
    "states = ['Alabama', 'Alaska', 'Arizona', 'Arkansas', 'California', 'Colorado', 'Connecticut', 'Washington DC', 'Delaware', 'Florida', 'Georgia', 'Hawaii', 'Idaho', 'Illinois', 'Indiana', 'Iowa', 'Kansas', 'Kentucky', 'Louisiana', 'Maine', 'Maryland', 'Massachusetts', 'Michigan', 'Minnesota', 'Mississippi', 'Missouri', 'Montana', 'Nebraska', 'Nevada', 'New Hampshire', 'New Jersey', 'New Mexico', 'New York', 'North Carolina', 'North Dakota', 'Ohio', 'Oklahoma', 'Oregon', 'Pennsylvania', 'Rhode Island', 'South Carolina', 'South Dakota', 'Tennessee', 'Texas', 'Utah', 'Vermont', 'Virginia', 'Washington', 'West Virginia', 'Wisconsin', 'Wyoming']"
   ]
  },
  {
   "cell_type": "code",
   "execution_count": 2,
   "id": "f928f305",
   "metadata": {},
   "outputs": [],
   "source": [
    "mth = ['January', 'February', 'March', 'April', 'May', 'June', 'July',\n",
    "          'August', 'September', 'October', 'November', 'December']"
   ]
  },
  {
   "cell_type": "code",
   "execution_count": 3,
   "id": "960422a2",
   "metadata": {},
   "outputs": [],
   "source": [
    "colors = [\"Red\",\"Green\",\"White\",\"Black\",\"Yellow\"]"
   ]
  },
  {
   "cell_type": "code",
   "execution_count": 4,
   "id": "7dd0f3dc",
   "metadata": {},
   "outputs": [],
   "source": [
    "city_population = {\"New York City\": 8550405, \n",
    "                   \"Los Angeles\": 3971883, \n",
    "                   \"Toronto\": 2731571, \n",
    "                   \"Chicago\": 2720546, \n",
    "                   \"Houston\": 2296224, \n",
    "                   \"Montreal\": 1704694, \n",
    "                   \"Calgary\": 1239220, \n",
    "                   \"Vancouver\": 631486, \n",
    "                   \"Boston\": 667137}"
   ]
  },
  {
   "cell_type": "code",
   "execution_count": 5,
   "id": "902234df",
   "metadata": {},
   "outputs": [],
   "source": [
    "lst_tup = [(\"Nickie\",7),(\"Mark\",2),(\"Eason\",6),(\"Henry\",4)]"
   ]
  },
  {
   "cell_type": "code",
   "execution_count": 6,
   "id": "f2915f47",
   "metadata": {},
   "outputs": [],
   "source": [
    "brics = {\n",
    "            'Brazil': 'Brasilia', \n",
    "            'Russia': 'Moscow', \n",
    "            'India': 'New Delhi', \n",
    "            'China': 'Beijing', \n",
    "            'South Africa': 'Cape Town'\n",
    "        }"
   ]
  },
  {
   "cell_type": "code",
   "execution_count": 7,
   "id": "62611c89",
   "metadata": {},
   "outputs": [],
   "source": [
    "lst_dct = [{'CAPITAL': 'Berlin',\n",
    "  'COUNTRY': 'Germany',\n",
    "  'LANGUAGE': 'German',\n",
    "  'POPULATION': '3.5'},\n",
    " {'CAPITAL': 'Rome',\n",
    "  'COUNTRY': 'Italy',\n",
    "  'LANGUAGE': 'Italian',\n",
    "  'POPULATION': '2.1'},\n",
    " {'CAPITAL': 'Amsterdam',\n",
    "  'COUNTRY': 'Netherlands',\n",
    "  'LANGUAGE': 'Dutch',\n",
    "  'POPULATION': '0.3'},\n",
    " {'CAPITAL': 'Paris',\n",
    "  'COUNTRY': 'France',\n",
    "  'LANGUAGE': 'French',\n",
    "  'POPULATION': '2.8'}]"
   ]
  },
  {
   "cell_type": "code",
   "execution_count": 6,
   "id": "951ce990",
   "metadata": {},
   "outputs": [],
   "source": [
    "paintings = [    \"Salvator Mundi\",     \"When Will You Marry?\",     \"The Card Players\",     \"Women of Algiers (Version O)\",     \"Interchange\",     \"The Scream\",     \"Nafea Faa Ipoipo\",     \"Number 17A\",     \"Portrait of Adele Bloch-Bauer I\",     \"The Persistence of Memory\"]"
   ]
  },
  {
   "cell_type": "code",
   "execution_count": 7,
   "id": "fafe5253",
   "metadata": {},
   "outputs": [],
   "source": [
    "mountains = {\n",
    "    \"Mount Everest\": 8848,\n",
    "    \"K2\": 8611,\n",
    "    \"Kangchenjunga\": 8586,\n",
    "    \"Lhotse\": 8516,\n",
    "    \"Makalu\": 8485,\n",
    "    \"Cho Oyu\": 8188,\n",
    "    \"Dhaulagiri\": 8167,\n",
    "    \"Manaslu\": 8163,\n",
    "    \"Nanga Parbat\": 8126,\n",
    "    \"Annapurna\": 8091,\n",
    "    \"Gasherbrum I\": 8080,\n",
    "    \"Broad Peak\": 8051,\n",
    "    \"Gasherbrum II\": 8035,\n",
    "    \"Shishapangma\": 8027,\n",
    "    \"Gasherbrum III\": 7952,\n",
    "    \"Gasherbrum IV\": 7925,\n",
    "    \"Distaghil Sar\": 7885,\n",
    "    \"Ngadi Chuli\": 7871,\n",
    "    \"Gasherbrum V\": 7852,\n",
    "    \"Gasherbrum VI\": 7832,\n",
    "    \"Gasherbrum VII\": 7820,\n",
    "    \"Gasherbrum VIII\": 7810,\n",
    "    \"Gasherbrum IX\": 7795,\n",
    "    \"Gasherbrum X\": 7790,\n",
    "    \"Shispare\": 7760\n",
    "}"
   ]
  }
 ],
 "metadata": {
  "kernelspec": {
   "display_name": "Python 3 (ipykernel)",
   "language": "python",
   "name": "python3"
  },
  "language_info": {
   "codemirror_mode": {
    "name": "ipython",
    "version": 3
   },
   "file_extension": ".py",
   "mimetype": "text/x-python",
   "name": "python",
   "nbconvert_exporter": "python",
   "pygments_lexer": "ipython3",
   "version": "3.10.2"
  }
 },
 "nbformat": 4,
 "nbformat_minor": 5
}
