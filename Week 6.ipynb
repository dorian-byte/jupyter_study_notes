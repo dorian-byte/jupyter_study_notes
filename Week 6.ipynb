{
 "cells": [
  {
   "cell_type": "markdown",
   "id": "909b724b",
   "metadata": {},
   "source": [
    "## First Element K Time"
   ]
  },
  {
   "cell_type": "code",
   "execution_count": 13,
   "id": "bfc0c50d",
   "metadata": {},
   "outputs": [],
   "source": [
    "def firstElementKTime(a, k):\n",
    "    dct = {}\n",
    "    for el in a:\n",
    "        if el not in dct:\n",
    "            dct[el] = 1\n",
    "        else:\n",
    "            dct[el] +=1\n",
    "    for el in a:\n",
    "        if dct.get(el,0) >= k:\n",
    "            return el\n",
    "    return -1"
   ]
  },
  {
   "cell_type": "code",
   "execution_count": 14,
   "id": "b6310b28",
   "metadata": {},
   "outputs": [
    {
     "data": {
      "text/plain": [
       "4"
      ]
     },
     "execution_count": 14,
     "metadata": {},
     "output_type": "execute_result"
    }
   ],
   "source": [
    "firstElementKTime([4,2,2,2,3,4,4,4,3,2], 3)"
   ]
  },
  {
   "cell_type": "code",
   "execution_count": 12,
   "id": "fca2b1ed",
   "metadata": {
    "scrolled": false
   },
   "outputs": [
    {
     "data": {
      "text/plain": [
       "7"
      ]
     },
     "execution_count": 12,
     "metadata": {},
     "output_type": "execute_result"
    }
   ],
   "source": [
    "firstElementKTime([1,7,4,3,4,8,7], 2)"
   ]
  },
  {
   "cell_type": "markdown",
   "id": "bf5d088e",
   "metadata": {},
   "source": [
    "### ASCII"
   ]
  },
  {
   "cell_type": "code",
   "execution_count": null,
   "id": "1ad0d5c1",
   "metadata": {
    "scrolled": false
   },
   "outputs": [],
   "source": [
    "for i in range(33,123):\n",
    "    print(i,\": \",chr(i))"
   ]
  },
  {
   "cell_type": "code",
   "execution_count": 33,
   "id": "8cab3e9c",
   "metadata": {},
   "outputs": [
    {
     "data": {
      "text/plain": [
       "('a', 'z', 'A', 'Z', '0', '9')"
      ]
     },
     "execution_count": 33,
     "metadata": {},
     "output_type": "execute_result"
    }
   ],
   "source": [
    "chr(97), chr(122), chr(65), chr(90), chr(48), chr(57)"
   ]
  },
  {
   "cell_type": "markdown",
   "id": "a0e9b31a",
   "metadata": {},
   "source": [
    "### Outputting CSV directly from Django Model"
   ]
  },
  {
   "cell_type": "code",
   "execution_count": 1,
   "id": "c802c72a",
   "metadata": {},
   "outputs": [],
   "source": [
    "from django.forms.models import model_to_dict\n",
    "import csv\n",
    "\n",
    "\n",
    "def to_csv(Model):\n",
    "    datafile = open(f\"{Model.__name__}.csv\",\"w\")\n",
    "    writer = csv.writer(datafile)\n",
    "    items = [model_to_dict(item) for item in Model.objects.all()]\n",
    "    writer.writerow(items[0].keys())\n",
    "    for item in items:\n",
    "        writer.writerow(item.values())\n",
    "    datafile.close()"
   ]
  },
  {
   "cell_type": "code",
   "execution_count": null,
   "id": "33cb2d6f",
   "metadata": {},
   "outputs": [],
   "source": [
    "from django.forms.models import model_to_dict\n",
    "\n",
    "def to_json(Model):\n",
    "    return list_of_dict = [model_to_dict(item) for item in Model.objects.all()]"
   ]
  }
 ],
 "metadata": {
  "kernelspec": {
   "display_name": "Python 3 (ipykernel)",
   "language": "python",
   "name": "python3"
  },
  "language_info": {
   "codemirror_mode": {
    "name": "ipython",
    "version": 3
   },
   "file_extension": ".py",
   "mimetype": "text/x-python",
   "name": "python",
   "nbconvert_exporter": "python",
   "pygments_lexer": "ipython3",
   "version": "3.10.2"
  }
 },
 "nbformat": 4,
 "nbformat_minor": 5
}
