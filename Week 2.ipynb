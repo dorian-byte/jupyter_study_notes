{
 "cells": [
  {
   "cell_type": "markdown",
   "id": "2023d161",
   "metadata": {},
   "source": [
    "2023.01.03"
   ]
  },
  {
   "cell_type": "code",
   "execution_count": 1,
   "id": "426d43a7",
   "metadata": {},
   "outputs": [],
   "source": [
    "import expectexception"
   ]
  },
  {
   "cell_type": "code",
   "execution_count": 2,
   "id": "6a7d33f6",
   "metadata": {},
   "outputs": [],
   "source": [
    "lst = [1,'f','e',4]"
   ]
  },
  {
   "cell_type": "code",
   "execution_count": 3,
   "id": "7f883b7d",
   "metadata": {
    "scrolled": false
   },
   "outputs": [
    {
     "name": "stdout",
     "output_type": "stream",
     "text": [
      "\u001b[0;31m---------------------------------------------------------------------------\u001b[0m\n",
      "\u001b[0;31mTypeError\u001b[0m                                 Traceback (most recent call last)\n",
      "Cell \u001b[0;32mIn[3], line 1\u001b[0m\n",
      "\u001b[0;32m----> 1\u001b[0m \u001b[38;5;28;43msorted\u001b[39;49m\u001b[43m(\u001b[49m\u001b[43mlst\u001b[49m\u001b[43m)\u001b[49m\n",
      "\n",
      "\u001b[0;31mTypeError\u001b[0m: '<' not supported between instances of 'str' and 'int'\n"
     ]
    }
   ],
   "source": [
    "%%expect_exception TypeError\n",
    "\n",
    "sorted(lst)"
   ]
  },
  {
   "cell_type": "code",
   "execution_count": 4,
   "id": "8ac9bf1a",
   "metadata": {
    "scrolled": true
   },
   "outputs": [
    {
     "data": {
      "text/plain": [
       "7"
      ]
     },
     "execution_count": 4,
     "metadata": {},
     "output_type": "execute_result"
    }
   ],
   "source": [
    "txt = \"Hello, welcome to my world.\"\n",
    "\n",
    "x = txt.find(\"welcome\")\n",
    "x"
   ]
  },
  {
   "cell_type": "code",
   "execution_count": 5,
   "id": "3988843e",
   "metadata": {},
   "outputs": [],
   "source": [
    "mth = ['January', 'February', 'March', 'April', 'May', 'June', 'July',\n",
    "          'August', 'September', 'October', 'November', 'December']"
   ]
  },
  {
   "cell_type": "code",
   "execution_count": 6,
   "id": "033aeef3",
   "metadata": {
    "scrolled": true
   },
   "outputs": [
    {
     "name": "stdout",
     "output_type": "stream",
     "text": [
      "#0:January\n",
      "#1:February\n",
      "#2:March\n",
      "#3:April\n",
      "#4:May\n",
      "#5:June\n",
      "#6:July\n",
      "#7:August\n",
      "#8:September\n",
      "#9:October\n",
      "#10:November\n",
      "#11:December\n"
     ]
    }
   ],
   "source": [
    "for i, m in enumerate(mth):\n",
    "    print(f'#{i}:{m}')"
   ]
  },
  {
   "cell_type": "code",
   "execution_count": 23,
   "id": "fb29484d",
   "metadata": {},
   "outputs": [],
   "source": [
    "dt = [str(i) for i in range(1,32)]"
   ]
  },
  {
   "cell_type": "code",
   "execution_count": 24,
   "id": "c590f5fc",
   "metadata": {},
   "outputs": [
    {
     "ename": "NameError",
     "evalue": "name 'mth' is not defined",
     "output_type": "error",
     "traceback": [
      "\u001b[0;31m---------------------------------------------------------------------------\u001b[0m",
      "\u001b[0;31mNameError\u001b[0m                                 Traceback (most recent call last)",
      "Cell \u001b[0;32mIn[24], line 1\u001b[0m\n\u001b[0;32m----> 1\u001b[0m day365 \u001b[38;5;241m=\u001b[39m [m\u001b[38;5;241m+\u001b[39m\u001b[38;5;124m'\u001b[39m\u001b[38;5;124m \u001b[39m\u001b[38;5;124m'\u001b[39m\u001b[38;5;241m+\u001b[39md \u001b[38;5;28;01mfor\u001b[39;00m m \u001b[38;5;129;01min\u001b[39;00m \u001b[43mmth\u001b[49m \u001b[38;5;28;01mfor\u001b[39;00m d \u001b[38;5;129;01min\u001b[39;00m dt]\n\u001b[1;32m      2\u001b[0m day365\n",
      "\u001b[0;31mNameError\u001b[0m: name 'mth' is not defined"
     ]
    }
   ],
   "source": [
    "day365 = [m+' '+d for m in mth for d in dt]\n",
    "day365"
   ]
  },
  {
   "cell_type": "markdown",
   "id": "9501a6d1",
   "metadata": {},
   "source": [
    "<font color=red>👇🏻 Jamie’s note: \n",
    "* `date` objects 🆚 `datetime` objects\n",
    "* what can `parse` do? what library?\n",
    "* `date.today()` 🆚 `datetime.now()`\n",
    "* `strptime` 🆚 `strftime`"
   ]
  },
  {
   "cell_type": "code",
   "execution_count": 25,
   "id": "cfe66574",
   "metadata": {},
   "outputs": [
    {
     "name": "stdout",
     "output_type": "stream",
     "text": [
      "1969-07-20 12:45:30 <class 'datetime.datetime'>\n"
     ]
    }
   ],
   "source": [
    "from datetime import datetime\n",
    "dt = datetime(1969,7,20,12,45,30) # takes in at most 6 arguments\n",
    "print(dt,type(dt))"
   ]
  },
  {
   "cell_type": "code",
   "execution_count": 26,
   "id": "2210fa2a",
   "metadata": {},
   "outputs": [],
   "source": [
    "import expectexception"
   ]
  },
  {
   "cell_type": "code",
   "execution_count": 27,
   "id": "9ff984fb",
   "metadata": {},
   "outputs": [
    {
     "name": "stdout",
     "output_type": "stream",
     "text": [
      "\u001b[0;31m---------------------------------------------------------------------------\u001b[0m\n",
      "\u001b[0;31mTypeError\u001b[0m                                 Traceback (most recent call last)\n",
      "Cell \u001b[0;32mIn[27], line 1\u001b[0m\n",
      "\u001b[0;32m----> 1\u001b[0m dt \u001b[38;5;241m=\u001b[39m \u001b[43mdatetime\u001b[49m\u001b[43m(\u001b[49m\u001b[38;5;241;43m1969\u001b[39;49m\u001b[43m,\u001b[49m\u001b[38;5;241;43m7\u001b[39;49m\u001b[43m)\u001b[49m\n",
      "\n",
      "\u001b[0;31mTypeError\u001b[0m: function missing required argument 'day' (pos 3)\n"
     ]
    }
   ],
   "source": [
    "%%expect_exception TypeError\n",
    "\n",
    "dt = datetime(1969,7)"
   ]
  },
  {
   "cell_type": "code",
   "execution_count": 28,
   "id": "9b4cef71",
   "metadata": {},
   "outputs": [
    {
     "name": "stdout",
     "output_type": "stream",
     "text": [
      "1969-07-20 <class 'datetime.date'>\n"
     ]
    }
   ],
   "source": [
    "from datetime import date\n",
    "d = date(1969,7,20) # takes in at most 3 arguments\n",
    "print(d,type(d))"
   ]
  },
  {
   "cell_type": "code",
   "execution_count": 29,
   "id": "a36aa09e",
   "metadata": {},
   "outputs": [
    {
     "data": {
      "text/plain": [
       "datetime.datetime(2023, 1, 10, 9, 39, 42, 208985)"
      ]
     },
     "execution_count": 29,
     "metadata": {},
     "output_type": "execute_result"
    }
   ],
   "source": [
    "now_dt = datetime.now()\n",
    "now_dt"
   ]
  },
  {
   "cell_type": "code",
   "execution_count": 30,
   "id": "ead737a8",
   "metadata": {
    "scrolled": true
   },
   "outputs": [
    {
     "data": {
      "text/plain": [
       "datetime.date(2023, 1, 10)"
      ]
     },
     "execution_count": 30,
     "metadata": {},
     "output_type": "execute_result"
    }
   ],
   "source": [
    "today_d = date.today()\n",
    "today_d"
   ]
  },
  {
   "cell_type": "markdown",
   "id": "f9045988",
   "metadata": {},
   "source": [
    "<font color=red>👇🏻 Jamie’s note: both `strftime` works"
   ]
  },
  {
   "cell_type": "code",
   "execution_count": 31,
   "id": "02f65143",
   "metadata": {
    "scrolled": true
   },
   "outputs": [
    {
     "data": {
      "text/plain": [
       "'2023'"
      ]
     },
     "execution_count": 31,
     "metadata": {},
     "output_type": "execute_result"
    }
   ],
   "source": [
    "now_dt.strftime(\"%Y\")"
   ]
  },
  {
   "cell_type": "code",
   "execution_count": 33,
   "id": "ba73dda1",
   "metadata": {},
   "outputs": [
    {
     "data": {
      "text/plain": [
       "'2023'"
      ]
     },
     "execution_count": 33,
     "metadata": {},
     "output_type": "execute_result"
    }
   ],
   "source": [
    "datetime.strftime(now_dt,\"%Y\")"
   ]
  },
  {
   "cell_type": "code",
   "execution_count": 14,
   "id": "2828adfd",
   "metadata": {},
   "outputs": [
    {
     "data": {
      "text/plain": [
       "datetime.datetime(1900, 12, 20, 0, 0)"
      ]
     },
     "execution_count": 14,
     "metadata": {},
     "output_type": "execute_result"
    }
   ],
   "source": [
    "datetime.strptime(day365[360],\"%B %d\")"
   ]
  },
  {
   "cell_type": "code",
   "execution_count": 15,
   "id": "b3b48042",
   "metadata": {},
   "outputs": [
    {
     "data": {
      "text/plain": [
       "datetime.datetime(2023, 12, 20, 0, 0)"
      ]
     },
     "execution_count": 15,
     "metadata": {},
     "output_type": "execute_result"
    }
   ],
   "source": [
    "from dateutil.parser import parse\n",
    "\n",
    "parse(day365[360])"
   ]
  },
  {
   "cell_type": "code",
   "execution_count": 16,
   "id": "174f2965",
   "metadata": {},
   "outputs": [
    {
     "data": {
      "text/plain": [
       "(['July'], ['May', 'May', 'April'])"
      ]
     },
     "execution_count": 16,
     "metadata": {},
     "output_type": "execute_result"
    }
   ],
   "source": [
    "from random import choices\n",
    "\n",
    "choices(mth), choices(mth, k=3)"
   ]
  },
  {
   "cell_type": "markdown",
   "id": "75e75436",
   "metadata": {},
   "source": [
    "2023.01.04"
   ]
  },
  {
   "cell_type": "code",
   "execution_count": 17,
   "id": "a25d051e",
   "metadata": {},
   "outputs": [],
   "source": [
    "import math\n",
    "\n",
    "\n",
    "class EquilateralShape:\n",
    "    def __init__(self, num_sides, side_length):\n",
    "        self.num_sides = num_sides\n",
    "        self.side_length = side_length\n",
    "\n",
    "    def calculate_perimeter(self):\n",
    "        result = self.num_sides * self.side_length\n",
    "        return result\n",
    "\n",
    "    def calculate_area(self):\n",
    "        side_squared = pow(self.side_length, 2)\n",
    "\n",
    "        if self.num_sides == 3:\n",
    "            return math.sqrt(3) / 4 * side_squared\n",
    "        elif self.num_sides == 4:\n",
    "            return side_squared\n",
    "        elif self.num_sides == 5:\n",
    "            weird_value = math.sqrt(25 + 10 * math.sqrt(5))\n",
    "            return weird_value / 4 * side_squared\n",
    "        elif self.num_sides == 6:\n",
    "            return (3 * math.sqrt(3)) / 2 * side_squared\n",
    "        else:\n",
    "            raise ValueError"
   ]
  },
  {
   "cell_type": "code",
   "execution_count": 18,
   "id": "d2f278c0",
   "metadata": {},
   "outputs": [],
   "source": [
    "class Square(EquilateralShape):\n",
    "    def __init__(self, side_length):\n",
    "        super().__init__(4, side_length) # \"self,\" not needed\n",
    "    \n",
    "    def calculate_area(self):\n",
    "        return pow(self.side_length, 2)"
   ]
  },
  {
   "cell_type": "code",
   "execution_count": 19,
   "id": "3b22b2a0",
   "metadata": {},
   "outputs": [],
   "source": [
    "sq1 = Square(1)"
   ]
  },
  {
   "cell_type": "code",
   "execution_count": 20,
   "id": "9c791c60",
   "metadata": {},
   "outputs": [
    {
     "data": {
      "text/plain": [
       "(1, 4, 1)"
      ]
     },
     "execution_count": 20,
     "metadata": {},
     "output_type": "execute_result"
    }
   ],
   "source": [
    "sq1.side_length, sq1.num_sides, sq1.calculate_area()"
   ]
  },
  {
   "cell_type": "code",
   "execution_count": 21,
   "id": "40dc6c76",
   "metadata": {},
   "outputs": [
    {
     "data": {
      "text/plain": [
       "True"
      ]
     },
     "execution_count": 21,
     "metadata": {},
     "output_type": "execute_result"
    }
   ],
   "source": [
    "isinstance(sq1,Square)"
   ]
  },
  {
   "cell_type": "code",
   "execution_count": 22,
   "id": "8e30da48",
   "metadata": {},
   "outputs": [
    {
     "data": {
      "text/plain": [
       "True"
      ]
     },
     "execution_count": 22,
     "metadata": {},
     "output_type": "execute_result"
    }
   ],
   "source": [
    "isinstance(sq1,EquilateralShape)"
   ]
  },
  {
   "cell_type": "code",
   "execution_count": 1,
   "id": "cd33ed87",
   "metadata": {},
   "outputs": [],
   "source": [
    "class Person:\n",
    "    def __init__(self, first, last):\n",
    "        self.first = first\n",
    "        self.last = last"
   ]
  },
  {
   "cell_type": "code",
   "execution_count": 15,
   "id": "f805ff7e",
   "metadata": {},
   "outputs": [],
   "source": [
    "class Student(Person):\n",
    "    def __init__(self, first, last, major, student_id):\n",
    "        super().__init__(first, last)\n",
    "        self.major = major\n",
    "        self.student_id = student_id\n",
    "    \n",
    "    def __str__(self):\n",
    "        return \"I am a student.\""
   ]
  },
  {
   "cell_type": "code",
   "execution_count": 16,
   "id": "a64c6591",
   "metadata": {},
   "outputs": [],
   "source": [
    "p1 = Person(\"J\",\"D\")"
   ]
  },
  {
   "cell_type": "code",
   "execution_count": 17,
   "id": "0c218ce7",
   "metadata": {},
   "outputs": [
    {
     "name": "stdout",
     "output_type": "stream",
     "text": [
      "<__main__.Person object at 0x104d20910>\n"
     ]
    }
   ],
   "source": [
    "print(p1)"
   ]
  },
  {
   "cell_type": "code",
   "execution_count": 18,
   "id": "dcdfd3be",
   "metadata": {},
   "outputs": [],
   "source": [
    "s1 = Student(\"J\",\"D\",\"science\",\"1343\")"
   ]
  },
  {
   "cell_type": "code",
   "execution_count": 19,
   "id": "cdeb6ffa",
   "metadata": {},
   "outputs": [
    {
     "name": "stdout",
     "output_type": "stream",
     "text": [
      "I am a student.\n"
     ]
    }
   ],
   "source": [
    "print(s1)"
   ]
  },
  {
   "cell_type": "code",
   "execution_count": 24,
   "id": "2e5182ae",
   "metadata": {},
   "outputs": [
    {
     "name": "stdout",
     "output_type": "stream",
     "text": [
      "0 m\n",
      "1 i\n",
      "2 s\n",
      "3 s\n",
      "4 i\n",
      "5 s\n",
      "6 s\n",
      "7 i\n",
      "8 p\n",
      "9 p\n",
      "10 i\n"
     ]
    }
   ],
   "source": [
    "word = 'mississippi'\n",
    "\n",
    "for i, c in enumerate(word):\n",
    "    print(i,c)\n",
    "    \n",
    "# so yes, you can enumerate a string as well"
   ]
  },
  {
   "cell_type": "code",
   "execution_count": 25,
   "id": "d1ad4bcc",
   "metadata": {},
   "outputs": [],
   "source": [
    "city_population = {\"New York City\": 8550405, \n",
    "                   \"Los Angeles\": 3971883, \n",
    "                   \"Toronto\": 2731571, \n",
    "                   \"Chicago\": 2720546, \n",
    "                   \"Houston\": 2296224, \n",
    "                   \"Montreal\": 1704694, \n",
    "                   \"Calgary\": 1239220, \n",
    "                   \"Vancouver\": 631486, \n",
    "                   \"Boston\": 667137}"
   ]
  },
  {
   "cell_type": "code",
   "execution_count": 26,
   "id": "9c125bda",
   "metadata": {},
   "outputs": [
    {
     "ename": "KeyError",
     "evalue": "1",
     "output_type": "error",
     "traceback": [
      "\u001b[0;31m---------------------------------------------------------------------------\u001b[0m",
      "\u001b[0;31mKeyError\u001b[0m                                  Traceback (most recent call last)",
      "Cell \u001b[0;32mIn[26], line 1\u001b[0m\n\u001b[0;32m----> 1\u001b[0m \u001b[43mcity_population\u001b[49m\u001b[38;5;241;43m.\u001b[39;49m\u001b[43mpop\u001b[49m\u001b[43m(\u001b[49m\u001b[38;5;241;43m1\u001b[39;49m\u001b[43m)\u001b[49m \u001b[38;5;66;03m# doesn't work b/c dictionaries don't have order, so no index\u001b[39;00m\n",
      "\u001b[0;31mKeyError\u001b[0m: 1"
     ]
    }
   ],
   "source": [
    "city_population.pop(1) # doesn't work b/c dictionaries don't have order, so no index"
   ]
  },
  {
   "cell_type": "code",
   "execution_count": 27,
   "id": "ff402b8c",
   "metadata": {},
   "outputs": [
    {
     "data": {
      "text/plain": [
       "3971883"
      ]
     },
     "execution_count": 27,
     "metadata": {},
     "output_type": "execute_result"
    }
   ],
   "source": [
    "city_population.pop('Los Angeles') #you can only pop by key in dictionary"
   ]
  },
  {
   "cell_type": "markdown",
   "id": "026766be",
   "metadata": {},
   "source": [
    "<font color=red>👇🏻 Jamie’s note: swapping keys and values in a dictionary"
   ]
  },
  {
   "cell_type": "code",
   "execution_count": 28,
   "id": "64908395",
   "metadata": {},
   "outputs": [
    {
     "ename": "SyntaxError",
     "evalue": "did you forget parentheses around the comprehension target? (4193130070.py, line 1)",
     "output_type": "error",
     "traceback": [
      "\u001b[0;36m  Cell \u001b[0;32mIn[28], line 1\u001b[0;36m\u001b[0m\n\u001b[0;31m    {v,k for k,v in city_population.items()}\u001b[0m\n\u001b[0m     ^\u001b[0m\n\u001b[0;31mSyntaxError\u001b[0m\u001b[0;31m:\u001b[0m did you forget parentheses around the comprehension target?\n"
     ]
    }
   ],
   "source": [
    "{v,k for k,v in city_population.items()}"
   ]
  },
  {
   "cell_type": "code",
   "execution_count": 29,
   "id": "f923173b",
   "metadata": {},
   "outputs": [],
   "source": [
    "a = {(v,k) for k,v in city_population.items()}"
   ]
  },
  {
   "cell_type": "code",
   "execution_count": 30,
   "id": "a384a98d",
   "metadata": {},
   "outputs": [
    {
     "data": {
      "text/plain": [
       "set"
      ]
     },
     "execution_count": 30,
     "metadata": {},
     "output_type": "execute_result"
    }
   ],
   "source": [
    "type(a) #ending up creating a set of tuples, instead of a dictionary"
   ]
  },
  {
   "cell_type": "code",
   "execution_count": 31,
   "id": "9f2c98f5",
   "metadata": {},
   "outputs": [
    {
     "ename": "SyntaxError",
     "evalue": "Generator expression must be parenthesized (3788981130.py, line 1)",
     "output_type": "error",
     "traceback": [
      "\u001b[0;36m  Cell \u001b[0;32mIn[31], line 1\u001b[0;36m\u001b[0m\n\u001b[0;31m    dict(v,k for k,v in city_population.items())\u001b[0m\n\u001b[0m           ^\u001b[0m\n\u001b[0;31mSyntaxError\u001b[0m\u001b[0;31m:\u001b[0m Generator expression must be parenthesized\n"
     ]
    }
   ],
   "source": [
    "dict(v,k for k,v in city_population.items())"
   ]
  },
  {
   "cell_type": "code",
   "execution_count": 32,
   "id": "5403626a",
   "metadata": {},
   "outputs": [
    {
     "data": {
      "text/plain": [
       "{8550405: 'New York City',\n",
       " 2731571: 'Toronto',\n",
       " 2720546: 'Chicago',\n",
       " 2296224: 'Houston',\n",
       " 1704694: 'Montreal',\n",
       " 1239220: 'Calgary',\n",
       " 631486: 'Vancouver',\n",
       " 667137: 'Boston'}"
      ]
     },
     "execution_count": 32,
     "metadata": {},
     "output_type": "execute_result"
    }
   ],
   "source": [
    "dict((v,k) for k,v in city_population.items()) # this is the only correct way of writing"
   ]
  },
  {
   "cell_type": "code",
   "execution_count": 33,
   "id": "1c63bc65",
   "metadata": {},
   "outputs": [
    {
     "data": {
      "text/plain": [
       "['m', 'i', 's', 's', 'i', 's', 's', 'i', 'p', 'p', 'i']"
      ]
     },
     "execution_count": 33,
     "metadata": {},
     "output_type": "execute_result"
    }
   ],
   "source": [
    "list('mississippi')"
   ]
  },
  {
   "cell_type": "code",
   "execution_count": 34,
   "id": "7f850ad5",
   "metadata": {},
   "outputs": [
    {
     "data": {
      "text/plain": [
       "['1', ',', '3', ',', '4']"
      ]
     },
     "execution_count": 34,
     "metadata": {},
     "output_type": "execute_result"
    }
   ],
   "source": [
    "lst = list('1,3,4')\n",
    "lst"
   ]
  },
  {
   "cell_type": "code",
   "execution_count": 35,
   "id": "ac3f976d",
   "metadata": {},
   "outputs": [
    {
     "ename": "TypeError",
     "evalue": "unsupported operand type(s) for +: 'int' and 'str'",
     "output_type": "error",
     "traceback": [
      "\u001b[0;31m---------------------------------------------------------------------------\u001b[0m",
      "\u001b[0;31mTypeError\u001b[0m                                 Traceback (most recent call last)",
      "Cell \u001b[0;32mIn[35], line 1\u001b[0m\n\u001b[0;32m----> 1\u001b[0m \u001b[38;5;28;43msum\u001b[39;49m\u001b[43m(\u001b[49m\u001b[43mlst\u001b[49m\u001b[43m)\u001b[49m\n",
      "\u001b[0;31mTypeError\u001b[0m: unsupported operand type(s) for +: 'int' and 'str'"
     ]
    }
   ],
   "source": [
    "sum(lst)"
   ]
  },
  {
   "cell_type": "code",
   "execution_count": 36,
   "id": "111c0f73",
   "metadata": {},
   "outputs": [
    {
     "data": {
      "text/plain": [
       "{8550405: 'New York City',\n",
       " 2731571: 'Toronto',\n",
       " 2720546: 'Chicago',\n",
       " 2296224: 'Houston',\n",
       " 1704694: 'Montreal',\n",
       " 1239220: 'Calgary',\n",
       " 631486: 'Vancouver',\n",
       " 667137: 'Boston'}"
      ]
     },
     "execution_count": 36,
     "metadata": {},
     "output_type": "execute_result"
    }
   ],
   "source": [
    "dict((v,k) for k,v in city_population.items())"
   ]
  },
  {
   "cell_type": "code",
   "execution_count": 37,
   "id": "e3ee636e",
   "metadata": {},
   "outputs": [
    {
     "ename": "SyntaxError",
     "evalue": "Generator expression must be parenthesized (179567536.py, line 1)",
     "output_type": "error",
     "traceback": [
      "\u001b[0;36m  Cell \u001b[0;32mIn[37], line 1\u001b[0;36m\u001b[0m\n\u001b[0;31m    dict(v,k for k,v in city_population.items()) #doesn't work after removing bracket\u001b[0m\n\u001b[0m           ^\u001b[0m\n\u001b[0;31mSyntaxError\u001b[0m\u001b[0;31m:\u001b[0m Generator expression must be parenthesized\n"
     ]
    }
   ],
   "source": [
    "dict(v,k for k,v in city_population.items()) #doesn't work after removing bracket"
   ]
  },
  {
   "cell_type": "code",
   "execution_count": 38,
   "id": "fd2b76e7",
   "metadata": {},
   "outputs": [
    {
     "ename": "ValueError",
     "evalue": "'w' is not in list",
     "output_type": "error",
     "traceback": [
      "\u001b[0;31m---------------------------------------------------------------------------\u001b[0m",
      "\u001b[0;31mValueError\u001b[0m                                Traceback (most recent call last)",
      "Cell \u001b[0;32mIn[38], line 1\u001b[0m\n\u001b[0;32m----> 1\u001b[0m \u001b[43mlst\u001b[49m\u001b[38;5;241;43m.\u001b[39;49m\u001b[43mindex\u001b[49m\u001b[43m(\u001b[49m\u001b[38;5;124;43m'\u001b[39;49m\u001b[38;5;124;43mw\u001b[39;49m\u001b[38;5;124;43m'\u001b[39;49m\u001b[43m)\u001b[49m \u001b[38;5;66;03m#doesn't return None but instead raises error\u001b[39;00m\n",
      "\u001b[0;31mValueError\u001b[0m: 'w' is not in list"
     ]
    }
   ],
   "source": [
    "lst.index('w') #doesn't return None but instead raises error"
   ]
  },
  {
   "cell_type": "code",
   "execution_count": 41,
   "id": "e571536a",
   "metadata": {},
   "outputs": [
    {
     "data": {
      "text/plain": [
       "['m', 'i', 's', 's', 'i', 's', 's', 'i', 'p', 'p', 'i']"
      ]
     },
     "execution_count": 41,
     "metadata": {},
     "output_type": "execute_result"
    }
   ],
   "source": [
    "lst = list('mississippi')\n",
    "lst"
   ]
  },
  {
   "cell_type": "code",
   "execution_count": 40,
   "id": "6c5eafd3",
   "metadata": {},
   "outputs": [
    {
     "data": {
      "text/plain": [
       "'m'"
      ]
     },
     "execution_count": 40,
     "metadata": {},
     "output_type": "execute_result"
    }
   ],
   "source": [
    "lst.pop(0) # in list you can only pop by index, not value"
   ]
  },
  {
   "cell_type": "code",
   "execution_count": 42,
   "id": "c9304836",
   "metadata": {},
   "outputs": [
    {
     "ename": "TypeError",
     "evalue": "'str' object cannot be interpreted as an integer",
     "output_type": "error",
     "traceback": [
      "\u001b[0;31m---------------------------------------------------------------------------\u001b[0m",
      "\u001b[0;31mTypeError\u001b[0m                                 Traceback (most recent call last)",
      "Cell \u001b[0;32mIn[42], line 1\u001b[0m\n\u001b[0;32m----> 1\u001b[0m \u001b[43mlst\u001b[49m\u001b[38;5;241;43m.\u001b[39;49m\u001b[43mpop\u001b[49m\u001b[43m(\u001b[49m\u001b[38;5;124;43m'\u001b[39;49m\u001b[38;5;124;43ms\u001b[39;49m\u001b[38;5;124;43m'\u001b[39;49m\u001b[43m)\u001b[49m \u001b[38;5;66;03m#doesn't work b/c pop can only take index, not actual value\u001b[39;00m\n",
      "\u001b[0;31mTypeError\u001b[0m: 'str' object cannot be interpreted as an integer"
     ]
    }
   ],
   "source": [
    "lst.pop('s') #doesn't work b/c pop can only take index, not actual value"
   ]
  },
  {
   "cell_type": "code",
   "execution_count": 43,
   "id": "d678f557",
   "metadata": {},
   "outputs": [],
   "source": [
    "def count_word_frequencies(sentence):\n",
    "    dct = {}\n",
    "    for i in sentence.split(' '):\n",
    "        if not dct[i]: # this raises an error instead of returning None\n",
    "            dct[i] = 1\n",
    "        else:\n",
    "            dct[i] += 1\n",
    "    return dct"
   ]
  },
  {
   "cell_type": "code",
   "execution_count": 44,
   "id": "845021cb",
   "metadata": {},
   "outputs": [
    {
     "ename": "KeyError",
     "evalue": "'I'",
     "output_type": "error",
     "traceback": [
      "\u001b[0;31m---------------------------------------------------------------------------\u001b[0m",
      "\u001b[0;31mKeyError\u001b[0m                                  Traceback (most recent call last)",
      "Cell \u001b[0;32mIn[44], line 1\u001b[0m\n\u001b[0;32m----> 1\u001b[0m \u001b[43mcount_word_frequencies\u001b[49m\u001b[43m(\u001b[49m\u001b[38;5;124;43m\"\u001b[39;49m\u001b[38;5;124;43mI came I saw I learned\u001b[39;49m\u001b[38;5;124;43m\"\u001b[39;49m\u001b[43m)\u001b[49m\n",
      "Cell \u001b[0;32mIn[43], line 4\u001b[0m, in \u001b[0;36mcount_word_frequencies\u001b[0;34m(sentence)\u001b[0m\n\u001b[1;32m      2\u001b[0m dct \u001b[38;5;241m=\u001b[39m {}\n\u001b[1;32m      3\u001b[0m \u001b[38;5;28;01mfor\u001b[39;00m i \u001b[38;5;129;01min\u001b[39;00m sentence\u001b[38;5;241m.\u001b[39msplit(\u001b[38;5;124m'\u001b[39m\u001b[38;5;124m \u001b[39m\u001b[38;5;124m'\u001b[39m):\n\u001b[0;32m----> 4\u001b[0m     \u001b[38;5;28;01mif\u001b[39;00m \u001b[38;5;129;01mnot\u001b[39;00m \u001b[43mdct\u001b[49m\u001b[43m[\u001b[49m\u001b[43mi\u001b[49m\u001b[43m]\u001b[49m: \u001b[38;5;66;03m# this raises an error instead of returning None\u001b[39;00m\n\u001b[1;32m      5\u001b[0m         dct[i] \u001b[38;5;241m=\u001b[39m \u001b[38;5;241m1\u001b[39m\n\u001b[1;32m      6\u001b[0m     \u001b[38;5;28;01melse\u001b[39;00m:\n",
      "\u001b[0;31mKeyError\u001b[0m: 'I'"
     ]
    }
   ],
   "source": [
    "count_word_frequencies(\"I came I saw I learned\")"
   ]
  },
  {
   "cell_type": "code",
   "execution_count": 45,
   "id": "6eb01778",
   "metadata": {},
   "outputs": [],
   "source": [
    "def count_word_frequencies(sentence):\n",
    "    dct = {}\n",
    "    for i in sentence.split(' '):\n",
    "        if not dct.get(i,0):\n",
    "            dct[i] = 1\n",
    "        else:\n",
    "            dct[i] += 1\n",
    "            return dct"
   ]
  },
  {
   "cell_type": "code",
   "execution_count": 46,
   "id": "75060d24",
   "metadata": {},
   "outputs": [],
   "source": [
    "def biggest_gap(lst):\n",
    "  prev = lst[0]\n",
    "  max_ = 0\n",
    "  for i in lst:\n",
    "    if abs(i - prev) > max_:\n",
    "      max_ = abs(i - prev)\n",
    "    prev = i\n",
    "  return max_"
   ]
  },
  {
   "cell_type": "code",
   "execution_count": 47,
   "id": "0676abe5",
   "metadata": {},
   "outputs": [
    {
     "data": {
      "text/plain": [
       "20"
      ]
     },
     "execution_count": 47,
     "metadata": {},
     "output_type": "execute_result"
    }
   ],
   "source": [
    "biggest_gap([1, 11, 9, 20, 0])"
   ]
  },
  {
   "cell_type": "code",
   "execution_count": 48,
   "id": "a356e20a",
   "metadata": {},
   "outputs": [
    {
     "data": {
      "text/plain": [
       "97"
      ]
     },
     "execution_count": 48,
     "metadata": {},
     "output_type": "execute_result"
    }
   ],
   "source": [
    "biggest_gap([1, 3, 100, 103, 106])"
   ]
  },
  {
   "cell_type": "code",
   "execution_count": 49,
   "id": "3b8b177b",
   "metadata": {},
   "outputs": [
    {
     "data": {
      "text/plain": [
       "15"
      ]
     },
     "execution_count": 49,
     "metadata": {},
     "output_type": "execute_result"
    }
   ],
   "source": [
    "biggest_gap([20,5,10])"
   ]
  },
  {
   "cell_type": "markdown",
   "id": "e732f32b",
   "metadata": {},
   "source": [
    "2023.01.06"
   ]
  },
  {
   "cell_type": "code",
   "execution_count": 50,
   "id": "8a4a7370",
   "metadata": {},
   "outputs": [
    {
     "data": {
      "text/plain": [
       "[2, 2, 2]"
      ]
     },
     "execution_count": 50,
     "metadata": {},
     "output_type": "execute_result"
    }
   ],
   "source": [
    "[2]*3"
   ]
  },
  {
   "cell_type": "code",
   "execution_count": 51,
   "id": "30a40dc2",
   "metadata": {},
   "outputs": [
    {
     "data": {
      "text/plain": [
       "[2, 3]"
      ]
     },
     "execution_count": 51,
     "metadata": {},
     "output_type": "execute_result"
    }
   ],
   "source": [
    "[2]+[3]"
   ]
  },
  {
   "cell_type": "code",
   "execution_count": 2,
   "id": "e3889f48",
   "metadata": {},
   "outputs": [
    {
     "data": {
      "text/plain": [
       "[1, 2, 3, 0]"
      ]
     },
     "execution_count": 2,
     "metadata": {},
     "output_type": "execute_result"
    }
   ],
   "source": [
    "lst = [0,1,2,3]\n",
    "lst.append(lst.pop(0))\n",
    "lst"
   ]
  },
  {
   "cell_type": "code",
   "execution_count": 6,
   "id": "dd99631d",
   "metadata": {},
   "outputs": [
    {
     "data": {
      "text/plain": [
       "6"
      ]
     },
     "execution_count": 6,
     "metadata": {},
     "output_type": "execute_result"
    }
   ],
   "source": [
    "from functools import reduce\n",
    "\n",
    "lst = [0,1,2,3]\n",
    "reduce(lambda a,b:a+b,lst)"
   ]
  },
  {
   "cell_type": "code",
   "execution_count": 8,
   "id": "3bf88abf",
   "metadata": {},
   "outputs": [
    {
     "data": {
      "text/plain": [
       "106"
      ]
     },
     "execution_count": 8,
     "metadata": {},
     "output_type": "execute_result"
    }
   ],
   "source": [
    "reduce(lambda a,b:a+b,lst,100)"
   ]
  },
  {
   "cell_type": "code",
   "execution_count": 15,
   "id": "ca0ac12d",
   "metadata": {},
   "outputs": [],
   "source": [
    "def half_time_scores(\n",
    "    game_length,  # in minutes\n",
    "    team_1_score_times,  # each value is seconds\n",
    "    team_2_score_times   # each value is seconds\n",
    "):\n",
    "    t1_score, t2_score = 0,0\n",
    "    div_sec = game_length * 60 / 2\n",
    "    for i in team_1_score_times:\n",
    "        if i > div_sec:\n",
    "            break\n",
    "        t1_score += 1\n",
    "    for i in team_2_score_times:\n",
    "        if i > div_sec:\n",
    "            break\n",
    "        t2_score += 1\n",
    "    return t1_score+t2_score"
   ]
  },
  {
   "cell_type": "code",
   "execution_count": 16,
   "id": "b67e9980",
   "metadata": {},
   "outputs": [
    {
     "data": {
      "text/plain": [
       "3"
      ]
     },
     "execution_count": 16,
     "metadata": {},
     "output_type": "execute_result"
    }
   ],
   "source": [
    "l1 = [10,1400,1500]\n",
    "l2 = [7,2000]\n",
    "\n",
    "half_time_scores(48,l1,l2)"
   ]
  },
  {
   "cell_type": "code",
   "execution_count": 27,
   "id": "c6f4bc07",
   "metadata": {},
   "outputs": [
    {
     "data": {
      "text/plain": [
       "'a'"
      ]
     },
     "execution_count": 27,
     "metadata": {},
     "output_type": "execute_result"
    }
   ],
   "source": [
    "d = {'c': 1, 'b': 2, 'a': 3}\n",
    "\n",
    "# Get the key of the maximum value\n",
    "key = max(d, key=d.get)\n",
    "key"
   ]
  },
  {
   "cell_type": "code",
   "execution_count": 29,
   "id": "753451f7",
   "metadata": {},
   "outputs": [
    {
     "data": {
      "text/plain": [
       "'c'"
      ]
     },
     "execution_count": 29,
     "metadata": {},
     "output_type": "execute_result"
    }
   ],
   "source": [
    "d = {'c': 1, 'b': 2, 'a': 3}\n",
    "\n",
    "# Get the max key\n",
    "key = max(d)\n",
    "key"
   ]
  },
  {
   "cell_type": "code",
   "execution_count": 35,
   "id": "2dcbf96e",
   "metadata": {},
   "outputs": [
    {
     "data": {
      "text/plain": [
       "'c'"
      ]
     },
     "execution_count": 35,
     "metadata": {},
     "output_type": "execute_result"
    }
   ],
   "source": [
    "d = {'c': 3, 'b': 2, 'a': 3}\n",
    "\n",
    "# When more than one number is the mode, unfortunately it only gives the first encounter\n",
    "key = max(d, key=d.get)\n",
    "key"
   ]
  },
  {
   "cell_type": "markdown",
   "id": "4aaa154f",
   "metadata": {},
   "source": [
    "Find Mode"
   ]
  },
  {
   "cell_type": "code",
   "execution_count": 43,
   "id": "aba9c233",
   "metadata": {},
   "outputs": [],
   "source": [
    "from collections import Counter\n",
    "\n",
    "def mode(numbers):\n",
    "    dct = Counter(numbers)\n",
    "    mode_key = max(dct,key=dct.get)\n",
    "    mode = dct[mode_key]\n",
    "    res = []\n",
    "    for k,v in dct.items():\n",
    "        if v == mode:\n",
    "            res.append(k)\n",
    "    return res"
   ]
  },
  {
   "cell_type": "code",
   "execution_count": 44,
   "id": "f296b808",
   "metadata": {},
   "outputs": [
    {
     "data": {
      "text/plain": [
       "[9, 2]"
      ]
     },
     "execution_count": 44,
     "metadata": {},
     "output_type": "execute_result"
    }
   ],
   "source": [
    "mode([9, 2, 9, 6, 8, 2, 1, 2, 9, 6])"
   ]
  },
  {
   "cell_type": "code",
   "execution_count": 46,
   "id": "5cdeb8d8",
   "metadata": {},
   "outputs": [],
   "source": [
    "# Answer given by ChatGPT\n",
    "def mode(numbers):\n",
    "    # Create a dictionary to store the frequency of each number\n",
    "    frequency = {}\n",
    "    for number in numbers:\n",
    "        if number not in frequency:\n",
    "            frequency[number] = 0\n",
    "        frequency[number] += 1\n",
    "    \n",
    "    # Find the highest frequency\n",
    "    highest_frequency = max(frequency.values())\n",
    "    \n",
    "    # Return a list of all numbers that occur with the highest frequency\n",
    "    return [number for number, count in frequency.items() if count == highest_frequency]"
   ]
  },
  {
   "cell_type": "code",
   "execution_count": 47,
   "id": "f6958155",
   "metadata": {},
   "outputs": [
    {
     "data": {
      "text/plain": [
       "[9, 2]"
      ]
     },
     "execution_count": 47,
     "metadata": {},
     "output_type": "execute_result"
    }
   ],
   "source": [
    "mode([9, 2, 9, 6, 8, 2, 1, 2, 9, 6])"
   ]
  }
 ],
 "metadata": {
  "kernelspec": {
   "display_name": "Python 3 (ipykernel)",
   "language": "python",
   "name": "python3"
  },
  "language_info": {
   "codemirror_mode": {
    "name": "ipython",
    "version": 3
   },
   "file_extension": ".py",
   "mimetype": "text/x-python",
   "name": "python",
   "nbconvert_exporter": "python",
   "pygments_lexer": "ipython3",
   "version": "3.10.2"
  }
 },
 "nbformat": 4,
 "nbformat_minor": 5
}
