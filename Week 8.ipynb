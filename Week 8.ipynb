{
 "cells": [
  {
   "cell_type": "code",
   "execution_count": 17,
   "id": "dcdc2c4a",
   "metadata": {},
   "outputs": [],
   "source": [
    "# may not be an optimal solution\n",
    "def firstNonRepeatingCharacter(string):\n",
    "    stack = []\n",
    "    dup = []\n",
    "    for c in string:\n",
    "        if c not in stack and c not in dup:\n",
    "            stack.append(c)\n",
    "        elif c not in dup:\n",
    "            stack.remove(c)\n",
    "            dup.append(c)\n",
    "    if not stack:\n",
    "        return -1\n",
    "    return string.index(stack[0])"
   ]
  },
  {
   "cell_type": "code",
   "execution_count": 15,
   "id": "3b6fbf84",
   "metadata": {},
   "outputs": [],
   "source": [
    "string = \"abcdcaf\""
   ]
  },
  {
   "cell_type": "code",
   "execution_count": 16,
   "id": "193ed29f",
   "metadata": {},
   "outputs": [
    {
     "data": {
      "text/plain": [
       "1"
      ]
     },
     "execution_count": 16,
     "metadata": {},
     "output_type": "execute_result"
    }
   ],
   "source": [
    "firstNonRepeatingCharacter(string)"
   ]
  },
  {
   "cell_type": "markdown",
   "id": "0cbed8a3",
   "metadata": {},
   "source": [
    "### D1 Practice questions on Dictionaries"
   ]
  },
  {
   "cell_type": "code",
   "execution_count": null,
   "id": "8af27264",
   "metadata": {},
   "outputs": [],
   "source": [
    "\"1.5\".isnumeric()"
   ]
  },
  {
   "cell_type": "code",
   "execution_count": 21,
   "id": "6c372e36",
   "metadata": {},
   "outputs": [
    {
     "data": {
      "text/plain": [
       "bool"
      ]
     },
     "execution_count": 21,
     "metadata": {},
     "output_type": "execute_result"
    }
   ],
   "source": [
    "type(True)"
   ]
  },
  {
   "cell_type": "code",
   "execution_count": 19,
   "id": "c81f2da1",
   "metadata": {},
   "outputs": [
    {
     "data": {
      "text/plain": [
       "True"
      ]
     },
     "execution_count": 19,
     "metadata": {},
     "output_type": "execute_result"
    }
   ],
   "source": [
    "isinstance(True,bool)"
   ]
  },
  {
   "cell_type": "code",
   "execution_count": 23,
   "id": "cade31aa",
   "metadata": {},
   "outputs": [
    {
     "data": {
      "text/plain": [
       "{'a': 3, 'b': 2}"
      ]
     },
     "execution_count": 23,
     "metadata": {},
     "output_type": "execute_result"
    }
   ],
   "source": [
    "# yes you can write it this way\n",
    "{\"a\":1,\"b\":2,\"a\":3}"
   ]
  },
  {
   "cell_type": "code",
   "execution_count": 1,
   "id": "88d84449",
   "metadata": {},
   "outputs": [
    {
     "name": "stdout",
     "output_type": "stream",
     "text": [
      "5\n"
     ]
    }
   ],
   "source": [
    "# Python\n",
    "x = 4; x = x + 1; print(x);"
   ]
  },
  {
   "cell_type": "code",
   "execution_count": 7,
   "id": "d2b9393c",
   "metadata": {},
   "outputs": [],
   "source": [
    "# can do list comprehension like this\n",
    "def fizzbuzz(lst):\n",
    "    return [\"fizzbuzz\" if i % 15 == 0 else \"fizz\" if i % 3 == 0 else \"buzz\" if i % 5 == 0 else str(i) for i in lst]\n",
    "    \n",
    "    # res = []\n",
    "    # for i in range(1, maximum + 1):\n",
    "    #     if i%3==0 and i%5==0:\n",
    "    #         res.append(\"fizzbuzz\")\n",
    "    #     elif i%3==0:\n",
    "    #         res.append(\"fizz\")\n",
    "    #     elif i%5==0:\n",
    "    #         res.append(\"buzz\")\n",
    "    #     else:\n",
    "    #         res.append(str(i))\n",
    "    # return res"
   ]
  },
  {
   "cell_type": "code",
   "execution_count": 8,
   "id": "ab3a8461",
   "metadata": {},
   "outputs": [],
   "source": [
    "# need the \"else 0\", otherwise will raise error\n",
    "def sum_evens(numbers):\n",
    "    return sum([n if n%2==0 else 0 for n in numbers])"
   ]
  },
  {
   "cell_type": "code",
   "execution_count": 10,
   "id": "71011a91",
   "metadata": {},
   "outputs": [
    {
     "data": {
      "text/plain": [
       "True"
      ]
     },
     "execution_count": 10,
     "metadata": {},
     "output_type": "execute_result"
    }
   ],
   "source": [
    "any([False, True, False])"
   ]
  },
  {
   "cell_type": "code",
   "execution_count": 11,
   "id": "92ea82ec",
   "metadata": {},
   "outputs": [
    {
     "data": {
      "text/plain": [
       "False"
      ]
     },
     "execution_count": 11,
     "metadata": {},
     "output_type": "execute_result"
    }
   ],
   "source": [
    "all([False, True, False])"
   ]
  },
  {
   "cell_type": "code",
   "execution_count": 13,
   "id": "6f8c4f30",
   "metadata": {},
   "outputs": [
    {
     "data": {
      "text/plain": [
       "True"
      ]
     },
     "execution_count": 13,
     "metadata": {},
     "output_type": "execute_result"
    }
   ],
   "source": [
    "any([True, True, True])"
   ]
  },
  {
   "cell_type": "code",
   "execution_count": 2,
   "id": "9a1c2ae0",
   "metadata": {},
   "outputs": [
    {
     "ename": "TypeError",
     "evalue": "any() takes exactly one argument (3 given)",
     "output_type": "error",
     "traceback": [
      "\u001b[0;31m---------------------------------------------------------------------------\u001b[0m",
      "\u001b[0;31mTypeError\u001b[0m                                 Traceback (most recent call last)",
      "Cell \u001b[0;32mIn[2], line 2\u001b[0m\n\u001b[1;32m      1\u001b[0m \u001b[38;5;66;03m#Note: any() takes exactly one argument\u001b[39;00m\n\u001b[0;32m----> 2\u001b[0m \u001b[38;5;28;43many\u001b[39;49m\u001b[43m(\u001b[49m\u001b[38;5;28;43;01mTrue\u001b[39;49;00m\u001b[43m,\u001b[49m\u001b[43m \u001b[49m\u001b[38;5;28;43;01mTrue\u001b[39;49;00m\u001b[43m,\u001b[49m\u001b[43m \u001b[49m\u001b[38;5;28;43;01mTrue\u001b[39;49;00m\u001b[43m)\u001b[49m\n",
      "\u001b[0;31mTypeError\u001b[0m: any() takes exactly one argument (3 given)"
     ]
    }
   ],
   "source": [
    "#Note: any() takes exactly one argument\n",
    "any(True, True, True)"
   ]
  },
  {
   "cell_type": "code",
   "execution_count": 14,
   "id": "59ebe9b8",
   "metadata": {},
   "outputs": [],
   "source": [
    "def only_items_with(items, filters):\n",
    "    return [d for d in items if any([f==d for f in filters.items()])]"
   ]
  },
  {
   "cell_type": "markdown",
   "id": "57a52854",
   "metadata": {},
   "source": [
    "# Dictionary-related Algorithm Problems"
   ]
  },
  {
   "cell_type": "markdown",
   "id": "d5350640",
   "metadata": {},
   "source": [
    "### Question 1\n",
    "```python\n",
    "d1 = {\"a\":1, \"b\":2}\n",
    "d2 = {\"b\":\"bbb\", \"c\": \"ccc\"}\n",
    "d3 = merge_dictionaries(d1, d2)\n",
    "print(d3) # --> {\"a\":1, \"b\":\"bbb\", \"c\": \"ccc\"})\n",
    "Hint: dict.copy() will make a copy of a dictionary\n",
    "```"
   ]
  },
  {
   "cell_type": "code",
   "execution_count": 20,
   "id": "f5e33673",
   "metadata": {},
   "outputs": [],
   "source": [
    "#Solution1\n",
    "def merge_dictionaries(d1, d2):\n",
    "    return {**d1, **d2}"
   ]
  },
  {
   "cell_type": "code",
   "execution_count": 26,
   "id": "a4e57a26",
   "metadata": {},
   "outputs": [],
   "source": [
    "#Solution2\n",
    "def merge_dictionaries(d1, d2):\n",
    "    d1.update(d2)\n",
    "    return d1"
   ]
  },
  {
   "cell_type": "markdown",
   "id": "6a6600d4",
   "metadata": {},
   "source": [
    "### Question 2"
   ]
  },
  {
   "cell_type": "markdown",
   "id": "03e49ecc",
   "metadata": {},
   "source": [
    "This function takes a list of dictionaries (items) and a list of fields (fields).\n",
    "\n",
    "It should return a copy of items where each dictionary only contains the fields listed in fields.\n",
    "\n",
    "Example:\n",
    "```python\n",
    "items = [\n",
    "    {\"a\": 1, \"b\":2, \"c\": 3},\n",
    "    {\"a\":3, \"size\": 4},\n",
    "    {\"b\": 5, \"d\": 7}\n",
    "]\n",
    "fields = [\"a\", \"b\"]\n",
    "result = just_these_fields(items, fields)\n",
    "print(result) # -->\n",
    "# [\n",
    "#     {\"a\": 1, \"b\": 2},\n",
    "#     {\"a\":3},\n",
    "#     {\"b\": 5}\n",
    "# ]\n",
    "```"
   ]
  },
  {
   "cell_type": "code",
   "execution_count": 23,
   "id": "d13e498a",
   "metadata": {},
   "outputs": [],
   "source": [
    "#Solution 1\n",
    "def just_these_fields(items, fields):\n",
    "    res = []\n",
    "    for item in items:\n",
    "        res.append({k: item[k] for k in fields if k in item})\n",
    "    return res"
   ]
  },
  {
   "cell_type": "code",
   "execution_count": 24,
   "id": "8e00e802",
   "metadata": {},
   "outputs": [],
   "source": [
    "#Solution 2\n",
    "def just_these_fields(items, fields):\n",
    "    return [{k:v for k,v in d.items() if k in fields} for d in items]"
   ]
  },
  {
   "cell_type": "markdown",
   "id": "2a0ec323",
   "metadata": {},
   "source": [
    "### Question 3\n",
    "\n",
    "```python\n",
    "Example:\n",
    "\n",
    "dictionary = {\n",
    "    \"dog\": 1,\n",
    "    \"number\": \"three\",\n",
    "    \"size\": \"2\",\n",
    "    \"heavy\": True,\n",
    "    \"weight\": 3.4,\n",
    "}\n",
    "total = sum_summables(dictionary)\n",
    "print(total) # --> 7.4\n",
    "Hint: use isinstance(value, type) like this:\n",
    "\n",
    "print(isinstance(1, int))       # --> True\n",
    "print(isinstance(\"cat\", str))   # --> True\n",
    "print(isinstance(True, int))    # --> True, what?! Did you know this?\n",
    "print(isinstance(\"cat\", int))   # --> False\n",
    "print(isinstance(1, str))       # --> False\n",
    "```"
   ]
  },
  {
   "cell_type": "code",
   "execution_count": 27,
   "id": "3e05ca74",
   "metadata": {},
   "outputs": [],
   "source": [
    "def sum_summables(dictionary):\n",
    "    total = 0\n",
    "\n",
    "    # loop over the things, get the ones you want\n",
    "    \n",
    "    for k,v in dictionary.items():\n",
    "        if isinstance(v, int) or isinstance(v, float):\n",
    "            total += v\n",
    "        elif isinstance(v, str) and v.isnumeric():\n",
    "            total += int(v)\n",
    "\n",
    "\n",
    "    return total"
   ]
  },
  {
   "cell_type": "markdown",
   "id": "b9edbe7a",
   "metadata": {},
   "source": [
    "### Question 4\n",
    "\n",
    "This is kind-of like the second problem, but a little different...\n",
    "\n",
    "This function takes a list of dictionaries (items) and dictionary of filters (filters). It should return a filtered copy of items with only the items that match any of the filters.\n",
    "\n",
    "Example:"
   ]
  },
  {
   "cell_type": "markdown",
   "id": "54699ca5",
   "metadata": {},
   "source": [
    "```python\n",
    "items = [\n",
    "    {\"color\":\"blue\", \"size\":\"small\"},\n",
    "    {\"color\":\"red\", \"size\":\"small\"},\n",
    "    {\"color\":\"purple\", \"size\":\"medium\"},\n",
    "    {\"color\":\"green\", \"size\":\"large\"},\n",
    "]\n",
    "filters = {\n",
    "    \"color\": \"blue\",\n",
    "    \"size\": \"medium\"\n",
    "}\n",
    "\n",
    "```"
   ]
  },
  {
   "cell_type": "code",
   "execution_count": 16,
   "id": "9bac641e",
   "metadata": {},
   "outputs": [],
   "source": [
    "items = [\n",
    "    {\"color\":\"blue\", \"size\":\"small\"},\n",
    "    {\"color\":\"red\", \"size\":\"small\"},\n",
    "    {\"color\":\"purple\", \"size\":\"medium\"},\n",
    "    {\"color\":\"green\", \"size\":\"large\"},\n",
    "]\n",
    "filters = {\n",
    "    \"color\": \"blue\",\n",
    "    \"size\": \"medium\"\n",
    "}"
   ]
  },
  {
   "cell_type": "code",
   "execution_count": 28,
   "id": "bd632c19",
   "metadata": {},
   "outputs": [],
   "source": [
    "#Solution1\n",
    "def only_items_with(items, filters):\n",
    "    res = []\n",
    "    for item in items:\n",
    "        if any(item[k] == v for k, v in filters.items()):\n",
    "            res.append(item)\n",
    "    return res"
   ]
  },
  {
   "cell_type": "code",
   "execution_count": 29,
   "id": "caf369ad",
   "metadata": {},
   "outputs": [],
   "source": [
    "#Solution2\n",
    "def only_items_with(items, filters):\n",
    "    return [d for d in items if any(d[k] == v for k, v in filters.items())]"
   ]
  },
  {
   "cell_type": "code",
   "execution_count": 30,
   "id": "7becbed0",
   "metadata": {},
   "outputs": [],
   "source": [
    "dct = {\"a\":1,\"b\":2,\"c\":3}"
   ]
  },
  {
   "cell_type": "code",
   "execution_count": 31,
   "id": "2ab3a6ec",
   "metadata": {},
   "outputs": [
    {
     "data": {
      "text/plain": [
       "['a', 'b', 'c']"
      ]
     },
     "execution_count": 31,
     "metadata": {},
     "output_type": "execute_result"
    }
   ],
   "source": [
    "# dictionaries doesn't have to have \".items()\" after\n",
    "[i for i in dct]"
   ]
  },
  {
   "cell_type": "markdown",
   "id": "a5e12c32",
   "metadata": {},
   "source": [
    "This function, like the previous, takes a list of car dictionaries as an input. However, instead of filtering the list, we're going to sort it by the make of the car.\n",
    "\n",
    "If we have an input like this:\n",
    "```python\n",
    "cars = [\n",
    "    {\"make\": \"ford\", \"model\": 8, \"year\": 1955},\n",
    "    {\"make\": \"chevy\", \"model\": 12, \"year\": 1964},\n",
    "    {\"make\": \"ford\", \"model\": 11, \"year\": 1978},\n",
    "    {\"make\": \"chevy\", \"model\": 19, \"year\": 2000},             \n",
    "]\n",
    "your function will produce this as the output:\n",
    "\n",
    "output = {\n",
    "    \"ford\": [\n",
    "        {\"make\": \"ford\", \"model\": 8, \"year\": 1955},\n",
    "        {\"make\": \"ford\", \"model\": 11, \"year\": 1978},        \n",
    "    ],\n",
    "    \"chevy\": [\n",
    "        {\"make\": \"chevy\", \"model\": 12, \"year\": 1964},\n",
    "        {\"make\": \"chevy\", \"model\": 19, \"year\": 2000},             \n",
    "    ]\n",
    "}\n",
    "```\n",
    "Note that the output is a dictionary where each key is the make of a car and the value is a list of the car-dictionaries that have that make.\n",
    "\n",
    "Here is pseudocode for the function:\n",
    "```python\n",
    "sort_by_make(cars)\n",
    "    results = empty dictionary\n",
    "    for each car in cars\n",
    "        make = the value for the \"make\" key for this car\n",
    "        if results does NOT have make as a key\n",
    "            results[make] = empty list\n",
    "        add the car to the results[make] list\n",
    "```    \n",
    "    Quiz: is there anything else to do?\n",
    "\n",
    "    return the results list"
   ]
  },
  {
   "cell_type": "code",
   "execution_count": 3,
   "id": "1e8baa54",
   "metadata": {},
   "outputs": [],
   "source": [
    "def sort_by_make(cars):\n",
    "    results = {}\n",
    "    for car in cars:\n",
    "        if car[\"make\"] not in results:\n",
    "            results[car[\"make\"]] = [car]\n",
    "        else:\n",
    "            results[car[\"make\"]].append(car)\n",
    "    return results"
   ]
  },
  {
   "cell_type": "code",
   "execution_count": 5,
   "id": "a1565b6c",
   "metadata": {},
   "outputs": [
    {
     "name": "stdout",
     "output_type": "stream",
     "text": [
      "make\n",
      "model\n",
      "year\n"
     ]
    }
   ],
   "source": [
    "# \"for ? in dct\", ? is the key\n",
    "\n",
    "dct = {\"make\": \"chevy\", \"model\": 12, \"year\": 1964}\n",
    "for what in dct:\n",
    "    print(what)"
   ]
  },
  {
   "cell_type": "code",
   "execution_count": 6,
   "id": "142ecbf6",
   "metadata": {},
   "outputs": [
    {
     "name": "stdout",
     "output_type": "stream",
     "text": [
      "('make', 'chevy')\n",
      "('model', 12)\n",
      "('year', 1964)\n"
     ]
    }
   ],
   "source": [
    "for what in dct.items():\n",
    "    print(what)"
   ]
  },
  {
   "cell_type": "code",
   "execution_count": 13,
   "id": "3d379a71",
   "metadata": {},
   "outputs": [
    {
     "data": {
      "text/plain": [
       "<reversed at 0x11b98e9b0>"
      ]
     },
     "execution_count": 13,
     "metadata": {},
     "output_type": "execute_result"
    }
   ],
   "source": [
    "reversed(\"1234\")"
   ]
  },
  {
   "cell_type": "code",
   "execution_count": 14,
   "id": "72baaec9",
   "metadata": {},
   "outputs": [
    {
     "data": {
      "text/plain": [
       "['4', '3', '2', '1']"
      ]
     },
     "execution_count": 14,
     "metadata": {},
     "output_type": "execute_result"
    }
   ],
   "source": [
    "list(reversed(\"1234\"))"
   ]
  },
  {
   "cell_type": "code",
   "execution_count": null,
   "id": "db19cc0b",
   "metadata": {},
   "outputs": [],
   "source": [
    "reverse(\"api_show_conference\", kwargs={\"id\": self.id})"
   ]
  },
  {
   "cell_type": "code",
   "execution_count": 3,
   "id": "b0da6bea",
   "metadata": {},
   "outputs": [
    {
     "data": {
      "text/plain": [
       "[[1, 2, 3]]"
      ]
     },
     "execution_count": 3,
     "metadata": {},
     "output_type": "execute_result"
    }
   ],
   "source": [
    "lst = [3,1,2]\n",
    "res = []\n",
    "\n",
    "#it works to write this way\n",
    "res.append(sorted(lst))\n",
    "\n",
    "res"
   ]
  },
  {
   "cell_type": "code",
   "execution_count": 4,
   "id": "fa5c43ba",
   "metadata": {},
   "outputs": [
    {
     "data": {
      "text/plain": [
       "'1'"
      ]
     },
     "execution_count": 4,
     "metadata": {},
     "output_type": "execute_result"
    }
   ],
   "source": [
    "lst = [\"0\",\"1\",\"2\"]\n",
    "lst.pop(1)"
   ]
  },
  {
   "cell_type": "code",
   "execution_count": 5,
   "id": "8145fd44",
   "metadata": {},
   "outputs": [
    {
     "data": {
      "text/plain": [
       "['0', '2']"
      ]
     },
     "execution_count": 5,
     "metadata": {},
     "output_type": "execute_result"
    }
   ],
   "source": [
    "lst"
   ]
  },
  {
   "cell_type": "code",
   "execution_count": 6,
   "id": "a8fbfca4",
   "metadata": {},
   "outputs": [
    {
     "ename": "AttributeError",
     "evalue": "'list' object has no attribute 'splice'",
     "output_type": "error",
     "traceback": [
      "\u001b[0;31m---------------------------------------------------------------------------\u001b[0m",
      "\u001b[0;31mAttributeError\u001b[0m                            Traceback (most recent call last)",
      "Cell \u001b[0;32mIn[6], line 2\u001b[0m\n\u001b[1;32m      1\u001b[0m lst \u001b[38;5;241m=\u001b[39m [\u001b[38;5;124m\"\u001b[39m\u001b[38;5;124m0\u001b[39m\u001b[38;5;124m\"\u001b[39m,\u001b[38;5;124m\"\u001b[39m\u001b[38;5;124m1\u001b[39m\u001b[38;5;124m\"\u001b[39m,\u001b[38;5;124m\"\u001b[39m\u001b[38;5;124m2\u001b[39m\u001b[38;5;124m\"\u001b[39m,\u001b[38;5;124m\"\u001b[39m\u001b[38;5;124m3\u001b[39m\u001b[38;5;124m\"\u001b[39m,\u001b[38;5;124m\"\u001b[39m\u001b[38;5;124m4\u001b[39m\u001b[38;5;124m\"\u001b[39m]\n\u001b[0;32m----> 2\u001b[0m \u001b[43mlst\u001b[49m\u001b[38;5;241;43m.\u001b[39;49m\u001b[43msplice\u001b[49m(\u001b[38;5;241m2\u001b[39m,\u001b[38;5;241m1\u001b[39m,\u001b[38;5;124m\"\u001b[39m\u001b[38;5;124mtwo\u001b[39m\u001b[38;5;124m\"\u001b[39m)\n",
      "\u001b[0;31mAttributeError\u001b[0m: 'list' object has no attribute 'splice'"
     ]
    }
   ],
   "source": [
    "lst = [\"0\",\"1\",\"2\",\"3\",\"4\"]\n",
    "lst.splice(2,1,\"two\")"
   ]
  },
  {
   "cell_type": "code",
   "execution_count": 19,
   "id": "b0a61062",
   "metadata": {},
   "outputs": [
    {
     "data": {
      "text/plain": [
       "True"
      ]
     },
     "execution_count": 19,
     "metadata": {},
     "output_type": "execute_result"
    }
   ],
   "source": [
    "# infinity\n",
    "#note it's \"math\" not \"Math\"\n",
    "import math\n",
    "a = math.inf #one way\n",
    "a > 100000000000000000000000"
   ]
  },
  {
   "cell_type": "code",
   "execution_count": 23,
   "id": "9fb151a9",
   "metadata": {},
   "outputs": [
    {
     "name": "stdout",
     "output_type": "stream",
     "text": [
      "inf\n"
     ]
    }
   ],
   "source": [
    "print(a)"
   ]
  },
  {
   "cell_type": "code",
   "execution_count": 24,
   "id": "ba4b9ea8",
   "metadata": {},
   "outputs": [
    {
     "data": {
      "text/plain": [
       "True"
      ]
     },
     "execution_count": 24,
     "metadata": {},
     "output_type": "execute_result"
    }
   ],
   "source": [
    "x = float('inf') #another way\n",
    "x > 100000000000000000000000"
   ]
  },
  {
   "cell_type": "code",
   "execution_count": 25,
   "id": "c5aab7d3",
   "metadata": {},
   "outputs": [
    {
     "name": "stdout",
     "output_type": "stream",
     "text": [
      "inf\n"
     ]
    }
   ],
   "source": [
    "print(x)"
   ]
  },
  {
   "cell_type": "code",
   "execution_count": 26,
   "id": "a5eb675f",
   "metadata": {},
   "outputs": [
    {
     "data": {
      "text/plain": [
       "float"
      ]
     },
     "execution_count": 26,
     "metadata": {},
     "output_type": "execute_result"
    }
   ],
   "source": [
    "type(x)"
   ]
  },
  {
   "cell_type": "code",
   "execution_count": null,
   "id": "db030af7",
   "metadata": {},
   "outputs": [],
   "source": [
    "# these two javascript code produce the same result:\n",
    "\n",
    "var n = 10;\n",
    "while (n--) {\n",
    "    console.log(n);\n",
    "}\n",
    "\n",
    "\n",
    "for(var n = 9; n >= 0; n--) {\n",
    "    console.log(n);\n",
    "}"
   ]
  },
  {
   "cell_type": "code",
   "execution_count": 33,
   "id": "26f944ed",
   "metadata": {},
   "outputs": [],
   "source": [
    "#Javascript: lst.forEach(c => {res[c]=......})\n",
    "# Javascript's version of list comprehension\n",
    "\n",
    "function countAllCharacters(string) {\n",
    "  const result = {};\n",
    "  string.split('').forEach(char => {\n",
    "    result[char] = (result[char] || 0) + 1;\n",
    "  });\n",
    "  return result;\n",
    "}"
   ]
  },
  {
   "cell_type": "code",
   "execution_count": 1,
   "id": "425b19d6",
   "metadata": {},
   "outputs": [
    {
     "data": {
      "text/plain": [
       "True"
      ]
     },
     "execution_count": 1,
     "metadata": {},
     "output_type": "execute_result"
    }
   ],
   "source": [
    "#to see whether a substring is in a string\n",
    "\n",
    "\"is\" in 'mississippi'\n",
    "\n",
    "\n",
    "# in Javascript, it's this:\n",
    "\n",
    "'mississippi'.includes(\"is\")"
   ]
  },
  {
   "cell_type": "code",
   "execution_count": null,
   "id": "45301457",
   "metadata": {},
   "outputs": [],
   "source": [
    "# Javascript can directly return items.sort(), but python can't."
   ]
  },
  {
   "cell_type": "code",
   "execution_count": null,
   "id": "a90cab99",
   "metadata": {},
   "outputs": [],
   "source": [
    "const testSort = (arr) => {\n",
    "  return arr.sort((a, b) => {\n",
    "    if (typeof a === 'string') {\n",
    "      if (a > b) return 1;\n",
    "      if (a < b) return -1;\n",
    "      if (a === b) return 0;\n",
    "    } else if (typeof a === 'number') {\n",
    "      return a - b;\n",
    "    }\n",
    "  });\n",
    "};\n",
    "\n",
    "console.log(testSort(['a', 'b', 'z', 'x', 'k', 'y']));\n",
    "console.log(['a', 'b', 'z', 'x', 'k', 'y'].slice(-2));\n",
    "\n",
    "#arr.slice(-2) returns last two elements"
   ]
  },
  {
   "cell_type": "code",
   "execution_count": 2,
   "id": "2394b5f7",
   "metadata": {},
   "outputs": [
    {
     "data": {
      "text/plain": [
       "int"
      ]
     },
     "execution_count": 2,
     "metadata": {},
     "output_type": "execute_result"
    }
   ],
   "source": [
    "import math\n",
    "\n",
    "a = math.ceil(2.5)\n",
    "type(a)"
   ]
  },
  {
   "cell_type": "code",
   "execution_count": 3,
   "id": "9506dfea",
   "metadata": {},
   "outputs": [
    {
     "data": {
      "text/plain": [
       "2"
      ]
     },
     "execution_count": 3,
     "metadata": {},
     "output_type": "execute_result"
    }
   ],
   "source": [
    "int(2.5)"
   ]
  },
  {
   "cell_type": "code",
   "execution_count": null,
   "id": "4d85d15f",
   "metadata": {},
   "outputs": [],
   "source": []
  }
 ],
 "metadata": {
  "kernelspec": {
   "display_name": "Python 3 (ipykernel)",
   "language": "python",
   "name": "python3"
  },
  "language_info": {
   "codemirror_mode": {
    "name": "ipython",
    "version": 3
   },
   "file_extension": ".py",
   "mimetype": "text/x-python",
   "name": "python",
   "nbconvert_exporter": "python",
   "pygments_lexer": "ipython3",
   "version": "3.10.2"
  }
 },
 "nbformat": 4,
 "nbformat_minor": 5
}
