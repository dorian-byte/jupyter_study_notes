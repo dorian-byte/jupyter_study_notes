{
 "cells": [
  {
   "cell_type": "code",
   "execution_count": 6,
   "id": "97554b27",
   "metadata": {},
   "outputs": [],
   "source": [
    "def make_integer(nums, length):\n",
    "    nums.sort()\n",
    "    return \"\".join([str(n) for n in nums[:length]])"
   ]
  },
  {
   "cell_type": "code",
   "execution_count": 7,
   "id": "798e433a",
   "metadata": {
    "scrolled": false
   },
   "outputs": [
    {
     "data": {
      "text/plain": [
       "'123'"
      ]
     },
     "execution_count": 7,
     "metadata": {},
     "output_type": "execute_result"
    }
   ],
   "source": [
    "nums = [3, 1, 2, 6, 5, 9] \n",
    "length = 3\n",
    "make_integer(nums, length)"
   ]
  },
  {
   "cell_type": "code",
   "execution_count": null,
   "id": "de1d6bfb",
   "metadata": {},
   "outputs": [],
   "source": []
  },
  {
   "cell_type": "code",
   "execution_count": 30,
   "id": "cdcf178d",
   "metadata": {},
   "outputs": [],
   "source": [
    "def fix_misspellings(corrections):\n",
    "    return [d['word'][:d['position']-1]+d['word'][d['position']:] for d in corrections]"
   ]
  },
  {
   "cell_type": "code",
   "execution_count": 31,
   "id": "fadd0bb4",
   "metadata": {},
   "outputs": [],
   "source": [
    "corrections = [ { \"word\": \"tablett\", \"position\": 7 },\n",
    "  { \"word\": \"marrble\", \"position\": 4 },\n",
    "  { \"word\": \"xdocker\", \"position\": 1 },\n",
    "]"
   ]
  },
  {
   "cell_type": "code",
   "execution_count": 32,
   "id": "01c4f5f2",
   "metadata": {
    "scrolled": true
   },
   "outputs": [
    {
     "data": {
      "text/plain": [
       "['tablet', 'marble', 'docker']"
      ]
     },
     "execution_count": 32,
     "metadata": {},
     "output_type": "execute_result"
    }
   ],
   "source": [
    "fix_misspellings(corrections)"
   ]
  },
  {
   "cell_type": "markdown",
   "id": "8e9ac0f5",
   "metadata": {},
   "source": [
    "There is no built-in Python function to remove a specific character at a given index from a string. However, you can achieve this by using string slicing.\n",
    "\n",
    "Here's an example code snippet that removes the character at index idx from the string s:\n",
    "\n",
    "css\n",
    "Copy code\n",
    "s = s[:idx] + s[idx+1:]\n",
    "This code creates a new string by concatenating the slice of the original string up to the index idx with the slice of the original string after the index idx+1. This effectively removes the character at index idx.\n",
    "\n",
    "Note that this code assumes that the index idx is valid for the string s, otherwise an IndexError will be raised.\n",
    "\n",
    "\n",
    "\n"
   ]
  },
  {
   "cell_type": "markdown",
   "id": "1672f573",
   "metadata": {},
   "source": [
    "```python\n",
    "s = s[:idx] + s[idx+1:]\n",
    "```"
   ]
  },
  {
   "cell_type": "markdown",
   "id": "6aef3c7b",
   "metadata": {},
   "source": [
    "Word prefix reversal\n",
    "1 PT\n",
    "\n",
    "The function reverse_prefix gets a string s and a single letter letter. The function should find the first occurrence of letter in s and reverse only the letters from the beginning of the string up to and including the target letter. If the letter does not exist in the string, do nothing.\n",
    "\n",
    "For example, if you get the string \"hackreactor\" with the letter \"c\", then it would find the first c in \"hackreactor\", take all of the letters from the beginning of the string up to and including that \"c\" (\"hackreactor\"), and reverse them (\"cahkreactor\"). The answer would be the string \"cahkreactor\".\n",
    "\n",
    "s\tletter\tOutput\n",
    "abcdefd\td\tdcbaefd\n",
    "xyxzxe\tz\tzxyxxe\n",
    "abcd\tz\tabcd\n",
    "abcd\ta\tabcd"
   ]
  },
  {
   "cell_type": "code",
   "execution_count": 2,
   "id": "de2fee14",
   "metadata": {},
   "outputs": [],
   "source": [
    "def reverse_prefix(s, letter):\n",
    "    for i in range(len(s)):\n",
    "        if s[i] == letter:\n",
    "            return s[:i+1][::-1] + s[i+1:]\n",
    "    return s"
   ]
  },
  {
   "cell_type": "markdown",
   "id": "77cf9bfa",
   "metadata": {},
   "source": [
    "### it cannot be `s[:i+1:-1] ` and has to be `s[:i+1][::-1] `"
   ]
  },
  {
   "cell_type": "code",
   "execution_count": 3,
   "id": "8da4d5f1",
   "metadata": {},
   "outputs": [],
   "source": [
    "def is_double_reversible(num):\n",
    "    if num < 0:\n",
    "        return False\n",
    "    rev_num = 0\n",
    "    temp_num = num\n",
    "    while temp_num > 0:\n",
    "        rev_num = rev_num * 10 + temp_num % 10\n",
    "        temp_num //= 10\n",
    "    while rev_num > 0:\n",
    "        if num % 10 != rev_num % 10:\n",
    "            return False\n",
    "        num //= 10\n",
    "        rev_num //= 10\n",
    "    return True"
   ]
  },
  {
   "cell_type": "markdown",
   "id": "22afdf7f",
   "metadata": {},
   "source": [
    "is_double_reversible(526) => True\n",
    "is_double_reversible(1800) => False\n",
    "is_double_reversible(0) => True\n",
    "is_double_reversible(770) => False\n",
    "is_double_reversible(-123) => False\n",
    "is_double_reversible(12321) => True\n",
    "is_double_reversible(12345) => False\n",
    "is_double_reversible(987654321) => False\n",
    "is_double_reversible(123456789) => False\n",
    "is_double_reversible(1221) => True\n",
    "is_double_reversible(123321) => True"
   ]
  },
  {
   "cell_type": "code",
   "execution_count": 4,
   "id": "fc8780f7",
   "metadata": {},
   "outputs": [
    {
     "data": {
      "text/plain": [
       "False"
      ]
     },
     "execution_count": 4,
     "metadata": {},
     "output_type": "execute_result"
    }
   ],
   "source": [
    "is_double_reversible(526) "
   ]
  },
  {
   "cell_type": "code",
   "execution_count": 5,
   "id": "d0df35f1",
   "metadata": {},
   "outputs": [
    {
     "data": {
      "text/plain": [
       "True"
      ]
     },
     "execution_count": 5,
     "metadata": {},
     "output_type": "execute_result"
    }
   ],
   "source": [
    "is_double_reversible(525) "
   ]
  },
  {
   "cell_type": "code",
   "execution_count": 6,
   "id": "1b32c9a6",
   "metadata": {},
   "outputs": [],
   "source": [
    "def bubble_sort(values):\n",
    "    n = len(values)\n",
    "    \n",
    "    # Traverse through all array elements\n",
    "    for i in range(n):\n",
    "        # Last i elements are already sorted\n",
    "        for j in range(0, n-i-1):\n",
    "            # Swap if the element found is greater than the next element\n",
    "            if values[j] > values[j+1]:\n",
    "                values[j], values[j+1] = values[j+1], values[j]\n",
    "                \n",
    "    return values"
   ]
  },
  {
   "cell_type": "markdown",
   "id": "4f47e8ed",
   "metadata": {},
   "source": [
    "The provided implementation of Bubble Sort is already efficient for small-sized lists, but we can make some improvements to optimize it further. Here are a few optimizations that we can apply:\n",
    "\n",
    "Early termination: If the inner loop goes through the entire list without any swap, then the list is already sorted. In such a case, we can terminate the sorting early to save unnecessary iterations.\n",
    "\n",
    "Limit the range of the inner loop: After each outer loop iteration, the largest unsorted element gets placed at the end of the list. Therefore, we can reduce the range of the inner loop for each subsequent iteration.\n",
    "\n",
    "Track if the list is already sorted: We can keep track of whether any swap has occurred in the inner loop. If no swaps occurred, then we can terminate the sorting early, as the list is already sorted.\n",
    "\n",
    "Here's an optimized implementation of Bubble Sort that applies these optimizations:\n",
    "\n",
    "python\n",
    "Copy code\n",
    "def bubble_sort(values):\n",
    "    n = len(values)\n",
    "    swapped = True\n",
    "   ```python \n",
    "    # Traverse through all array elements\n",
    "    for i in range(n):\n",
    "        # Last i elements are already sorted\n",
    "        swapped = False\n",
    "        for j in range(0, n-i-1):\n",
    "            # Swap if the element found is greater than the next element\n",
    "            if values[j] > values[j+1]:\n",
    "                values[j], values[j+1] = values[j+1], values[j]\n",
    "                swapped = True\n",
    "        \n",
    "        # If no two elements were swapped by inner loop, then break\n",
    "        if not swapped:\n",
    "            break\n",
    "                \n",
    "    return values\n",
    "   ```"
   ]
  },
  {
   "cell_type": "code",
   "execution_count": 9,
   "id": "3d56669a",
   "metadata": {},
   "outputs": [
    {
     "data": {
      "text/plain": [
       "'cba'"
      ]
     },
     "execution_count": 9,
     "metadata": {},
     "output_type": "execute_result"
    }
   ],
   "source": [
    "s = 'abcdefg'\n",
    "s[:3][::-1]"
   ]
  },
  {
   "cell_type": "code",
   "execution_count": 10,
   "id": "121fc35c",
   "metadata": {
    "scrolled": true
   },
   "outputs": [
    {
     "data": {
      "text/plain": [
       "'gfe'"
      ]
     },
     "execution_count": 10,
     "metadata": {},
     "output_type": "execute_result"
    }
   ],
   "source": [
    "s[:3:-1]"
   ]
  },
  {
   "cell_type": "markdown",
   "id": "123457ac",
   "metadata": {},
   "source": [
    "# Three Sum"
   ]
  },
  {
   "cell_type": "code",
   "execution_count": 1,
   "id": "ed230df6",
   "metadata": {},
   "outputs": [],
   "source": [
    "def threeNumberSum(array, targetSum):\n",
    "    res = []\n",
    "    two_num_sum = []\n",
    "    for n in array:\n",
    "        two_num_sum.append(targetSum - n)\n",
    "    i = 0\n",
    "    while i < len(array):\n",
    "        j = i+1\n",
    "        while j < len(array):\n",
    "            if array[i] + array[j] in two_num_sum:\n",
    "                idx = two_num_sum.index(array[i] + array[j])\n",
    "                if idx not in (i,j):\n",
    "                    lst = sorted([array[idx], array[i], array[j]])\n",
    "                    if lst not in res:\n",
    "                        res.append(lst)\n",
    "            j+=1\n",
    "        i+=1\n",
    "    return sorted(res)"
   ]
  }
 ],
 "metadata": {
  "kernelspec": {
   "display_name": "Python 3 (ipykernel)",
   "language": "python",
   "name": "python3"
  },
  "language_info": {
   "codemirror_mode": {
    "name": "ipython",
    "version": 3
   },
   "file_extension": ".py",
   "mimetype": "text/x-python",
   "name": "python",
   "nbconvert_exporter": "python",
   "pygments_lexer": "ipython3",
   "version": "3.10.2"
  }
 },
 "nbformat": 4,
 "nbformat_minor": 5
}
