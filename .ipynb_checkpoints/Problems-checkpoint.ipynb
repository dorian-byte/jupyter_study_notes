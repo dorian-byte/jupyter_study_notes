{
 "cells": [
  {
   "cell_type": "code",
   "execution_count": 1,
   "id": "99e77a47",
   "metadata": {},
   "outputs": [],
   "source": [
    "# Complete the max_in_list function to find the\n",
    "# maximum value in a list\n",
    "#\n",
    "# If the list is empty, then return None.\n",
    "#\n",
    "\n",
    "def max_in_list(values):\n",
    "    return max(values) if values else None"
   ]
  },
  {
   "cell_type": "code",
   "execution_count": 2,
   "id": "c107415d",
   "metadata": {},
   "outputs": [
    {
     "data": {
      "text/plain": [
       "6"
      ]
     },
     "execution_count": 2,
     "metadata": {},
     "output_type": "execute_result"
    }
   ],
   "source": [
    "max_in_list([1,2,3,4,6])"
   ]
  },
  {
   "cell_type": "code",
   "execution_count": 3,
   "id": "17b02881",
   "metadata": {},
   "outputs": [],
   "source": [
    "# Complete the remove_duplicate_letters that takes a string\n",
    "# parameter \"s\" and returns a string with all of the\n",
    "# duplicates removed.\n",
    "#\n",
    "# Examples:\n",
    "#   * For \"abc\", the result is \"abc\"\n",
    "#   * For \"abcabc\", the result is \"abc\"\n",
    "#   * For \"abccba\", the result is \"abc\"\n",
    "#   * For \"abccbad\", the result is \"abcd\"\n",
    "#\n",
    "# If the list is empty, then return the empty string.\n",
    "\n",
    "def remove_duplicate_letters(s):\n",
    "    lst = []\n",
    "    for c in s:\n",
    "        if c not in lst:\n",
    "            lst.append(c) \n",
    "    return ''.join(lst)"
   ]
  },
  {
   "cell_type": "code",
   "execution_count": 4,
   "id": "3314a481",
   "metadata": {},
   "outputs": [
    {
     "data": {
      "text/plain": [
       "'abcd'"
      ]
     },
     "execution_count": 4,
     "metadata": {},
     "output_type": "execute_result"
    }
   ],
   "source": [
    "remove_duplicate_letters('abccbad')"
   ]
  },
  {
   "cell_type": "code",
   "execution_count": 5,
   "id": "944e1d2c",
   "metadata": {},
   "outputs": [],
   "source": [
    "# Complete the pad_left function which takes three parameters\n",
    "#   * a number\n",
    "#   * the number of characters in the result\n",
    "#   * a padding character\n",
    "# and turns the number into a string of the desired length\n",
    "# by adding the padding character to the left of it\n",
    "#\n",
    "# Examples:\n",
    "#   * number: 10\n",
    "#     length: 4\n",
    "#     pad:    \"*\"\n",
    "#     result: \"**10\"\n",
    "#   * number: 10\n",
    "#     length: 5\n",
    "#     pad:    \"0\"\n",
    "#     result: \"00010\"\n",
    "#   * number: 1000\n",
    "#     length: 3\n",
    "#     pad:    \"0\"\n",
    "#     result: \"1000\"\n",
    "#   * number: 19\n",
    "#     length: 5\n",
    "#     pad:    \" \"\n",
    "#     result: \"   19\"\n",
    "\n",
    "def pad_left(number, length, pad):\n",
    "    num_len = len(str(number))\n",
    "    num_pad = length - num_len\n",
    "    return num_pad*pad+str(number)"
   ]
  },
  {
   "cell_type": "code",
   "execution_count": 6,
   "id": "1da0d267",
   "metadata": {},
   "outputs": [
    {
     "data": {
      "text/plain": [
       "'**10'"
      ]
     },
     "execution_count": 6,
     "metadata": {},
     "output_type": "execute_result"
    }
   ],
   "source": [
    "pad_left(10,4,'*')"
   ]
  },
  {
   "cell_type": "code",
   "execution_count": 7,
   "id": "f5c94ce2",
   "metadata": {},
   "outputs": [],
   "source": [
    "# Write a function that meets these requirements.\n",
    "#\n",
    "# Name:       specific_random\n",
    "# Parameters: none\n",
    "# Returns:    a random number between 10 and 500, inclusive,\n",
    "#             that is divisible by 5 and 7\n",
    "#\n",
    "# Examples:\n",
    "#     * returns: 35\n",
    "#     * returns: 105\n",
    "#     * returns: 70\n",
    "#\n",
    "# Guidance:\n",
    "#   * Generate all the numbers that are divisible by 5\n",
    "#     and 7 into a list\n",
    "#   * Use random.choice to select one"
   ]
  },
  {
   "cell_type": "code",
   "execution_count": 8,
   "id": "184d6448",
   "metadata": {},
   "outputs": [],
   "source": [
    "import random\n",
    "\n",
    "def divisible_by_5_7():\n",
    "    lst = [i for i in range(10,501) if i%5==0 and i%7==0]\n",
    "    return random.choice(lst)"
   ]
  },
  {
   "cell_type": "code",
   "execution_count": 9,
   "id": "9d2f72b1",
   "metadata": {},
   "outputs": [
    {
     "data": {
      "text/plain": [
       "280"
      ]
     },
     "execution_count": 9,
     "metadata": {},
     "output_type": "execute_result"
    }
   ],
   "source": [
    "divisible_by_5_7()"
   ]
  },
  {
   "cell_type": "code",
   "execution_count": 10,
   "id": "ff643069",
   "metadata": {},
   "outputs": [],
   "source": [
    "import math\n",
    "\n",
    "\n",
    "class EquilateralShape:\n",
    "    def __init__(self, num_sides, side_length):\n",
    "        self.num_sides = num_sides\n",
    "        self.side_length = side_length\n",
    "\n",
    "    def calculate_perimeter(self):\n",
    "        result = self.num_sides * self.side_length\n",
    "        return result\n",
    "\n",
    "    def calculate_area(self):\n",
    "        side_squared = pow(self.side_length, 2)\n",
    "\n",
    "        if self.num_sides == 3:\n",
    "            return math.sqrt(3) / 4 * side_squared\n",
    "        elif self.num_sides == 4:\n",
    "            return side_squared\n",
    "        elif self.num_sides == 5:\n",
    "            weird_value = math.sqrt(25 + 10 * math.sqrt(5))\n",
    "            return weird_value / 4 * side_squared\n",
    "        elif self.num_sides == 6:\n",
    "            return (3 * math.sqrt(3)) / 2 * side_squared\n",
    "        else:\n",
    "            raise ValueError"
   ]
  },
  {
   "cell_type": "code",
   "execution_count": 11,
   "id": "d2d7b174",
   "metadata": {},
   "outputs": [
    {
     "name": "stdout",
     "output_type": "stream",
     "text": [
      "3\n",
      "2\n",
      "6\n",
      "1.7320508075688772\n"
     ]
    }
   ],
   "source": [
    "class EquilateralTriangle(EquilateralShape):\n",
    "    def __init__(self, side_length):\n",
    "        super().__init__(3, side_length)\n",
    "        \n",
    "    def calculate_area(self): #Fuction over-writing, same function name will prioritize children's\n",
    "        side_squared = pow(self.side_length, 2)\n",
    "        return math.sqrt(3) / 4 * side_squared\n",
    "    \n",
    "\n",
    "triangle = EquilateralTriangle(2)\n",
    "print(triangle.num_sides)    # Prints 3\n",
    "print(triangle.side_length)  # Prints 2\n",
    "\n",
    "print(triangle.calculate_perimeter())\n",
    "# Prints 6\n",
    "\n",
    "print(triangle.calculate_area())\n",
    "# Prints 1.7320508075688772"
   ]
  },
  {
   "cell_type": "code",
   "execution_count": 12,
   "id": "d66f3932",
   "metadata": {},
   "outputs": [],
   "source": [
    "class Square(EquilateralShape):\n",
    "    def __init__(self, side_length):\n",
    "        super().__init__(4, side_length)\n",
    "\n",
    "    def calculate_area(self):\n",
    "        return pow(self.side_length, 2)\n",
    "\n",
    "\n",
    "class EquilateralPentagon(EquilateralShape):\n",
    "    def __init__(self, side_length):\n",
    "        super().__init__(5, side_length)\n",
    "\n",
    "    def calculate_area(self):\n",
    "        side_squared = pow(self.side_length, 2)\n",
    "        weird_value = math.sqrt(25 + 10 * math.sqrt(5))\n",
    "        return weird_value / 4 * side_squared\n",
    "\n",
    "\n",
    "class EquilateralHexagon(EquilateralShape):\n",
    "    def __init__(self, side_length):\n",
    "        super().__init__(6, side_length)\n",
    "\n",
    "    def calculate_area(self):\n",
    "        side_squared = pow(self.side_length, 2)\n",
    "        return (3 * math.sqrt(3)) / 2 * side_squared"
   ]
  },
  {
   "cell_type": "code",
   "execution_count": 13,
   "id": "ad769ca9",
   "metadata": {},
   "outputs": [],
   "source": [
    "class Square(EquilateralShape):\n",
    "    def __init__(self, side_length):\n",
    "        super().__init__(4, side_length) # \"self,\" not needed\n",
    "    \n",
    "    def calculate_area(self):\n",
    "        return pow(self.side_length, 2)"
   ]
  },
  {
   "cell_type": "code",
   "execution_count": 14,
   "id": "8c768a8d",
   "metadata": {},
   "outputs": [],
   "source": [
    "sq1 = Square(1)"
   ]
  },
  {
   "cell_type": "code",
   "execution_count": 15,
   "id": "f9ab2fad",
   "metadata": {},
   "outputs": [
    {
     "data": {
      "text/plain": [
       "(1, 4, 1)"
      ]
     },
     "execution_count": 15,
     "metadata": {},
     "output_type": "execute_result"
    }
   ],
   "source": [
    "sq1.side_length, sq1.num_sides, sq1.calculate_area()"
   ]
  },
  {
   "cell_type": "code",
   "execution_count": 16,
   "id": "a181f928",
   "metadata": {},
   "outputs": [
    {
     "data": {
      "text/plain": [
       "True"
      ]
     },
     "execution_count": 16,
     "metadata": {},
     "output_type": "execute_result"
    }
   ],
   "source": [
    "isinstance(sq1,Square)"
   ]
  },
  {
   "cell_type": "code",
   "execution_count": 17,
   "id": "1bef8d57",
   "metadata": {},
   "outputs": [
    {
     "data": {
      "text/plain": [
       "True"
      ]
     },
     "execution_count": 17,
     "metadata": {},
     "output_type": "execute_result"
    }
   ],
   "source": [
    "isinstance(sq1,EquilateralShape)"
   ]
  },
  {
   "cell_type": "code",
   "execution_count": 18,
   "id": "6b1e918c",
   "metadata": {},
   "outputs": [],
   "source": [
    "# Write four classes that meet these requirements.\n",
    "#\n",
    "# Name:       Animal\n",
    "#\n",
    "# Required state:\n",
    "#    * number_of_legs, the number of legs the animal has\n",
    "#    * primary_color, the primary color of the animal\n",
    "#\n",
    "# Behavior:\n",
    "#    * describe()       # Returns a string that describes that animal\n",
    "#                         in the format\n",
    "#                                self.__class__.__name__\n",
    "#                                + \" has \"\n",
    "#                                + str(self.number_of_legs)\n",
    "#                                + \" legs and is primarily \"\n",
    "#                                + self.primary_color\n",
    "#\n",
    "#\n",
    "# Name:       Dog, inherits from Animal\n",
    "#\n",
    "# Required state:       inherited from Animal\n",
    "#\n",
    "# Behavior:\n",
    "#    * speak()          # Returns the string \"Bark!\"\n",
    "#\n",
    "#\n",
    "#\n",
    "# Name:       Cat, inherits from Animal\n",
    "#\n",
    "# Required state:       inherited from Animal\n",
    "#\n",
    "# Behavior:\n",
    "#    * speak()          # Returns the string \"Miao!\"\n",
    "#\n",
    "#\n",
    "#\n",
    "# Name:       Snake, inherits from Animal\n",
    "#\n",
    "# Required state:       inherited from Animal\n",
    "#\n",
    "# Behavior:\n",
    "#    * speak()          # Returns the string \"Sssssss!\"\n",
    "\n",
    "\n",
    "class Animal:                                               # solution\n",
    "    def __init__(self, number_of_legs, primary_color):      # solution\n",
    "        self.number_of_legs = number_of_legs                # solution\n",
    "        self.primary_color = primary_color                  # solution\n",
    "                                                            # solution\n",
    "    def describe(self):                                     # solution\n",
    "        return (                                            # solution\n",
    "            self.__class__.__name__                         # solution\n",
    "            + \" has \"                                       # solution\n",
    "            + str(self.number_of_legs)                      # solution\n",
    "            + \" legs and is primarily \"                     # solution\n",
    "            + self.primary_color                            # solution\n",
    "        )                                                   # solution\n",
    "                                                            # solution\n",
    "                                                            # solution\n",
    "class Dog(Animal):                                          # solution\n",
    "    def speak(self):                                        # solution\n",
    "        return \"Bark!\"                                      # solution\n",
    "                                                            # solution\n",
    "                                                            # solution\n",
    "class Cat(Animal):                                          # solution\n",
    "    def speak(self):                                        # solution\n",
    "        return \"Miao!\"                                      # solution\n",
    "                                                            # solution\n",
    "                                                            # solution\n",
    "class Snake(Animal):                                        # solution\n",
    "    def speak(self):                                        # solution\n",
    "        return \"Sssssss!\"                                   # solution\n"
   ]
  },
  {
   "cell_type": "markdown",
   "id": "024f3150",
   "metadata": {},
   "source": [
    "<font color=red>👇🏻 Jamie’s note:\n",
    "* Inside, it's `self.__class__.__name__`\n",
    "* Outside, it's `Animal.__name__`"
   ]
  },
  {
   "cell_type": "code",
   "execution_count": 19,
   "id": "f3f65bde",
   "metadata": {},
   "outputs": [],
   "source": [
    "animal1 = Animal(4,'brown')"
   ]
  },
  {
   "cell_type": "code",
   "execution_count": 20,
   "id": "f1b158b6",
   "metadata": {},
   "outputs": [
    {
     "data": {
      "text/plain": [
       "'Animal'"
      ]
     },
     "execution_count": 20,
     "metadata": {},
     "output_type": "execute_result"
    }
   ],
   "source": [
    "Animal.__name__"
   ]
  },
  {
   "cell_type": "code",
   "execution_count": 21,
   "id": "38f98602",
   "metadata": {},
   "outputs": [],
   "source": [
    "class Dad:\n",
    "    pass"
   ]
  },
  {
   "cell_type": "code",
   "execution_count": 22,
   "id": "0a39f962",
   "metadata": {},
   "outputs": [
    {
     "data": {
      "text/plain": [
       "'Dad'"
      ]
     },
     "execution_count": 22,
     "metadata": {},
     "output_type": "execute_result"
    }
   ],
   "source": [
    "Dad.__name__"
   ]
  },
  {
   "cell_type": "code",
   "execution_count": 23,
   "id": "4e356e4f",
   "metadata": {},
   "outputs": [
    {
     "data": {
      "text/plain": [
       "<slot wrapper '__str__' of 'object' objects>"
      ]
     },
     "execution_count": 23,
     "metadata": {},
     "output_type": "execute_result"
    }
   ],
   "source": [
    "Dad.__str__"
   ]
  },
  {
   "cell_type": "code",
   "execution_count": 24,
   "id": "b01b02cd",
   "metadata": {
    "scrolled": true
   },
   "outputs": [
    {
     "data": {
      "text/plain": [
       "<slot wrapper '__repr__' of 'object' objects>"
      ]
     },
     "execution_count": 24,
     "metadata": {},
     "output_type": "execute_result"
    }
   ],
   "source": [
    "Dad.__repr__"
   ]
  },
  {
   "cell_type": "code",
   "execution_count": 51,
   "id": "af7046d7",
   "metadata": {},
   "outputs": [],
   "source": [
    "dad1 = Dad()"
   ]
  },
  {
   "cell_type": "code",
   "execution_count": 52,
   "id": "4e44ce18",
   "metadata": {},
   "outputs": [],
   "source": [
    "# Write four classes that meet these requirements.\n",
    "#\n",
    "# Name:       Animal\n",
    "#\n",
    "# Required state:\n",
    "#    * number_of_legs, the number of legs the animal has\n",
    "#    * primary_color, the primary color of the animal\n",
    "#\n",
    "# Behavior:\n",
    "#    * describe()       # Returns a string that describes that animal\n",
    "#                         in the format\n",
    "#                                self.__class__.__name__\n",
    "#                                + \" has \"\n",
    "#                                + str(self.number_of_legs)\n",
    "#                                + \" legs and is primarily \"\n",
    "#                                + self.primary_color\n",
    "#\n",
    "class Animal:\n",
    "  def __init__(self,number_of_legs,primary_color):\n",
    "    self.number_of_legs = number_of_legs\n",
    "    self.primary_color = primary_color\n",
    "  def describe(self):\n",
    "    return self.__class__.__name__+' has '+ str(self.number_of_legs)+\" legs and is primarily \"+self.primary_color\n",
    "\n",
    "#\n",
    "# Name:       Dog, inherits from Animal\n",
    "#\n",
    "# Required state:       inherited from Animal\n",
    "#\n",
    "# Behavior:\n",
    "#    * speak()          # Returns the string \"Bark!\"\n",
    "class Dog(Animal):\n",
    "  def __init__(self,number_of_legs,primary_color):\n",
    "    super().__init__(number_of_legs,primary_color)\n",
    "  def speak(self):\n",
    "    return \"Bark!\"\n",
    "#\n",
    "#\n",
    "# Name:       Cat, inherits from Animal\n",
    "#\n",
    "# Required state:       inherited from Animal\n",
    "#\n",
    "# Behavior:\n",
    "#    * speak()          # Returns the string \"Miao!\"\n",
    "class Cat(Animal):\n",
    "  def __init__(self,number_of_legs,primary_color):\n",
    "    super().__init__(number_of_legs,primary_color)\n",
    "  def speak(self):\n",
    "    return \"Miao!\"\n",
    "#\n",
    "#\n",
    "# Name:       Snake, inherits from Animal\n",
    "#\n",
    "# Required state:       inherited from Animal\n",
    "#\n",
    "# Behavior:\n",
    "#    * speak()          # Returns the string \"Sssssss!\"\n",
    "class Snake(Animal):\n",
    "  def __init__(self,number_of_legs,primary_color):\n",
    "    super().__init__(number_of_legs,primary_color)\n",
    "  def speak(self):\n",
    "    return \"Sssssss!\"\n"
   ]
  },
  {
   "cell_type": "code",
   "execution_count": 53,
   "id": "1d80784f",
   "metadata": {},
   "outputs": [],
   "source": [
    "# Write four classes that meet these requirements.\n",
    "#\n",
    "# Name:       Animal\n",
    "#\n",
    "# Required state:\n",
    "#    * number_of_legs, the number of legs the animal has\n",
    "#    * primary_color, the primary color of the animal\n",
    "#\n",
    "# Behavior:\n",
    "#    * describe()       # Returns a string that describes that animal\n",
    "#                         in the format\n",
    "#                                self.__class__.__name__\n",
    "#                                + \" has \"\n",
    "#                                + str(self.number_of_legs)\n",
    "#                                + \" legs and is primarily \"\n",
    "#                                + self.primary_color\n",
    "#\n",
    "#\n",
    "# Name:       Dog, inherits from Animal\n",
    "#\n",
    "# Required state:       inherited from Animal\n",
    "#\n",
    "# Behavior:\n",
    "#    * speak()          # Returns the string \"Bark!\"\n",
    "#\n",
    "#\n",
    "#\n",
    "# Name:       Cat, inherits from Animal\n",
    "#\n",
    "# Required state:       inherited from Animal\n",
    "#\n",
    "# Behavior:\n",
    "#    * speak()          # Returns the string \"Miao!\"\n",
    "#\n",
    "#\n",
    "#\n",
    "# Name:       Snake, inherits from Animal\n",
    "#\n",
    "# Required state:       inherited from Animal\n",
    "#\n",
    "# Behavior:\n",
    "#    * speak()          # Returns the string \"Sssssss!\"\n",
    "\n",
    "\n",
    "class Animal:                                               # solution\n",
    "    def __init__(self, number_of_legs, primary_color):      # solution\n",
    "        self.number_of_legs = number_of_legs                # solution\n",
    "        self.primary_color = primary_color                  # solution\n",
    "                                                            # solution\n",
    "    def describe(self):                                     # solution\n",
    "        return (                                            # solution\n",
    "            self.__class__.__name__                         # solution\n",
    "            + \" has \"                                       # solution\n",
    "            + str(self.number_of_legs)                      # solution\n",
    "            + \" legs and is primarily \"                     # solution\n",
    "            + self.primary_color                            # solution\n",
    "        )                                                   # solution\n",
    "                                                            # solution\n",
    "                                                            # solution\n",
    "class Dog(Animal):                                          # solution\n",
    "    def speak(self):                                        # solution\n",
    "        return \"Bark!\"                                      # solution\n",
    "                                                            # solution\n",
    "                                                            # solution\n",
    "class Cat(Animal):                                          # solution\n",
    "    def speak(self):                                        # solution\n",
    "        return \"Miao!\"                                      # solution\n",
    "                                                            # solution\n",
    "                                                            # solution\n",
    "class Snake(Animal):                                        # solution\n",
    "    def speak(self):                                        # solution\n",
    "        return \"Sssssss!\"                                   # solution\n"
   ]
  },
  {
   "cell_type": "code",
   "execution_count": 54,
   "id": "4258e9e7",
   "metadata": {},
   "outputs": [],
   "source": [
    "snake1 = Snake(0,\"green\")"
   ]
  },
  {
   "cell_type": "code",
   "execution_count": 55,
   "id": "718eee68",
   "metadata": {},
   "outputs": [
    {
     "data": {
      "text/plain": [
       "'Sssssss!'"
      ]
     },
     "execution_count": 55,
     "metadata": {},
     "output_type": "execute_result"
    }
   ],
   "source": [
    "snake1.speak()"
   ]
  },
  {
   "cell_type": "code",
   "execution_count": 56,
   "id": "013eb45e",
   "metadata": {},
   "outputs": [],
   "source": [
    "def is_palindrome(word):\n",
    "    if not word:\n",
    "        return False\n",
    "    for i, c in enumerate(word):\n",
    "        if c != word[len(word) - i - 1]:\n",
    "            return False\n",
    "    return True"
   ]
  },
  {
   "cell_type": "code",
   "execution_count": 57,
   "id": "5c0a0a07",
   "metadata": {},
   "outputs": [
    {
     "data": {
      "text/plain": [
       "True"
      ]
     },
     "execution_count": 57,
     "metadata": {},
     "output_type": "execute_result"
    }
   ],
   "source": [
    "is_palindrome('abdba')"
   ]
  },
  {
   "cell_type": "code",
   "execution_count": 58,
   "id": "b5cc8b96",
   "metadata": {},
   "outputs": [
    {
     "ename": "AttributeError",
     "evalue": "'list' object has no attribute 'find'",
     "output_type": "error",
     "traceback": [
      "\u001b[0;31m---------------------------------------------------------------------------\u001b[0m",
      "\u001b[0;31mAttributeError\u001b[0m                            Traceback (most recent call last)",
      "Cell \u001b[0;32mIn[58], line 2\u001b[0m\n\u001b[1;32m      1\u001b[0m lst \u001b[38;5;241m=\u001b[39m [\u001b[38;5;124m'\u001b[39m\u001b[38;5;124ma\u001b[39m\u001b[38;5;124m'\u001b[39m,\u001b[38;5;124m'\u001b[39m\u001b[38;5;124mb\u001b[39m\u001b[38;5;124m'\u001b[39m,\u001b[38;5;124m'\u001b[39m\u001b[38;5;124mc\u001b[39m\u001b[38;5;124m'\u001b[39m]\n\u001b[0;32m----> 2\u001b[0m \u001b[43mlst\u001b[49m\u001b[38;5;241;43m.\u001b[39;49m\u001b[43mfind\u001b[49m(\u001b[38;5;124m'\u001b[39m\u001b[38;5;124mc\u001b[39m\u001b[38;5;124m'\u001b[39m)\n",
      "\u001b[0;31mAttributeError\u001b[0m: 'list' object has no attribute 'find'"
     ]
    }
   ],
   "source": [
    "lst = ['a','b','c']\n",
    "lst.find('c')"
   ]
  },
  {
   "cell_type": "code",
   "execution_count": 59,
   "id": "e7c9f09c",
   "metadata": {},
   "outputs": [
    {
     "data": {
      "text/plain": [
       "3"
      ]
     },
     "execution_count": 59,
     "metadata": {},
     "output_type": "execute_result"
    }
   ],
   "source": [
    "'mississippi'.find('si')"
   ]
  },
  {
   "cell_type": "code",
   "execution_count": 60,
   "id": "b93fc5d9",
   "metadata": {},
   "outputs": [],
   "source": [
    "def pad_left(number, length, pad):\n",
    "    return pad*(length-len(str(number)))+str(number)"
   ]
  },
  {
   "cell_type": "code",
   "execution_count": 61,
   "id": "6016c128",
   "metadata": {},
   "outputs": [
    {
     "data": {
      "text/plain": [
       "'*******303'"
      ]
     },
     "execution_count": 61,
     "metadata": {},
     "output_type": "execute_result"
    }
   ],
   "source": [
    "pad_left(303,10,\"*\")"
   ]
  },
  {
   "cell_type": "code",
   "execution_count": 62,
   "id": "940e45f9",
   "metadata": {},
   "outputs": [],
   "source": [
    "lst = [\"8,1,7\", \"10,10,10\", \"1,2,3\"]"
   ]
  },
  {
   "cell_type": "code",
   "execution_count": 63,
   "id": "c6e88736",
   "metadata": {},
   "outputs": [
    {
     "data": {
      "text/plain": [
       "['8', '1', '7']"
      ]
     },
     "execution_count": 63,
     "metadata": {},
     "output_type": "execute_result"
    }
   ],
   "source": [
    "a = lst[0].split(',')\n",
    "a"
   ]
  },
  {
   "cell_type": "code",
   "execution_count": 64,
   "id": "d5ee5ef8",
   "metadata": {},
   "outputs": [],
   "source": [
    "city_population = {\"New York City\": 8550405, \n",
    "                   \"Los Angeles\": 3971883, \n",
    "                   \"Toronto\": 2731571, \n",
    "                   \"Chicago\": 2720546, \n",
    "                   \"Houston\": 2296224, \n",
    "                   \"Montreal\": 1704694, \n",
    "                   \"Calgary\": 1239220, \n",
    "                   \"Vancouver\": 631486, \n",
    "                   \"Boston\": 667137}"
   ]
  },
  {
   "cell_type": "code",
   "execution_count": 65,
   "id": "b153b53d",
   "metadata": {},
   "outputs": [],
   "source": [
    "lst.append(city_population.get('dd'))"
   ]
  },
  {
   "cell_type": "code",
   "execution_count": 66,
   "id": "df562785",
   "metadata": {},
   "outputs": [],
   "source": [
    "city_population.get('dd')"
   ]
  },
  {
   "cell_type": "code",
   "execution_count": 67,
   "id": "55579e12",
   "metadata": {},
   "outputs": [
    {
     "data": {
      "text/plain": [
       "['8,1,7', '10,10,10', '1,2,3', None]"
      ]
     },
     "execution_count": 67,
     "metadata": {},
     "output_type": "execute_result"
    }
   ],
   "source": [
    "lst"
   ]
  },
  {
   "cell_type": "code",
   "execution_count": 68,
   "id": "094d9026",
   "metadata": {},
   "outputs": [
    {
     "data": {
      "text/plain": [
       "4"
      ]
     },
     "execution_count": 68,
     "metadata": {},
     "output_type": "execute_result"
    }
   ],
   "source": [
    "len(lst)"
   ]
  },
  {
   "cell_type": "code",
   "execution_count": 69,
   "id": "2fd3c9bb",
   "metadata": {},
   "outputs": [],
   "source": [
    "def translate(key_list, dictionary):\n",
    "    res = []\n",
    "    for k in key_list:\n",
    "        res.append(dictionary.get(k))\n",
    "    return res"
   ]
  },
  {
   "cell_type": "code",
   "execution_count": 70,
   "id": "341c43bb",
   "metadata": {},
   "outputs": [
    {
     "data": {
      "text/plain": [
       "['Noor', 29]"
      ]
     },
     "execution_count": 70,
     "metadata": {},
     "output_type": "execute_result"
    }
   ],
   "source": [
    "translate([\"name\", \"age\"],{\"name\": \"Noor\", \"age\": 29})"
   ]
  },
  {
   "cell_type": "code",
   "execution_count": 71,
   "id": "2330f56c",
   "metadata": {},
   "outputs": [
    {
     "data": {
      "text/plain": [
       "[None, 29]"
      ]
     },
     "execution_count": 71,
     "metadata": {},
     "output_type": "execute_result"
    }
   ],
   "source": [
    "translate([\"eye color\", \"age\"],{\"name\": \"Noor\", \"age\": 29})"
   ]
  },
  {
   "cell_type": "code",
   "execution_count": 72,
   "id": "d5e19669",
   "metadata": {},
   "outputs": [],
   "source": [
    "def count_word_frequencies(sentence):\n",
    "    dct = {}\n",
    "    for i in sentence.split(' '):\n",
    "        if not dct[i]: # this raises an error instead of returning None\n",
    "            dct[i] = 1\n",
    "        else:\n",
    "            dct[i] += 1\n",
    "    return dct"
   ]
  },
  {
   "cell_type": "code",
   "execution_count": 73,
   "id": "7ffda220",
   "metadata": {},
   "outputs": [
    {
     "ename": "KeyError",
     "evalue": "'I'",
     "output_type": "error",
     "traceback": [
      "\u001b[0;31m---------------------------------------------------------------------------\u001b[0m",
      "\u001b[0;31mKeyError\u001b[0m                                  Traceback (most recent call last)",
      "Cell \u001b[0;32mIn[73], line 1\u001b[0m\n\u001b[0;32m----> 1\u001b[0m \u001b[43mcount_word_frequencies\u001b[49m\u001b[43m(\u001b[49m\u001b[38;5;124;43m\"\u001b[39;49m\u001b[38;5;124;43mI came I saw I learned\u001b[39;49m\u001b[38;5;124;43m\"\u001b[39;49m\u001b[43m)\u001b[49m\n",
      "Cell \u001b[0;32mIn[72], line 4\u001b[0m, in \u001b[0;36mcount_word_frequencies\u001b[0;34m(sentence)\u001b[0m\n\u001b[1;32m      2\u001b[0m dct \u001b[38;5;241m=\u001b[39m {}\n\u001b[1;32m      3\u001b[0m \u001b[38;5;28;01mfor\u001b[39;00m i \u001b[38;5;129;01min\u001b[39;00m sentence\u001b[38;5;241m.\u001b[39msplit(\u001b[38;5;124m'\u001b[39m\u001b[38;5;124m \u001b[39m\u001b[38;5;124m'\u001b[39m):\n\u001b[0;32m----> 4\u001b[0m     \u001b[38;5;28;01mif\u001b[39;00m \u001b[38;5;129;01mnot\u001b[39;00m \u001b[43mdct\u001b[49m\u001b[43m[\u001b[49m\u001b[43mi\u001b[49m\u001b[43m]\u001b[49m: \u001b[38;5;66;03m# this raises an error instead of returning None\u001b[39;00m\n\u001b[1;32m      5\u001b[0m         dct[i] \u001b[38;5;241m=\u001b[39m \u001b[38;5;241m1\u001b[39m\n\u001b[1;32m      6\u001b[0m     \u001b[38;5;28;01melse\u001b[39;00m:\n",
      "\u001b[0;31mKeyError\u001b[0m: 'I'"
     ]
    }
   ],
   "source": [
    "count_word_frequencies(\"I came I saw I learned\")"
   ]
  },
  {
   "cell_type": "code",
   "execution_count": 1,
   "id": "3d036bb8",
   "metadata": {},
   "outputs": [],
   "source": [
    "def count_word_frequencies(sentence):\n",
    "    dct = {}\n",
    "    for i in sentence.split(' '):\n",
    "        if not dct.get(i,0):\n",
    "            dct[i] = 1\n",
    "        else:\n",
    "            dct[i] += 1\n",
    "            return dct"
   ]
  },
  {
   "cell_type": "code",
   "execution_count": 2,
   "id": "8a5f0c65",
   "metadata": {},
   "outputs": [
    {
     "data": {
      "text/plain": [
       "[2, 3]"
      ]
     },
     "execution_count": 2,
     "metadata": {},
     "output_type": "execute_result"
    }
   ],
   "source": [
    "[2]+[3]"
   ]
  },
  {
   "cell_type": "code",
   "execution_count": 24,
   "id": "62f55ec5",
   "metadata": {},
   "outputs": [],
   "source": [
    "def calculate_playlist(button_pushes):\n",
    "    res = [\"A\", \"B\", \"C\", \"D\", \"E\"]\n",
    "    for i in button_pushes:\n",
    "        if i == 1:\n",
    "            res[0],res[1] = res[1],res[0]\n",
    "        elif i == 2:\n",
    "            res.append(res.pop(0))\n",
    "        elif i == 3:\n",
    "            res.insert(0,res.pop(-1))\n",
    "    return res"
   ]
  },
  {
   "cell_type": "code",
   "execution_count": 25,
   "id": "d12b90cc",
   "metadata": {},
   "outputs": [
    {
     "data": {
      "text/plain": [
       "['B', 'A', 'C', 'D', 'E']"
      ]
     },
     "execution_count": 25,
     "metadata": {},
     "output_type": "execute_result"
    }
   ],
   "source": [
    "calculate_playlist([1,2,3])"
   ]
  },
  {
   "cell_type": "code",
   "execution_count": 26,
   "id": "946384f9",
   "metadata": {},
   "outputs": [],
   "source": [
    "def nia_eat(favorite_color, candy):\n",
    "    res = 0\n",
    "    nonfav_flag = 0\n",
    "    for i in candy:\n",
    "        if i == favorite_color:\n",
    "            res += 23\n",
    "        if i != favorite_color:\n",
    "            nonfav_flag = 1\n",
    "    return res+nonfav_flag*17"
   ]
  },
  {
   "cell_type": "code",
   "execution_count": 40,
   "id": "0607c60f",
   "metadata": {},
   "outputs": [],
   "source": [
    "dct = {1:1,2:2,3:3}\n",
    "query_using_get = dct.get(4)"
   ]
  },
  {
   "cell_type": "code",
   "execution_count": 41,
   "id": "03e62c02",
   "metadata": {},
   "outputs": [
    {
     "ename": "KeyError",
     "evalue": "4",
     "output_type": "error",
     "traceback": [
      "\u001b[0;31m---------------------------------------------------------------------------\u001b[0m",
      "\u001b[0;31mKeyError\u001b[0m                                  Traceback (most recent call last)",
      "Cell \u001b[0;32mIn[41], line 1\u001b[0m\n\u001b[0;32m----> 1\u001b[0m query_using_bracket \u001b[38;5;241m=\u001b[39m \u001b[43mdct\u001b[49m\u001b[43m[\u001b[49m\u001b[38;5;241;43m4\u001b[39;49m\u001b[43m]\u001b[49m\n",
      "\u001b[0;31mKeyError\u001b[0m: 4"
     ]
    }
   ],
   "source": [
    "query_using_bracket = dct[4]"
   ]
  },
  {
   "cell_type": "code",
   "execution_count": 42,
   "id": "ac30bfdd",
   "metadata": {
    "scrolled": true
   },
   "outputs": [
    {
     "data": {
      "text/plain": [
       "NoneType"
      ]
     },
     "execution_count": 42,
     "metadata": {},
     "output_type": "execute_result"
    }
   ],
   "source": [
    "type(query_using_get)"
   ]
  },
  {
   "cell_type": "code",
   "execution_count": 121,
   "id": "625f41ad",
   "metadata": {},
   "outputs": [],
   "source": [
    "def total_song_knowers(num_villagers, attendees_lists):\n",
    "    songs = 1\n",
    "    songs_known = {}\n",
    "    for i in range(1,num_villagers+1):\n",
    "        songs_known[i] = set()\n",
    "    for day, villagers in enumerate(attendees_lists):\n",
    "        if 0 in villagers and day != 0:\n",
    "            songs += 1\n",
    "        if 0 in villagers or day == 0:\n",
    "            for villager in villagers:\n",
    "                if villager != 0:\n",
    "                    songs_known[villager].add('ev'+str(day+1))\n",
    "        else:\n",
    "            union_set = set()\n",
    "            for villager in villagers:\n",
    "                union_set = union_set.union(songs_known[villager])\n",
    "            for villager in villagers:\n",
    "                songs_known[villager] = union_set.copy()\n",
    "    return len([each_set for each_set in songs_known.values() if len(each_set)==songs])"
   ]
  },
  {
   "cell_type": "code",
   "execution_count": 127,
   "id": "d1915404",
   "metadata": {},
   "outputs": [],
   "source": [
    "def total_song_knowers(num_villagers, attendees_lists):\n",
    "    songs = 1\n",
    "    songs_known = {}\n",
    "    for i in range(1,num_villagers+1):\n",
    "        songs_known[i] = set()\n",
    "    for day, villagers in enumerate(attendees_lists):\n",
    "        if 0 in villagers and day != 0:\n",
    "            songs += 1\n",
    "        if 0 in villagers or day == 0:\n",
    "            print('here', songs_known)\n",
    "            for villager in villagers:\n",
    "                if villager != 0:\n",
    "                    print(\"villager=\"+str(villager))\n",
    "                    songs_known[villager].add('ev'+str(day+1))\n",
    "                    print(\"day:\"+str(day)+\":\"+str(songs_known))\n",
    "        else:\n",
    "            union_set = set()\n",
    "            for villager in villagers:\n",
    "                union_set = union_set.union(songs_known[villager])\n",
    "            for villager in villagers:\n",
    "                songs_known[villager] = union_set.copy()\n",
    "    return songs_known, songs"
   ]
  },
  {
   "cell_type": "code",
   "execution_count": 128,
   "id": "8b6b9a47",
   "metadata": {},
   "outputs": [],
   "source": [
    "lst = [[0, 2, 4, 3], [4, 5], [5, 6, 7], [5, 1], [1, 5, 7, 0]]"
   ]
  },
  {
   "cell_type": "code",
   "execution_count": 129,
   "id": "463c3df2",
   "metadata": {
    "scrolled": false
   },
   "outputs": [
    {
     "name": "stdout",
     "output_type": "stream",
     "text": [
      "here {1: set(), 2: set(), 3: set(), 4: set(), 5: set(), 6: set(), 7: set()}\n",
      "villager=2\n",
      "day:0:{1: set(), 2: {'ev1'}, 3: set(), 4: set(), 5: set(), 6: set(), 7: set()}\n",
      "villager=4\n",
      "day:0:{1: set(), 2: {'ev1'}, 3: set(), 4: {'ev1'}, 5: set(), 6: set(), 7: set()}\n",
      "villager=3\n",
      "day:0:{1: set(), 2: {'ev1'}, 3: {'ev1'}, 4: {'ev1'}, 5: set(), 6: set(), 7: set()}\n",
      "here {1: {'ev1'}, 2: {'ev1'}, 3: {'ev1'}, 4: {'ev1'}, 5: {'ev1'}, 6: {'ev1'}, 7: {'ev1'}}\n",
      "villager=1\n",
      "day:4:{1: {'ev1', 'ev5'}, 2: {'ev1'}, 3: {'ev1'}, 4: {'ev1'}, 5: {'ev1'}, 6: {'ev1'}, 7: {'ev1'}}\n",
      "villager=5\n",
      "day:4:{1: {'ev1', 'ev5'}, 2: {'ev1'}, 3: {'ev1'}, 4: {'ev1'}, 5: {'ev1', 'ev5'}, 6: {'ev1'}, 7: {'ev1'}}\n",
      "villager=7\n",
      "day:4:{1: {'ev1', 'ev5'}, 2: {'ev1'}, 3: {'ev1'}, 4: {'ev1'}, 5: {'ev1', 'ev5'}, 6: {'ev1'}, 7: {'ev1', 'ev5'}}\n"
     ]
    },
    {
     "data": {
      "text/plain": [
       "({1: {'ev1', 'ev5'},\n",
       "  2: {'ev1'},\n",
       "  3: {'ev1'},\n",
       "  4: {'ev1'},\n",
       "  5: {'ev1', 'ev5'},\n",
       "  6: {'ev1'},\n",
       "  7: {'ev1', 'ev5'}},\n",
       " 2)"
      ]
     },
     "execution_count": 129,
     "metadata": {},
     "output_type": "execute_result"
    }
   ],
   "source": [
    "total_song_knowers(7,lst)"
   ]
  },
  {
   "cell_type": "code",
   "execution_count": 130,
   "id": "9b3f3c9d",
   "metadata": {},
   "outputs": [],
   "source": [
    "lst = [[2,4],[0,1,2],[1,3,4],[1,2],[0,5],[3,5]]"
   ]
  },
  {
   "cell_type": "code",
   "execution_count": 126,
   "id": "233aeadc",
   "metadata": {
    "scrolled": false
   },
   "outputs": [
    {
     "name": "stdout",
     "output_type": "stream",
     "text": [
      "here {1: set(), 2: set(), 3: set(), 4: set(), 5: set()}\n",
      "villager=2\n",
      "day:0:{1: set(), 2: {'ev1'}, 3: set(), 4: set(), 5: set()}\n",
      "villager=4\n",
      "day:0:{1: set(), 2: {'ev1'}, 3: set(), 4: {'ev1'}, 5: set()}\n",
      "here {1: set(), 2: {'ev1'}, 3: set(), 4: {'ev1'}, 5: set()}\n",
      "villager=1\n",
      "day:1:{1: {'ev2'}, 2: {'ev1'}, 3: set(), 4: {'ev1'}, 5: set()}\n",
      "villager=2\n",
      "day:1:{1: {'ev2'}, 2: {'ev1', 'ev2'}, 3: set(), 4: {'ev1'}, 5: set()}\n",
      "here {1: {'ev1', 'ev2'}, 2: {'ev1', 'ev2'}, 3: {'ev1', 'ev2'}, 4: {'ev1', 'ev2'}, 5: set()}\n",
      "villager=5\n",
      "day:4:{1: {'ev1', 'ev2'}, 2: {'ev1', 'ev2'}, 3: {'ev1', 'ev2'}, 4: {'ev1', 'ev2'}, 5: {'ev5'}}\n"
     ]
    },
    {
     "data": {
      "text/plain": [
       "({1: {'ev1', 'ev2'},\n",
       "  2: {'ev1', 'ev2'},\n",
       "  3: {'ev1', 'ev2', 'ev5'},\n",
       "  4: {'ev1', 'ev2'},\n",
       "  5: {'ev1', 'ev2', 'ev5'}},\n",
       " 3)"
      ]
     },
     "execution_count": 126,
     "metadata": {},
     "output_type": "execute_result"
    }
   ],
   "source": [
    "total_song_knowers(5,lst)"
   ]
  },
  {
   "cell_type": "code",
   "execution_count": 1,
   "id": "bdeb6878",
   "metadata": {},
   "outputs": [
    {
     "ename": "SyntaxError",
     "evalue": "'(' was never closed (809538697.py, line 4)",
     "output_type": "error",
     "traceback": [
      "\u001b[0;36m  Cell \u001b[0;32mIn[1], line 4\u001b[0;36m\u001b[0m\n\u001b[0;31m    greet(\"John\"\u001b[0m\n\u001b[0m         ^\u001b[0m\n\u001b[0;31mSyntaxError\u001b[0m\u001b[0;31m:\u001b[0m '(' was never closed\n"
     ]
    }
   ],
   "source": [
    "def greet(name):\n",
    "  print(\"Hello, \" + name)\n",
    "  \n",
    "greet(\"John\""
   ]
  },
  {
   "cell_type": "code",
   "execution_count": 2,
   "id": "4446f74a",
   "metadata": {},
   "outputs": [
    {
     "ename": "NameError",
     "evalue": "name 'x' is not defined",
     "output_type": "error",
     "traceback": [
      "\u001b[0;31m---------------------------------------------------------------------------\u001b[0m",
      "\u001b[0;31mNameError\u001b[0m                                 Traceback (most recent call last)",
      "Cell \u001b[0;32mIn[2], line 1\u001b[0m\n\u001b[0;32m----> 1\u001b[0m \u001b[38;5;28mprint\u001b[39m(\u001b[43mx\u001b[49m)\n",
      "\u001b[0;31mNameError\u001b[0m: name 'x' is not defined"
     ]
    }
   ],
   "source": [
    "print(x)"
   ]
  },
  {
   "cell_type": "code",
   "execution_count": 3,
   "id": "4c5a714c",
   "metadata": {},
   "outputs": [
    {
     "ename": "IndexError",
     "evalue": "list index out of range",
     "output_type": "error",
     "traceback": [
      "\u001b[0;31m---------------------------------------------------------------------------\u001b[0m",
      "\u001b[0;31mIndexError\u001b[0m                                Traceback (most recent call last)",
      "Cell \u001b[0;32mIn[3], line 2\u001b[0m\n\u001b[1;32m      1\u001b[0m my_list \u001b[38;5;241m=\u001b[39m [\u001b[38;5;241m1\u001b[39m, \u001b[38;5;241m2\u001b[39m, \u001b[38;5;241m3\u001b[39m]\n\u001b[0;32m----> 2\u001b[0m \u001b[38;5;28mprint\u001b[39m(\u001b[43mmy_list\u001b[49m\u001b[43m[\u001b[49m\u001b[38;5;241;43m3\u001b[39;49m\u001b[43m]\u001b[49m)\n",
      "\u001b[0;31mIndexError\u001b[0m: list index out of range"
     ]
    }
   ],
   "source": [
    "my_list = [1, 2, 3]\n",
    "print(my_list[3])"
   ]
  },
  {
   "cell_type": "code",
   "execution_count": 4,
   "id": "a590d293",
   "metadata": {},
   "outputs": [
    {
     "ename": "ValueError",
     "evalue": "invalid literal for int() with base 10: 'hello'",
     "output_type": "error",
     "traceback": [
      "\u001b[0;31m---------------------------------------------------------------------------\u001b[0m",
      "\u001b[0;31mValueError\u001b[0m                                Traceback (most recent call last)",
      "Cell \u001b[0;32mIn[4], line 1\u001b[0m\n\u001b[0;32m----> 1\u001b[0m \u001b[38;5;28;43mint\u001b[39;49m\u001b[43m(\u001b[49m\u001b[38;5;124;43m\"\u001b[39;49m\u001b[38;5;124;43mhello\u001b[39;49m\u001b[38;5;124;43m\"\u001b[39;49m\u001b[43m)\u001b[49m\n",
      "\u001b[0;31mValueError\u001b[0m: invalid literal for int() with base 10: 'hello'"
     ]
    }
   ],
   "source": [
    "int(\"hello\")"
   ]
  },
  {
   "cell_type": "code",
   "execution_count": 3,
   "id": "fd054e5c",
   "metadata": {},
   "outputs": [],
   "source": [
    "from datetime import datetime"
   ]
  },
  {
   "cell_type": "code",
   "execution_count": 4,
   "id": "bce4371a",
   "metadata": {},
   "outputs": [
    {
     "name": "stdout",
     "output_type": "stream",
     "text": [
      "Enter a date (YYYY-MM-DD)\n"
     ]
    }
   ],
   "source": [
    "user_time = input(\"Enter a date (YYYY-MM-DD)\")"
   ]
  },
  {
   "cell_type": "code",
   "execution_count": 5,
   "id": "5188ffce",
   "metadata": {},
   "outputs": [
    {
     "ename": "ValueError",
     "evalue": "time data '' does not match format '%Y-%m-%d'",
     "output_type": "error",
     "traceback": [
      "\u001b[0;31m---------------------------------------------------------------------------\u001b[0m",
      "\u001b[0;31mValueError\u001b[0m                                Traceback (most recent call last)",
      "Cell \u001b[0;32mIn[5], line 1\u001b[0m\n\u001b[0;32m----> 1\u001b[0m dt \u001b[38;5;241m=\u001b[39m \u001b[43mdatetime\u001b[49m\u001b[38;5;241;43m.\u001b[39;49m\u001b[43mstrptime\u001b[49m\u001b[43m(\u001b[49m\u001b[43muser_time\u001b[49m\u001b[43m,\u001b[49m\u001b[38;5;124;43m\"\u001b[39;49m\u001b[38;5;124;43m%\u001b[39;49m\u001b[38;5;124;43mY-\u001b[39;49m\u001b[38;5;124;43m%\u001b[39;49m\u001b[38;5;124;43mm-\u001b[39;49m\u001b[38;5;132;43;01m%d\u001b[39;49;00m\u001b[38;5;124;43m\"\u001b[39;49m\u001b[43m)\u001b[49m\n\u001b[1;32m      2\u001b[0m dt\n",
      "File \u001b[0;32m~/.pyenv/versions/3.10.2/lib/python3.10/_strptime.py:568\u001b[0m, in \u001b[0;36m_strptime_datetime\u001b[0;34m(cls, data_string, format)\u001b[0m\n\u001b[1;32m    565\u001b[0m \u001b[38;5;28;01mdef\u001b[39;00m \u001b[38;5;21m_strptime_datetime\u001b[39m(\u001b[38;5;28mcls\u001b[39m, data_string, \u001b[38;5;28mformat\u001b[39m\u001b[38;5;241m=\u001b[39m\u001b[38;5;124m\"\u001b[39m\u001b[38;5;132;01m%a\u001b[39;00m\u001b[38;5;124m \u001b[39m\u001b[38;5;124m%\u001b[39m\u001b[38;5;124mb \u001b[39m\u001b[38;5;132;01m%d\u001b[39;00m\u001b[38;5;124m \u001b[39m\u001b[38;5;124m%\u001b[39m\u001b[38;5;124mH:\u001b[39m\u001b[38;5;124m%\u001b[39m\u001b[38;5;124mM:\u001b[39m\u001b[38;5;124m%\u001b[39m\u001b[38;5;124mS \u001b[39m\u001b[38;5;124m%\u001b[39m\u001b[38;5;124mY\u001b[39m\u001b[38;5;124m\"\u001b[39m):\n\u001b[1;32m    566\u001b[0m     \u001b[38;5;124;03m\"\"\"Return a class cls instance based on the input string and the\u001b[39;00m\n\u001b[1;32m    567\u001b[0m \u001b[38;5;124;03m    format string.\"\"\"\u001b[39;00m\n\u001b[0;32m--> 568\u001b[0m     tt, fraction, gmtoff_fraction \u001b[38;5;241m=\u001b[39m \u001b[43m_strptime\u001b[49m\u001b[43m(\u001b[49m\u001b[43mdata_string\u001b[49m\u001b[43m,\u001b[49m\u001b[43m \u001b[49m\u001b[38;5;28;43mformat\u001b[39;49m\u001b[43m)\u001b[49m\n\u001b[1;32m    569\u001b[0m     tzname, gmtoff \u001b[38;5;241m=\u001b[39m tt[\u001b[38;5;241m-\u001b[39m\u001b[38;5;241m2\u001b[39m:]\n\u001b[1;32m    570\u001b[0m     args \u001b[38;5;241m=\u001b[39m tt[:\u001b[38;5;241m6\u001b[39m] \u001b[38;5;241m+\u001b[39m (fraction,)\n",
      "File \u001b[0;32m~/.pyenv/versions/3.10.2/lib/python3.10/_strptime.py:349\u001b[0m, in \u001b[0;36m_strptime\u001b[0;34m(data_string, format)\u001b[0m\n\u001b[1;32m    347\u001b[0m found \u001b[38;5;241m=\u001b[39m format_regex\u001b[38;5;241m.\u001b[39mmatch(data_string)\n\u001b[1;32m    348\u001b[0m \u001b[38;5;28;01mif\u001b[39;00m \u001b[38;5;129;01mnot\u001b[39;00m found:\n\u001b[0;32m--> 349\u001b[0m     \u001b[38;5;28;01mraise\u001b[39;00m \u001b[38;5;167;01mValueError\u001b[39;00m(\u001b[38;5;124m\"\u001b[39m\u001b[38;5;124mtime data \u001b[39m\u001b[38;5;132;01m%r\u001b[39;00m\u001b[38;5;124m does not match format \u001b[39m\u001b[38;5;132;01m%r\u001b[39;00m\u001b[38;5;124m\"\u001b[39m \u001b[38;5;241m%\u001b[39m\n\u001b[1;32m    350\u001b[0m                      (data_string, \u001b[38;5;28mformat\u001b[39m))\n\u001b[1;32m    351\u001b[0m \u001b[38;5;28;01mif\u001b[39;00m \u001b[38;5;28mlen\u001b[39m(data_string) \u001b[38;5;241m!=\u001b[39m found\u001b[38;5;241m.\u001b[39mend():\n\u001b[1;32m    352\u001b[0m     \u001b[38;5;28;01mraise\u001b[39;00m \u001b[38;5;167;01mValueError\u001b[39;00m(\u001b[38;5;124m\"\u001b[39m\u001b[38;5;124munconverted data remains: \u001b[39m\u001b[38;5;132;01m%s\u001b[39;00m\u001b[38;5;124m\"\u001b[39m \u001b[38;5;241m%\u001b[39m\n\u001b[1;32m    353\u001b[0m                       data_string[found\u001b[38;5;241m.\u001b[39mend():])\n",
      "\u001b[0;31mValueError\u001b[0m: time data '' does not match format '%Y-%m-%d'"
     ]
    }
   ],
   "source": [
    "dt = datetime.strptime(user_time,\"%Y-%m-%d\")\n",
    "dt"
   ]
  },
  {
   "cell_type": "code",
   "execution_count": null,
   "id": "c8dc6667",
   "metadata": {},
   "outputs": [],
   "source": [
    "from datetime import datetime\n",
    "def a_specific_date():\n",
    "    return datetime(1998,1,28,13,13)"
   ]
  },
  {
   "cell_type": "code",
   "execution_count": 6,
   "id": "9669d2b7",
   "metadata": {},
   "outputs": [
    {
     "ename": "NameError",
     "evalue": "name 'a_specific_date' is not defined",
     "output_type": "error",
     "traceback": [
      "\u001b[0;31m---------------------------------------------------------------------------\u001b[0m",
      "\u001b[0;31mNameError\u001b[0m                                 Traceback (most recent call last)",
      "Cell \u001b[0;32mIn[6], line 1\u001b[0m\n\u001b[0;32m----> 1\u001b[0m \u001b[38;5;28mtype\u001b[39m(\u001b[43ma_specific_date\u001b[49m())\n",
      "\u001b[0;31mNameError\u001b[0m: name 'a_specific_date' is not defined"
     ]
    }
   ],
   "source": [
    "type(a_specific_date())"
   ]
  },
  {
   "cell_type": "code",
   "execution_count": 7,
   "id": "5e3879cc",
   "metadata": {},
   "outputs": [
    {
     "ename": "NameError",
     "evalue": "name 'a_specific_date' is not defined",
     "output_type": "error",
     "traceback": [
      "\u001b[0;31m---------------------------------------------------------------------------\u001b[0m",
      "\u001b[0;31mNameError\u001b[0m                                 Traceback (most recent call last)",
      "Cell \u001b[0;32mIn[7], line 1\u001b[0m\n\u001b[0;32m----> 1\u001b[0m \u001b[43ma_specific_date\u001b[49m()\n",
      "\u001b[0;31mNameError\u001b[0m: name 'a_specific_date' is not defined"
     ]
    }
   ],
   "source": [
    "a_specific_date()"
   ]
  },
  {
   "cell_type": "code",
   "execution_count": 8,
   "id": "7f7da616",
   "metadata": {},
   "outputs": [],
   "source": [
    "input_ = [\"2022\", \"11\", \"8\"]"
   ]
  },
  {
   "cell_type": "code",
   "execution_count": 9,
   "id": "5e96dd46",
   "metadata": {},
   "outputs": [],
   "source": [
    "from datetime import date\n",
    "def make_a_date(values):\n",
    "    return date(int(values[0]),int(values[1]),int(values[2]))"
   ]
  },
  {
   "cell_type": "code",
   "execution_count": 10,
   "id": "e4dd841e",
   "metadata": {
    "scrolled": true
   },
   "outputs": [
    {
     "data": {
      "text/plain": [
       "datetime.date(2022, 11, 8)"
      ]
     },
     "execution_count": 10,
     "metadata": {},
     "output_type": "execute_result"
    }
   ],
   "source": [
    "make_a_date(input_)"
   ]
  },
  {
   "cell_type": "code",
   "execution_count": 11,
   "id": "d5cd256b",
   "metadata": {},
   "outputs": [],
   "source": [
    "delta_ = date.today() - date(1990,1,2)"
   ]
  },
  {
   "cell_type": "code",
   "execution_count": 12,
   "id": "5a1e8ce4",
   "metadata": {},
   "outputs": [
    {
     "data": {
      "text/plain": [
       "12062"
      ]
     },
     "execution_count": 12,
     "metadata": {},
     "output_type": "execute_result"
    }
   ],
   "source": [
    "delta_.days"
   ]
  },
  {
   "cell_type": "code",
   "execution_count": 13,
   "id": "e6fd8c59",
   "metadata": {},
   "outputs": [],
   "source": [
    "from datetime import datetime, timedelta\n",
    "def the_days_of_our_lives(start, end):\n",
    "    lst = []\n",
    "    dt = start\n",
    "    for i in range((end-start).days):\n",
    "        lst.append(dt)\n",
    "        dt+=timedelta(days=1)\n",
    "    return lst"
   ]
  },
  {
   "cell_type": "code",
   "execution_count": 14,
   "id": "ce3666d5",
   "metadata": {},
   "outputs": [],
   "source": [
    "end = date.today()\n",
    "start = date(2023,1,2)"
   ]
  },
  {
   "cell_type": "code",
   "execution_count": 15,
   "id": "a5dd324a",
   "metadata": {},
   "outputs": [
    {
     "data": {
      "text/plain": [
       "[datetime.date(2023, 1, 2),\n",
       " datetime.date(2023, 1, 3),\n",
       " datetime.date(2023, 1, 4),\n",
       " datetime.date(2023, 1, 5),\n",
       " datetime.date(2023, 1, 6),\n",
       " datetime.date(2023, 1, 7),\n",
       " datetime.date(2023, 1, 8),\n",
       " datetime.date(2023, 1, 9),\n",
       " datetime.date(2023, 1, 10)]"
      ]
     },
     "execution_count": 15,
     "metadata": {},
     "output_type": "execute_result"
    }
   ],
   "source": [
    "the_days_of_our_lives(start, end)"
   ]
  },
  {
   "cell_type": "code",
   "execution_count": 16,
   "id": "36174b88",
   "metadata": {},
   "outputs": [],
   "source": [
    "from datetime import datetime\n",
    "def stamp_my_hand(ts):\n",
    "    return datetime.fromtimestamp(ts)"
   ]
  },
  {
   "cell_type": "code",
   "execution_count": 17,
   "id": "53280d35",
   "metadata": {},
   "outputs": [],
   "source": [
    "from datetime import date,timedelta\n",
    "def hamburger_payment_due():\n",
    "    return date.today().weekday()"
   ]
  },
  {
   "cell_type": "code",
   "execution_count": 18,
   "id": "e9929cf9",
   "metadata": {},
   "outputs": [
    {
     "data": {
      "text/plain": [
       "datetime.date(2023, 1, 17)"
      ]
     },
     "execution_count": 18,
     "metadata": {},
     "output_type": "execute_result"
    }
   ],
   "source": [
    "date.today() - timedelta(days=(date.today().weekday()-8))"
   ]
  },
  {
   "cell_type": "code",
   "execution_count": 19,
   "id": "e58b605a",
   "metadata": {},
   "outputs": [],
   "source": [
    "from datetime import date, timedelta\n",
    "def wednesday_wilderness():\n",
    "    start, end = date(2000,1,1), date(2022,12,31)\n",
    "    lst = []\n",
    "    for i in range((end-start).days + 1):\n",
    "        if start.weekday() == 2 and start.day == 1:\n",
    "            lst.append(start)\n",
    "        start+=timedelta(days=1)\n",
    "    return len(lst)"
   ]
  },
  {
   "cell_type": "code",
   "execution_count": 20,
   "id": "fbe45ea6",
   "metadata": {},
   "outputs": [
    {
     "data": {
      "text/plain": [
       "38"
      ]
     },
     "execution_count": 20,
     "metadata": {},
     "output_type": "execute_result"
    }
   ],
   "source": [
    "wednesday_wilderness()"
   ]
  },
  {
   "cell_type": "code",
   "execution_count": 1,
   "id": "8cedab90",
   "metadata": {},
   "outputs": [],
   "source": [
    "# Put your class declaration here.\n",
    "class Car:\n",
    "    def __init__(self, make, model, year):\n",
    "        self.make = make\n",
    "        self.model = model\n",
    "        self.year = year\n",
    "    def __str__(self):\n",
    "        return str(year)+' '+make+' '+model"
   ]
  },
  {
   "cell_type": "code",
   "execution_count": 32,
   "id": "a1911e01",
   "metadata": {},
   "outputs": [],
   "source": [
    "# Put your class declaration here.\n",
    "class Car:\n",
    "    def __init__(self, make, model, year):\n",
    "        self.make = make\n",
    "        self.model = model\n",
    "        self.year = year\n",
    "    def __str__(self):\n",
    "        return f\"{self.year} {self.make} {self.model}\""
   ]
  },
  {
   "cell_type": "code",
   "execution_count": 33,
   "id": "3bc0be3a",
   "metadata": {},
   "outputs": [],
   "source": [
    "car = Car(\"Old\",\"dsf\",1999)"
   ]
  },
  {
   "cell_type": "code",
   "execution_count": 34,
   "id": "a4fb478e",
   "metadata": {},
   "outputs": [
    {
     "name": "stdout",
     "output_type": "stream",
     "text": [
      "1999 Old dsf\n"
     ]
    }
   ],
   "source": [
    "print(car)"
   ]
  },
  {
   "cell_type": "code",
   "execution_count": 16,
   "id": "c46a032d",
   "metadata": {},
   "outputs": [],
   "source": [
    "dct = {'a':2}"
   ]
  },
  {
   "cell_type": "code",
   "execution_count": 20,
   "id": "558e4a1c",
   "metadata": {},
   "outputs": [
    {
     "data": {
      "text/plain": [
       "0"
      ]
     },
     "execution_count": 20,
     "metadata": {},
     "output_type": "execute_result"
    }
   ],
   "source": [
    "dct.get('b',0)"
   ]
  },
  {
   "cell_type": "code",
   "execution_count": 8,
   "id": "9e327d07",
   "metadata": {},
   "outputs": [],
   "source": [
    "sentence = \"abba has a banana\""
   ]
  },
  {
   "cell_type": "code",
   "execution_count": 25,
   "id": "355fa7df",
   "metadata": {},
   "outputs": [],
   "source": [
    "def horizontal_bar_chart(sentence):\n",
    "    dct = {}\n",
    "    for c in sentence:\n",
    "        if c == ' ':\n",
    "            continue\n",
    "        if not dct.get(c):\n",
    "            dct[c] = c\n",
    "        else:\n",
    "            dct[c] += c\n",
    "    return sorted(dct.values())"
   ]
  },
  {
   "cell_type": "code",
   "execution_count": 26,
   "id": "6bd13693",
   "metadata": {},
   "outputs": [
    {
     "data": {
      "text/plain": [
       "['aaaaaaa', 'bbb', 'h', 'nn', 's']"
      ]
     },
     "execution_count": 26,
     "metadata": {},
     "output_type": "execute_result"
    }
   ],
   "source": [
    "horizontal_bar_chart(sentence)"
   ]
  },
  {
   "cell_type": "code",
   "execution_count": null,
   "id": "3744d845",
   "metadata": {},
   "outputs": [],
   "source": []
  },
  {
   "cell_type": "code",
   "execution_count": null,
   "id": "7bc50305",
   "metadata": {},
   "outputs": [],
   "source": [
    "lst = [1,2,3,4]"
   ]
  },
  {
   "cell_type": "code",
   "execution_count": null,
   "id": "9aef7ac1",
   "metadata": {},
   "outputs": [],
   "source": []
  },
  {
   "cell_type": "code",
   "execution_count": 31,
   "id": "cfc3cec2",
   "metadata": {},
   "outputs": [
    {
     "data": {
      "text/plain": [
       "[2, 4]"
      ]
     },
     "execution_count": 31,
     "metadata": {},
     "output_type": "execute_result"
    }
   ],
   "source": [
    "list(filter(lambda x:x%2==0, lst))"
   ]
  },
  {
   "cell_type": "code",
   "execution_count": null,
   "id": "79521ba5",
   "metadata": {},
   "outputs": [],
   "source": []
  },
  {
   "cell_type": "code",
   "execution_count": 1,
   "id": "3f23c49f",
   "metadata": {},
   "outputs": [
    {
     "name": "stdout",
     "output_type": "stream",
     "text": [
      "[[0, 1], [2, 3], [4, 5]]\n"
     ]
    }
   ],
   "source": [
    "def partition(list, size):\n",
    "    chunks = []\n",
    "    in_progress = []\n",
    "    for item in list:\n",
    "        if len(in_progress) == size:\n",
    "            chunks.append(in_progress)\n",
    "            in_progress = []\n",
    "        in_progress.append(item)\n",
    "    return chunks\n",
    "\n",
    "input = [0, 1, 2, 3, 4, 5, 6]\n",
    "\n",
    "result = partition(input, 2)\n",
    "print(result)"
   ]
  },
  {
   "cell_type": "code",
   "execution_count": 2,
   "id": "89ebc17d",
   "metadata": {},
   "outputs": [
    {
     "name": "stdout",
     "output_type": "stream",
     "text": [
      "1\n"
     ]
    }
   ],
   "source": [
    "def count_matches(items, param2=None):\n",
    "    matches = []\n",
    "    for item in items:\n",
    "        if(item.get(\"color\") == param2):\n",
    "            matches.append(item)\n",
    "    return len(matches)\n",
    "\n",
    "input = [\n",
    "    {\"background\": \"green\",  \"size\": 5,  \"color\": \"blue\"},\n",
    "    {\"background\": \"yellow\", \"size\": 5,  \"color\": \"green\"},\n",
    "    {\"background\": \"blue\",   \"size\": 25, \"color\": \"green\"},\n",
    "    {\"background\": \"yellow\", \"size\": 5,  \"weight\": \"light\"},\n",
    "]\n",
    "\n",
    "result = count_matches(input)\n",
    "print(result)"
   ]
  },
  {
   "cell_type": "code",
   "execution_count": 3,
   "id": "758c31ab",
   "metadata": {},
   "outputs": [
    {
     "name": "stdout",
     "output_type": "stream",
     "text": [
      "100.0\n"
     ]
    }
   ],
   "source": [
    "from datetime import datetime\n",
    "class Invoice:\n",
    "    def __init__(self, customer_name, amount, invoice_date):\n",
    "        self.customer_name = customer_name\n",
    "        self.amount_due = amount\n",
    "        self.invoice_date = invoice_date\n",
    "\n",
    "def amount_due(invoices, days=30):\n",
    "    past_due = 0\n",
    "    for invoice in invoices:\n",
    "        if (datetime.now() - invoice.invoice_date).days > days:\n",
    "            past_due += invoice.amount_due\n",
    "    return past_due\n",
    "\n",
    "invoices = [\n",
    "    Invoice(\"Raul\", 25.00, datetime(2010, 4, 15)),\n",
    "    Invoice(\"Poli\", 50.00, datetime(2029, 11, 5)),\n",
    "    Invoice(\"Don\", 75.00, datetime(2012, 7, 21)),\n",
    "    Invoice(\"Anne\", 100.00, datetime(2035, 6, 17))\n",
    "]\n",
    "\n",
    "result = amount_due(invoices, 90)\n",
    "print(result)"
   ]
  },
  {
   "cell_type": "code",
   "execution_count": 4,
   "id": "e4be9677",
   "metadata": {},
   "outputs": [],
   "source": [
    "def find_shipment_weight(shipment):\n",
    "    return sum(map(lambda x:x['product_weight_pounds'] * x['quantity'], shipment))"
   ]
  },
  {
   "cell_type": "code",
   "execution_count": null,
   "id": "f02524c2",
   "metadata": {},
   "outputs": [],
   "source": [
    "def shift_cipher(message, shift):\n",
    "    return chr(ord(message) + shift)"
   ]
  },
  {
   "cell_type": "code",
   "execution_count": 5,
   "id": "629e8f57",
   "metadata": {},
   "outputs": [],
   "source": [
    "def is_multiple_of(number, base):\n",
    "    if int(number) != number or int(base) != base:\n",
    "        return False\n",
    "    return number % base == 0"
   ]
  },
  {
   "cell_type": "code",
   "execution_count": 6,
   "id": "e6375635",
   "metadata": {},
   "outputs": [],
   "source": [
    "def shift_cipher(message, shift):\n",
    "    if not message:\n",
    "        return \"\"\n",
    "    res = ''\n",
    "    for c in message:\n",
    "        res += chr(ord(c) + shift)\n",
    "    return res"
   ]
  },
  {
   "cell_type": "code",
   "execution_count": 36,
   "id": "4437ad68",
   "metadata": {},
   "outputs": [],
   "source": [
    "def pair_up(items):\n",
    "    max_i = len(items) - 1\n",
    "    res = []\n",
    "    for i, item in enumerate(items):\n",
    "        if i % 2 == 0 and i < max_i:\n",
    "            res.append([item, items[i+1]])\n",
    "    return res"
   ]
  },
  {
   "cell_type": "code",
   "execution_count": 37,
   "id": "1a640a28",
   "metadata": {},
   "outputs": [],
   "source": [
    "lst = [1,2,3,4,5,6,7,8,9]"
   ]
  },
  {
   "cell_type": "code",
   "execution_count": 38,
   "id": "aeb0b7a5",
   "metadata": {},
   "outputs": [
    {
     "data": {
      "text/plain": [
       "[[1, 2], [3, 4], [5, 6], [7, 8]]"
      ]
     },
     "execution_count": 38,
     "metadata": {},
     "output_type": "execute_result"
    }
   ],
   "source": [
    "pair_up(lst)"
   ]
  },
  {
   "cell_type": "code",
   "execution_count": 39,
   "id": "55951e60",
   "metadata": {},
   "outputs": [],
   "source": [
    "def pair_up(items):\n",
    "    res = []\n",
    "    if len(items)%2 != 0:\n",
    "        items.pop(-1)\n",
    "    for i in range(len(items)):\n",
    "        if i%2 == 0:\n",
    "            res.append([items[i]])\n",
    "        else:\n",
    "            res[i//2].append(items[i])\n",
    "    return res"
   ]
  },
  {
   "cell_type": "code",
   "execution_count": 40,
   "id": "e822d941",
   "metadata": {},
   "outputs": [
    {
     "data": {
      "text/plain": [
       "[[1, 2], [3, 4], [5, 6], [7, 8]]"
      ]
     },
     "execution_count": 40,
     "metadata": {},
     "output_type": "execute_result"
    }
   ],
   "source": [
    "pair_up(lst)"
   ]
  },
  {
   "cell_type": "code",
   "execution_count": 1,
   "id": "69138bff",
   "metadata": {},
   "outputs": [],
   "source": [
    "def pair_up(items):\n",
    "    if not items:\n",
    "        return items\n",
    "        \n",
    "    list =[]\n",
    "    \n",
    "    for i in range(0,len(items)-1,2):\n",
    "        list.append([items[i],items[i+1]])\n",
    "    \n",
    "    return list"
   ]
  },
  {
   "cell_type": "code",
   "execution_count": 2,
   "id": "ae6d6414",
   "metadata": {},
   "outputs": [],
   "source": [
    "def pair_up(items):\n",
    "    max_i = len(items) - 1\n",
    "    res = []\n",
    "    for i, item in enumerate(items):\n",
    "        if i % 2 == 0 and i < max_i:\n",
    "            res.append([item, items[i+1]])\n",
    "    return res"
   ]
  },
  {
   "cell_type": "code",
   "execution_count": null,
   "id": "972c5d45",
   "metadata": {},
   "outputs": [],
   "source": [
    "\\"
   ]
  },
  {
   "cell_type": "code",
   "execution_count": 14,
   "id": "7c6981a4",
   "metadata": {},
   "outputs": [],
   "source": [
    "def pair_up(items):\n",
    "    return [[items[i], items[i+1]] for i in range(0, len(items)-1, 2)]"
   ]
  },
  {
   "cell_type": "code",
   "execution_count": 15,
   "id": "fbfcd8c8",
   "metadata": {},
   "outputs": [],
   "source": [
    "input = [1,2,3,4,5,6,7]"
   ]
  },
  {
   "cell_type": "code",
   "execution_count": 16,
   "id": "fcb12933",
   "metadata": {},
   "outputs": [
    {
     "data": {
      "text/plain": [
       "[[1, 2], [3, 4], [5, 6]]"
      ]
     },
     "execution_count": 16,
     "metadata": {},
     "output_type": "execute_result"
    }
   ],
   "source": [
    "pair_up(input)"
   ]
  },
  {
   "cell_type": "code",
   "execution_count": 3,
   "id": "9454d167",
   "metadata": {},
   "outputs": [],
   "source": [
    "def firstElementKTime(a, n, k):\n",
    "    dct = {}\n",
    "    for el in a:\n",
    "        if el not in dct:\n",
    "            dct[el] = 1\n",
    "        else:\n",
    "            dct[el] +=1\n",
    "    for el in a:\n",
    "        if dct.get(el,0) >= k:\n",
    "            return el\n",
    "    return -1"
   ]
  },
  {
   "cell_type": "code",
   "execution_count": 1,
   "id": "0caefe7f",
   "metadata": {},
   "outputs": [
    {
     "ename": "NameError",
     "evalue": "name 'firstElementKTime' is not defined",
     "output_type": "error",
     "traceback": [
      "\u001b[0;31m---------------------------------------------------------------------------\u001b[0m",
      "\u001b[0;31mNameError\u001b[0m                                 Traceback (most recent call last)",
      "Cell \u001b[0;32mIn[1], line 1\u001b[0m\n\u001b[0;32m----> 1\u001b[0m \u001b[43mfirstElementKTime\u001b[49m([\u001b[38;5;241m4\u001b[39m,\u001b[38;5;241m2\u001b[39m,\u001b[38;5;241m2\u001b[39m,\u001b[38;5;241m2\u001b[39m,\u001b[38;5;241m3\u001b[39m,\u001b[38;5;241m4\u001b[39m,\u001b[38;5;241m4\u001b[39m,\u001b[38;5;241m4\u001b[39m,\u001b[38;5;241m3\u001b[39m,\u001b[38;5;241m2\u001b[39m], \u001b[38;5;241m10\u001b[39m, \u001b[38;5;241m3\u001b[39m)\n",
      "\u001b[0;31mNameError\u001b[0m: name 'firstElementKTime' is not defined"
     ]
    }
   ],
   "source": [
    "firstElementKTime([4,2,2,2,3,4,4,4,3,2], 10, 3)"
   ]
  },
  {
   "cell_type": "code",
   "execution_count": 2,
   "id": "5b6d7c6d",
   "metadata": {},
   "outputs": [
    {
     "name": "stdout",
     "output_type": "stream",
     "text": [
      "3\n"
     ]
    }
   ],
   "source": [
    "def count_fries(items, match):\n",
    "    matches = []\n",
    "    for item in items:\n",
    "        if(item.get(\"fries\") == match):\n",
    "            matches.append(item)\n",
    "    return len(matches)\n",
    "\n",
    "orders = [\n",
    "    {\"burger\": \"veggie\", \"fries\": \"sweet potato\", \"drink\": \"cola\" },\n",
    "    {\"burger\": \"classic\", \"fries\": \"curly\", \"drink\": \"juice\"},\n",
    "    {\"burger\": \"chicken\", \"drink\": \"tea\" },\n",
    "    {\"burger\": \"impossible\", \"drink\": \"water\"},\n",
    "    {\"burger\": \"salmon\", \"drink\": \"juice\"}\n",
    "]\n",
    "\n",
    "result = count_fries(orders, None)\n",
    "print(result)"
   ]
  },
  {
   "cell_type": "code",
   "execution_count": 3,
   "id": "3620096a",
   "metadata": {},
   "outputs": [
    {
     "name": "stdout",
     "output_type": "stream",
     "text": [
      "100.0\n"
     ]
    }
   ],
   "source": [
    "from datetime import date\n",
    "class Reservation:\n",
    "    def __init__(self, customer_name, amount, hotel_name, reservation_date):\n",
    "        self.customer_name = customer_name\n",
    "        self.amount_due = amount\n",
    "        self.hotel_name = hotel_name\n",
    "        self.reservation_date = reservation_date\n",
    "\n",
    "def amount_due(reservations, grace_period_days):\n",
    "    past_due_amount = 0\n",
    "    for reservation in reservations:\n",
    "        days_past_due = (date.today() - reservation.reservation_date).days\n",
    "        if days_past_due > grace_period_days\\\n",
    "            and reservation.hotel_name == \"Hard Drive Inn\":\n",
    "            past_due_amount += reservation.amount_due\n",
    "    return past_due_amount\n",
    "\n",
    "reservations = [\n",
    "    Reservation(\"Alice\", 23.00, \"Hard Drive Inn\", date(2025, 6, 17)),\n",
    "    Reservation(\"Bob\", 75.00, \"Motherboard Hotel\", date(2020, 7, 21)),\n",
    "    Reservation(\"Carol\", 13.00, \"Hard Drive Inn\", date(2029, 11, 5)),\n",
    "    Reservation(\"Dan\", 60.00, \"Motherboard Hotel\", date(2021, 4, 5)),\n",
    "    Reservation(\"Eve\", 60.00, \"Eavesdropper Resort\", date(2020, 10, 15)),\n",
    "    Reservation(\"Fred\", 100.00, \"Hard Drive Inn\", date(2019, 5, 22)),\n",
    "]\n",
    "\n",
    "result = amount_due(reservations, 30)\n",
    "print(result)"
   ]
  },
  {
   "cell_type": "code",
   "execution_count": 4,
   "id": "9b051c2a",
   "metadata": {},
   "outputs": [
    {
     "name": "stdout",
     "output_type": "stream",
     "text": [
      "[0, 7, 10, 10, 14]\n"
     ]
    }
   ],
   "source": [
    "def foo(list, num):\n",
    "    lows = []\n",
    "    sum = 0\n",
    "    for item in list:\n",
    "        if item < num:\n",
    "            sum += item\n",
    "        lows.append(sum)\n",
    "    return lows\n",
    "\n",
    "input = [10, 7, 3, 11, 4]\n",
    "\n",
    "result = foo(input, 10)\n",
    "print(result)"
   ]
  },
  {
   "cell_type": "code",
   "execution_count": 8,
   "id": "56808a31",
   "metadata": {},
   "outputs": [],
   "source": [
    "def divides_unevenly(numerator, denominator):\n",
    "    if not denominator:\n",
    "        return False\n",
    "    if not numerator:\n",
    "        return None\n",
    "    if numerator % denominator == 0:\n",
    "        return False\n",
    "    return True"
   ]
  },
  {
   "cell_type": "code",
   "execution_count": 7,
   "id": "60a2347c",
   "metadata": {},
   "outputs": [
    {
     "data": {
      "text/plain": [
       "True"
      ]
     },
     "execution_count": 7,
     "metadata": {},
     "output_type": "execute_result"
    }
   ],
   "source": [
    "divides_unevenly(6, 4)"
   ]
  },
  {
   "cell_type": "code",
   "execution_count": 11,
   "id": "65f8a390",
   "metadata": {},
   "outputs": [],
   "source": [
    "def join_numbers(digits):\n",
    "    return \"\".join(digits)"
   ]
  },
  {
   "cell_type": "code",
   "execution_count": 12,
   "id": "427c63f0",
   "metadata": {},
   "outputs": [
    {
     "ename": "TypeError",
     "evalue": "sequence item 0: expected str instance, int found",
     "output_type": "error",
     "traceback": [
      "\u001b[0;31m---------------------------------------------------------------------------\u001b[0m",
      "\u001b[0;31mTypeError\u001b[0m                                 Traceback (most recent call last)",
      "Cell \u001b[0;32mIn[12], line 1\u001b[0m\n\u001b[0;32m----> 1\u001b[0m \u001b[43mjoin_numbers\u001b[49m\u001b[43m(\u001b[49m\u001b[43m[\u001b[49m\u001b[38;5;241;43m3\u001b[39;49m\u001b[43m,\u001b[49m\u001b[43m \u001b[49m\u001b[38;5;241;43m2\u001b[39;49m\u001b[43m,\u001b[49m\u001b[43m \u001b[49m\u001b[38;5;241;43m1\u001b[39;49m\u001b[43m]\u001b[49m\u001b[43m)\u001b[49m\n",
      "Cell \u001b[0;32mIn[11], line 2\u001b[0m, in \u001b[0;36mjoin_numbers\u001b[0;34m(digits)\u001b[0m\n\u001b[1;32m      1\u001b[0m \u001b[38;5;28;01mdef\u001b[39;00m \u001b[38;5;21mjoin_numbers\u001b[39m(digits):\n\u001b[0;32m----> 2\u001b[0m     \u001b[38;5;28;01mreturn\u001b[39;00m \u001b[38;5;124;43m\"\u001b[39;49m\u001b[38;5;124;43m\"\u001b[39;49m\u001b[38;5;241;43m.\u001b[39;49m\u001b[43mjoin\u001b[49m\u001b[43m(\u001b[49m\u001b[43mdigits\u001b[49m\u001b[43m)\u001b[49m\n",
      "\u001b[0;31mTypeError\u001b[0m: sequence item 0: expected str instance, int found"
     ]
    }
   ],
   "source": [
    "join_numbers([3, 2, 1])"
   ]
  },
  {
   "cell_type": "code",
   "execution_count": 3,
   "id": "4befa9b7",
   "metadata": {},
   "outputs": [
    {
     "data": {
      "text/plain": [
       "274"
      ]
     },
     "execution_count": 3,
     "metadata": {},
     "output_type": "execute_result"
    }
   ],
   "source": [
    "634 % 360"
   ]
  },
  {
   "cell_type": "code",
   "execution_count": 4,
   "id": "ebe1de57",
   "metadata": {},
   "outputs": [
    {
     "data": {
      "text/plain": [
       "268"
      ]
     },
     "execution_count": 4,
     "metadata": {},
     "output_type": "execute_result"
    }
   ],
   "source": [
    "-92 % 360"
   ]
  },
  {
   "cell_type": "code",
   "execution_count": 5,
   "id": "c8aced0e",
   "metadata": {},
   "outputs": [
    {
     "data": {
      "text/plain": [
       "135"
      ]
     },
     "execution_count": 5,
     "metadata": {},
     "output_type": "execute_result"
    }
   ],
   "source": [
    "-2025 % 360"
   ]
  },
  {
   "cell_type": "code",
   "execution_count": 6,
   "id": "6bbdd8d2",
   "metadata": {},
   "outputs": [
    {
     "data": {
      "text/plain": [
       "256"
      ]
     },
     "execution_count": 6,
     "metadata": {},
     "output_type": "execute_result"
    }
   ],
   "source": [
    "4576 % 360"
   ]
  },
  {
   "cell_type": "code",
   "execution_count": 9,
   "id": "e7096696",
   "metadata": {},
   "outputs": [
    {
     "data": {
      "text/plain": [
       "402"
      ]
     },
     "execution_count": 9,
     "metadata": {},
     "output_type": "execute_result"
    }
   ],
   "source": [
    "67 * 6"
   ]
  },
  {
   "cell_type": "code",
   "execution_count": 1,
   "id": "b30a3fa3",
   "metadata": {},
   "outputs": [],
   "source": [
    "f = open(\"yes.txt\",\"w\")"
   ]
  },
  {
   "cell_type": "code",
   "execution_count": 2,
   "id": "5bed85a2",
   "metadata": {},
   "outputs": [
    {
     "data": {
      "text/plain": [
       "9"
      ]
     },
     "execution_count": 2,
     "metadata": {},
     "output_type": "execute_result"
    }
   ],
   "source": [
    "f.write(\"testestes\")"
   ]
  },
  {
   "cell_type": "code",
   "execution_count": 3,
   "id": "bb499f17",
   "metadata": {},
   "outputs": [],
   "source": [
    "f.close()"
   ]
  },
  {
   "cell_type": "code",
   "execution_count": 8,
   "id": "5a0dc802",
   "metadata": {},
   "outputs": [
    {
     "name": "stdout",
     "output_type": "stream",
     "text": [
      "[\r\n",
      " {'docket': 'S09-258',\r\n",
      "      'id': '30546',\r\n",
      "'description': 'Streaming to Mobile Clients Using Distributed Video Transcoding in Peer-to-Peer network',\r\n",
      "    'date': '6/28/2019'},\r\n",
      " {'docket': 'S19-020',\r\n",
      "      'id': '30260',\r\n",
      "'description': 'Neural network for accurate prediction of HLA class II antigen presentation',\r\n",
      "    'date': '6/06/2019'}\r\n",
      "]"
     ]
    }
   ],
   "source": [
    "!cat yes.txt"
   ]
  },
  {
   "cell_type": "code",
   "execution_count": 9,
   "id": "42351c9e",
   "metadata": {},
   "outputs": [
    {
     "name": "stdout",
     "output_type": "stream",
     "text": [
      "[\n",
      " {'docket': 'S09-258',\n",
      "      'id': '30546',\n",
      "'description': 'Streaming to Mobile Clients Using Distributed Video Transcoding in Peer-to-Peer network',\n",
      "    'date': '6/28/2019'},\n",
      " {'docket': 'S19-020',\n",
      "      'id': '30260',\n",
      "'description': 'Neural network for accurate prediction of HLA class II antigen presentation',\n",
      "    'date': '6/06/2019'}\n",
      "]\n"
     ]
    }
   ],
   "source": [
    "with open(\"yes.txt\",\"r\") as f:\n",
    "    a = f.read()\n",
    "print(a)"
   ]
  },
  {
   "cell_type": "code",
   "execution_count": 10,
   "id": "b4d1027c",
   "metadata": {},
   "outputs": [],
   "source": [
    "!touch small_tech.txt"
   ]
  },
  {
   "cell_type": "code",
   "execution_count": 65,
   "id": "7d698b27",
   "metadata": {},
   "outputs": [],
   "source": [
    "lst = []\n",
    "with open(\"small_tech.txt\",\"r\") as f:\n",
    "    in_readlines = f.readlines()\n",
    "    for i in f:\n",
    "        lst.append(i)"
   ]
  },
  {
   "cell_type": "code",
   "execution_count": 66,
   "id": "8ec82ec8",
   "metadata": {},
   "outputs": [
    {
     "data": {
      "text/plain": [
       "[]"
      ]
     },
     "execution_count": 66,
     "metadata": {},
     "output_type": "execute_result"
    }
   ],
   "source": [
    "lst"
   ]
  },
  {
   "cell_type": "code",
   "execution_count": 67,
   "id": "625b8594",
   "metadata": {},
   "outputs": [
    {
     "data": {
      "text/plain": [
       "['List of licensed technologies from Stanford University\\n',\n",
       " 'Docket S09-258 . ID 30546 : Streaming to Mobile Clients Using Distributed Video Transcoding in Peer-to-Peer network .  6/28/2019\\n',\n",
       " 'Docket S19-020 . ID 30260 : Neural network for accurate prediction of HLA class II antigen presentation .  6/06/2019\\n',\n",
       " 'Docket S17-376 . ID 30257 : Stanford Drone Dataset: Multi-scale, Multi-target social navigation .  5/14/2019\\n',\n",
       " 'Docket S18-301 . ID 30246 : Intranasal vasopressin to treat social impairments associated with autism .  5/13/19\\n',\n",
       " 'Docket S18-352 . ID 30476 : Magnetic Particle Imaging Method for In Vivo Drug Release Monitoring .  3/28/19\\n',\n",
       " 'Docket S18-049 . ID 30243 : Novel CD47 ECD design for surface attachment .  3/21/19\\n',\n",
       " 'Docket S18-282 . ID 30124 : Browser Integration for Rendering Text Edits .  5/14/19\\n',\n",
       " 'Docket S18-319 . ID 30983 : Nanoelectronic assay to diagnose ME/CFS .  6/03/19\\n',\n",
       " 'Docket S18-179 . ID 30441 : Lysosome targeting chimeras .  6/03/19\\n',\n",
       " 'Docket S17-247 . ID 30212 : Small Molecule Stimulators of Beta-Cell Regeneration .  6/11/19\\n',\n",
       " 'Docket S08-343 . ID 30243 : Compressed Histogram of Gradients: A low bit rate descriptor . 6/28/2019\\n',\n",
       " 'this is a new line']"
      ]
     },
     "execution_count": 67,
     "metadata": {},
     "output_type": "execute_result"
    }
   ],
   "source": [
    "in_readlines"
   ]
  },
  {
   "cell_type": "code",
   "execution_count": 69,
   "id": "8c03fd0e",
   "metadata": {},
   "outputs": [
    {
     "data": {
      "text/plain": [
       "['Docket S09-258 . ID 30546 : Streaming to Mobile Clients Using Distributed Video Transcoding in Peer-to-Peer network .  6/28/2019\\n',\n",
       " 'Docket S19-020 . ID 30260 : Neural network for accurate prediction of HLA class II antigen presentation .  6/06/2019\\n',\n",
       " 'Docket S17-376 . ID 30257 : Stanford Drone Dataset: Multi-scale, Multi-target social navigation .  5/14/2019\\n',\n",
       " 'Docket S18-301 . ID 30246 : Intranasal vasopressin to treat social impairments associated with autism .  5/13/19\\n',\n",
       " 'Docket S18-352 . ID 30476 : Magnetic Particle Imaging Method for In Vivo Drug Release Monitoring .  3/28/19\\n',\n",
       " 'Docket S18-049 . ID 30243 : Novel CD47 ECD design for surface attachment .  3/21/19\\n',\n",
       " 'Docket S18-282 . ID 30124 : Browser Integration for Rendering Text Edits .  5/14/19\\n',\n",
       " 'Docket S18-319 . ID 30983 : Nanoelectronic assay to diagnose ME/CFS .  6/03/19\\n',\n",
       " 'Docket S18-179 . ID 30441 : Lysosome targeting chimeras .  6/03/19\\n',\n",
       " 'Docket S17-247 . ID 30212 : Small Molecule Stimulators of Beta-Cell Regeneration .  6/11/19\\n',\n",
       " 'Docket S08-343 . ID 30243 : Compressed Histogram of Gradients: A low bit rate descriptor . 6/28/2019\\n',\n",
       " 'this is a new line']"
      ]
     },
     "execution_count": 69,
     "metadata": {},
     "output_type": "execute_result"
    }
   ],
   "source": [
    "lst = []\n",
    "with open(\"small_tech.txt\",\"r\") as f:\n",
    "    f.readline()\n",
    "    for i in f:\n",
    "        lst.append(i)\n",
    "lst"
   ]
  },
  {
   "cell_type": "code",
   "execution_count": 13,
   "id": "a82e5744",
   "metadata": {},
   "outputs": [],
   "source": [
    "from datetime import date, timedelta"
   ]
  },
  {
   "cell_type": "code",
   "execution_count": 14,
   "id": "f7cb7841",
   "metadata": {},
   "outputs": [],
   "source": [
    "start, end = date(2000,1,1), date(2022,12,31)"
   ]
  },
  {
   "cell_type": "code",
   "execution_count": 19,
   "id": "d3d9ae6a",
   "metadata": {},
   "outputs": [
    {
     "data": {
      "text/plain": [
       "1"
      ]
     },
     "execution_count": 19,
     "metadata": {},
     "output_type": "execute_result"
    }
   ],
   "source": [
    "start.day"
   ]
  },
  {
   "cell_type": "code",
   "execution_count": 76,
   "id": "bfce9754",
   "metadata": {},
   "outputs": [],
   "source": [
    "from datetime import date, timedelta\n",
    "def wednesday_wilderness():\n",
    "    start, end = date(2000,1,1), date(2022,12,31)\n",
    "    cnt = 0\n",
    "    for i in range((end-start).days + 1):\n",
    "        if start.day == 1 and start.weekday() == 2:\n",
    "            cnt += 1\n",
    "        start += timedelta(days=1)\n",
    "    return cnt"
   ]
  },
  {
   "cell_type": "code",
   "execution_count": 77,
   "id": "fca269f8",
   "metadata": {},
   "outputs": [
    {
     "data": {
      "text/plain": [
       "38"
      ]
     },
     "execution_count": 77,
     "metadata": {},
     "output_type": "execute_result"
    }
   ],
   "source": [
    "wednesday_wilderness()"
   ]
  },
  {
   "cell_type": "code",
   "execution_count": 73,
   "id": "791614f5",
   "metadata": {},
   "outputs": [
    {
     "name": "stdout",
     "output_type": "stream",
     "text": [
      "{8, 2, 4, 6}\n"
     ]
    }
   ],
   "source": [
    "#note set won't raise error if put in duplicates but will autodedup\n",
    "numbers = {2, 4, 6, 6, 2, 8}\n",
    "print(numbers)   # {8, 2, 4, 6}"
   ]
  },
  {
   "cell_type": "code",
   "execution_count": 75,
   "id": "eede6469",
   "metadata": {},
   "outputs": [
    {
     "ename": "TypeError",
     "evalue": "unsupported operand type(s) for -: 'list' and 'list'",
     "output_type": "error",
     "traceback": [
      "\u001b[0;31m---------------------------------------------------------------------------\u001b[0m",
      "\u001b[0;31mTypeError\u001b[0m                                 Traceback (most recent call last)",
      "Cell \u001b[0;32mIn[75], line 3\u001b[0m\n\u001b[1;32m      1\u001b[0m lst1 \u001b[38;5;241m=\u001b[39m [\u001b[38;5;241m1\u001b[39m,\u001b[38;5;241m2\u001b[39m,\u001b[38;5;241m3\u001b[39m]\n\u001b[1;32m      2\u001b[0m lst2 \u001b[38;5;241m=\u001b[39m [\u001b[38;5;241m1\u001b[39m,\u001b[38;5;241m2\u001b[39m,\u001b[38;5;241m3\u001b[39m,\u001b[38;5;241m4\u001b[39m]\n\u001b[0;32m----> 3\u001b[0m \u001b[43mlst2\u001b[49m\u001b[43m \u001b[49m\u001b[38;5;241;43m-\u001b[39;49m\u001b[43m \u001b[49m\u001b[43mlst1\u001b[49m\n",
      "\u001b[0;31mTypeError\u001b[0m: unsupported operand type(s) for -: 'list' and 'list'"
     ]
    }
   ],
   "source": [
    "lst1 = [1,2,3]\n",
    "lst2 = [1,2,3,4]\n",
    "lst2 - lst1"
   ]
  },
  {
   "cell_type": "code",
   "execution_count": 96,
   "id": "9523e392",
   "metadata": {},
   "outputs": [],
   "source": [
    "def firstNonRepeatingCharacter(string):\n",
    "    stack = []\n",
    "    dup = []\n",
    "    for c in string:\n",
    "        if c not in stack and c not in dup:\n",
    "            stack.append(c)\n",
    "        elif c not in dup:\n",
    "            stack.remove(c)\n",
    "            dup.append(c)\n",
    "    if not stack:\n",
    "        return -1\n",
    "    return string.index(stack[0])"
   ]
  },
  {
   "cell_type": "code",
   "execution_count": 97,
   "id": "1f8402fe",
   "metadata": {},
   "outputs": [],
   "source": [
    "string = \"abcdcaf\""
   ]
  },
  {
   "cell_type": "code",
   "execution_count": 98,
   "id": "23757ed7",
   "metadata": {},
   "outputs": [
    {
     "data": {
      "text/plain": [
       "1"
      ]
     },
     "execution_count": 98,
     "metadata": {},
     "output_type": "execute_result"
    }
   ],
   "source": [
    "firstNonRepeatingCharacter(string)"
   ]
  },
  {
   "cell_type": "code",
   "execution_count": 1,
   "id": "b36146aa",
   "metadata": {},
   "outputs": [],
   "source": [
    "dct = {1:3,2:3}"
   ]
  },
  {
   "cell_type": "code",
   "execution_count": 12,
   "id": "0e6b49ad",
   "metadata": {},
   "outputs": [
    {
     "data": {
      "text/plain": [
       "dict_keys([1, 2])"
      ]
     },
     "execution_count": 12,
     "metadata": {},
     "output_type": "execute_result"
    }
   ],
   "source": [
    "dct.keys()"
   ]
  },
  {
   "cell_type": "code",
   "execution_count": 4,
   "id": "67468c17",
   "metadata": {},
   "outputs": [
    {
     "data": {
      "text/plain": [
       "False"
      ]
     },
     "execution_count": 4,
     "metadata": {},
     "output_type": "execute_result"
    }
   ],
   "source": [
    "\"1.5\".isnumeric()"
   ]
  },
  {
   "cell_type": "code",
   "execution_count": 5,
   "id": "6367e2a8",
   "metadata": {},
   "outputs": [
    {
     "data": {
      "text/plain": [
       "True"
      ]
     },
     "execution_count": 5,
     "metadata": {},
     "output_type": "execute_result"
    }
   ],
   "source": [
    "isinstance(True,bool)"
   ]
  },
  {
   "cell_type": "code",
   "execution_count": 7,
   "id": "b8f46f60",
   "metadata": {},
   "outputs": [
    {
     "data": {
      "text/plain": [
       "bool"
      ]
     },
     "execution_count": 7,
     "metadata": {},
     "output_type": "execute_result"
    }
   ],
   "source": [
    "type(True)"
   ]
  },
  {
   "cell_type": "code",
   "execution_count": 6,
   "id": "d400c268",
   "metadata": {},
   "outputs": [
    {
     "data": {
      "text/plain": [
       "range(1, 16)"
      ]
     },
     "execution_count": 6,
     "metadata": {},
     "output_type": "execute_result"
    }
   ],
   "source": [
    "lst = range(1,16)\n",
    "lst"
   ]
  },
  {
   "cell_type": "code",
   "execution_count": 16,
   "id": "5f185a82",
   "metadata": {},
   "outputs": [],
   "source": [
    "dct = {\"a\":1,\"b\":2,\"c\":3}"
   ]
  },
  {
   "cell_type": "code",
   "execution_count": 17,
   "id": "cc904854",
   "metadata": {},
   "outputs": [
    {
     "data": {
      "text/plain": [
       "['a', 'b', 'c']"
      ]
     },
     "execution_count": 17,
     "metadata": {},
     "output_type": "execute_result"
    }
   ],
   "source": [
    "# dictionaries doesn't have to have \".items()\" after\n",
    "[i for i in dct]"
   ]
  },
  {
   "cell_type": "code",
   "execution_count": null,
   "id": "63aea6c3",
   "metadata": {},
   "outputs": [],
   "source": []
  },
  {
   "cell_type": "code",
   "execution_count": null,
   "id": "96cdea06",
   "metadata": {},
   "outputs": [],
   "source": []
  },
  {
   "cell_type": "code",
   "execution_count": null,
   "id": "37a81e61",
   "metadata": {},
   "outputs": [],
   "source": []
  },
  {
   "cell_type": "code",
   "execution_count": null,
   "id": "28057b82",
   "metadata": {},
   "outputs": [],
   "source": []
  },
  {
   "cell_type": "code",
   "execution_count": 25,
   "id": "85f6ba00",
   "metadata": {},
   "outputs": [],
   "source": [
    "def apartmentHunting(blocks, reqs):\n",
    "    min_dist = blocks\n",
    "    for req in reqs:\n",
    "        for i in range(len(blocks)):\n",
    "            j = i\n",
    "            cnt_left = 0\n",
    "            while j >= 0:\n",
    "                if blocks[j][req]:\n",
    "                    print(\"j:\",j,\"break\")\n",
    "                    break\n",
    "                else:\n",
    "                    cnt_left += 1\n",
    "                    print(\"j:\",j,\"cnt_left:\",cnt_left)\n",
    "                j-=1\n",
    "            j = i\n",
    "            cnt_right = 0\n",
    "            while j < len(blocks):\n",
    "                if blocks[j][req]:\n",
    "                    break\n",
    "                else:\n",
    "                    cnt_right += 1\n",
    "                j+=1\n",
    "            min_dist[i][req] = min(cnt_left, cnt_right)\n",
    "    for el in min_dist:\n",
    "        el[\"sum_dist\"] = sum(el.values())\n",
    "    return min_dist"
   ]
  },
  {
   "cell_type": "code",
   "execution_count": 21,
   "id": "4d10d0c0",
   "metadata": {},
   "outputs": [],
   "source": [
    "blocks = [\n",
    "    {\"gym\": False, \"school\": True, \"store\": False},\n",
    "    {\"gym\": True, \"school\": False, \"store\": False},\n",
    "    {\"gym\": True, \"school\": True, \"store\": False},\n",
    "    {\"gym\": False, \"school\": True, \"store\": False},\n",
    "    {\"gym\": False, \"school\": True, \"store\": True},\n",
    "    {\"gym\": False, \"school\": True, \"store\": False},\n",
    "    {\"gym\": True, \"school\": False, \"store\": False},\n",
    "    {\"gym\": True, \"school\": True, \"store\": False},\n",
    "    {\"gym\": False, \"school\": True, \"store\": False},\n",
    "    {\"gym\": False, \"school\": True, \"store\": True},\n",
    "    {\"gym\": True, \"school\": False, \"store\": False},\n",
    "    {\"gym\": True, \"school\": True, \"store\": False},\n",
    "    {\"gym\": False, \"school\": True, \"store\": False},\n",
    "    {\"gym\": False, \"school\": True, \"store\": True},\n",
    "    {\"gym\": True, \"school\": False, \"store\": False},\n",
    "    {\"gym\": True, \"school\": True, \"store\": False},\n",
    "    {\"gym\": False, \"school\": True, \"store\": False},\n",
    "    {\"gym\": False, \"school\": True, \"store\": True},\n",
    "    {\"gym\": True, \"school\": False, \"store\": False},\n",
    "    {\"gym\": True, \"school\": True, \"store\": False},\n",
    "    {\"gym\": False, \"school\": True, \"store\": False},\n",
    "    {\"gym\": False, \"school\": True, \"store\": True},\n",
    "]"
   ]
  },
  {
   "cell_type": "code",
   "execution_count": 22,
   "id": "a4eb3473",
   "metadata": {},
   "outputs": [
    {
     "name": "stdout",
     "output_type": "stream",
     "text": [
      "0 {'gym': False, 'school': True, 'store': False}\n",
      "1 {'gym': True, 'school': False, 'store': False}\n",
      "2 {'gym': True, 'school': True, 'store': False}\n",
      "3 {'gym': False, 'school': True, 'store': False}\n",
      "4 {'gym': False, 'school': True, 'store': True}\n",
      "5 {'gym': False, 'school': True, 'store': False}\n",
      "6 {'gym': True, 'school': False, 'store': False}\n",
      "7 {'gym': True, 'school': True, 'store': False}\n",
      "8 {'gym': False, 'school': True, 'store': False}\n",
      "9 {'gym': False, 'school': True, 'store': True}\n",
      "10 {'gym': True, 'school': False, 'store': False}\n",
      "11 {'gym': True, 'school': True, 'store': False}\n",
      "12 {'gym': False, 'school': True, 'store': False}\n",
      "13 {'gym': False, 'school': True, 'store': True}\n",
      "14 {'gym': True, 'school': False, 'store': False}\n",
      "15 {'gym': True, 'school': True, 'store': False}\n",
      "16 {'gym': False, 'school': True, 'store': False}\n",
      "17 {'gym': False, 'school': True, 'store': True}\n",
      "18 {'gym': True, 'school': False, 'store': False}\n",
      "19 {'gym': True, 'school': True, 'store': False}\n",
      "20 {'gym': False, 'school': True, 'store': False}\n",
      "21 {'gym': False, 'school': True, 'store': True}\n"
     ]
    }
   ],
   "source": [
    "for i, el in enumerate(blocks):\n",
    "    print(i, el)"
   ]
  },
  {
   "cell_type": "code",
   "execution_count": 23,
   "id": "8a3d573a",
   "metadata": {},
   "outputs": [],
   "source": [
    "reqs = [\"gym\",\"school\",\"store\"]"
   ]
  },
  {
   "cell_type": "code",
   "execution_count": 24,
   "id": "228bb3b7",
   "metadata": {},
   "outputs": [
    {
     "name": "stdout",
     "output_type": "stream",
     "text": [
      "j: 0 cnt_left: 1\n",
      "j: 1 break\n",
      "j: 2 break\n",
      "j: 3 cnt_left: 1\n",
      "j: 2 cnt_left: 2\n",
      "j: 1 cnt_left: 3\n",
      "j: 0 break\n",
      "j: 4 cnt_left: 1\n",
      "j: 3 break\n",
      "j: 5 cnt_left: 1\n",
      "j: 4 break\n",
      "j: 6 break\n",
      "j: 7 break\n",
      "j: 8 cnt_left: 1\n",
      "j: 7 cnt_left: 2\n",
      "j: 6 cnt_left: 3\n",
      "j: 5 break\n",
      "j: 9 cnt_left: 1\n",
      "j: 8 break\n",
      "j: 10 break\n",
      "j: 11 break\n",
      "j: 12 cnt_left: 1\n",
      "j: 11 cnt_left: 2\n",
      "j: 10 cnt_left: 3\n",
      "j: 9 break\n",
      "j: 13 cnt_left: 1\n",
      "j: 12 break\n",
      "j: 14 break\n",
      "j: 15 break\n",
      "j: 16 cnt_left: 1\n",
      "j: 15 cnt_left: 2\n",
      "j: 14 cnt_left: 3\n",
      "j: 13 break\n",
      "j: 17 cnt_left: 1\n",
      "j: 16 break\n",
      "j: 18 break\n",
      "j: 19 break\n",
      "j: 20 cnt_left: 1\n",
      "j: 19 cnt_left: 2\n",
      "j: 18 cnt_left: 3\n",
      "j: 17 break\n",
      "j: 21 cnt_left: 1\n",
      "j: 20 break\n",
      "j: 0 break\n",
      "j: 1 cnt_left: 1\n",
      "j: 0 cnt_left: 2\n",
      "j: 2 break\n",
      "j: 3 break\n",
      "j: 4 break\n",
      "j: 5 break\n",
      "j: 6 cnt_left: 1\n",
      "j: 5 cnt_left: 2\n",
      "j: 4 cnt_left: 3\n",
      "j: 3 cnt_left: 4\n",
      "j: 2 cnt_left: 5\n",
      "j: 1 break\n",
      "j: 7 break\n",
      "j: 8 break\n",
      "j: 9 break\n",
      "j: 10 cnt_left: 1\n",
      "j: 9 cnt_left: 2\n",
      "j: 8 cnt_left: 3\n",
      "j: 7 cnt_left: 4\n",
      "j: 6 break\n",
      "j: 11 break\n",
      "j: 12 break\n",
      "j: 13 break\n",
      "j: 14 cnt_left: 1\n",
      "j: 13 cnt_left: 2\n",
      "j: 12 cnt_left: 3\n",
      "j: 11 cnt_left: 4\n",
      "j: 10 break\n",
      "j: 15 break\n",
      "j: 16 break\n",
      "j: 17 break\n",
      "j: 18 cnt_left: 1\n",
      "j: 17 cnt_left: 2\n",
      "j: 16 cnt_left: 3\n",
      "j: 15 cnt_left: 4\n",
      "j: 14 break\n",
      "j: 19 break\n",
      "j: 20 break\n",
      "j: 21 break\n",
      "j: 0 cnt_left: 1\n",
      "j: 1 cnt_left: 1\n",
      "j: 0 break\n",
      "j: 2 cnt_left: 1\n",
      "j: 1 break\n",
      "j: 3 cnt_left: 1\n",
      "j: 2 break\n",
      "j: 4 break\n",
      "j: 5 cnt_left: 1\n",
      "j: 4 cnt_left: 2\n",
      "j: 3 break\n",
      "j: 6 cnt_left: 1\n",
      "j: 5 break\n",
      "j: 7 cnt_left: 1\n",
      "j: 6 break\n",
      "j: 8 cnt_left: 1\n",
      "j: 7 break\n",
      "j: 9 break\n",
      "j: 10 cnt_left: 1\n",
      "j: 9 cnt_left: 2\n",
      "j: 8 break\n",
      "j: 11 cnt_left: 1\n",
      "j: 10 break\n",
      "j: 12 cnt_left: 1\n",
      "j: 11 break\n",
      "j: 13 break\n",
      "j: 14 cnt_left: 1\n",
      "j: 13 cnt_left: 2\n",
      "j: 12 break\n",
      "j: 15 cnt_left: 1\n",
      "j: 14 break\n",
      "j: 16 cnt_left: 1\n",
      "j: 15 break\n",
      "j: 17 break\n",
      "j: 18 cnt_left: 1\n",
      "j: 17 cnt_left: 2\n",
      "j: 16 break\n",
      "j: 19 cnt_left: 1\n",
      "j: 18 break\n",
      "j: 20 cnt_left: 1\n",
      "j: 19 break\n",
      "j: 21 break\n"
     ]
    },
    {
     "data": {
      "text/plain": [
       "[{'gym': 1, 'school': 0, 'store': 1, 'sum_dist': 2},\n",
       " {'gym': 0, 'school': 1, 'store': 1, 'sum_dist': 2},\n",
       " {'gym': 0, 'school': 0, 'store': 1, 'sum_dist': 1},\n",
       " {'gym': 3, 'school': 0, 'store': 1, 'sum_dist': 4},\n",
       " {'gym': 1, 'school': 0, 'store': 0, 'sum_dist': 1},\n",
       " {'gym': 1, 'school': 0, 'store': 2, 'sum_dist': 3},\n",
       " {'gym': 0, 'school': 1, 'store': 1, 'sum_dist': 2},\n",
       " {'gym': 0, 'school': 0, 'store': 1, 'sum_dist': 1},\n",
       " {'gym': 2, 'school': 0, 'store': 1, 'sum_dist': 3},\n",
       " {'gym': 1, 'school': 0, 'store': 0, 'sum_dist': 1},\n",
       " {'gym': 0, 'school': 1, 'store': 2, 'sum_dist': 3},\n",
       " {'gym': 0, 'school': 0, 'store': 1, 'sum_dist': 1},\n",
       " {'gym': 2, 'school': 0, 'store': 1, 'sum_dist': 3},\n",
       " {'gym': 1, 'school': 0, 'store': 0, 'sum_dist': 1},\n",
       " {'gym': 0, 'school': 1, 'store': 2, 'sum_dist': 3},\n",
       " {'gym': 0, 'school': 0, 'store': 1, 'sum_dist': 1},\n",
       " {'gym': 2, 'school': 0, 'store': 1, 'sum_dist': 3},\n",
       " {'gym': 1, 'school': 0, 'store': 0, 'sum_dist': 1},\n",
       " {'gym': 0, 'school': 1, 'store': 2, 'sum_dist': 3},\n",
       " {'gym': 0, 'school': 0, 'store': 1, 'sum_dist': 1},\n",
       " {'gym': 2, 'school': 0, 'store': 1, 'sum_dist': 3},\n",
       " {'gym': 1, 'school': 0, 'store': 0, 'sum_dist': 1}]"
      ]
     },
     "execution_count": 24,
     "metadata": {},
     "output_type": "execute_result"
    }
   ],
   "source": [
    "apartmentHunting(blocks, reqs)"
   ]
  },
  {
   "cell_type": "code",
   "execution_count": 1,
   "id": "3548e095",
   "metadata": {},
   "outputs": [],
   "source": [
    "l = [1,2,3,4,5]"
   ]
  },
  {
   "cell_type": "code",
   "execution_count": 2,
   "id": "4b61e572",
   "metadata": {},
   "outputs": [
    {
     "data": {
      "text/plain": [
       "[4, 5]"
      ]
     },
     "execution_count": 2,
     "metadata": {},
     "output_type": "execute_result"
    }
   ],
   "source": [
    "l[3:]"
   ]
  },
  {
   "cell_type": "code",
   "execution_count": null,
   "id": "3c9b9d85",
   "metadata": {},
   "outputs": [],
   "source": [
    "\n"
   ]
  },
  {
   "cell_type": "code",
   "execution_count": null,
   "id": "8b6f9088",
   "metadata": {},
   "outputs": [],
   "source": []
  },
  {
   "cell_type": "code",
   "execution_count": null,
   "id": "681538fb",
   "metadata": {},
   "outputs": [],
   "source": []
  },
  {
   "cell_type": "code",
   "execution_count": null,
   "id": "f435dee5",
   "metadata": {},
   "outputs": [],
   "source": []
  },
  {
   "cell_type": "code",
   "execution_count": null,
   "id": "7321de71",
   "metadata": {},
   "outputs": [],
   "source": []
  },
  {
   "cell_type": "code",
   "execution_count": null,
   "id": "59b47681",
   "metadata": {},
   "outputs": [],
   "source": []
  },
  {
   "cell_type": "code",
   "execution_count": 12,
   "id": "8c2abe8c",
   "metadata": {},
   "outputs": [],
   "source": [
    "values = [\n",
    "    -71,\n",
    "    28,\n",
    "    57,\n",
    "    39,\n",
    "    -45,\n",
    "    17,\n",
    "    -46,\n",
    "    57,\n",
    "    57,\n",
    "    57,\n",
    "    4,\n",
    "    86,\n",
    "    -15,\n",
    "    97,\n",
    "    97,\n",
    "    70,\n",
    "    57,\n",
    "    -15,\n",
    "    -46,\n",
    "    74,\n",
    "    29,\n",
    "    74,\n",
    "    57,\n",
    "    60,\n",
    "    39,\n",
    "    -33,\n",
    "    70,\n",
    "    60,\n",
    "    4,\n",
    "    70,\n",
    "    39,\n",
    "    37,\n",
    "    70,\n",
    "    86,\n",
    "    -40,\n",
    "    4,\n",
    "    101,\n",
    "    20,\n",
    "    57,\n",
    "    4,\n",
    "    -30,\n",
    "    70,\n",
    "    2,\n",
    "    4,\n",
    "    85,\n",
    "    29,\n",
    "    86,\n",
    "    -15,\n",
    "    -66,\n",
    "    4,\n",
    "    101,\n",
    "    86,\n",
    "    -40,\n",
    "    4,\n",
    "    97,\n",
    "    -79,\n",
    "    -45,\n",
    "    4,\n",
    "    75,\n",
    "    -66,\n",
    "    -40,\n",
    "    5,\n",
    "    4,\n",
    "    85,\n",
    "    51,\n",
    "    2,\n",
    "    97,\n",
    "    7,\n",
    "    -46,\n",
    "    97,\n",
    "    70,\n",
    "    -46,\n",
    "    -45,\n",
    "    20,\n",
    "    7,\n",
    "    -33,\n",
    "    -46,\n",
    "    -84,\n",
    "    70,\n",
    "    -40,\n",
    "    75,\n",
    "    74,\n",
    "    28,\n",
    "    75,\n",
    "    39,\n",
    "    10,\n",
    "    86,\n",
    "    37,\n",
    "    29,\n",
    "    39,\n",
    "    7,\n",
    "    4,\n",
    "    75,\n",
    "    10,\n",
    "    5,\n",
    "    13,\n",
    "    0,\n",
    "    17,\n",
    "    93,\n",
    "    39,\n",
    "    85,\n",
    "    -71,\n",
    "    57,\n",
    "    4,\n",
    "    29,\n",
    "    85,\n",
    "    2,\n",
    "    -33,\n",
    "    -46,\n",
    "    75,\n",
    "    -15,\n",
    "    -15,\n",
    "    75,\n",
    "    93,\n",
    "    -84,\n",
    "    28,\n",
    "    4,\n",
    "    -46,\n",
    "    -15,\n",
    "    0,\n",
    "    -68,\n",
    "    70,\n",
    "    29,\n",
    "    29,\n",
    "    75,\n",
    "    4,\n",
    "    2,\n",
    "    4,\n",
    "    74,\n",
    "    -79,\n",
    "    57,\n",
    "    -45,\n",
    "    75,\n",
    "    57,\n",
    "    -15,\n",
    "    85,\n",
    "    -46,\n",
    "    75,\n",
    "    85,\n",
    "    -84,\n",
    "    74,\n",
    "    86,\n",
    "    -46,\n",
    "    -84,\n",
    "    4,\n",
    "    86,\n",
    "    92,\n",
    "    -40,\n",
    "    2,\n",
    "    -30,\n",
    "    28,\n",
    "    57,\n",
    "    39,\n",
    "    57,\n",
    "    86,\n",
    "    75,\n",
    "    70,\n",
    "    29,\n",
    "    39,\n",
    "    70,\n",
    "    74,\n",
    "    -79,\n",
    "    70,\n",
    "    2,\n",
    "    75,\n",
    "    39,\n",
    "    29,\n",
    "    29,\n",
    "    70,\n",
    "    60,\n",
    "    29,\n",
    "    17,\n",
    "    -40,\n",
    "    97,\n",
    "    97,\n",
    "    97,\n",
    "    29,\n",
    "    57,\n",
    "    73,\n",
    "    60,\n",
    "    -30,\n",
    "    4,\n",
    "    51,\n",
    "    10,\n",
    "    -15,\n",
    "    39,\n",
    "    51,\n",
    "    -68,\n",
    "    70,\n",
    "    39,\n",
    "    39,\n",
    "    -45,\n",
    "    4,\n",
    "    -40,\n",
    "    4,\n",
    "    -71,\n",
    "    2,\n",
    "    39,\n",
    "    86,\n",
    "    -30,\n",
    "    57,\n",
    "    4,\n",
    "    20,\n",
    "    51,\n",
    "    86,\n",
    "    4,\n",
    "    86,\n",
    "    5,\n",
    "    70,\n",
    "    70,\n",
    "    -33,\n",
    "    4,\n",
    "    57,\n",
    "    86,\n",
    "    -46,\n",
    "    10,\n",
    "    4,\n",
    "    7,\n",
    "    -40,\n",
    "    -17,\n",
    "    -46,\n",
    "    20,\n",
    "    39,\n",
    "    -33,\n",
    "    85,\n",
    "    -84,\n",
    "    -40,\n",
    "    39,\n",
    "    75,\n",
    "    2,\n",
    "    -15,\n",
    "    -17,\n",
    "    4,\n",
    "    -45,\n",
    "    93,\n",
    "    57,\n",
    "    57,\n",
    "    7,\n",
    "    51,\n",
    "    5,\n",
    "    -33,\n",
    "    37,\n",
    "    70,\n",
    "    -84,\n",
    "    -40,\n",
    "    85,\n",
    "    70,\n",
    "    74,\n",
    "    4,\n",
    "    10,\n",
    "    -33,\n",
    "    20,\n",
    "    92,\n",
    "    75,\n",
    "    85,\n",
    "    20,\n",
    "    70,\n",
    "    97,\n",
    "    -33,\n",
    "    -71,\n",
    "    85,\n",
    "    -71,\n",
    "    29,\n",
    "    51,\n",
    "    75,\n",
    "    -68,\n",
    "    75,\n",
    "    7,\n",
    "    51,\n",
    "    -15,\n",
    "    29,\n",
    "    74,\n",
    "    75,\n",
    "    -46,\n",
    "    0,\n",
    "    4,\n",
    "    7,\n",
    "    73,\n",
    "    17,\n",
    "    97,\n",
    "    57,\n",
    "    7,\n",
    "    5,\n",
    "    -33,\n",
    "    51,\n",
    "    29,\n",
    "    2,\n",
    "    86,\n",
    "    17,\n",
    "    92,\n",
    "    -84,\n",
    "    -40,\n",
    "    -66,\n",
    "    -40,\n",
    "    -68,\n",
    "    75,\n",
    "    92,\n",
    "    86,\n",
    "    4,\n",
    "    86,\n",
    "    5,\n",
    "    51,\n",
    "    7,\n",
    "    39,\n",
    "    -33,\n",
    "    75,\n",
    "    -84,\n",
    "    51,\n",
    "    86,\n",
    "    70,\n",
    "    -40,\n",
    "    -15,\n",
    "    -17,\n",
    "    -46,\n",
    "    85,\n",
    "    -15,\n",
    "    97,\n",
    "    4,\n",
    "    57,\n",
    "    -46,\n",
    "    -84,\n",
    "    -30,\n",
    "    0,\n",
    "    20,\n",
    "    86,\n",
    "    51,\n",
    "    0,\n",
    "    -33,\n",
    "    -40,\n",
    "    37,\n",
    "    -40,\n",
    "    75,\n",
    "    -46,\n",
    "    92,\n",
    "    -46,\n",
    "    7,\n",
    "    86,\n",
    "    86,\n",
    "    29,\n",
    "    39,\n",
    "    57,\n",
    "    -33,\n",
    "    85,\n",
    "    39,\n",
    "    57,\n",
    "    -71,\n",
    "    4,\n",
    "    -40,\n",
    "    7,\n",
    "    2,\n",
    "    4,\n",
    "    -40,\n",
    "    20,\n",
    "    2,\n",
    "    -46,\n",
    "    101,\n",
    "    4,\n",
    "    28,\n",
    "    39,\n",
    "    -66,\n",
    "    29,\n",
    "    93,\n",
    "    57,\n",
    "    20,\n",
    "    29,\n",
    "    -40,\n",
    "    4,\n",
    "    29,\n",
    "    57,\n",
    "    39,\n",
    "    -71,\n",
    "    97,\n",
    "    74,\n",
    "    7,\n",
    "    -40,\n",
    "    5,\n",
    "    86,\n",
    "    5,\n",
    "    7,\n",
    "    29,\n",
    "    -46,\n",
    "    5,\n",
    "    86,\n",
    "    4,\n",
    "    -71,\n",
    "    -30,\n",
    "    -71,\n",
    "    29,\n",
    "    -45,\n",
    "    -68,\n",
    "    39,\n",
    "    5,\n",
    "    -71,\n",
    "    4,\n",
    "    -30,\n",
    "    75,\n",
    "    70,\n",
    "    101,\n",
    "    2,\n",
    "    86,\n",
    "    85,\n",
    "    86,\n",
    "    4,\n",
    "    57,\n",
    "    29,\n",
    "    -46,\n",
    "    -15,\n",
    "    97,\n",
    "    -46,\n",
    "    2,\n",
    "    74,\n",
    "    -45,\n",
    "    -46,\n",
    "    -66,\n",
    "    -71,\n",
    "    37,\n",
    "    60,\n",
    "    4,\n",
    "    -33,\n",
    "    57,\n",
    "    -15,\n",
    "    -33,\n",
    "    86,\n",
    "    2,\n",
    "    74,\n",
    "    -68,\n",
    "    -40,\n",
    "    29,\n",
    "    93,\n",
    "    60,\n",
    "    20,\n",
    "    92,\n",
    "    75,\n",
    "    20,\n",
    "    -68,\n",
    "    -33,\n",
    "    51,\n",
    "    86,\n",
    "    57,\n",
    "    -68,\n",
    "    74,\n",
    "    -84,\n",
    "    -40,\n",
    "    74,\n",
    "    86,\n",
    "    -33,\n",
    "    -46,\n",
    "    86,\n",
    "    -46,\n",
    "    75,\n",
    "    -15,\n",
    "    -68,\n",
    "    -84,\n",
    "    85,\n",
    "    5,\n",
    "    75,\n",
    "    -15,\n",
    "    -33,\n",
    "    7,\n",
    "    20,\n",
    "    5,\n",
    "    -71,\n",
    "    75,\n",
    "    85,\n",
    "    28,\n",
    "    86,\n",
    "    -84,\n",
    "    75,\n",
    "    29,\n",
    "    -79,\n",
    "    7,\n",
    "    -46,\n",
    "    -33,\n",
    "    2,\n",
    "    -15,\n",
    "    -84,\n",
    "    37,\n",
    "    60,\n",
    "    70,\n",
    "    -46,\n",
    "    51,\n",
    "    -71,\n",
    "    75,\n",
    "    -40,\n",
    "    5,\n",
    "    58,\n",
    "    93,\n",
    "    -33,\n",
    "    -15,\n",
    "    86,\n",
    "    86,\n",
    "    -46,\n",
    "    -45,\n",
    "    39,\n",
    "    86,\n",
    "    4,\n",
    "    -33,\n",
    "    -84,\n",
    "    60,\n",
    "    60,\n",
    "    75,\n",
    "    2,\n",
    "    37,\n",
    "    2,\n",
    "    -46,\n",
    "    97,\n",
    "    -46,\n",
    "    -15,\n",
    "    -15,\n",
    "    17,\n",
    "    -17,\n",
    "    39,\n",
    "    4,\n",
    "    51,\n",
    "    29,\n",
    "    -46,\n",
    "    85,\n",
    "    7,\n",
    "    2,\n",
    "    7,\n",
    "    -45,\n",
    "    10,\n",
    "    4,\n",
    "    70,\n",
    "    7,\n",
    "    29,\n",
    "    -71,\n",
    "    97,\n",
    "    74,\n",
    "    4,\n",
    "    12,\n",
    "    2,\n",
    "    -71,\n",
    "    -33,\n",
    "    70,\n",
    "    -33,\n",
    "    -84,\n",
    "    86,\n",
    "    74,\n",
    "    2,\n",
    "    -33,\n",
    "    29,\n",
    "    17,\n",
    "    60,\n",
    "    2,\n",
    "    -17,\n",
    "    -33,\n",
    "    5,\n",
    "    17,\n",
    "    -46,\n",
    "    2,\n",
    "    -33,\n",
    "    17,\n",
    "    -15,\n",
    "    4,\n",
    "    17,\n",
    "    -33,\n",
    "    70,\n",
    "    57,\n",
    "    -17,\n",
    "    75,\n",
    "    97,\n",
    "    2,\n",
    "    -17,\n",
    "    29,\n",
    "    7,\n",
    "    -15,\n",
    "    -40,\n",
    "    -33,\n",
    "    -15,\n",
    "    -71,\n",
    "    74,\n",
    "    101,\n",
    "    4,\n",
    "    -33,\n",
    "    -84,\n",
    "    2,\n",
    "    -45,\n",
    "    28,\n",
    "    97,\n",
    "    97,\n",
    "    86,\n",
    "    -15,\n",
    "    7,\n",
    "    57,\n",
    "    29,\n",
    "    29,\n",
    "    -15,\n",
    "    -45,\n",
    "    5,\n",
    "    58,\n",
    "    2,\n",
    "    75,\n",
    "    86,\n",
    "    -17,\n",
    "    10,\n",
    "    39,\n",
    "    57,\n",
    "    75,\n",
    "    39,\n",
    "    86,\n",
    "    2,\n",
    "    4,\n",
    "    -15,\n",
    "    4,\n",
    "    97,\n",
    "    101,\n",
    "    10,\n",
    "    -33,\n",
    "    92,\n",
    "    97,\n",
    "    60,\n",
    "    4,\n",
    "    7,\n",
    "    -15,\n",
    "    5,\n",
    "    -66,\n",
    "    51,\n",
    "    -17,\n",
    "    0,\n",
    "    -40,\n",
    "    85,\n",
    "    -15,\n",
    "    92,\n",
    "    29,\n",
    "    -84,\n",
    "    70,\n",
    "    17,\n",
    "    51,\n",
    "    -40,\n",
    "    101,\n",
    "    -68,\n",
    "    2,\n",
    "    85,\n",
    "    -33,\n",
    "    74,\n",
    "    75,\n",
    "    2,\n",
    "    -15,\n",
    "    97,\n",
    "    -84,\n",
    "    -84,\n",
    "    57,\n",
    "    -46,\n",
    "    70,\n",
    "    86,\n",
    "    39,\n",
    "    17,\n",
    "    86,\n",
    "    -40,\n",
    "    39,\n",
    "    2,\n",
    "    86,\n",
    "    57,\n",
    "    75,\n",
    "    86,\n",
    "    2,\n",
    "    -84,\n",
    "    51,\n",
    "    -68,\n",
    "    7,\n",
    "    -33,\n",
    "    39,\n",
    "    20,\n",
    "    20,\n",
    "    29,\n",
    "    -71,\n",
    "    -84,\n",
    "    75,\n",
    "    -71,\n",
    "    4,\n",
    "    -15,\n",
    "    2,\n",
    "    -17,\n",
    "    51,\n",
    "    70,\n",
    "    39,\n",
    "    93,\n",
    "    -15,\n",
    "    97,\n",
    "    39,\n",
    "    74,\n",
    "    4,\n",
    "    93,\n",
    "    57,\n",
    "    4,\n",
    "    39,\n",
    "    70,\n",
    "    28,\n",
    "    97,\n",
    "    2,\n",
    "    -66,\n",
    "    5,\n",
    "    5,\n",
    "    4,\n",
    "    37,\n",
    "    -46,\n",
    "    74,\n",
    "    2,\n",
    "    5,\n",
    "    -15,\n",
    "    -45,\n",
    "    97,\n",
    "    -15,\n",
    "    97,\n",
    "    57,\n",
    "    2,\n",
    "    7,\n",
    "    75,\n",
    "    85,\n",
    "    -33,\n",
    "    -33,\n",
    "    93,\n",
    "    92,\n",
    "    86,\n",
    "    97,\n",
    "    4,\n",
    "    2,\n",
    "    101,\n",
    "    -68,\n",
    "    -17,\n",
    "    -17,\n",
    "    29,\n",
    "    5,\n",
    "    20,\n",
    "    -68,\n",
    "    -71,\n",
    "    4,\n",
    "    2,\n",
    "    93,\n",
    "    -45,\n",
    "    0,\n",
    "    -33,\n",
    "    73,\n",
    "    2,\n",
    "    -30,\n",
    "    70,\n",
    "    75,\n",
    "    51,\n",
    "    85,\n",
    "    0,\n",
    "    4,\n",
    "    51,\n",
    "    57,\n",
    "    4,\n",
    "    97,\n",
    "    57,\n",
    "    -40,\n",
    "    -68,\n",
    "    20,\n",
    "    39,\n",
    "    70,\n",
    "    29,\n",
    "    -33,\n",
    "    4,\n",
    "    2,\n",
    "    57,\n",
    "    -46,\n",
    "    70,\n",
    "    7,\n",
    "    -68,\n",
    "    75,\n",
    "    39,\n",
    "    2,\n",
    "    97,\n",
    "    86,\n",
    "    -46,\n",
    "    86,\n",
    "    29,\n",
    "    -84,\n",
    "    51,\n",
    "    -84,\n",
    "    20,\n",
    "    5,\n",
    "    4,\n",
    "    -15,\n",
    "    -40,\n",
    "    75,\n",
    "    37,\n",
    "    2,\n",
    "    60,\n",
    "    86,\n",
    "    -84,\n",
    "    57,\n",
    "    57,\n",
    "    85,\n",
    "    2,\n",
    "    39,\n",
    "    70,\n",
    "    -79,\n",
    "    39,\n",
    "    39,\n",
    "    85,\n",
    "    92,\n",
    "    57,\n",
    "    101,\n",
    "    -68,\n",
    "    20,\n",
    "    2,\n",
    "    92,\n",
    "    5,\n",
    "    29,\n",
    "    29,\n",
    "    -15,\n",
    "    -46,\n",
    "    -30,\n",
    "    29,\n",
    "    -30,\n",
    "    39,\n",
    "    75,\n",
    "    -15,\n",
    "    97,\n",
    "    7,\n",
    "    57,\n",
    "    -66,\n",
    "    2,\n",
    "    -46,\n",
    "    39,\n",
    "    -84,\n",
    "    70,\n",
    "    39,\n",
    "    5,\n",
    "    -17,\n",
    "    29,\n",
    "    57,\n",
    "    2,\n",
    "    -33,\n",
    "    86,\n",
    "    2,\n",
    "    0,\n",
    "    39,\n",
    "    60,\n",
    "    -15,\n",
    "    -15,\n",
    "    57,\n",
    "    -68,\n",
    "    -15,\n",
    "    -68,\n",
    "    29,\n",
    "    7,\n",
    "    10,\n",
    "    -15,\n",
    "    -15,\n",
    "    -46,\n",
    "    86,\n",
    "    70,\n",
    "    75,\n",
    "    -33,\n",
    "    2,\n",
    "    2,\n",
    "    -46,\n",
    "    74,\n",
    "    39,\n",
    "    5,\n",
    "    17,\n",
    "    29,\n",
    "    -66,\n",
    "    97,\n",
    "    85,\n",
    "    -40,\n",
    "    2,\n",
    "    2,\n",
    "    4,\n",
    "    97,\n",
    "    97,\n",
    "    -46,\n",
    "    92,\n",
    "    -15,\n",
    "    2,\n",
    "    37,\n",
    "    86,\n",
    "    2,\n",
    "    58,\n",
    "    58,\n",
    "    -33,\n",
    "    97,\n",
    "    2,\n",
    "    10,\n",
    "    39,\n",
    "    74,\n",
    "    20,\n",
    "    4,\n",
    "    74,\n",
    "    58,\n",
    "    -40,\n",
    "    -71,\n",
    "    -40,\n",
    "    -33,\n",
    "    97,\n",
    "    39,\n",
    "    29,\n",
    "    -45,\n",
    "    85,\n",
    "    2,\n",
    "    74,\n",
    "    51,\n",
    "    29,\n",
    "    -45,\n",
    "    57,\n",
    "    -33,\n",
    "    57,\n",
    "    -68,\n",
    "    51,\n",
    "    29,\n",
    "    -84,\n",
    "    20,\n",
    "    57,\n",
    "    -68,\n",
    "    20,\n",
    "    86,\n",
    "    58,\n",
    "    -84,\n",
    "    85,\n",
    "    29,\n",
    "    -46,\n",
    "    39,\n",
    "    2,\n",
    "    5,\n",
    "    -15,\n",
    "    92,\n",
    "    70,\n",
    "    97,\n",
    "    10,\n",
    "    58,\n",
    "    2,\n",
    "    2,\n",
    "    4,\n",
    "    70,\n",
    "    93,\n",
    "    20,\n",
    "    -45,\n",
    "    -17,\n",
    "    -84,\n",
    "    75,\n",
    "    60,\n",
    "    37,\n",
    "    7,\n",
    "    -17,\n",
    "    86,\n",
    "    57,\n",
    "    4,\n",
    "    7,\n",
    "    74,\n",
    "    4,\n",
    "    -71,\n",
    "    4,\n",
    "    57,\n",
    "    20,\n",
    "    85,\n",
    "    74,\n",
    "    29,\n",
    "    -46,\n",
    "    -30,\n",
    "    -46,\n",
    "    74,\n",
    "    -40,\n",
    "    -33,\n",
    "    -17,\n",
    "    57,\n",
    "    -33,\n",
    "    -46,\n",
    "    4,\n",
    "    57,\n",
    "    10,\n",
    "    2,\n",
    "    20,\n",
    "    70,\n",
    "    39,\n",
    "    -46,\n",
    "    -33,\n",
    "    -46,\n",
    "    4,\n",
    "    -40,\n",
    "    93,\n",
    "    -40,\n",
    "    29,\n",
    "    39,\n",
    "    -79,\n",
    "    -17,\n",
    "    -33,\n",
    "    29,\n",
    "    57,\n",
    "    4,\n",
    "    51,\n",
    "    -33,\n",
    "    -68,\n",
    "    70,\n",
    "    97,\n",
    "    4,\n",
    "    37,\n",
    "    7,\n",
    "    5,\n",
    "    -71,\n",
    "    2,\n",
    "    -13,\n",
    "    86,\n",
    "    85,\n",
    "    39,\n",
    "    -33,\n",
    "    -71,\n",
    "    29\n",
    "]"
   ]
  },
  {
   "cell_type": "code",
   "execution_count": 17,
   "id": "976ba377",
   "metadata": {},
   "outputs": [
    {
     "data": {
      "text/plain": [
       "500"
      ]
     },
     "execution_count": 17,
     "metadata": {},
     "output_type": "execute_result"
    }
   ],
   "source": [
    "idx = len(values) // 2\n",
    "idx"
   ]
  },
  {
   "cell_type": "code",
   "execution_count": 18,
   "id": "28172e34",
   "metadata": {},
   "outputs": [],
   "source": [
    "values.sort()"
   ]
  },
  {
   "cell_type": "code",
   "execution_count": 19,
   "id": "8a4e0b6c",
   "metadata": {},
   "outputs": [
    {
     "data": {
      "text/plain": [
       "13"
      ]
     },
     "execution_count": 19,
     "metadata": {},
     "output_type": "execute_result"
    }
   ],
   "source": [
    "values[idx]"
   ]
  },
  {
   "cell_type": "code",
   "execution_count": 20,
   "id": "125526b1",
   "metadata": {},
   "outputs": [],
   "source": [
    "def find_mode(values):\n",
    "    dct = {}\n",
    "    for el in values:\n",
    "        if el not in dct:\n",
    "            dct[el] = 1\n",
    "        else:\n",
    "            dct[el] += 1\n",
    "    mx = 0\n",
    "    mx_key = None\n",
    "    for k,v in dct.items():\n",
    "        if v > mx:\n",
    "            mx = v\n",
    "            mx_key = k\n",
    "    return (mx,mx_key)"
   ]
  },
  {
   "cell_type": "code",
   "execution_count": 21,
   "id": "c9da0eae",
   "metadata": {},
   "outputs": [
    {
     "data": {
      "text/plain": [
       "(64, 4)"
      ]
     },
     "execution_count": 21,
     "metadata": {},
     "output_type": "execute_result"
    }
   ],
   "source": [
    "find_mode(values)"
   ]
  }
 ],
 "metadata": {
  "kernelspec": {
   "display_name": "Python 3 (ipykernel)",
   "language": "python",
   "name": "python3"
  },
  "language_info": {
   "codemirror_mode": {
    "name": "ipython",
    "version": 3
   },
   "file_extension": ".py",
   "mimetype": "text/x-python",
   "name": "python",
   "nbconvert_exporter": "python",
   "pygments_lexer": "ipython3",
   "version": "3.10.2"
  }
 },
 "nbformat": 4,
 "nbformat_minor": 5
}
