{
 "cells": [
  {
   "cell_type": "markdown",
   "id": "b3736461",
   "metadata": {},
   "source": [
    "198. House Robber\n",
    "\n",
    "You are a professional robber planning to rob houses along a street. Each house has a certain amount of money stashed, the only constraint stopping you from robbing each of them is that adjacent houses have security systems connected and it will automatically contact the police if two adjacent houses were broken into on the same night.\n",
    "\n",
    "Given an integer array nums representing the amount of money of each house, return the maximum amount of money you can rob tonight without alerting the police.\n",
    "\n",
    "Example 1:\n",
    "\n",
    "Input: nums = [1,2,3,1]\n",
    "Output: 4\n",
    "Explanation: Rob house 1 (money = 1) and then rob house 3 (money = 3).\n",
    "Total amount you can rob = 1 + 3 = 4.\n",
    "Example 2:\n",
    "\n",
    "Input: nums = [2,7,9,3,1]\n",
    "Output: 12\n",
    "Explanation: Rob house 1 (money = 2), rob house 3 (money = 9) and rob house 5 (money = 1).\n",
    "Total amount you can rob = 2 + 9 + 1 = 12.\n",
    " "
   ]
  },
  {
   "cell_type": "code",
   "execution_count": null,
   "id": "80c43473",
   "metadata": {},
   "outputs": [],
   "source": [
    "# Solution1:\n",
    "\n",
    "class Solution:\n",
    "    def rob(self, nums: List[int]) -> int:\n",
    "        n = len(nums)\n",
    "        if n == 1:\n",
    "            return nums[0]\n",
    "        dp = [0] * n\n",
    "        dp[0] = nums[0]\n",
    "        dp[1] = nums[1]\n",
    "        for i in range(2, n):\n",
    "            if i > 2:\n",
    "                dp[i] = nums[i] + max(dp[i - 2], dp[i - 3])\n",
    "            else:\n",
    "                dp[i] = nums[i] + dp[i - 2]\n",
    "        return max(dp[-1], dp[-2])"
   ]
  },
  {
   "cell_type": "code",
   "execution_count": null,
   "id": "736d2c8b",
   "metadata": {},
   "outputs": [],
   "source": [
    "# Solution 2:\n",
    "\n",
    "class Solution:\n",
    "    def rob(self, nums: List[int]) -> int:\n",
    "        # bottomup approach\n",
    "        def specrob(arr,currindex):\n",
    "            t=[0]*(len(arr)+2)\n",
    "            for i in range(len(arr)-1,-1,-1):\n",
    "                t[i]=max(arr[i]+t[i+2],t[i+1])\n",
    "            return t[0] \n",
    "            # here from last to we are coming first so result stored in forst index\n",
    "        return specrob(nums,0)"
   ]
  },
  {
   "cell_type": "code",
   "execution_count": 8,
   "id": "9bbf2d61",
   "metadata": {},
   "outputs": [
    {
     "data": {
      "text/plain": [
       "[0, 0, 0, 0, 0, 0, 0, 0, 0, 0]"
      ]
     },
     "execution_count": 8,
     "metadata": {},
     "output_type": "execute_result"
    }
   ],
   "source": [
    "[0] * 10"
   ]
  },
  {
   "cell_type": "code",
   "execution_count": null,
   "id": "463856aa",
   "metadata": {},
   "outputs": [],
   "source": [
    "class Solution:\n",
    "    def rob(self, nums: List[int]) -> int:\n",
    "        "
   ]
  }
 ],
 "metadata": {
  "kernelspec": {
   "display_name": "Python 3 (ipykernel)",
   "language": "python",
   "name": "python3"
  },
  "language_info": {
   "codemirror_mode": {
    "name": "ipython",
    "version": 3
   },
   "file_extension": ".py",
   "mimetype": "text/x-python",
   "name": "python",
   "nbconvert_exporter": "python",
   "pygments_lexer": "ipython3",
   "version": "3.10.2"
  }
 },
 "nbformat": 4,
 "nbformat_minor": 5
}
