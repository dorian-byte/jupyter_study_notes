{
 "cells": [
  {
   "cell_type": "code",
   "execution_count": 9,
   "id": "2b485a61",
   "metadata": {},
   "outputs": [],
   "source": [
    "def digits_to_number(digits):\n",
    "    return int(\"\".join(digits))"
   ]
  },
  {
   "cell_type": "code",
   "execution_count": 10,
   "id": "49f3303a",
   "metadata": {},
   "outputs": [
    {
     "ename": "TypeError",
     "evalue": "sequence item 0: expected str instance, int found",
     "output_type": "error",
     "traceback": [
      "\u001b[0;31m---------------------------------------------------------------------------\u001b[0m",
      "\u001b[0;31mTypeError\u001b[0m                                 Traceback (most recent call last)",
      "Cell \u001b[0;32mIn[10], line 1\u001b[0m\n\u001b[0;32m----> 1\u001b[0m \u001b[43mdigits_to_number\u001b[49m\u001b[43m(\u001b[49m\u001b[43m[\u001b[49m\u001b[38;5;241;43m1\u001b[39;49m\u001b[43m,\u001b[49m\u001b[38;5;241;43m2\u001b[39;49m\u001b[43m,\u001b[49m\u001b[38;5;241;43m3\u001b[39;49m\u001b[43m]\u001b[49m\u001b[43m)\u001b[49m\n",
      "Cell \u001b[0;32mIn[9], line 2\u001b[0m, in \u001b[0;36mdigits_to_number\u001b[0;34m(digits)\u001b[0m\n\u001b[1;32m      1\u001b[0m \u001b[38;5;28;01mdef\u001b[39;00m \u001b[38;5;21mdigits_to_number\u001b[39m(digits):\n\u001b[0;32m----> 2\u001b[0m     \u001b[38;5;28;01mreturn\u001b[39;00m \u001b[38;5;28mint\u001b[39m(\u001b[38;5;124;43m\"\u001b[39;49m\u001b[38;5;124;43m\"\u001b[39;49m\u001b[38;5;241;43m.\u001b[39;49m\u001b[43mjoin\u001b[49m\u001b[43m(\u001b[49m\u001b[43mdigits\u001b[49m\u001b[43m)\u001b[49m)\n",
      "\u001b[0;31mTypeError\u001b[0m: sequence item 0: expected str instance, int found"
     ]
    }
   ],
   "source": [
    "digits_to_number([1,2,3])"
   ]
  },
  {
   "cell_type": "code",
   "execution_count": 11,
   "id": "c942f41d",
   "metadata": {},
   "outputs": [],
   "source": [
    "def digits_to_number(digits):\n",
    "    str_digits = [str(d) for d in digits]\n",
    "    return int(\"\".join(str_digits))"
   ]
  },
  {
   "cell_type": "code",
   "execution_count": 12,
   "id": "7aca52c0",
   "metadata": {},
   "outputs": [
    {
     "data": {
      "text/plain": [
       "123"
      ]
     },
     "execution_count": 12,
     "metadata": {},
     "output_type": "execute_result"
    }
   ],
   "source": [
    "digits_to_number([1,2,3])"
   ]
  },
  {
   "cell_type": "code",
   "execution_count": 15,
   "id": "80f2f505",
   "metadata": {},
   "outputs": [
    {
     "data": {
      "text/plain": [
       "<list_reverseiterator at 0x10614d900>"
      ]
     },
     "execution_count": 15,
     "metadata": {},
     "output_type": "execute_result"
    }
   ],
   "source": [
    "reversed([1,2,3])"
   ]
  },
  {
   "cell_type": "code",
   "execution_count": 16,
   "id": "d11eaf5c",
   "metadata": {},
   "outputs": [
    {
     "data": {
      "text/plain": [
       "[3, 2, 1]"
      ]
     },
     "execution_count": 16,
     "metadata": {},
     "output_type": "execute_result"
    }
   ],
   "source": [
    "list(reversed([1,2,3]))"
   ]
  },
  {
   "cell_type": "code",
   "execution_count": 17,
   "id": "6459081c",
   "metadata": {},
   "outputs": [
    {
     "data": {
      "text/plain": [
       "[1, 2, 3]"
      ]
     },
     "execution_count": 17,
     "metadata": {},
     "output_type": "execute_result"
    }
   ],
   "source": [
    "sorted([1,3,2])"
   ]
  },
  {
   "cell_type": "code",
   "execution_count": 27,
   "id": "3affea0f",
   "metadata": {},
   "outputs": [
    {
     "data": {
      "text/plain": [
       "['9410']"
      ]
     },
     "execution_count": 27,
     "metadata": {},
     "output_type": "execute_result"
    }
   ],
   "source": [
    "# wrong way to split\n",
    "str(9410).split()"
   ]
  },
  {
   "cell_type": "code",
   "execution_count": 29,
   "id": "84fe9d62",
   "metadata": {},
   "outputs": [
    {
     "data": {
      "text/plain": [
       "['9', '4', '1', '0']"
      ]
     },
     "execution_count": 29,
     "metadata": {},
     "output_type": "execute_result"
    }
   ],
   "source": [
    "# correct way to split\n",
    "list(str(9410))"
   ]
  },
  {
   "cell_type": "code",
   "execution_count": 36,
   "id": "97199ca5",
   "metadata": {},
   "outputs": [],
   "source": [
    "# You can paste your functions from the last problem, here,\n",
    "# if you want\n",
    "\n",
    "\n",
    "def digits_to_number(digits):\n",
    "    d_str = [str(d) for d in digits]\n",
    "    return int(\"\".join(d_str))\n",
    "    \n",
    "def add_digits(digits1, digits2):\n",
    "    return digits_to_number(digits1) + digits_to_number(digits2)\n",
    "\n",
    "def add_reversed_digits(reversed_digits1, reversed_digits2):\n",
    "    return add_digits(reversed(reversed_digits1), reversed(reversed_digits2))\n",
    "\n",
    "def sum_reversed_digits_as_list(reversed_digits1, reversed_digits2):\n",
    "    lst = list(str(add_digits(reversed(reversed_digits1), reversed(reversed_digits2))))\n",
    "    return [int(l) for l in lst]"
   ]
  },
  {
   "cell_type": "code",
   "execution_count": 37,
   "id": "c99ae9c3",
   "metadata": {},
   "outputs": [
    {
     "data": {
      "text/plain": [
       "[4, 8, 5]"
      ]
     },
     "execution_count": 37,
     "metadata": {},
     "output_type": "execute_result"
    }
   ],
   "source": [
    "sum_reversed_digits_as_list([1,3,2],[4,5,2])"
   ]
  },
  {
   "cell_type": "code",
   "execution_count": 39,
   "id": "f302101a",
   "metadata": {},
   "outputs": [],
   "source": [
    "# You can paste your functions from the last problem, here,\n",
    "# if you want\n",
    "# Final Solution\n",
    "\n",
    "def digits_to_number(digits):\n",
    "    d_str = [str(d) for d in digits]\n",
    "    return int(\"\".join(d_str))\n",
    "    \n",
    "def add_digits(digits1, digits2):\n",
    "    return digits_to_number(digits1) + digits_to_number(digits2)\n",
    "\n",
    "def add_reversed_digits(reversed_digits1, reversed_digits2):\n",
    "    return add_digits(reversed(reversed_digits1), reversed(reversed_digits2))\n",
    "\n",
    "def sum_reversed_digits_as_list(reversed_digits1, reversed_digits2):\n",
    "    lst = list(str(add_digits(reversed(reversed_digits1), reversed(reversed_digits2))))\n",
    "    return [int(l) for l in lst]\n",
    "\n",
    "def sum_reversed_digits_as_reversed_list(reversed_digits1, reversed_digits2):\n",
    "    return list(reversed(sum_reversed_digits_as_list(reversed_digits1, reversed_digits2)))"
   ]
  },
  {
   "cell_type": "code",
   "execution_count": 41,
   "id": "8c9aa087",
   "metadata": {},
   "outputs": [],
   "source": [
    "# Simplified Solution:\n",
    "def digits_to_number(digits):\n",
    "    return int(''.join(map(str, digits)))\n",
    "\n",
    "def add_reversed_digits(reversed_digits1, reversed_digits2):\n",
    "    result = []\n",
    "    carry = 0\n",
    "    for d1, d2 in zip(reversed_digits1, reversed_digits2):\n",
    "        s = d1 + d2 + carry\n",
    "        carry = s // 10\n",
    "        result.append(s % 10)\n",
    "    if carry:\n",
    "        result.append(carry)\n",
    "    return result\n",
    "\n",
    "def sum_reversed_digits_as_list(reversed_digits1, reversed_digits2):\n",
    "    return add_reversed_digits(reversed_digits1, reversed_digits2)[::-1]\n",
    "\n",
    "def sum_reversed_digits_as_reversed_list(reversed_digits1, reversed_digits2):\n",
    "    return add_reversed_digits(reversed_digits1, reversed_digits2)"
   ]
  },
  {
   "cell_type": "code",
   "execution_count": 2,
   "id": "8a684f56",
   "metadata": {},
   "outputs": [],
   "source": [
    "arr = [0,1,2,3,4,5]"
   ]
  },
  {
   "cell_type": "code",
   "execution_count": 3,
   "id": "5d235089",
   "metadata": {},
   "outputs": [
    {
     "data": {
      "text/plain": [
       "[0, 1, 2, 3, 4]"
      ]
     },
     "execution_count": 3,
     "metadata": {},
     "output_type": "execute_result"
    }
   ],
   "source": [
    "arr[:-1]"
   ]
  },
  {
   "cell_type": "code",
   "execution_count": 1,
   "id": "87142cd7",
   "metadata": {},
   "outputs": [],
   "source": [
    "def quick_sort(arr):\n",
    "    if len(arr) <= 1:\n",
    "        return arr\n",
    "    else:\n",
    "        pivot = arr[-1]\n",
    "        left = [x for x in arr[:-1] if x <= pivot]\n",
    "        right = [x for x in arr[:-1] if x > pivot]\n",
    "        return quick_sort(left) + [pivot] + quick_sort(right)"
   ]
  }
 ],
 "metadata": {
  "kernelspec": {
   "display_name": "Python 3 (ipykernel)",
   "language": "python",
   "name": "python3"
  },
  "language_info": {
   "codemirror_mode": {
    "name": "ipython",
    "version": 3
   },
   "file_extension": ".py",
   "mimetype": "text/x-python",
   "name": "python",
   "nbconvert_exporter": "python",
   "pygments_lexer": "ipython3",
   "version": "3.10.2"
  }
 },
 "nbformat": 4,
 "nbformat_minor": 5
}
