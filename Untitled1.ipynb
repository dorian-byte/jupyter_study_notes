{
 "cells": [
  {
   "cell_type": "code",
   "execution_count": 1,
   "id": "dfd0d22c",
   "metadata": {},
   "outputs": [],
   "source": [
    "class Solution:\n",
    "    def canConstruct(self, ransomNote: str, magazine: str) -> bool:\n",
    "        # pointer i = 0 and pointer j = 0\n",
    "        ransomNote = \"\".join(sorted(ransomNote.split()))\n",
    "        magazine = \"\".join(sorted(magazine.split()))\n",
    "        i, j = 0, 0\n",
    "        # while not reaching end of ransomNote, AND not reaching end of magazine\n",
    "        while i < len(ransomNote) and j < len(magazine):\n",
    "            # if ransomNote[i] equals magazine[j]:\n",
    "            if ransomNote[i] == magazine[j]:\n",
    "                # i += 1\n",
    "                i += 1\n",
    "                # j += 1\n",
    "                j += 1\n",
    "            # else:\n",
    "            else:\n",
    "                # j += 1\n",
    "                j += 1\n",
    "        # if ransomNote reaches the end:\n",
    "        if i == len(ransomNote):\n",
    "            # return True\n",
    "            return True\n",
    "        # return False\n",
    "        return False\n"
   ]
  },
  {
   "cell_type": "code",
   "execution_count": 11,
   "id": "b28cab1b",
   "metadata": {},
   "outputs": [],
   "source": [
    "ransomNote = \"zdbc\"\n",
    "ransomNote = list(ransomNote)"
   ]
  },
  {
   "cell_type": "code",
   "execution_count": 12,
   "id": "2a41f5ca",
   "metadata": {},
   "outputs": [
    {
     "data": {
      "text/plain": [
       "['z', 'd', 'b', 'c']"
      ]
     },
     "execution_count": 12,
     "metadata": {},
     "output_type": "execute_result"
    }
   ],
   "source": [
    "ransomNote"
   ]
  },
  {
   "cell_type": "code",
   "execution_count": 25,
   "id": "75b37321",
   "metadata": {},
   "outputs": [
    {
     "ename": "TypeError",
     "evalue": "must be str, not int",
     "output_type": "error",
     "traceback": [
      "\u001b[0;31m---------------------------------------------------------------------------\u001b[0m",
      "\u001b[0;31mTypeError\u001b[0m                                 Traceback (most recent call last)",
      "Cell \u001b[0;32mIn[25], line 3\u001b[0m\n\u001b[1;32m      1\u001b[0m magazine \u001b[38;5;241m=\u001b[39m \u001b[38;5;124m'\u001b[39m\u001b[38;5;124mflxkxjla\u001b[39m\u001b[38;5;124m'\u001b[39m\n\u001b[1;32m      2\u001b[0m magazine\u001b[38;5;241m.\u001b[39mfind(\u001b[38;5;124m'\u001b[39m\u001b[38;5;124mx\u001b[39m\u001b[38;5;124m'\u001b[39m)\n\u001b[0;32m----> 3\u001b[0m \u001b[43mmagazine\u001b[49m\u001b[38;5;241;43m.\u001b[39;49m\u001b[43mindex\u001b[49m\u001b[43m(\u001b[49m\u001b[38;5;241;43m2\u001b[39;49m\u001b[43m)\u001b[49m\n",
      "\u001b[0;31mTypeError\u001b[0m: must be str, not int"
     ]
    }
   ],
   "source": [
    "magazine = 'flxkxjla'\n",
    "magazine.find('x')\n",
    "magazine."
   ]
  },
  {
   "cell_type": "code",
   "execution_count": 14,
   "id": "feeafef3",
   "metadata": {},
   "outputs": [],
   "source": [
    "class Solution:\n",
    "    def canConstruct(self, ransomNote: str, magazine: str) -> bool:\n",
    "        # for loop on ransomNote:\n",
    "        for c in ransomNote:\n",
    "            # if found el in magazine:\n",
    "            if c in magazine:\n",
    "                # pop that el in magazine\n",
    "                magazine = magazine.replace(c,\"\")\n",
    "            # else:\n",
    "            elif c not in magazine:\n",
    "                # return false\n",
    "                return False\n",
    "        # return True\n",
    "        return True"
   ]
  },
  {
   "cell_type": "code",
   "execution_count": null,
   "id": "0ca1ddf6",
   "metadata": {},
   "outputs": [],
   "source": []
  }
 ],
 "metadata": {
  "kernelspec": {
   "display_name": "Python 3 (ipykernel)",
   "language": "python",
   "name": "python3"
  },
  "language_info": {
   "codemirror_mode": {
    "name": "ipython",
    "version": 3
   },
   "file_extension": ".py",
   "mimetype": "text/x-python",
   "name": "python",
   "nbconvert_exporter": "python",
   "pygments_lexer": "ipython3",
   "version": "3.10.2"
  }
 },
 "nbformat": 4,
 "nbformat_minor": 5
}
