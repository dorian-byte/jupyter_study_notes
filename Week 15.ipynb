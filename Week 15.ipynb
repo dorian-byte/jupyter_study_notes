{
 "cells": [
  {
   "cell_type": "code",
   "execution_count": 6,
   "id": "97554b27",
   "metadata": {},
   "outputs": [],
   "source": [
    "def make_integer(nums, length):\n",
    "    nums.sort()\n",
    "    return \"\".join([str(n) for n in nums[:length]])"
   ]
  },
  {
   "cell_type": "code",
   "execution_count": 7,
   "id": "798e433a",
   "metadata": {
    "scrolled": false
   },
   "outputs": [
    {
     "data": {
      "text/plain": [
       "'123'"
      ]
     },
     "execution_count": 7,
     "metadata": {},
     "output_type": "execute_result"
    }
   ],
   "source": [
    "nums = [3, 1, 2, 6, 5, 9] \n",
    "length = 3\n",
    "make_integer(nums, length)"
   ]
  },
  {
   "cell_type": "code",
   "execution_count": null,
   "id": "de1d6bfb",
   "metadata": {},
   "outputs": [],
   "source": []
  },
  {
   "cell_type": "code",
   "execution_count": 30,
   "id": "cdcf178d",
   "metadata": {},
   "outputs": [],
   "source": [
    "def fix_misspellings(corrections):\n",
    "    return [d['word'][:d['position']-1]+d['word'][d['position']:] for d in corrections]"
   ]
  },
  {
   "cell_type": "code",
   "execution_count": 31,
   "id": "fadd0bb4",
   "metadata": {},
   "outputs": [],
   "source": [
    "corrections = [ { \"word\": \"tablett\", \"position\": 7 },\n",
    "  { \"word\": \"marrble\", \"position\": 4 },\n",
    "  { \"word\": \"xdocker\", \"position\": 1 },\n",
    "]"
   ]
  },
  {
   "cell_type": "code",
   "execution_count": 32,
   "id": "01c4f5f2",
   "metadata": {
    "scrolled": true
   },
   "outputs": [
    {
     "data": {
      "text/plain": [
       "['tablet', 'marble', 'docker']"
      ]
     },
     "execution_count": 32,
     "metadata": {},
     "output_type": "execute_result"
    }
   ],
   "source": [
    "fix_misspellings(corrections)"
   ]
  },
  {
   "cell_type": "markdown",
   "id": "8e9ac0f5",
   "metadata": {},
   "source": [
    "There is no built-in Python function to remove a specific character at a given index from a string. However, you can achieve this by using string slicing.\n",
    "\n",
    "Here's an example code snippet that removes the character at index idx from the string s:\n",
    "\n",
    "css\n",
    "Copy code\n",
    "s = s[:idx] + s[idx+1:]\n",
    "This code creates a new string by concatenating the slice of the original string up to the index idx with the slice of the original string after the index idx+1. This effectively removes the character at index idx.\n",
    "\n",
    "Note that this code assumes that the index idx is valid for the string s, otherwise an IndexError will be raised.\n",
    "\n",
    "\n",
    "\n"
   ]
  },
  {
   "cell_type": "markdown",
   "id": "1672f573",
   "metadata": {},
   "source": [
    "```python\n",
    "s = s[:idx] + s[idx+1:]\n",
    "```"
   ]
  },
  {
   "cell_type": "markdown",
   "id": "7fadad1e",
   "metadata": {},
   "source": [
    "Word prefix reversal\n",
    "1 PT\n",
    "\n",
    "The function reverse_prefix gets a string s and a single letter letter. The function should find the first occurrence of letter in s and reverse only the letters from the beginning of the string up to and including the target letter. If the letter does not exist in the string, do nothing.\n",
    "\n",
    "For example, if you get the string \"hackreactor\" with the letter \"c\", then it would find the first c in \"hackreactor\", take all of the letters from the beginning of the string up to and including that \"c\" (\"hackreactor\"), and reverse them (\"cahkreactor\"). The answer would be the string \"cahkreactor\".\n",
    "\n",
    "s\tletter\tOutput\n",
    "abcdefd\td\tdcbaefd\n",
    "xyxzxe\tz\tzxyxxe\n",
    "abcd\tz\tabcd\n",
    "abcd\ta\tabcd"
   ]
  },
  {
   "cell_type": "code",
   "execution_count": 2,
   "id": "6e026080",
   "metadata": {},
   "outputs": [],
   "source": [
    "def reverse_prefix(s, letter):\n",
    "    for i in range(len(s)):\n",
    "        if s[i] == letter:\n",
    "            return s[:i+1][::-1] + s[i+1:]\n",
    "    return s"
   ]
  },
  {
   "cell_type": "markdown",
   "id": "48d80fc5",
   "metadata": {},
   "source": [
    "it cannot be return s[:i+1][::-1] + s[i+1:]"
   ]
  }
 ],
 "metadata": {
  "kernelspec": {
   "display_name": "Python 3 (ipykernel)",
   "language": "python",
   "name": "python3"
  },
  "language_info": {
   "codemirror_mode": {
    "name": "ipython",
    "version": 3
   },
   "file_extension": ".py",
   "mimetype": "text/x-python",
   "name": "python",
   "nbconvert_exporter": "python",
   "pygments_lexer": "ipython3",
   "version": "3.10.2"
  }
 },
 "nbformat": 4,
 "nbformat_minor": 5
}
