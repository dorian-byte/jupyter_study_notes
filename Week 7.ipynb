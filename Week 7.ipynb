{
 "cells": [
  {
   "cell_type": "markdown",
   "id": "8a7d8cac",
   "metadata": {},
   "source": [
    "# loads from json (to another language)\n",
    "# dumps to json (from another language)"
   ]
  },
  {
   "cell_type": "code",
   "execution_count": 18,
   "id": "37ad71aa",
   "metadata": {},
   "outputs": [],
   "source": [
    "import json"
   ]
  },
  {
   "cell_type": "code",
   "execution_count": 2,
   "id": "a0bb387d",
   "metadata": {},
   "outputs": [],
   "source": [
    "a = json.loads('true')"
   ]
  },
  {
   "cell_type": "code",
   "execution_count": 17,
   "id": "00ea52c7",
   "metadata": {},
   "outputs": [
    {
     "ename": "JSONDecodeError",
     "evalue": "Expecting value: line 1 column 1 (char 0)",
     "output_type": "error",
     "traceback": [
      "\u001b[0;31m---------------------------------------------------------------------------\u001b[0m",
      "\u001b[0;31mJSONDecodeError\u001b[0m                           Traceback (most recent call last)",
      "Cell \u001b[0;32mIn[17], line 2\u001b[0m\n\u001b[1;32m      1\u001b[0m \u001b[38;5;66;03m# what's inside of loads needs to be 'json-formatted' all the time\u001b[39;00m\n\u001b[0;32m----> 2\u001b[0m a \u001b[38;5;241m=\u001b[39m \u001b[43mjson\u001b[49m\u001b[38;5;241;43m.\u001b[39;49m\u001b[43mloads\u001b[49m\u001b[43m(\u001b[49m\u001b[38;5;124;43m'\u001b[39;49m\u001b[38;5;124;43mTrue\u001b[39;49m\u001b[38;5;124;43m'\u001b[39;49m\u001b[43m)\u001b[49m\n",
      "File \u001b[0;32m~/.pyenv/versions/3.10.2/lib/python3.10/json/__init__.py:346\u001b[0m, in \u001b[0;36mloads\u001b[0;34m(s, cls, object_hook, parse_float, parse_int, parse_constant, object_pairs_hook, **kw)\u001b[0m\n\u001b[1;32m    341\u001b[0m     s \u001b[38;5;241m=\u001b[39m s\u001b[38;5;241m.\u001b[39mdecode(detect_encoding(s), \u001b[38;5;124m'\u001b[39m\u001b[38;5;124msurrogatepass\u001b[39m\u001b[38;5;124m'\u001b[39m)\n\u001b[1;32m    343\u001b[0m \u001b[38;5;28;01mif\u001b[39;00m (\u001b[38;5;28mcls\u001b[39m \u001b[38;5;129;01mis\u001b[39;00m \u001b[38;5;28;01mNone\u001b[39;00m \u001b[38;5;129;01mand\u001b[39;00m object_hook \u001b[38;5;129;01mis\u001b[39;00m \u001b[38;5;28;01mNone\u001b[39;00m \u001b[38;5;129;01mand\u001b[39;00m\n\u001b[1;32m    344\u001b[0m         parse_int \u001b[38;5;129;01mis\u001b[39;00m \u001b[38;5;28;01mNone\u001b[39;00m \u001b[38;5;129;01mand\u001b[39;00m parse_float \u001b[38;5;129;01mis\u001b[39;00m \u001b[38;5;28;01mNone\u001b[39;00m \u001b[38;5;129;01mand\u001b[39;00m\n\u001b[1;32m    345\u001b[0m         parse_constant \u001b[38;5;129;01mis\u001b[39;00m \u001b[38;5;28;01mNone\u001b[39;00m \u001b[38;5;129;01mand\u001b[39;00m object_pairs_hook \u001b[38;5;129;01mis\u001b[39;00m \u001b[38;5;28;01mNone\u001b[39;00m \u001b[38;5;129;01mand\u001b[39;00m \u001b[38;5;129;01mnot\u001b[39;00m kw):\n\u001b[0;32m--> 346\u001b[0m     \u001b[38;5;28;01mreturn\u001b[39;00m \u001b[43m_default_decoder\u001b[49m\u001b[38;5;241;43m.\u001b[39;49m\u001b[43mdecode\u001b[49m\u001b[43m(\u001b[49m\u001b[43ms\u001b[49m\u001b[43m)\u001b[49m\n\u001b[1;32m    347\u001b[0m \u001b[38;5;28;01mif\u001b[39;00m \u001b[38;5;28mcls\u001b[39m \u001b[38;5;129;01mis\u001b[39;00m \u001b[38;5;28;01mNone\u001b[39;00m:\n\u001b[1;32m    348\u001b[0m     \u001b[38;5;28mcls\u001b[39m \u001b[38;5;241m=\u001b[39m JSONDecoder\n",
      "File \u001b[0;32m~/.pyenv/versions/3.10.2/lib/python3.10/json/decoder.py:337\u001b[0m, in \u001b[0;36mJSONDecoder.decode\u001b[0;34m(self, s, _w)\u001b[0m\n\u001b[1;32m    332\u001b[0m \u001b[38;5;28;01mdef\u001b[39;00m \u001b[38;5;21mdecode\u001b[39m(\u001b[38;5;28mself\u001b[39m, s, _w\u001b[38;5;241m=\u001b[39mWHITESPACE\u001b[38;5;241m.\u001b[39mmatch):\n\u001b[1;32m    333\u001b[0m     \u001b[38;5;124;03m\"\"\"Return the Python representation of ``s`` (a ``str`` instance\u001b[39;00m\n\u001b[1;32m    334\u001b[0m \u001b[38;5;124;03m    containing a JSON document).\u001b[39;00m\n\u001b[1;32m    335\u001b[0m \n\u001b[1;32m    336\u001b[0m \u001b[38;5;124;03m    \"\"\"\u001b[39;00m\n\u001b[0;32m--> 337\u001b[0m     obj, end \u001b[38;5;241m=\u001b[39m \u001b[38;5;28;43mself\u001b[39;49m\u001b[38;5;241;43m.\u001b[39;49m\u001b[43mraw_decode\u001b[49m\u001b[43m(\u001b[49m\u001b[43ms\u001b[49m\u001b[43m,\u001b[49m\u001b[43m \u001b[49m\u001b[43midx\u001b[49m\u001b[38;5;241;43m=\u001b[39;49m\u001b[43m_w\u001b[49m\u001b[43m(\u001b[49m\u001b[43ms\u001b[49m\u001b[43m,\u001b[49m\u001b[43m \u001b[49m\u001b[38;5;241;43m0\u001b[39;49m\u001b[43m)\u001b[49m\u001b[38;5;241;43m.\u001b[39;49m\u001b[43mend\u001b[49m\u001b[43m(\u001b[49m\u001b[43m)\u001b[49m\u001b[43m)\u001b[49m\n\u001b[1;32m    338\u001b[0m     end \u001b[38;5;241m=\u001b[39m _w(s, end)\u001b[38;5;241m.\u001b[39mend()\n\u001b[1;32m    339\u001b[0m     \u001b[38;5;28;01mif\u001b[39;00m end \u001b[38;5;241m!=\u001b[39m \u001b[38;5;28mlen\u001b[39m(s):\n",
      "File \u001b[0;32m~/.pyenv/versions/3.10.2/lib/python3.10/json/decoder.py:355\u001b[0m, in \u001b[0;36mJSONDecoder.raw_decode\u001b[0;34m(self, s, idx)\u001b[0m\n\u001b[1;32m    353\u001b[0m     obj, end \u001b[38;5;241m=\u001b[39m \u001b[38;5;28mself\u001b[39m\u001b[38;5;241m.\u001b[39mscan_once(s, idx)\n\u001b[1;32m    354\u001b[0m \u001b[38;5;28;01mexcept\u001b[39;00m \u001b[38;5;167;01mStopIteration\u001b[39;00m \u001b[38;5;28;01mas\u001b[39;00m err:\n\u001b[0;32m--> 355\u001b[0m     \u001b[38;5;28;01mraise\u001b[39;00m JSONDecodeError(\u001b[38;5;124m\"\u001b[39m\u001b[38;5;124mExpecting value\u001b[39m\u001b[38;5;124m\"\u001b[39m, s, err\u001b[38;5;241m.\u001b[39mvalue) \u001b[38;5;28;01mfrom\u001b[39;00m \u001b[38;5;28mNone\u001b[39m\n\u001b[1;32m    356\u001b[0m \u001b[38;5;28;01mreturn\u001b[39;00m obj, end\n",
      "\u001b[0;31mJSONDecodeError\u001b[0m: Expecting value: line 1 column 1 (char 0)"
     ]
    }
   ],
   "source": [
    "# what's inside of loads needs to be 'json-formatted' all the time\n",
    "a = json.loads('True')"
   ]
  },
  {
   "cell_type": "code",
   "execution_count": 4,
   "id": "6a4a91b2",
   "metadata": {},
   "outputs": [
    {
     "data": {
      "text/plain": [
       "'10'"
      ]
     },
     "execution_count": 4,
     "metadata": {},
     "output_type": "execute_result"
    }
   ],
   "source": [
    "json.loads('\"10\"')"
   ]
  },
  {
   "cell_type": "code",
   "execution_count": 5,
   "id": "cf5dde26",
   "metadata": {},
   "outputs": [
    {
     "ename": "JSONDecodeError",
     "evalue": "Expecting value: line 1 column 1 (char 0)",
     "output_type": "error",
     "traceback": [
      "\u001b[0;31m---------------------------------------------------------------------------\u001b[0m",
      "\u001b[0;31mJSONDecodeError\u001b[0m                           Traceback (most recent call last)",
      "Cell \u001b[0;32mIn[5], line 1\u001b[0m\n\u001b[0;32m----> 1\u001b[0m \u001b[43mjson\u001b[49m\u001b[38;5;241;43m.\u001b[39;49m\u001b[43mloads\u001b[49m\u001b[43m(\u001b[49m\u001b[38;5;124;43m\"\u001b[39;49m\u001b[38;5;124;43m'\u001b[39;49m\u001b[38;5;124;43m10\u001b[39;49m\u001b[38;5;124;43m'\u001b[39;49m\u001b[38;5;124;43m\"\u001b[39;49m\u001b[43m)\u001b[49m\n",
      "File \u001b[0;32m~/.pyenv/versions/3.10.2/lib/python3.10/json/__init__.py:346\u001b[0m, in \u001b[0;36mloads\u001b[0;34m(s, cls, object_hook, parse_float, parse_int, parse_constant, object_pairs_hook, **kw)\u001b[0m\n\u001b[1;32m    341\u001b[0m     s \u001b[38;5;241m=\u001b[39m s\u001b[38;5;241m.\u001b[39mdecode(detect_encoding(s), \u001b[38;5;124m'\u001b[39m\u001b[38;5;124msurrogatepass\u001b[39m\u001b[38;5;124m'\u001b[39m)\n\u001b[1;32m    343\u001b[0m \u001b[38;5;28;01mif\u001b[39;00m (\u001b[38;5;28mcls\u001b[39m \u001b[38;5;129;01mis\u001b[39;00m \u001b[38;5;28;01mNone\u001b[39;00m \u001b[38;5;129;01mand\u001b[39;00m object_hook \u001b[38;5;129;01mis\u001b[39;00m \u001b[38;5;28;01mNone\u001b[39;00m \u001b[38;5;129;01mand\u001b[39;00m\n\u001b[1;32m    344\u001b[0m         parse_int \u001b[38;5;129;01mis\u001b[39;00m \u001b[38;5;28;01mNone\u001b[39;00m \u001b[38;5;129;01mand\u001b[39;00m parse_float \u001b[38;5;129;01mis\u001b[39;00m \u001b[38;5;28;01mNone\u001b[39;00m \u001b[38;5;129;01mand\u001b[39;00m\n\u001b[1;32m    345\u001b[0m         parse_constant \u001b[38;5;129;01mis\u001b[39;00m \u001b[38;5;28;01mNone\u001b[39;00m \u001b[38;5;129;01mand\u001b[39;00m object_pairs_hook \u001b[38;5;129;01mis\u001b[39;00m \u001b[38;5;28;01mNone\u001b[39;00m \u001b[38;5;129;01mand\u001b[39;00m \u001b[38;5;129;01mnot\u001b[39;00m kw):\n\u001b[0;32m--> 346\u001b[0m     \u001b[38;5;28;01mreturn\u001b[39;00m \u001b[43m_default_decoder\u001b[49m\u001b[38;5;241;43m.\u001b[39;49m\u001b[43mdecode\u001b[49m\u001b[43m(\u001b[49m\u001b[43ms\u001b[49m\u001b[43m)\u001b[49m\n\u001b[1;32m    347\u001b[0m \u001b[38;5;28;01mif\u001b[39;00m \u001b[38;5;28mcls\u001b[39m \u001b[38;5;129;01mis\u001b[39;00m \u001b[38;5;28;01mNone\u001b[39;00m:\n\u001b[1;32m    348\u001b[0m     \u001b[38;5;28mcls\u001b[39m \u001b[38;5;241m=\u001b[39m JSONDecoder\n",
      "File \u001b[0;32m~/.pyenv/versions/3.10.2/lib/python3.10/json/decoder.py:337\u001b[0m, in \u001b[0;36mJSONDecoder.decode\u001b[0;34m(self, s, _w)\u001b[0m\n\u001b[1;32m    332\u001b[0m \u001b[38;5;28;01mdef\u001b[39;00m \u001b[38;5;21mdecode\u001b[39m(\u001b[38;5;28mself\u001b[39m, s, _w\u001b[38;5;241m=\u001b[39mWHITESPACE\u001b[38;5;241m.\u001b[39mmatch):\n\u001b[1;32m    333\u001b[0m     \u001b[38;5;124;03m\"\"\"Return the Python representation of ``s`` (a ``str`` instance\u001b[39;00m\n\u001b[1;32m    334\u001b[0m \u001b[38;5;124;03m    containing a JSON document).\u001b[39;00m\n\u001b[1;32m    335\u001b[0m \n\u001b[1;32m    336\u001b[0m \u001b[38;5;124;03m    \"\"\"\u001b[39;00m\n\u001b[0;32m--> 337\u001b[0m     obj, end \u001b[38;5;241m=\u001b[39m \u001b[38;5;28;43mself\u001b[39;49m\u001b[38;5;241;43m.\u001b[39;49m\u001b[43mraw_decode\u001b[49m\u001b[43m(\u001b[49m\u001b[43ms\u001b[49m\u001b[43m,\u001b[49m\u001b[43m \u001b[49m\u001b[43midx\u001b[49m\u001b[38;5;241;43m=\u001b[39;49m\u001b[43m_w\u001b[49m\u001b[43m(\u001b[49m\u001b[43ms\u001b[49m\u001b[43m,\u001b[49m\u001b[43m \u001b[49m\u001b[38;5;241;43m0\u001b[39;49m\u001b[43m)\u001b[49m\u001b[38;5;241;43m.\u001b[39;49m\u001b[43mend\u001b[49m\u001b[43m(\u001b[49m\u001b[43m)\u001b[49m\u001b[43m)\u001b[49m\n\u001b[1;32m    338\u001b[0m     end \u001b[38;5;241m=\u001b[39m _w(s, end)\u001b[38;5;241m.\u001b[39mend()\n\u001b[1;32m    339\u001b[0m     \u001b[38;5;28;01mif\u001b[39;00m end \u001b[38;5;241m!=\u001b[39m \u001b[38;5;28mlen\u001b[39m(s):\n",
      "File \u001b[0;32m~/.pyenv/versions/3.10.2/lib/python3.10/json/decoder.py:355\u001b[0m, in \u001b[0;36mJSONDecoder.raw_decode\u001b[0;34m(self, s, idx)\u001b[0m\n\u001b[1;32m    353\u001b[0m     obj, end \u001b[38;5;241m=\u001b[39m \u001b[38;5;28mself\u001b[39m\u001b[38;5;241m.\u001b[39mscan_once(s, idx)\n\u001b[1;32m    354\u001b[0m \u001b[38;5;28;01mexcept\u001b[39;00m \u001b[38;5;167;01mStopIteration\u001b[39;00m \u001b[38;5;28;01mas\u001b[39;00m err:\n\u001b[0;32m--> 355\u001b[0m     \u001b[38;5;28;01mraise\u001b[39;00m JSONDecodeError(\u001b[38;5;124m\"\u001b[39m\u001b[38;5;124mExpecting value\u001b[39m\u001b[38;5;124m\"\u001b[39m, s, err\u001b[38;5;241m.\u001b[39mvalue) \u001b[38;5;28;01mfrom\u001b[39;00m \u001b[38;5;28mNone\u001b[39m\n\u001b[1;32m    356\u001b[0m \u001b[38;5;28;01mreturn\u001b[39;00m obj, end\n",
      "\u001b[0;31mJSONDecodeError\u001b[0m: Expecting value: line 1 column 1 (char 0)"
     ]
    }
   ],
   "source": [
    "json.loads(\"'10'\")"
   ]
  },
  {
   "cell_type": "code",
   "execution_count": 6,
   "id": "d30681b1",
   "metadata": {},
   "outputs": [
    {
     "data": {
      "text/plain": [
       "[10, 20, 30]"
      ]
     },
     "execution_count": 6,
     "metadata": {},
     "output_type": "execute_result"
    }
   ],
   "source": [
    "json.loads(\"[10, 20, 30]\")"
   ]
  },
  {
   "cell_type": "code",
   "execution_count": 16,
   "id": "5ee2adb9",
   "metadata": {},
   "outputs": [
    {
     "data": {
      "text/plain": [
       "{'title': 'Hench', 'author': 'Natalie Zina Walschots', 'sold': 513000}"
      ]
     },
     "execution_count": 16,
     "metadata": {},
     "output_type": "execute_result"
    }
   ],
   "source": [
    "dct = json.loads('{\"title\": \"Hench\", \"author\": \"Natalie Zina Walschots\", \"sold\": 513000}')\n",
    "dct"
   ]
  },
  {
   "cell_type": "code",
   "execution_count": 15,
   "id": "c087f955",
   "metadata": {},
   "outputs": [
    {
     "data": {
      "text/plain": [
       "dict"
      ]
     },
     "execution_count": 15,
     "metadata": {},
     "output_type": "execute_result"
    }
   ],
   "source": [
    "type(dct)"
   ]
  },
  {
   "cell_type": "code",
   "execution_count": 10,
   "id": "f9fbf5e5",
   "metadata": {},
   "outputs": [
    {
     "data": {
      "text/plain": [
       "'\"None\"'"
      ]
     },
     "execution_count": 10,
     "metadata": {},
     "output_type": "execute_result"
    }
   ],
   "source": [
    "# wrong way\n",
    "json.dumps(\"None\")"
   ]
  },
  {
   "cell_type": "code",
   "execution_count": 11,
   "id": "7b788dce",
   "metadata": {},
   "outputs": [
    {
     "data": {
      "text/plain": [
       "'null'"
      ]
     },
     "execution_count": 11,
     "metadata": {},
     "output_type": "execute_result"
    }
   ],
   "source": [
    "# correct way\n",
    "json.dumps(None)"
   ]
  },
  {
   "cell_type": "markdown",
   "id": "c8bdcff6",
   "metadata": {},
   "source": [
    "https://learn-2.galvanize.com/cohorts/3560/blocks/1873/content_files/build/02-more-ddd/25-practice-problems.md?assessment=true"
   ]
  },
  {
   "cell_type": "code",
   "execution_count": 25,
   "id": "1174fd6e",
   "metadata": {},
   "outputs": [],
   "source": [
    "class Counter:\n",
    "    #Note: why doesn't need to have self.\n",
    "    count = 0\n",
    "\n",
    "    def get_count(self):\n",
    "        return self.count\n",
    "\n",
    "    def increment(self):\n",
    "        #Note: doesn't need return, since just adding\n",
    "        self.count += 1\n",
    "\n",
    "\n",
    "class ConfigurableCounter(Counter):\n",
    "    def __init__(self, change_by):\n",
    "        self.change_by = change_by\n",
    "\n",
    "    def increment(self):\n",
    "        self.count += self.change_by"
   ]
  },
  {
   "cell_type": "markdown",
   "id": "36b492d6",
   "metadata": {},
   "source": [
    "Consider the Bat class that you just wrote.\n",
    "```python\n",
    "class Mammal:\n",
    "    def __init__(self, temperature, *args, **kwargs):\n",
    "        super().__init__(*args, **kwargs)\n",
    "        self.temperature = temperature\n",
    "\n",
    "class Flyer:\n",
    "    altitude = 0\n",
    "\n",
    "    def flap(self):\n",
    "        self.altitude += 10\n",
    "\n",
    "    def dive(self):\n",
    "        self.altitude -= 10\n",
    "\n",
    "class Bat(Mammal, Flyer):\n",
    "    pass\n",
    "```\n",
    "\n",
    "Which of the following options would create an instance of the Bat class with a temperature value of the number 90?"
   ]
  },
  {
   "cell_type": "code",
   "execution_count": 26,
   "id": "b980522d",
   "metadata": {},
   "outputs": [],
   "source": [
    "class Mammal:\n",
    "    def __init__(self, temperature, *args, **kwargs):\n",
    "        #Note: this line isn't required, unless you are adding or removing\n",
    "        super().__init__(*args, **kwargs)\n",
    "        self.temperature = temperature\n",
    "\n",
    "class Flyer:\n",
    "    altitude = 0\n",
    "\n",
    "    def flap(self):\n",
    "        self.altitude += 10\n",
    "\n",
    "    def dive(self):\n",
    "        self.altitude -= 10\n",
    "\n",
    "class Bat(Mammal, Flyer):\n",
    "    pass"
   ]
  },
  {
   "cell_type": "code",
   "execution_count": 8,
   "id": "f882e908",
   "metadata": {},
   "outputs": [],
   "source": [
    "bat = Bat({\"temperatur\":90})"
   ]
  },
  {
   "cell_type": "code",
   "execution_count": 10,
   "id": "9545276b",
   "metadata": {},
   "outputs": [
    {
     "ename": "TypeError",
     "evalue": "Mammal.__init__() missing 1 required positional argument: 'temperature'",
     "output_type": "error",
     "traceback": [
      "\u001b[0;31m---------------------------------------------------------------------------\u001b[0m",
      "\u001b[0;31mTypeError\u001b[0m                                 Traceback (most recent call last)",
      "Cell \u001b[0;32mIn[10], line 1\u001b[0m\n\u001b[0;32m----> 1\u001b[0m bat \u001b[38;5;241m=\u001b[39m \u001b[43mBat\u001b[49m\u001b[43m(\u001b[49m\u001b[43m)\u001b[49m\n",
      "\u001b[0;31mTypeError\u001b[0m: Mammal.__init__() missing 1 required positional argument: 'temperature'"
     ]
    }
   ],
   "source": [
    "bat = Bat()"
   ]
  },
  {
   "cell_type": "code",
   "execution_count": 11,
   "id": "f02beb6e",
   "metadata": {},
   "outputs": [],
   "source": [
    "bat = Bat(90)"
   ]
  },
  {
   "cell_type": "code",
   "execution_count": 12,
   "id": "986741ed",
   "metadata": {},
   "outputs": [],
   "source": [
    "bat = Bat(temperature=90)"
   ]
  },
  {
   "cell_type": "markdown",
   "id": "8761d083",
   "metadata": {},
   "source": [
    "That isn't quite right.\n",
    "\n",
    "Since Bat doesn't have an __init__ method, we can look at its parent classes to see if they have initializer methods. Flyer doesn't. Just Mammal does. So, when we call Bat(...), that will get passed to the Mammal initializer.\n",
    "\n",
    "Inside Mammal.__init__, it takes the value in the parameter temperature and sets its own property to that value on the last line of the method.\n",
    "\n",
    "class Mammal:\n",
    "    def __init__(self, temperature, *args, **kwargs):\n",
    "        super().__init__(*args, **kwargs)\n",
    "        self.temperature = temperature\n",
    "If we want the instance of the Bat class to have a numerical value of 90, then the value for temperature that is passed in needs to be the value 90.\n",
    "\n",
    "bat = Bat() - this does not do it because it doesn't even pass in a number\n",
    "bat = Bat({ \"temperature\": 90 }) - this does not do it because it's passing in a dictionary, not a number\n",
    "bat = Bat(90) - this one does do it because it's passing in the number 90 for the temperature parameter\n",
    "bat = Bat(temperature=90) - this one does do it because it's passing in the number 90 but using the named parameter version; the value 90 still gets set to the temperature parameter in the `init method"
   ]
  },
  {
   "cell_type": "markdown",
   "id": "156dc019",
   "metadata": {},
   "source": [
    "How long to flap?\n",
    "1 PT\n",
    "\n",
    "Again, consider this code.\n",
    "```python\n",
    "class Mammal:\n",
    "    def __init__(self, temperature, *args, **kwargs):\n",
    "        super().__init__(*args, **kwargs)\n",
    "        self.temperature = temperature\n",
    "\n",
    "class Flyer:\n",
    "    altitude = 0\n",
    "\n",
    "    def flap(self):\n",
    "        self.altitude += 10\n",
    "\n",
    "    def dive(self):\n",
    "        self.altitude -= 10\n",
    "\n",
    "class Bat(Mammal, Flyer):\n",
    "    pass\n",
    "```\n",
    "What is the minimum number of times the bat must flap its wings to reach an altitude greater than 32?"
   ]
  },
  {
   "cell_type": "code",
   "execution_count": 20,
   "id": "d2690cea",
   "metadata": {},
   "outputs": [],
   "source": [
    "class Person:\n",
    "    def __init__(self, name):\n",
    "        self.name = name.upper()\n",
    "    def __str__(self):\n",
    "        return self.name\n",
    "\n",
    "\n",
    "class Employee(Person):\n",
    "    def __init__(self, employee_id, name):\n",
    "        super().__init__(name)\n",
    "        self.employee_id = employee_id\n",
    "        \n",
    "    def __str__(self):\n",
    "        return self.name + ' #' + str(self.employee_id)"
   ]
  },
  {
   "cell_type": "code",
   "execution_count": 23,
   "id": "e6cb786f",
   "metadata": {},
   "outputs": [],
   "source": [
    "em = Employee(\"1234\",\"noor\")"
   ]
  },
  {
   "cell_type": "code",
   "execution_count": 24,
   "id": "e98bd3e3",
   "metadata": {
    "scrolled": true
   },
   "outputs": [
    {
     "name": "stdout",
     "output_type": "stream",
     "text": [
      "NOOR #1234\n"
     ]
    }
   ],
   "source": [
    "print(em)"
   ]
  },
  {
   "cell_type": "code",
   "execution_count": 4,
   "id": "71423514",
   "metadata": {},
   "outputs": [],
   "source": [
    "#Note: no edge case\n",
    "def sort(items):\n",
    "    sorted = False\n",
    "    while not sorted:\n",
    "        sorted = True\n",
    "        for i in range(len(items) - 1):\n",
    "            if items[i] > items[i + 1]:\n",
    "                items[i],items[i+1] = items[i+1],items[i]\n",
    "                sorted = False\n",
    "    return items"
   ]
  },
  {
   "cell_type": "code",
   "execution_count": 12,
   "id": "99960ed2",
   "metadata": {},
   "outputs": [],
   "source": [
    "def addition(a,b):\n",
    "    return a+b\n",
    "\n",
    "def max_or_addition(a,b):\n",
    "    if a>b:\n",
    "        return (a)\n",
    "    else:\n",
    "        return addition(a,b)"
   ]
  },
  {
   "cell_type": "code",
   "execution_count": 13,
   "id": "58faf068",
   "metadata": {},
   "outputs": [
    {
     "data": {
      "text/plain": [
       "5"
      ]
     },
     "execution_count": 13,
     "metadata": {},
     "output_type": "execute_result"
    }
   ],
   "source": [
    "max_or_addition(1,4)"
   ]
  },
  {
   "cell_type": "code",
   "execution_count": 14,
   "id": "aba03f2b",
   "metadata": {},
   "outputs": [
    {
     "data": {
      "text/plain": [
       "4"
      ]
     },
     "execution_count": 14,
     "metadata": {},
     "output_type": "execute_result"
    }
   ],
   "source": [
    "max_or_addition(4,1)"
   ]
  },
  {
   "cell_type": "code",
   "execution_count": 15,
   "id": "708c1070",
   "metadata": {},
   "outputs": [],
   "source": [
    "def addition(a,b):\n",
    "    return a+b\n",
    "\n",
    "def max_or_addition(a,b):\n",
    "    if a>b:\n",
    "        return (a)\n",
    "    else:\n",
    "        #note: not remove the \"return\" here\n",
    "        addition(a,b)"
   ]
  },
  {
   "cell_type": "code",
   "execution_count": 17,
   "id": "4a4bb516",
   "metadata": {},
   "outputs": [],
   "source": [
    "# and no return here\n",
    "max_or_addition(1,4)"
   ]
  },
  {
   "cell_type": "code",
   "execution_count": 1,
   "id": "c410f9dc",
   "metadata": {},
   "outputs": [],
   "source": [
    "lst = [1,2,3,4,5]"
   ]
  },
  {
   "cell_type": "code",
   "execution_count": 11,
   "id": "9a279827",
   "metadata": {},
   "outputs": [
    {
     "name": "stdout",
     "output_type": "stream",
     "text": [
      "5\n",
      "4\n",
      "3\n",
      "2\n",
      "1\n"
     ]
    }
   ],
   "source": [
    "for i in range(len(lst),0,-1):\n",
    "    print(i)"
   ]
  },
  {
   "cell_type": "code",
   "execution_count": 50,
   "id": "e6d272b5",
   "metadata": {},
   "outputs": [],
   "source": [
    "def swap(items, idx_1, idx_2):\n",
    "    tmp = items[idx_1]\n",
    "    items[idx_1] = items[idx_2]\n",
    "    items[idx_2] = tmp\n",
    "    return items\n",
    "\n",
    "def bubble_down(items):\n",
    "    for i in range(len(items) - 1, 0, -1):\n",
    "        print(i)\n",
    "        if items[i] < items[i-1]:\n",
    "            swap(items, i, i-1)\n",
    "    return items"
   ]
  },
  {
   "cell_type": "code",
   "execution_count": 51,
   "id": "4b95583f",
   "metadata": {},
   "outputs": [
    {
     "name": "stdout",
     "output_type": "stream",
     "text": [
      "4\n",
      "3\n",
      "2\n",
      "1\n"
     ]
    },
    {
     "data": {
      "text/plain": [
       "[1, 5, 4, 3, 2]"
      ]
     },
     "execution_count": 51,
     "metadata": {},
     "output_type": "execute_result"
    }
   ],
   "source": [
    "bubble_down([5,4,3,2,1])"
   ]
  },
  {
   "cell_type": "markdown",
   "id": "88583737",
   "metadata": {},
   "source": [
    "# Cocktail Sort"
   ]
  },
  {
   "cell_type": "code",
   "execution_count": 52,
   "id": "9274a980",
   "metadata": {},
   "outputs": [],
   "source": [
    "def swap(items, idx_1, idx_2):\n",
    "    tmp = items[idx_1]\n",
    "    items[idx_1] = items[idx_2]\n",
    "    items[idx_2] = tmp\n",
    "    return items\n",
    "    \n",
    "def cocktail_sort(items):\n",
    "    while True:\n",
    "        made_a_swap = False\n",
    "\n",
    "        # bubble up\n",
    "        # ENTER YOUR CODE Here\n",
    "        # TO DO A BUBBLE UP\n",
    "        # MAKE SURE TO SET made_a_swap if needed\n",
    "        \n",
    "        for i in range(len(items) - 1):\n",
    "            if items[i] > items[i+1]:\n",
    "                swap(items, i, i+1)\n",
    "                made_a_swap = True\n",
    "\n",
    "        if not made_a_swap:\n",
    "            break\n",
    "\n",
    "        # bubble down\n",
    "        # ENTER YOUR CODE Here\n",
    "        # TO DO A BUBBLE DOWN\n",
    "        # MAKE SURE TO SET made_a_swap if needed\n",
    "        \n",
    "        for i in range(len(items) - 1, 0, -1):\n",
    "            if items[i] < items[i-1]:\n",
    "                swap(items, i, i-1)\n",
    "                made_a_swap = True\n",
    "            \n",
    "        if not made_a_swap:\n",
    "            break\n",
    "\n",
    "    return items"
   ]
  },
  {
   "cell_type": "markdown",
   "id": "2880397b",
   "metadata": {},
   "source": [
    "### review datetime objects"
   ]
  },
  {
   "cell_type": "code",
   "execution_count": 7,
   "id": "aadcf9ca",
   "metadata": {},
   "outputs": [],
   "source": [
    "from datetime import date, timedelta\n",
    "def wednesday_wilderness():\n",
    "    start, end = date(2000,1,1), date(2022,12,31)\n",
    "    cnt = 0\n",
    "    for i in range((end-start).days + 1):\n",
    "        if start.day == 1 and start.weekday() == 2:\n",
    "            cnt += 1\n",
    "        start += timedelta(days=1)\n",
    "    return cnt"
   ]
  },
  {
   "cell_type": "code",
   "execution_count": 8,
   "id": "132154e8",
   "metadata": {},
   "outputs": [
    {
     "data": {
      "text/plain": [
       "38"
      ]
     },
     "execution_count": 8,
     "metadata": {},
     "output_type": "execute_result"
    }
   ],
   "source": [
    "wednesday_wilderness()"
   ]
  },
  {
   "cell_type": "markdown",
   "id": "6d6ce92f",
   "metadata": {},
   "source": [
    "### set"
   ]
  },
  {
   "cell_type": "code",
   "execution_count": 6,
   "id": "91d28b83",
   "metadata": {},
   "outputs": [
    {
     "name": "stdout",
     "output_type": "stream",
     "text": [
      "{8, 2, 4, 6}\n"
     ]
    }
   ],
   "source": [
    "#note set won't raise error if put in duplicates but will autodedup\n",
    "numbers = {2, 4, 6, 6, 2, 8}\n",
    "print(numbers)   # {8, 2, 4, 6}"
   ]
  },
  {
   "cell_type": "markdown",
   "id": "44b0ced7",
   "metadata": {},
   "source": [
    "### subtracting two lists"
   ]
  },
  {
   "cell_type": "code",
   "execution_count": 3,
   "id": "5d5180a4",
   "metadata": {},
   "outputs": [
    {
     "ename": "TypeError",
     "evalue": "unsupported operand type(s) for -: 'list' and 'list'",
     "output_type": "error",
     "traceback": [
      "\u001b[0;31m---------------------------------------------------------------------------\u001b[0m",
      "\u001b[0;31mTypeError\u001b[0m                                 Traceback (most recent call last)",
      "Cell \u001b[0;32mIn[3], line 5\u001b[0m\n\u001b[1;32m      2\u001b[0m lst2 \u001b[38;5;241m=\u001b[39m [\u001b[38;5;241m1\u001b[39m,\u001b[38;5;241m2\u001b[39m,\u001b[38;5;241m3\u001b[39m,\u001b[38;5;241m4\u001b[39m]\n\u001b[1;32m      4\u001b[0m \u001b[38;5;66;03m# this won't work\u001b[39;00m\n\u001b[0;32m----> 5\u001b[0m \u001b[43mlst2\u001b[49m\u001b[43m \u001b[49m\u001b[38;5;241;43m-\u001b[39;49m\u001b[43m \u001b[49m\u001b[43mlst1\u001b[49m\n",
      "\u001b[0;31mTypeError\u001b[0m: unsupported operand type(s) for -: 'list' and 'list'"
     ]
    }
   ],
   "source": [
    "lst1 = [1,2,3]\n",
    "lst2 = [1,2,3,4]\n",
    "\n",
    "# this won't work\n",
    "lst2 - lst1"
   ]
  },
  {
   "cell_type": "code",
   "execution_count": 5,
   "id": "4fa72c22",
   "metadata": {},
   "outputs": [
    {
     "data": {
      "text/plain": [
       "[4]"
      ]
     },
     "execution_count": 5,
     "metadata": {},
     "output_type": "execute_result"
    }
   ],
   "source": [
    "# this works\n",
    "\n",
    "[el for el in lst2 if el not in lst1]"
   ]
  }
 ],
 "metadata": {
  "kernelspec": {
   "display_name": "Python 3 (ipykernel)",
   "language": "python",
   "name": "python3"
  },
  "language_info": {
   "codemirror_mode": {
    "name": "ipython",
    "version": 3
   },
   "file_extension": ".py",
   "mimetype": "text/x-python",
   "name": "python",
   "nbconvert_exporter": "python",
   "pygments_lexer": "ipython3",
   "version": "3.10.2"
  }
 },
 "nbformat": 4,
 "nbformat_minor": 5
}
