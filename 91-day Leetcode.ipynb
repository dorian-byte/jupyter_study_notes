{
 "cells": [
  {
   "cell_type": "markdown",
   "id": "431306bb",
   "metadata": {},
   "source": [
    "### 【Day 1】989. 数组形式的整数加法\n",
    "\n",
    "```\n",
    "对于非负整数 X 而言，X 的数组形式是每位数字按从左到右的顺序形成的数组。例如，如果 X = 1231，那么其数组形式为 [1,2,3,1]。\n",
    "\n",
    "给定非负整数 X 的数组形式 A，返回整数 X+K 的数组形式。\n",
    "\n",
    " \n",
    "\n",
    "示例 1：\n",
    "\n",
    "输入：A = [1,2,0,0], K = 34\n",
    "输出：[1,2,3,4]\n",
    "解释：1200 + 34 = 1234\n",
    "示例 2：\n",
    "\n",
    "输入：A = [2,7,4], K = 181\n",
    "输出：[4,5,5]\n",
    "解释：274 + 181 = 455\n",
    "示例 3：\n",
    "\n",
    "输入：A = [2,1,5], K = 806\n",
    "输出：[1,0,2,1]\n",
    "解释：215 + 806 = 1021\n",
    "示例 4：\n",
    "\n",
    "输入：A = [9,9,9,9,9,9,9,9,9,9], K = 1\n",
    "输出：[1,0,0,0,0,0,0,0,0,0,0]\n",
    "解释：9999999999 + 1 = 10000000000\n",
    " \n",
    "\n",
    "提示：\n",
    "\n",
    "1 <= A.length <= 10000\n",
    "0 <= A[i] <= 9\n",
    "0 <= K <= 10000\n",
    "如果 A.length > 1，那么 A[0] != 0\n",
    "\n",
    "```\n",
    "\n",
    "https://leetcode.cn/problems/add-to-array-form-of-integer/"
   ]
  },
  {
   "cell_type": "code",
   "execution_count": 39,
   "id": "e76550e0",
   "metadata": {},
   "outputs": [],
   "source": [
    "# Solution 1\n",
    "def addToArrayForm(num,k):\n",
    "    kstr = list(map(int, str(k)))\n",
    "    res = []\n",
    "    carry = 0\n",
    "    while kstr or num or carry:\n",
    "        kp = kstr.pop() if kstr else 0\n",
    "        np = num.pop() if num else 0\n",
    "        mod = (kp + np + carry) % 10\n",
    "        carry = (kp + np + carry) // 10\n",
    "        res.insert(0,mod)\n",
    "    return res"
   ]
  },
  {
   "cell_type": "code",
   "execution_count": 62,
   "id": "c2466954",
   "metadata": {},
   "outputs": [],
   "source": [
    "# Solution 2\n",
    "def addToArrayForm(num,k):\n",
    "def addToArrayForm(num,k):\n",
    "    numsum = 0\n",
    "    for n in num:\n",
    "        numsum = numsum * 10 + n\n",
    "    numsum += k\n",
    "    res = []\n",
    "    while numsum >= 10:\n",
    "        res.append(numsum%10)\n",
    "        numsum //= 10\n",
    "    res.append(numsum)\n",
    "    return res[::-1]"
   ]
  },
  {
   "cell_type": "code",
   "execution_count": 63,
   "id": "1d083949",
   "metadata": {},
   "outputs": [
    {
     "data": {
      "text/plain": [
       "[4, 5, 5]"
      ]
     },
     "execution_count": 63,
     "metadata": {},
     "output_type": "execute_result"
    }
   ],
   "source": [
    "num = [2,7,4]\n",
    "k = 181\n",
    "addToArrayForm(num,k)"
   ]
  },
  {
   "cell_type": "code",
   "execution_count": 64,
   "id": "12f182d5",
   "metadata": {},
   "outputs": [
    {
     "data": {
      "text/plain": [
       "[1, 0, 2, 1]"
      ]
     },
     "execution_count": 64,
     "metadata": {},
     "output_type": "execute_result"
    }
   ],
   "source": [
    "num = [2,1,5]\n",
    "k = 806\n",
    "addToArrayForm(num,k)"
   ]
  },
  {
   "cell_type": "code",
   "execution_count": 65,
   "id": "4d2c3960",
   "metadata": {},
   "outputs": [
    {
     "data": {
      "text/plain": [
       "[1, 2, 3, 4]"
      ]
     },
     "execution_count": 65,
     "metadata": {},
     "output_type": "execute_result"
    }
   ],
   "source": [
    "num = [1,2,0,0]\n",
    "k = 34\n",
    "addToArrayForm(num,k)"
   ]
  },
  {
   "cell_type": "markdown",
   "id": "d391bcb2",
   "metadata": {},
   "source": [
    "### 【Day 2】821. 字符的最短距离"
   ]
  },
  {
   "cell_type": "code",
   "execution_count": null,
   "id": "a7ef6f87",
   "metadata": {},
   "outputs": [],
   "source": []
  }
 ],
 "metadata": {
  "kernelspec": {
   "display_name": "Python 3 (ipykernel)",
   "language": "python",
   "name": "python3"
  },
  "language_info": {
   "codemirror_mode": {
    "name": "ipython",
    "version": 3
   },
   "file_extension": ".py",
   "mimetype": "text/x-python",
   "name": "python",
   "nbconvert_exporter": "python",
   "pygments_lexer": "ipython3",
   "version": "3.10.2"
  }
 },
 "nbformat": 4,
 "nbformat_minor": 5
}
