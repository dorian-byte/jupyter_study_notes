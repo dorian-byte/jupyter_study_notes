{
 "cells": [
  {
   "cell_type": "markdown",
   "id": "d65ddeb9",
   "metadata": {
    "tags": []
   },
   "source": [
    "**思路：**\n",
    "\n",
    "\n",
    "**代码：**\n",
    "```python\n",
    "\n",
    "```\n",
    "\n",
    "**复杂度分析：**\n",
    "\n",
    "时间复杂度：\n",
    "空间复杂度："
   ]
  },
  {
   "cell_type": "markdown",
   "id": "480eb575",
   "metadata": {
    "jp-MarkdownHeadingCollapsed": true,
    "tags": []
   },
   "source": [
    "### 【Day 1】989. 数组形式的整数加法\n",
    "\n",
    "```\n",
    "对于非负整数 X 而言，X 的数组形式是每位数字按从左到右的顺序形成的数组。例如，如果 X = 1231，那么其数组形式为 [1,2,3,1]。\n",
    "\n",
    "给定非负整数 X 的数组形式 A，返回整数 X+K 的数组形式。\n",
    "\n",
    " \n",
    "\n",
    "示例 1：\n",
    "\n",
    "输入：A = [1,2,0,0], K = 34\n",
    "输出：[1,2,3,4]\n",
    "解释：1200 + 34 = 1234\n",
    "示例 2：\n",
    "\n",
    "输入：A = [2,7,4], K = 181\n",
    "输出：[4,5,5]\n",
    "解释：274 + 181 = 455\n",
    "示例 3：\n",
    "\n",
    "输入：A = [2,1,5], K = 806\n",
    "输出：[1,0,2,1]\n",
    "解释：215 + 806 = 1021\n",
    "示例 4：\n",
    "\n",
    "输入：A = [9,9,9,9,9,9,9,9,9,9], K = 1\n",
    "输出：[1,0,0,0,0,0,0,0,0,0,0]\n",
    "解释：9999999999 + 1 = 10000000000\n",
    " \n",
    "\n",
    "提示：\n",
    "\n",
    "1 <= A.length <= 10000\n",
    "0 <= A[i] <= 9\n",
    "0 <= K <= 10000\n",
    "如果 A.length > 1，那么 A[0] != 0\n",
    "\n",
    "```\n",
    "\n",
    "https://leetcode.cn/problems/add-to-array-form-of-integer/"
   ]
  },
  {
   "cell_type": "code",
   "execution_count": 39,
   "id": "d9af7223",
   "metadata": {},
   "outputs": [],
   "source": [
    "# Solution 1\n",
    "def addToArrayForm(num,k):\n",
    "    kstr = list(map(int, str(k)))\n",
    "    res = []\n",
    "    carry = 0\n",
    "    while kstr or num or carry:\n",
    "        kp = kstr.pop() if kstr else 0\n",
    "        np = num.pop() if num else 0\n",
    "        mod = (kp + np + carry) % 10\n",
    "        carry = (kp + np + carry) // 10\n",
    "        res.insert(0,mod)\n",
    "    return res"
   ]
  },
  {
   "cell_type": "code",
   "execution_count": 62,
   "id": "b96bc082",
   "metadata": {},
   "outputs": [],
   "source": [
    "# Solution 2\n",
    "def addToArrayForm(num,k):\n",
    "def addToArrayForm(num,k):\n",
    "    numsum = 0\n",
    "    for n in num:\n",
    "        numsum = numsum * 10 + n\n",
    "    numsum += k\n",
    "    res = []\n",
    "    while numsum >= 10:\n",
    "        res.append(numsum%10)\n",
    "        numsum //= 10\n",
    "    res.append(numsum)\n",
    "    return res[::-1]"
   ]
  },
  {
   "cell_type": "code",
   "execution_count": 63,
   "id": "053c9f7c",
   "metadata": {},
   "outputs": [
    {
     "data": {
      "text/plain": [
       "[4, 5, 5]"
      ]
     },
     "execution_count": 63,
     "metadata": {},
     "output_type": "execute_result"
    }
   ],
   "source": [
    "num = [2,7,4]\n",
    "k = 181\n",
    "addToArrayForm(num,k)"
   ]
  },
  {
   "cell_type": "code",
   "execution_count": 64,
   "id": "f8892b1d",
   "metadata": {},
   "outputs": [
    {
     "data": {
      "text/plain": [
       "[1, 0, 2, 1]"
      ]
     },
     "execution_count": 64,
     "metadata": {},
     "output_type": "execute_result"
    }
   ],
   "source": [
    "num = [2,1,5]\n",
    "k = 806\n",
    "addToArrayForm(num,k)"
   ]
  },
  {
   "cell_type": "code",
   "execution_count": 65,
   "id": "6f79728d",
   "metadata": {},
   "outputs": [
    {
     "data": {
      "text/plain": [
       "[1, 2, 3, 4]"
      ]
     },
     "execution_count": 65,
     "metadata": {},
     "output_type": "execute_result"
    }
   ],
   "source": [
    "num = [1,2,0,0]\n",
    "k = 34\n",
    "addToArrayForm(num,k)"
   ]
  },
  {
   "cell_type": "markdown",
   "id": "43e82d11",
   "metadata": {},
   "source": [
    "### 【Day 2】821. 字符的最短距离\n",
    "```\n",
    "给定一个字符串 S 和一个字符 C。返回一个代表字符串 S 中每个字符到字符串 S 中的字符 C 的最短距离的数组。\n",
    "\n",
    "示例 1:\n",
    "\n",
    "输入: S = \"loveleetcode\", C = 'e'\n",
    "输出: [3, 2, 1, 0, 1, 0, 0, 1, 2, 2, 1, 0]\n",
    "说明:\n",
    "\n",
    "- 字符串 S 的长度范围为 [1, 10000]。\n",
    "- C 是一个单字符，且保证是字符串 S 里的字符。\n",
    "- S 和 C 中的所有字母均为小写字母。\n",
    "\n",
    "```\n",
    "https://leetcode.cn/problems/shortest-distance-to-a-character/"
   ]
  },
  {
   "cell_type": "code",
   "execution_count": 106,
   "id": "479496d3",
   "metadata": {},
   "outputs": [],
   "source": [
    "# Solution 1\n",
    "def shortestToChar(s,c):\n",
    "    i = 0\n",
    "    res = [float('inf')] * len(s)\n",
    "    flag = 0\n",
    "    while i < len(s):\n",
    "        cnt=0\n",
    "        j=i\n",
    "        while j < len(s):\n",
    "            if s[j] == c:\n",
    "                flag = 1\n",
    "                res[i] = cnt\n",
    "                break\n",
    "            j+=1\n",
    "            cnt+=1\n",
    "        i+=1\n",
    "    print(\"res\",res)\n",
    "    res_r = [float('inf')] * len(s)\n",
    "    i = len(s)-1\n",
    "    while i >= 0:\n",
    "        cnt=0\n",
    "        j=i\n",
    "        while j >=0:\n",
    "            if s[j] == c:\n",
    "                flag = 1\n",
    "                res_r[i] = cnt\n",
    "                break\n",
    "            cnt+=1\n",
    "            j-=1\n",
    "        i-=1\n",
    "    print(\"res_r\",res_r)\n",
    "    for i in range(len(res)):\n",
    "        res[i] = min(res[i],res_r[i])\n",
    "    return res"
   ]
  },
  {
   "cell_type": "code",
   "execution_count": 104,
   "id": "b5158104",
   "metadata": {},
   "outputs": [
    {
     "name": "stdout",
     "output_type": "stream",
     "text": [
      "res [3, 2, 1, 0, 1, 0, 0, 4, 3, 2, 1, 0]\n",
      "res_r [inf, inf, inf, 0, 1, 0, 0, 1, 2, 3, 4, 0]\n"
     ]
    },
    {
     "data": {
      "text/plain": [
       "[3, 2, 1, 0, 1, 0, 0, 1, 2, 2, 1, 0]"
      ]
     },
     "execution_count": 104,
     "metadata": {},
     "output_type": "execute_result"
    }
   ],
   "source": [
    "shortestToChar(\"loveleetcode\",\"e\")"
   ]
  },
  {
   "cell_type": "code",
   "execution_count": 3,
   "id": "d463f366",
   "metadata": {},
   "outputs": [],
   "source": [
    "# Solution 2\n",
    "def shortestToChar(s,c):\n",
    "    res = [float('inf')] * len(s)\n",
    "    prev = float('inf')\n",
    "    for i in range(len(s)):\n",
    "        if s[i] == c:\n",
    "            prev = i\n",
    "        res[i] = min(res[i],abs(i-prev))\n",
    "    prev = float('inf')\n",
    "    for i in range(len(s)-1,-1,-1):\n",
    "        if s[i] == c:\n",
    "            prev = i\n",
    "        res[i] = min(res[i],prev-i)\n",
    "    return res"
   ]
  },
  {
   "cell_type": "code",
   "execution_count": 4,
   "id": "63757204-3e46-4ab5-af9c-d16f17b5bdc2",
   "metadata": {},
   "outputs": [
    {
     "data": {
      "text/plain": [
       "[3, 2, 1, 0, 1, 0, 0, 1, 2, 2, 1, 0]"
      ]
     },
     "execution_count": 4,
     "metadata": {},
     "output_type": "execute_result"
    }
   ],
   "source": [
    "shortestToChar(\"loveleetcode\",\"e\")"
   ]
  },
  {
   "cell_type": "code",
   "execution_count": null,
   "id": "3556ebbf-ff90-4a04-bd87-0c090c220db4",
   "metadata": {},
   "outputs": [],
   "source": [
    "# ChatGPT Version:\n",
    "\n",
    "class Solution:\n",
    "    def shortestToChar(self, s: str, c: str) -> List[int]:\n",
    "        res = [float('inf')] * len(s)\n",
    "        prev = float('-inf')\n",
    "\n",
    "        # Forward pass\n",
    "        for i in range(len(s)):\n",
    "            if s[i] == c:\n",
    "                prev = i\n",
    "            res[i] = i - prev\n",
    "\n",
    "        prev = float('inf')\n",
    "\n",
    "        # Backward pass\n",
    "        for i in range(len(s) - 1, -1, -1):\n",
    "            if s[i] == c:\n",
    "                prev = i\n",
    "            res[i] = min(res[i], prev - i)\n",
    "\n",
    "        return res"
   ]
  }
 ],
 "metadata": {
  "kernelspec": {
   "display_name": "Python 3 (ipykernel)",
   "language": "python",
   "name": "python3"
  },
  "language_info": {
   "codemirror_mode": {
    "name": "ipython",
    "version": 3
   },
   "file_extension": ".py",
   "mimetype": "text/x-python",
   "name": "python",
   "nbconvert_exporter": "python",
   "pygments_lexer": "ipython3",
   "version": "3.10.9"
  }
 },
 "nbformat": 4,
 "nbformat_minor": 5
}
