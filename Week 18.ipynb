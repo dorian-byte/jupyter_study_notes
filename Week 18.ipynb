{
 "cells": [
  {
   "cell_type": "markdown",
   "id": "69f0b2b3",
   "metadata": {},
   "source": [
    "198. House Robber\n",
    "\n",
    "You are a professional robber planning to rob houses along a street. Each house has a certain amount of money stashed, the only constraint stopping you from robbing each of them is that adjacent houses have security systems connected and it will automatically contact the police if two adjacent houses were broken into on the same night.\n",
    "\n",
    "Given an integer array nums representing the amount of money of each house, return the maximum amount of money you can rob tonight without alerting the police.\n",
    "\n",
    "Example 1:\n",
    "\n",
    "Input: nums = [1,2,3,1]\n",
    "Output: 4\n",
    "Explanation: Rob house 1 (money = 1) and then rob house 3 (money = 3).\n",
    "Total amount you can rob = 1 + 3 = 4.\n",
    "Example 2:\n",
    "\n",
    "Input: nums = [2,7,9,3,1]\n",
    "Output: 12\n",
    "Explanation: Rob house 1 (money = 2), rob house 3 (money = 9) and rob house 5 (money = 1).\n",
    "Total amount you can rob = 2 + 9 + 1 = 12.\n",
    " "
   ]
  },
  {
   "cell_type": "code",
   "execution_count": null,
   "id": "d7b7d42e",
   "metadata": {},
   "outputs": [],
   "source": [
    "# Solution1:\n",
    "\n",
    "class Solution:\n",
    "    def rob(self, nums: List[int]) -> int:\n",
    "        n = len(nums)\n",
    "        if n == 1:\n",
    "            return nums[0]\n",
    "        dp = [0] * n\n",
    "        dp[0] = nums[0]\n",
    "        dp[1] = nums[1]\n",
    "        for i in range(2, n):\n",
    "            if i > 2:\n",
    "                dp[i] = nums[i] + max(dp[i - 2], dp[i - 3])\n",
    "            else:\n",
    "                dp[i] = nums[i] + dp[i - 2]\n",
    "        return max(dp[-1], dp[-2])"
   ]
  },
  {
   "cell_type": "code",
   "execution_count": null,
   "id": "8e53ab16",
   "metadata": {},
   "outputs": [],
   "source": [
    "# Solution 2:\n",
    "\n",
    "class Solution:\n",
    "    def rob(self, nums: List[int]) -> int:\n",
    "        # bottomup approach\n",
    "        def specrob(arr,currindex):\n",
    "            t=[0]*(len(arr)+2)\n",
    "            for i in range(len(arr)-1,-1,-1):\n",
    "                t[i]=max(arr[i]+t[i+2],t[i+1])\n",
    "            return t[0] \n",
    "            # here from last to we are coming first so result stored in forst index\n",
    "        return specrob(nums,0)"
   ]
  },
  {
   "cell_type": "code",
   "execution_count": 8,
   "id": "f78ed44c",
   "metadata": {},
   "outputs": [
    {
     "data": {
      "text/plain": [
       "[0, 0, 0, 0, 0, 0, 0, 0, 0, 0]"
      ]
     },
     "execution_count": 8,
     "metadata": {},
     "output_type": "execute_result"
    }
   ],
   "source": [
    "[0] * 10"
   ]
  },
  {
   "cell_type": "code",
   "execution_count": null,
   "id": "43b99e76",
   "metadata": {},
   "outputs": [],
   "source": [
    "class Solution:\n",
    "    def rob(self, nums: List[int]) -> int:\n",
    "        "
   ]
  },
  {
   "cell_type": "code",
   "execution_count": 4,
   "id": "faabdb0a",
   "metadata": {},
   "outputs": [
    {
     "data": {
      "text/plain": [
       "['*', '4', '12']"
      ]
     },
     "execution_count": 4,
     "metadata": {},
     "output_type": "execute_result"
    }
   ],
   "source": [
    "\"* 4 12\".split()"
   ]
  },
  {
   "cell_type": "markdown",
   "id": "32f1327f",
   "metadata": {},
   "source": [
    "# using `eval()`"
   ]
  },
  {
   "cell_type": "code",
   "execution_count": null,
   "id": "7fc22b0e",
   "metadata": {},
   "outputs": [],
   "source": [
    "def parse_calculation(s):\n",
    "    op,a,b = s.split()\n",
    "    return eval(f'{a}{op}{b}')\n",
    "    \n",
    "    # l = s.split()\n",
    "    # if l[0] == '*':\n",
    "    #     return int(l[1]) * int(l[2])\n",
    "    # elif l[0] == '/':\n",
    "    #     return int(l[1]) / int(l[2])\n",
    "    # elif l[0] == '+':\n",
    "    #     return int(l[1]) + int(l[2])\n",
    "    # elif l[0] == '-':\n",
    "    #     return int(l[1]) - int(l[2])\n",
    "    # else:\n",
    "    #     return None\n"
   ]
  },
  {
   "cell_type": "code",
   "execution_count": 8,
   "id": "98101d76",
   "metadata": {
    "scrolled": true
   },
   "outputs": [
    {
     "ename": "AttributeError",
     "evalue": "'str' object has no attribute 'pop'",
     "output_type": "error",
     "traceback": [
      "\u001b[0;31m---------------------------------------------------------------------------\u001b[0m",
      "\u001b[0;31mAttributeError\u001b[0m                            Traceback (most recent call last)",
      "Cell \u001b[0;32mIn[8], line 1\u001b[0m\n\u001b[0;32m----> 1\u001b[0m \u001b[38;5;124;43m'\u001b[39;49m\u001b[38;5;124;43m12345\u001b[39;49m\u001b[38;5;124;43m'\u001b[39;49m\u001b[38;5;241;43m.\u001b[39;49m\u001b[43mpop\u001b[49m(\u001b[38;5;241m0\u001b[39m) \n",
      "\u001b[0;31mAttributeError\u001b[0m: 'str' object has no attribute 'pop'"
     ]
    }
   ],
   "source": [
    "'12345'.pop(0) "
   ]
  },
  {
   "cell_type": "code",
   "execution_count": 9,
   "id": "bd9d58c8",
   "metadata": {},
   "outputs": [
    {
     "data": {
      "text/plain": [
       "1"
      ]
     },
     "execution_count": 9,
     "metadata": {},
     "output_type": "execute_result"
    }
   ],
   "source": [
    "[1,2,3,4,5].pop(0)"
   ]
  },
  {
   "cell_type": "code",
   "execution_count": 10,
   "id": "f222b153",
   "metadata": {},
   "outputs": [
    {
     "data": {
      "text/plain": [
       "'2345'"
      ]
     },
     "execution_count": 10,
     "metadata": {},
     "output_type": "execute_result"
    }
   ],
   "source": [
    "'12345'[1:]"
   ]
  },
  {
   "cell_type": "code",
   "execution_count": 11,
   "id": "e60da23b",
   "metadata": {},
   "outputs": [
    {
     "data": {
      "text/plain": [
       "'234'"
      ]
     },
     "execution_count": 11,
     "metadata": {},
     "output_type": "execute_result"
    }
   ],
   "source": [
    "'12345'[1:-1]"
   ]
  },
  {
   "cell_type": "code",
   "execution_count": 2,
   "id": "03e19850",
   "metadata": {},
   "outputs": [
    {
     "data": {
      "text/plain": [
       "'a'"
      ]
     },
     "execution_count": 2,
     "metadata": {},
     "output_type": "execute_result"
    }
   ],
   "source": [
    "my_dict = {'a': 5, 'b': 3, 'c': 8, 'd': 2, 'e': 1}\n",
    "minimum = min(my_dict)\n",
    "minimum"
   ]
  },
  {
   "cell_type": "code",
   "execution_count": 4,
   "id": "49f1033a",
   "metadata": {},
   "outputs": [
    {
     "data": {
      "text/plain": [
       "'e'"
      ]
     },
     "execution_count": 4,
     "metadata": {},
     "output_type": "execute_result"
    }
   ],
   "source": [
    "my_string = \"hello\"\n",
    "minimum = min(my_string)\n",
    "minimum"
   ]
  },
  {
   "cell_type": "code",
   "execution_count": 5,
   "id": "5f72bab6",
   "metadata": {
    "scrolled": true
   },
   "outputs": [
    {
     "data": {
      "text/plain": [
       "1"
      ]
     },
     "execution_count": 5,
     "metadata": {},
     "output_type": "execute_result"
    }
   ],
   "source": [
    "my_set = {5, 3, 8, 2, 1}\n",
    "minimum = min(my_set)\n",
    "minimum"
   ]
  },
  {
   "cell_type": "code",
   "execution_count": 9,
   "id": "6f87edb2",
   "metadata": {},
   "outputs": [
    {
     "name": "stdout",
     "output_type": "stream",
     "text": [
      "2\n"
     ]
    }
   ],
   "source": [
    "lst = [1, 2, 9, 9, 2, 1, 2,2,1,2]\n",
    "n = 9\n",
    "count = lst.count(n)\n",
    "print(count)"
   ]
  },
  {
   "cell_type": "code",
   "execution_count": 10,
   "id": "b2fa3e90",
   "metadata": {
    "scrolled": true
   },
   "outputs": [
    {
     "data": {
      "text/plain": [
       "4"
      ]
     },
     "execution_count": 10,
     "metadata": {},
     "output_type": "execute_result"
    }
   ],
   "source": [
    "w = 'mississippi'\n",
    "w.count('s')"
   ]
  },
  {
   "cell_type": "code",
   "execution_count": 13,
   "id": "a7b42e2d",
   "metadata": {},
   "outputs": [],
   "source": [
    "lst.sort(reverse=True)"
   ]
  },
  {
   "cell_type": "code",
   "execution_count": 14,
   "id": "f675dfa6",
   "metadata": {},
   "outputs": [
    {
     "data": {
      "text/plain": [
       "[9, 9, 2, 2, 2, 2, 2, 1, 1, 1]"
      ]
     },
     "execution_count": 14,
     "metadata": {},
     "output_type": "execute_result"
    }
   ],
   "source": [
    "lst"
   ]
  },
  {
   "cell_type": "code",
   "execution_count": 17,
   "id": "2ecbffe3",
   "metadata": {},
   "outputs": [],
   "source": [
    "infinity = float('inf')\n",
    "negative_infinity = float('-inf')"
   ]
  }
 ],
 "metadata": {
  "kernelspec": {
   "display_name": "Python 3 (ipykernel)",
   "language": "python",
   "name": "python3"
  },
  "language_info": {
   "codemirror_mode": {
    "name": "ipython",
    "version": 3
   },
   "file_extension": ".py",
   "mimetype": "text/x-python",
   "name": "python",
   "nbconvert_exporter": "python",
   "pygments_lexer": "ipython3",
   "version": "3.10.2"
  }
 },
 "nbformat": 4,
 "nbformat_minor": 5
}
