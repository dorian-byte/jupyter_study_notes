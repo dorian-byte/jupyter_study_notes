{
 "cells": [
  {
   "cell_type": "code",
   "execution_count": 12,
   "id": "9721f1a2",
   "metadata": {},
   "outputs": [],
   "source": [
    "dct = {}"
   ]
  },
  {
   "cell_type": "code",
   "execution_count": 13,
   "id": "9c92e702",
   "metadata": {},
   "outputs": [],
   "source": [
    "dct['number'] = 217"
   ]
  },
  {
   "cell_type": "code",
   "execution_count": 14,
   "id": "9149a917",
   "metadata": {},
   "outputs": [],
   "source": [
    "dct['name'] = 'Contains Duplicate'"
   ]
  },
  {
   "cell_type": "code",
   "execution_count": 15,
   "id": "6701dbea",
   "metadata": {},
   "outputs": [],
   "source": [
    "from datetime import datetime\n",
    "dct['attempted_at'] = datetime.now()"
   ]
  },
  {
   "cell_type": "code",
   "execution_count": 17,
   "id": "ea4ff106",
   "metadata": {},
   "outputs": [],
   "source": [
    "dct['passed'] = True"
   ]
  },
  {
   "cell_type": "code",
   "execution_count": 18,
   "id": "dbb63ddd",
   "metadata": {},
   "outputs": [
    {
     "data": {
      "text/plain": [
       "{'number': 217,\n",
       " 'name': 'Contains Duplicate',\n",
       " 'attempted_at': datetime.datetime(2023, 5, 7, 12, 27, 11, 59195),\n",
       " 'passed': True}"
      ]
     },
     "execution_count": 18,
     "metadata": {},
     "output_type": "execute_result"
    }
   ],
   "source": [
    "dct"
   ]
  },
  {
   "cell_type": "markdown",
   "id": "25a9d18e",
   "metadata": {},
   "source": [
    "# Trapping Rain Water"
   ]
  },
  {
   "cell_type": "markdown",
   "id": "964c0795",
   "metadata": {},
   "source": [
    "# solution 1"
   ]
  },
  {
   "cell_type": "code",
   "execution_count": null,
   "id": "86d2b736",
   "metadata": {},
   "outputs": [],
   "source": [
    "class Solution:\n",
    "    def trap(self, height: List[int]) -> int:\n",
    "        if not height:\n",
    "            return 0\n",
    "        \n",
    "        n = len(height)\n",
    "        left_max = [0] * n\n",
    "        right_max = [0] * n\n",
    "        \n",
    "        left_max[0] = height[0]\n",
    "        for i in range(1, n):\n",
    "            left_max[i] = max(left_max[i - 1], height[i])\n",
    "        \n",
    "        right_max[n - 1] = height[n - 1]\n",
    "        for i in range(n - 2, -1, -1):\n",
    "            right_max[i] = max(right_max[i + 1], height[i])\n",
    "        \n",
    "        tot_water = 0\n",
    "        for i in range(n):\n",
    "            tot_water += min(left_max[i], right_max[i]) - height[i]\n",
    "        \n",
    "        return tot_water"
   ]
  },
  {
   "cell_type": "markdown",
   "id": "a1e91c05",
   "metadata": {},
   "source": [
    "# solution 2"
   ]
  },
  {
   "cell_type": "code",
   "execution_count": null,
   "id": "9edb3c2e",
   "metadata": {},
   "outputs": [],
   "source": [
    "class Solution:\n",
    "    def trap(self, height: List[int]) -> int:\n",
    "        n = len(height)\n",
    "        stk = []\n",
    "        tot_water = 0\n",
    "        \n",
    "        for i in range(n):\n",
    "            while stk and height[stk[-1]] < height[i]:\n",
    "                top = stk.pop()\n",
    "                if not stk:\n",
    "                    break\n",
    "                min_height = min(height[stk[-1]], height[i]) - height[top]\n",
    "                width = i - stk[-1] - 1\n",
    "                tot_water += min_height * width\n",
    "            stk.append(i)\n",
    "        \n",
    "        return tot_water"
   ]
  },
  {
   "cell_type": "markdown",
   "id": "cca2cc09",
   "metadata": {},
   "source": [
    "# solution 3"
   ]
  },
  {
   "cell_type": "code",
   "execution_count": null,
   "id": "b83838a0",
   "metadata": {},
   "outputs": [],
   "source": [
    "class Solution:\n",
    "    def trap(self, height: List[int]) -> int:\n",
    "        i, j = 0, len(height) - 1\n",
    "        left_max, right_max = height[i], height[j]\n",
    "        \n",
    "        tot_water = 0\n",
    "        while i < j:\n",
    "            if height[i] < height[j]:\n",
    "                if left_max > height[i]:\n",
    "                    tot_water += left_max - height[i]\n",
    "                else:\n",
    "                    left_max = height[i]\n",
    "                i += 1\n",
    "            else:\n",
    "                if right_max > height[j]:\n",
    "                    tot_water += right_max - height[j]\n",
    "                else:\n",
    "                    right_max = height[j]\n",
    "                j -= 1\n",
    "        \n",
    "        return tot_water"
   ]
  },
  {
   "cell_type": "markdown",
   "id": "edf618d2",
   "metadata": {},
   "source": [
    "# solution 4\n",
    "source:\n",
    "https://leetcode.cn/problems/trapping-rain-water/solution/by-ddz16-5c0s/"
   ]
  },
  {
   "cell_type": "code",
   "execution_count": null,
   "id": "3c4f6f67",
   "metadata": {},
   "outputs": [],
   "source": [
    "class Solution:\n",
    "    def trap(self, height: List[int]) -> int:\n",
    "        ans = 0\n",
    "        h1 = 0\n",
    "        h2 = 0\n",
    "        for i in range(len(height)):\n",
    "            h1 = max(h1,height[i])\n",
    "            h2 = max(h2,height[-i-1])\n",
    "            ans = ans + h1 + h2 -height[i]\n",
    "        return  ans - len(height)*h1"
   ]
  },
  {
   "cell_type": "markdown",
   "id": "b3ef0434",
   "metadata": {},
   "source": [
    "# Longest Peak"
   ]
  },
  {
   "cell_type": "markdown",
   "id": "9cf2ccc7",
   "metadata": {},
   "source": [
    "## solution 1"
   ]
  },
  {
   "cell_type": "code",
   "execution_count": 2,
   "id": "94cdf254",
   "metadata": {},
   "outputs": [],
   "source": [
    "def longestPeak(array):\n",
    "    max_len = 0\n",
    "    for i in range(1,len(array)-1):\n",
    "        is_peak = array[i-1] < array[i] > array[i+1]\n",
    "        if not is_peak:\n",
    "            continue\n",
    "        l,r = i-2,i+2\n",
    "        while l >= 0 and array[l] < array[l+1]:\n",
    "            l-=1\n",
    "        while r < len(array) and array[r] < array[r-1]:\n",
    "            r+=1\n",
    "        max_len = max(r-l-1, max_len)\n",
    "    return max_len"
   ]
  },
  {
   "cell_type": "markdown",
   "id": "88c55c8e",
   "metadata": {},
   "source": [
    "## solution 2: more intuitive"
   ]
  },
  {
   "cell_type": "code",
   "execution_count": null,
   "id": "c3ebbf41",
   "metadata": {},
   "outputs": [],
   "source": [
    "def longestPeak(array):\n",
    "    max_len = 0\n",
    "    for i in range(1,len(array)-1):\n",
    "        if array[i-1] < array[i] > array[i+1]:\n",
    "            l,r = i-1,i+1\n",
    "            while l - 1 >= 0 and array[l] > array[l-1]:\n",
    "                l-=1\n",
    "            while r + 1 < len(array) and array[r] > array[r+1]:\n",
    "                r+=1\n",
    "            max_len = max(max_len, r-l+1)\n",
    "    return max_len"
   ]
  },
  {
   "cell_type": "markdown",
   "id": "da040652",
   "metadata": {},
   "source": [
    "# Array of Products"
   ]
  },
  {
   "cell_type": "markdown",
   "id": "1464c63e",
   "metadata": {},
   "source": [
    "## this version is correct"
   ]
  },
  {
   "cell_type": "code",
   "execution_count": 3,
   "id": "0422ee50",
   "metadata": {},
   "outputs": [],
   "source": [
    "def arrayOfProducts(array):\n",
    "    res = []\n",
    "    r_arr = [0] * len(array)\n",
    "    l_arr = [0] * len(array)\n",
    "    pdt = 1\n",
    "    for i in range(len(array)):\n",
    "        l_arr[i] = pdt\n",
    "        pdt *= array[i]\n",
    "    pdt = 1\n",
    "    for i in range(len(array)-1,-1,-1):\n",
    "        r_arr[i] = pdt\n",
    "        pdt *= array[i]\n",
    "    for i in range(len(array)):\n",
    "        res.append(l_arr[i] * r_arr[i])\n",
    "    return res"
   ]
  },
  {
   "cell_type": "markdown",
   "id": "aaa62af6",
   "metadata": {},
   "source": [
    "## this version is incorrect only b/c `r_arr = l_arr = [0] * len(array)` is used instead.\n",
    "\n",
    "###  b/c any modification made to one list will affect the other, as they are referencing the same object in memory."
   ]
  },
  {
   "cell_type": "code",
   "execution_count": 5,
   "id": "8855e347",
   "metadata": {},
   "outputs": [],
   "source": [
    "def arrayOfProducts(array):\n",
    "    res = []\n",
    "    r_arr = l_arr = [0] * len(array)\n",
    "    pdt = 1\n",
    "    for i in range(len(array)):\n",
    "        l_arr[i] = pdt\n",
    "        pdt *= array[i]\n",
    "    pdt = 1\n",
    "    for i in range(len(array)-1,-1,-1):\n",
    "        r_arr[i] = pdt\n",
    "        pdt *= array[i]\n",
    "    for i in range(len(array)):\n",
    "        res.append(l_arr[i] * r_arr[i])\n",
    "    return res"
   ]
  },
  {
   "cell_type": "markdown",
   "id": "50b0fb5c",
   "metadata": {},
   "source": [
    "# Best Seat (algo)"
   ]
  },
  {
   "cell_type": "code",
   "execution_count": 7,
   "id": "0d5f651c",
   "metadata": {},
   "outputs": [],
   "source": [
    "def bestSeat(seats):\n",
    "    i = 0\n",
    "    max_zeros = 0\n",
    "    while i < len(seats):\n",
    "        zeros = 0\n",
    "        while seats[i] == 0:\n",
    "            if seats[i-1] == 1:\n",
    "                cur_i = i\n",
    "            zeros += 1\n",
    "            i += 1\n",
    "        if zeros > max_zeros:\n",
    "            max_zeros = zeros\n",
    "            max_i = cur_i\n",
    "        i += 1\n",
    "    if max_zeros == 0:\n",
    "        return -1\n",
    "    return max_i + (max_zeros - 1) // 2"
   ]
  },
  {
   "cell_type": "markdown",
   "id": "fd2ad52e",
   "metadata": {},
   "source": [
    "# Zero Sum Subarray"
   ]
  },
  {
   "cell_type": "code",
   "execution_count": 2,
   "id": "6d320ffe",
   "metadata": {},
   "outputs": [],
   "source": [
    "def zeroSumSubarray(nums):\n",
    "    cumsum = 0\n",
    "    sums = {0}\n",
    "    for n in nums:\n",
    "        cumsum += n\n",
    "        if cumsum in sums:\n",
    "            return True\n",
    "        else:\n",
    "            sums.add(cumsum)\n",
    "    return False"
   ]
  },
  {
   "cell_type": "markdown",
   "id": "afe6c09f",
   "metadata": {},
   "source": [
    "# Missing Numbers"
   ]
  },
  {
   "cell_type": "code",
   "execution_count": null,
   "id": "cba307c4",
   "metadata": {},
   "outputs": [],
   "source": [
    "def missingNumbers(nums):\n",
    "    lst = [0] * (len(nums) + 2)\n",
    "    for n in nums:\n",
    "        lst[n-1] = n\n",
    "    return [i+1 for i,n in enumerate(lst) if n==0]"
   ]
  },
  {
   "cell_type": "markdown",
   "id": "baab5553",
   "metadata": {},
   "source": [
    "# Kadane's Algorithm"
   ]
  },
  {
   "cell_type": "markdown",
   "id": "f38e72a6",
   "metadata": {},
   "source": [
    "### correct version"
   ]
  },
  {
   "cell_type": "code",
   "execution_count": 39,
   "id": "02fbfc52",
   "metadata": {},
   "outputs": [],
   "source": [
    "def kadanesAlgorithm(array):\n",
    "    maxsum = curmaxsum = array[0]\n",
    "    for n in array[1:]:\n",
    "        curmaxsum = max(n, curmaxsum + n)\n",
    "        maxsum = max(maxsum, curmaxsum)\n",
    "    return maxsum"
   ]
  },
  {
   "cell_type": "markdown",
   "id": "8360060e",
   "metadata": {},
   "source": [
    "### wrong version\n",
    "##### doesn't work for when all elements in array is negative"
   ]
  },
  {
   "cell_type": "code",
   "execution_count": 41,
   "id": "eab83a39",
   "metadata": {},
   "outputs": [],
   "source": [
    "def kadanesAlgorithm(array):\n",
    "    maxsum = curmaxsum = 0\n",
    "    for n in array:\n",
    "        curmaxsum = max(n, curmaxsum + n)\n",
    "        maxsum = max(maxsum, curmaxsum)\n",
    "    return maxsum"
   ]
  },
  {
   "cell_type": "markdown",
   "id": "eab2838b",
   "metadata": {},
   "source": [
    "# Staircase Traversal"
   ]
  },
  {
   "cell_type": "code",
   "execution_count": 42,
   "id": "bf8caac7",
   "metadata": {},
   "outputs": [],
   "source": [
    "def staircaseTraversal(height, maxSteps):\n",
    "    prev = [0] * maxSteps\n",
    "    cumsteps = 1 # the cumsteps when h = 0\n",
    "    for h in range(height+1):\n",
    "        prev.pop(0)\n",
    "        prev.append(cumsteps)\n",
    "        cumsteps = sum(prev)\n",
    "    return prev[-1]"
   ]
  },
  {
   "cell_type": "markdown",
   "id": "2890d1ac",
   "metadata": {},
   "source": [
    "# Min Number of Coins for Change"
   ]
  },
  {
   "cell_type": "code",
   "execution_count": 43,
   "id": "185dbdbf",
   "metadata": {},
   "outputs": [],
   "source": [
    "def minNumberOfCoinsForChange(n, denoms):\n",
    "    coins = [float('inf')] * (n + 1)\n",
    "    coins[0] = 0\n",
    "\n",
    "    for dn in denoms:\n",
    "        for i in range(len(coins)):\n",
    "            if dn <= i:\n",
    "                coins[i] = min(coins[i], coins[i - dn] + 1)\n",
    "\n",
    "    return coins[n] if coins[n] != float('inf') else -1"
   ]
  },
  {
   "cell_type": "code",
   "execution_count": null,
   "id": "9662a01f",
   "metadata": {},
   "outputs": [],
   "source": [
    "# leetcode version: https://leetcode.com/problems/coin-change/submissions/\n",
    "# class Solution:\n",
    "    def coinChange(self, coins: List[int], amount: int) -> int:\n",
    "        dp = [float('inf')]*(amount+1)\n",
    "        dp[0] = 0\n",
    "        for c in coins:\n",
    "            for amt in range(len(dp)):\n",
    "                if amt >= c:\n",
    "                    dp[amt] = min(dp[amt], dp[amt-c] + 1)\n",
    "        return dp[amount] if dp[amount] != float('inf') else -1"
   ]
  }
 ],
 "metadata": {
  "kernelspec": {
   "display_name": "Python 3 (ipykernel)",
   "language": "python",
   "name": "python3"
  },
  "language_info": {
   "codemirror_mode": {
    "name": "ipython",
    "version": 3
   },
   "file_extension": ".py",
   "mimetype": "text/x-python",
   "name": "python",
   "nbconvert_exporter": "python",
   "pygments_lexer": "ipython3",
   "version": "3.10.2"
  }
 },
 "nbformat": 4,
 "nbformat_minor": 5
}
