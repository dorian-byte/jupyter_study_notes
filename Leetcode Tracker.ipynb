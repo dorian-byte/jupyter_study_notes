{
 "cells": [
  {
   "cell_type": "code",
   "execution_count": 12,
   "id": "9721f1a2",
   "metadata": {},
   "outputs": [],
   "source": [
    "dct = {}"
   ]
  },
  {
   "cell_type": "code",
   "execution_count": 13,
   "id": "9c92e702",
   "metadata": {},
   "outputs": [],
   "source": [
    "dct['number'] = 217"
   ]
  },
  {
   "cell_type": "code",
   "execution_count": 14,
   "id": "9149a917",
   "metadata": {},
   "outputs": [],
   "source": [
    "dct['name'] = 'Contains Duplicate'"
   ]
  },
  {
   "cell_type": "code",
   "execution_count": 15,
   "id": "6701dbea",
   "metadata": {},
   "outputs": [],
   "source": [
    "from datetime import datetime\n",
    "dct['attempted_at'] = datetime.now()"
   ]
  },
  {
   "cell_type": "code",
   "execution_count": 17,
   "id": "ea4ff106",
   "metadata": {},
   "outputs": [],
   "source": [
    "dct['passed'] = True"
   ]
  },
  {
   "cell_type": "code",
   "execution_count": 18,
   "id": "dbb63ddd",
   "metadata": {},
   "outputs": [
    {
     "data": {
      "text/plain": [
       "{'number': 217,\n",
       " 'name': 'Contains Duplicate',\n",
       " 'attempted_at': datetime.datetime(2023, 5, 7, 12, 27, 11, 59195),\n",
       " 'passed': True}"
      ]
     },
     "execution_count": 18,
     "metadata": {},
     "output_type": "execute_result"
    }
   ],
   "source": [
    "dct"
   ]
  },
  {
   "cell_type": "markdown",
   "id": "25a9d18e",
   "metadata": {},
   "source": [
    "# Trapping Rain Water"
   ]
  },
  {
   "cell_type": "markdown",
   "id": "964c0795",
   "metadata": {},
   "source": [
    "# solution 1"
   ]
  },
  {
   "cell_type": "code",
   "execution_count": null,
   "id": "86d2b736",
   "metadata": {},
   "outputs": [],
   "source": [
    "class Solution:\n",
    "    def trap(self, height: List[int]) -> int:\n",
    "        if not height:\n",
    "            return 0\n",
    "        \n",
    "        n = len(height)\n",
    "        left_max = [0] * n\n",
    "        right_max = [0] * n\n",
    "        \n",
    "        left_max[0] = height[0]\n",
    "        for i in range(1, n):\n",
    "            left_max[i] = max(left_max[i - 1], height[i])\n",
    "        \n",
    "        right_max[n - 1] = height[n - 1]\n",
    "        for i in range(n - 2, -1, -1):\n",
    "            right_max[i] = max(right_max[i + 1], height[i])\n",
    "        \n",
    "        tot_water = 0\n",
    "        for i in range(n):\n",
    "            tot_water += min(left_max[i], right_max[i]) - height[i]\n",
    "        \n",
    "        return tot_water"
   ]
  },
  {
   "cell_type": "markdown",
   "id": "a1e91c05",
   "metadata": {},
   "source": [
    "# solution 2"
   ]
  },
  {
   "cell_type": "code",
   "execution_count": null,
   "id": "9edb3c2e",
   "metadata": {},
   "outputs": [],
   "source": [
    "class Solution:\n",
    "    def trap(self, height: List[int]) -> int:\n",
    "        n = len(height)\n",
    "        stk = []\n",
    "        tot_water = 0\n",
    "        \n",
    "        for i in range(n):\n",
    "            while stk and height[stk[-1]] < height[i]:\n",
    "                top = stk.pop()\n",
    "                if not stk:\n",
    "                    break\n",
    "                min_height = min(height[stk[-1]], height[i]) - height[top]\n",
    "                width = i - stk[-1] - 1\n",
    "                tot_water += min_height * width\n",
    "            stk.append(i)\n",
    "        \n",
    "        return tot_water"
   ]
  },
  {
   "cell_type": "markdown",
   "id": "cca2cc09",
   "metadata": {},
   "source": [
    "# solution 3"
   ]
  },
  {
   "cell_type": "code",
   "execution_count": null,
   "id": "b83838a0",
   "metadata": {},
   "outputs": [],
   "source": [
    "class Solution:\n",
    "    def trap(self, height: List[int]) -> int:\n",
    "        i, j = 0, len(height) - 1\n",
    "        left_max, right_max = height[i], height[j]\n",
    "        \n",
    "        tot_water = 0\n",
    "        while i < j:\n",
    "            if height[i] < height[j]:\n",
    "                if left_max > height[i]:\n",
    "                    tot_water += left_max - height[i]\n",
    "                else:\n",
    "                    left_max = height[i]\n",
    "                i += 1\n",
    "            else:\n",
    "                if right_max > height[j]:\n",
    "                    tot_water += right_max - height[j]\n",
    "                else:\n",
    "                    right_max = height[j]\n",
    "                j -= 1\n",
    "        \n",
    "        return tot_water"
   ]
  },
  {
   "cell_type": "markdown",
   "id": "edf618d2",
   "metadata": {},
   "source": [
    "# solution 4\n",
    "source:\n",
    "https://leetcode.cn/problems/trapping-rain-water/solution/by-ddz16-5c0s/"
   ]
  },
  {
   "cell_type": "code",
   "execution_count": null,
   "id": "3c4f6f67",
   "metadata": {},
   "outputs": [],
   "source": [
    "class Solution:\n",
    "    def trap(self, height: List[int]) -> int:\n",
    "        ans = 0\n",
    "        h1 = 0\n",
    "        h2 = 0\n",
    "        for i in range(len(height)):\n",
    "            h1 = max(h1,height[i])\n",
    "            h2 = max(h2,height[-i-1])\n",
    "            ans = ans + h1 + h2 -height[i]\n",
    "        return  ans - len(height)*h1"
   ]
  },
  {
   "cell_type": "markdown",
   "id": "b3ef0434",
   "metadata": {},
   "source": [
    "# Longest Peak"
   ]
  },
  {
   "cell_type": "markdown",
   "id": "9cf2ccc7",
   "metadata": {},
   "source": [
    "## solution 1"
   ]
  },
  {
   "cell_type": "code",
   "execution_count": 2,
   "id": "94cdf254",
   "metadata": {},
   "outputs": [],
   "source": [
    "def longestPeak(array):\n",
    "    max_len = 0\n",
    "    for i in range(1,len(array)-1):\n",
    "        is_peak = array[i-1] < array[i] > array[i+1]\n",
    "        if not is_peak:\n",
    "            continue\n",
    "        l,r = i-2,i+2\n",
    "        while l >= 0 and array[l] < array[l+1]:\n",
    "            l-=1\n",
    "        while r < len(array) and array[r] < array[r-1]:\n",
    "            r+=1\n",
    "        max_len = max(r-l-1, max_len)\n",
    "    return max_len"
   ]
  },
  {
   "cell_type": "markdown",
   "id": "88c55c8e",
   "metadata": {},
   "source": [
    "## solution 2: more intuitive"
   ]
  },
  {
   "cell_type": "code",
   "execution_count": null,
   "id": "c3ebbf41",
   "metadata": {},
   "outputs": [],
   "source": [
    "def longestPeak(array):\n",
    "    max_len = 0\n",
    "    for i in range(1,len(array)-1):\n",
    "        if array[i-1] < array[i] > array[i+1]:\n",
    "            l,r = i-1,i+1\n",
    "            while l - 1 >= 0 and array[l] > array[l-1]:\n",
    "                l-=1\n",
    "            while r + 1 < len(array) and array[r] > array[r+1]:\n",
    "                r+=1\n",
    "            max_len = max(max_len, r-l+1)\n",
    "    return max_len"
   ]
  },
  {
   "cell_type": "markdown",
   "id": "da040652",
   "metadata": {},
   "source": [
    "# Array of Products"
   ]
  },
  {
   "cell_type": "markdown",
   "id": "1464c63e",
   "metadata": {},
   "source": [
    "## this version is correct"
   ]
  },
  {
   "cell_type": "code",
   "execution_count": 3,
   "id": "0422ee50",
   "metadata": {},
   "outputs": [],
   "source": [
    "def arrayOfProducts(array):\n",
    "    res = []\n",
    "    r_arr = [0] * len(array)\n",
    "    l_arr = [0] * len(array)\n",
    "    pdt = 1\n",
    "    for i in range(len(array)):\n",
    "        l_arr[i] = pdt\n",
    "        pdt *= array[i]\n",
    "    pdt = 1\n",
    "    for i in range(len(array)-1,-1,-1):\n",
    "        r_arr[i] = pdt\n",
    "        pdt *= array[i]\n",
    "    for i in range(len(array)):\n",
    "        res.append(l_arr[i] * r_arr[i])\n",
    "    return res"
   ]
  },
  {
   "cell_type": "markdown",
   "id": "aaa62af6",
   "metadata": {},
   "source": [
    "## this version is incorrect only b/c `r_arr = l_arr = [0] * len(array)` is used instead.\n",
    "\n",
    "###  b/c any modification made to one list will affect the other, as they are referencing the same object in memory."
   ]
  },
  {
   "cell_type": "code",
   "execution_count": 5,
   "id": "8855e347",
   "metadata": {},
   "outputs": [],
   "source": [
    "def arrayOfProducts(array):\n",
    "    res = []\n",
    "    r_arr = l_arr = [0] * len(array)\n",
    "    pdt = 1\n",
    "    for i in range(len(array)):\n",
    "        l_arr[i] = pdt\n",
    "        pdt *= array[i]\n",
    "    pdt = 1\n",
    "    for i in range(len(array)-1,-1,-1):\n",
    "        r_arr[i] = pdt\n",
    "        pdt *= array[i]\n",
    "    for i in range(len(array)):\n",
    "        res.append(l_arr[i] * r_arr[i])\n",
    "    return res"
   ]
  },
  {
   "cell_type": "markdown",
   "id": "50b0fb5c",
   "metadata": {},
   "source": [
    "# Best Seat (algo)"
   ]
  },
  {
   "cell_type": "code",
   "execution_count": 7,
   "id": "0d5f651c",
   "metadata": {},
   "outputs": [],
   "source": [
    "def bestSeat(seats):\n",
    "    i = 0\n",
    "    max_zeros = 0\n",
    "    while i < len(seats):\n",
    "        zeros = 0\n",
    "        while seats[i] == 0:\n",
    "            if seats[i-1] == 1:\n",
    "                cur_i = i\n",
    "            zeros += 1\n",
    "            i += 1\n",
    "        if zeros > max_zeros:\n",
    "            max_zeros = zeros\n",
    "            max_i = cur_i\n",
    "        i += 1\n",
    "    if max_zeros == 0:\n",
    "        return -1\n",
    "    return max_i + (max_zeros - 1) // 2"
   ]
  },
  {
   "cell_type": "markdown",
   "id": "fd2ad52e",
   "metadata": {},
   "source": [
    "# Zero Sum Subarray"
   ]
  },
  {
   "cell_type": "code",
   "execution_count": 2,
   "id": "6d320ffe",
   "metadata": {},
   "outputs": [],
   "source": [
    "def zeroSumSubarray(nums):\n",
    "    cumsum = 0\n",
    "    sums = {0}\n",
    "    for n in nums:\n",
    "        cumsum += n\n",
    "        if cumsum in sums:\n",
    "            return True\n",
    "        else:\n",
    "            sums.add(cumsum)\n",
    "    return False"
   ]
  },
  {
   "cell_type": "markdown",
   "id": "afe6c09f",
   "metadata": {},
   "source": [
    "# Missing Numbers"
   ]
  },
  {
   "cell_type": "code",
   "execution_count": null,
   "id": "cba307c4",
   "metadata": {},
   "outputs": [],
   "source": [
    "def missingNumbers(nums):\n",
    "    lst = [0] * (len(nums) + 2)\n",
    "    for n in nums:\n",
    "        lst[n-1] = n\n",
    "    return [i+1 for i,n in enumerate(lst) if n==0]"
   ]
  },
  {
   "cell_type": "markdown",
   "id": "baab5553",
   "metadata": {},
   "source": [
    "# Kadane's Algorithm"
   ]
  },
  {
   "cell_type": "markdown",
   "id": "f38e72a6",
   "metadata": {},
   "source": [
    "### correct version"
   ]
  },
  {
   "cell_type": "code",
   "execution_count": 39,
   "id": "02fbfc52",
   "metadata": {},
   "outputs": [],
   "source": [
    "def kadanesAlgorithm(array):\n",
    "    maxsum = curmaxsum = array[0]\n",
    "    for n in array[1:]:\n",
    "        curmaxsum = max(n, curmaxsum + n)\n",
    "        maxsum = max(maxsum, curmaxsum)\n",
    "    return maxsum"
   ]
  },
  {
   "cell_type": "markdown",
   "id": "8360060e",
   "metadata": {},
   "source": [
    "### wrong version\n",
    "##### doesn't work for when all elements in array is negative"
   ]
  },
  {
   "cell_type": "code",
   "execution_count": 41,
   "id": "eab83a39",
   "metadata": {},
   "outputs": [],
   "source": [
    "def kadanesAlgorithm(array):\n",
    "    maxsum = curmaxsum = 0\n",
    "    for n in array:\n",
    "        curmaxsum = max(n, curmaxsum + n)\n",
    "        maxsum = max(maxsum, curmaxsum)\n",
    "    return maxsum"
   ]
  },
  {
   "cell_type": "markdown",
   "id": "eab2838b",
   "metadata": {},
   "source": [
    "# Staircase Traversal"
   ]
  },
  {
   "cell_type": "code",
   "execution_count": 42,
   "id": "bf8caac7",
   "metadata": {},
   "outputs": [],
   "source": [
    "def staircaseTraversal(height, maxSteps):\n",
    "    prev = [0] * maxSteps\n",
    "    cumsteps = 1 # the cumsteps when h = 0\n",
    "    for h in range(height+1):\n",
    "        prev.pop(0)\n",
    "        prev.append(cumsteps)\n",
    "        cumsteps = sum(prev)\n",
    "    return prev[-1]"
   ]
  },
  {
   "cell_type": "markdown",
   "id": "2890d1ac",
   "metadata": {},
   "source": [
    "# Min Number of Coins for Change"
   ]
  },
  {
   "cell_type": "code",
   "execution_count": 43,
   "id": "185dbdbf",
   "metadata": {},
   "outputs": [],
   "source": [
    "def minNumberOfCoinsForChange(n, denoms):\n",
    "    coins = [float('inf')] * (n + 1)\n",
    "    coins[0] = 0\n",
    "\n",
    "    for dn in denoms:\n",
    "        for i in range(len(coins)):\n",
    "            if dn <= i:\n",
    "                coins[i] = min(coins[i], coins[i - dn] + 1)\n",
    "\n",
    "    return coins[n] if coins[n] != float('inf') else -1"
   ]
  },
  {
   "cell_type": "code",
   "execution_count": 52,
   "id": "9662a01f",
   "metadata": {},
   "outputs": [],
   "source": [
    "# leetcode version: https://leetcode.com/problems/coin-change/submissions/\n",
    "# class Solution:\n",
    "def coinChange(self, coins, amount):\n",
    "    dp = [float('inf')]*(amount+1)\n",
    "    dp[0] = 0\n",
    "    for c in coins:\n",
    "        for amt in range(len(dp)):\n",
    "            if amt >= c:\n",
    "                dp[amt] = min(dp[amt], dp[amt-c] + 1)\n",
    "    return dp[amount] if dp[amount] != float('inf') else -1"
   ]
  },
  {
   "cell_type": "code",
   "execution_count": 53,
   "id": "b708e044",
   "metadata": {},
   "outputs": [],
   "source": [
    "# https://leetcode.com/problems/word-subsets/description/\n",
    "# class Solution:\n",
    "def wordSubsets(self, words1, words2):\n",
    "\n",
    "    target = {}\n",
    "    for targetWord in words2:\n",
    "        toAdd = {}\n",
    "        for letter in targetWord:\n",
    "            if letter not in toAdd:\n",
    "                toAdd[letter] = 1\n",
    "            else:\n",
    "                toAdd[letter] += 1\n",
    "\n",
    "        for letter, occur in toAdd.items():\n",
    "            if letter in target:\n",
    "                target[letter] = max(occur, target[letter])\n",
    "            else:\n",
    "                target[letter] = occur\n",
    "\n",
    "    ret = []\n",
    "    for a in words1:\n",
    "        toInclude = True\n",
    "        for key in target:\n",
    "            if a.count(key) < target[key]:\n",
    "                toInclude = False\n",
    "                break\n",
    "        if toInclude:\n",
    "            ret.append(a)\n",
    "    return ret"
   ]
  },
  {
   "cell_type": "markdown",
   "id": "e494539b",
   "metadata": {},
   "source": [
    "# 442. Find All Duplicates in an Array"
   ]
  },
  {
   "cell_type": "code",
   "execution_count": null,
   "id": "c58d2363",
   "metadata": {},
   "outputs": [],
   "source": [
    "def findDuplicates(self, nums: List[int]) -> List[int]:\n",
    "    res = []\n",
    "    for n in nums:\n",
    "        n = abs(n)\n",
    "        if nums[n-1] > 0:\n",
    "            nums[n-1]*=-1\n",
    "        else:\n",
    "            res.append(n)\n",
    "    return res"
   ]
  },
  {
   "cell_type": "markdown",
   "id": "23c8d889",
   "metadata": {},
   "source": [
    "# 73. Set Matrix Zeroes"
   ]
  },
  {
   "cell_type": "code",
   "execution_count": 4,
   "id": "6bccf936",
   "metadata": {},
   "outputs": [],
   "source": [
    "# my first passed solution used list which will have duplicates, should use set instead."
   ]
  },
  {
   "cell_type": "code",
   "execution_count": null,
   "id": "5c4a4556",
   "metadata": {},
   "outputs": [],
   "source": [
    "# chatGPT solution:\n",
    "class Solution:\n",
    "    def setZeroes(self, matrix: List[List[int]]) -> None:\n",
    "        \n",
    "        # Use set instead of list here to avoid duplicates!!!\n",
    "        r0, c0 = set(), set()\n",
    "        m, n = len(matrix), len(matrix[0])\n",
    "        \n",
    "        # Find rows and columns with zeros\n",
    "        for i in range(m):\n",
    "            for j in range(n):\n",
    "                if matrix[i][j] == 0:\n",
    "                    r0.add(i)\n",
    "                    c0.add(j)\n",
    "        \n",
    "        # Set rows with zeros to zero\n",
    "        for i in r0:\n",
    "            matrix[i] = [0] * n\n",
    "        \n",
    "        # Set columns with zeros to zero\n",
    "        for j in c0:\n",
    "            for i in range(m):\n",
    "                matrix[i][j] = 0"
   ]
  },
  {
   "cell_type": "markdown",
   "id": "fb50b243",
   "metadata": {},
   "source": [
    "# 54. Spiral Matrix"
   ]
  },
  {
   "cell_type": "markdown",
   "id": "1cacd719",
   "metadata": {},
   "source": [
    "\"rb\" = row_begin"
   ]
  },
  {
   "cell_type": "code",
   "execution_count": null,
   "id": "30195722",
   "metadata": {},
   "outputs": [],
   "source": [
    "class Solution:\n",
    "    def spiralOrder(self, matrix: List[List[int]]) -> List[int]:\n",
    "        res = []\n",
    "        if len(matrix) == 0:\n",
    "            return res\n",
    "        rb = 0\n",
    "        cb = 0\n",
    "        re = len(matrix) - 1\n",
    "        ce = len(matrix[0]) - 1\n",
    "        while rb <= re and cb <= ce:\n",
    "            for i in range(cb, ce + 1):\n",
    "                res.append(matrix[rb][i])\n",
    "            rb += 1\n",
    "            for i in range(rb, re + 1):\n",
    "                res.append(matrix[i][ce])\n",
    "            ce -= 1\n",
    "            if rb <= re:\n",
    "                for i in range(ce, cb - 1, -1):\n",
    "                    res.append(matrix[re][i])\n",
    "                re -= 1\n",
    "            if cb <= ce:\n",
    "                for i in range(re, rb - 1, -1):\n",
    "                    res.append(matrix[i][cb])\n",
    "                cb += 1\n",
    "        return res"
   ]
  },
  {
   "cell_type": "markdown",
   "id": "8d19886f",
   "metadata": {},
   "source": [
    "# 48. Rotate Image"
   ]
  },
  {
   "cell_type": "code",
   "execution_count": null,
   "id": "15d3504a",
   "metadata": {},
   "outputs": [],
   "source": [
    "# reverse\n",
    "l = 0\n",
    "r = len(matrix) - 1\n",
    "while l < r:\n",
    "    matrix[l], matrix[r] = matrix[r], matrix[l]\n",
    "    l += 1\n",
    "    r -= 1\n",
    "\n",
    "# transpose\n",
    "for i in range(len(matrix)):\n",
    "    for j in range(i):\n",
    "        matrix[i][j], matrix[j][i] = matrix[j][i], matrix[i][j]"
   ]
  },
  {
   "cell_type": "markdown",
   "id": "5fcf5265",
   "metadata": {},
   "source": [
    "# 128. Longest Consecutive Sequence"
   ]
  },
  {
   "cell_type": "code",
   "execution_count": null,
   "id": "e36cf3d3",
   "metadata": {},
   "outputs": [],
   "source": [
    "class Solution:\n",
    "    def longestConsecutive(self, nums: List[int]) -> int:\n",
    "        longest = 0\n",
    "        num_set = set(nums)\n",
    "        for n in num_set:\n",
    "            if n-1 not in num_set:\n",
    "                nxt = n + 1\n",
    "                while nxt in num_set:\n",
    "                    nxt += 1\n",
    "                longest = max(longest,nxt-n)\n",
    "        return longest"
   ]
  },
  {
   "cell_type": "markdown",
   "id": "959b45f0",
   "metadata": {},
   "source": [
    "# 458. Poor Pigs https://leetcode.cn/problems/poor-pigs/"
   ]
  },
  {
   "cell_type": "code",
   "execution_count": 6,
   "id": "76dab2c4",
   "metadata": {},
   "outputs": [
    {
     "data": {
      "text/plain": [
       "datetime.datetime(2023, 5, 26, 12, 10, 13, 104715)"
      ]
     },
     "execution_count": 6,
     "metadata": {},
     "output_type": "execute_result"
    }
   ],
   "source": [
    "from datetime import datetime\n",
    "datetime.now()"
   ]
  },
  {
   "cell_type": "code",
   "execution_count": 18,
   "id": "3ed631e2",
   "metadata": {},
   "outputs": [
    {
     "data": {
      "text/plain": [
       "5"
      ]
     },
     "execution_count": 18,
     "metadata": {},
     "output_type": "execute_result"
    }
   ],
   "source": [
    "from math import log, ceil\n",
    "\n",
    "ceil(3.05) # =4\n",
    "log(32,2) # 5\n",
    "log(27,3) # 3\n",
    "log(49,7) # 2\n",
    "log(1000, 4) # 4.98\n",
    "ceil(log(1000,4)) # 5"
   ]
  },
  {
   "cell_type": "code",
   "execution_count": 19,
   "id": "12ea2e05",
   "metadata": {},
   "outputs": [
    {
     "data": {
      "text/plain": [
       "5"
      ]
     },
     "execution_count": 19,
     "metadata": {},
     "output_type": "execute_result"
    }
   ],
   "source": [
    "buckets = 1000\n",
    "minutesToTest = 60\n",
    "minutesToDie = 15\n",
    "pigsNeeded = ceil(log(buckets, minutesToTest//minutesToDie + 1))  \n",
    "\n",
    "pigsNeeded"
   ]
  },
  {
   "cell_type": "code",
   "execution_count": null,
   "id": "780af5c5",
   "metadata": {},
   "outputs": [],
   "source": [
    "class Solution:\n",
    "    def poorPigs(self, buckets: int, minutesToDie: int, minutesToTest: int) -> int:\n",
    "        return ceil(log(buckets, minutesToTest//minutesToDie + 1))\n",
    "\n",
    "作者：himymBen\n",
    "链接：https://leetcode.cn/problems/poor-pigs/solution/pythonjavajavascriptgo-hen-jing-dian-de-qilwu/"
   ]
  },
  {
   "cell_type": "markdown",
   "id": "4937c3ac",
   "metadata": {},
   "source": [
    "Good chart:\n",
    "https://leetcode.cn/problems/poor-pigs/solution/hua-jie-suan-fa-458-ke-lian-de-xiao-zhu-by-guanpen/"
   ]
  },
  {
   "cell_type": "markdown",
   "id": "53765f05",
   "metadata": {},
   "source": [
    "# 22. Generate Parentheses"
   ]
  },
  {
   "cell_type": "markdown",
   "id": "a1565d4a",
   "metadata": {},
   "source": [
    "https://leetcode.com/problems/generate-parentheses/\n",
    "\n",
    "Given n pairs of parentheses, write a function to generate all combinations of well-formed parentheses.\n",
    "\n",
    " \n",
    "\n",
    "Example 1:\n",
    "\n",
    "Input: n = 3\n",
    "Output: [\"((()))\",\"(()())\",\"(())()\",\"()(())\",\"()()()\"]\n",
    "Example 2:\n",
    "\n",
    "Input: n = 1\n",
    "Output: [\"()\"]\n",
    " "
   ]
  },
  {
   "cell_type": "code",
   "execution_count": null,
   "id": "154670bb",
   "metadata": {},
   "outputs": [],
   "source": [
    "def generateParenthesis(self, n: int) -> List[str]:\n",
    "\tdef dfs(left, right, s):\n",
    "\t\tif len(s) == n * 2:\n",
    "\t\t\tres.append(s)\n",
    "\t\t\treturn \n",
    "\n",
    "\t\tif left < n:\n",
    "\t\t\tdfs(left + 1, right, s + '(')\n",
    "\n",
    "\t\tif right < left:\n",
    "\t\t\tdfs(left, right + 1, s + ')')\n",
    "\n",
    "\tres = []\n",
    "\tdfs(0, 0, '')\n",
    "\treturn res"
   ]
  },
  {
   "cell_type": "markdown",
   "id": "9ac77517",
   "metadata": {},
   "source": [
    "# 131. Palindrome Partitioning"
   ]
  },
  {
   "cell_type": "markdown",
   "id": "9fd77275",
   "metadata": {},
   "source": [
    "https://leetcode.com/problems/palindrome-partitioning/description/"
   ]
  },
  {
   "cell_type": "markdown",
   "id": "3558f187",
   "metadata": {},
   "source": [
    "If you still dont understand the problem check these examples:\n",
    "\n",
    "s = \"aaab\"\n",
    "output = [[\"a\",\"a\",\"a\",\"b\"],[\"a\",\"aa\",\"b\"],[\"aa\",\"a\",\"b\"],[\"aaa\",\"b\"]]\n",
    "\n",
    "s = \"abcaa\"\n",
    "output = [[\"a\",\"b\",\"c\",\"a\",\"a\"],[\"a\",\"b\",\"c\",\"aa\"]]\n",
    "\n",
    "s = \"abbab\"\n",
    "output = [[\"a\",\"b\",\"b\",\"a\",\"b\"],[\"a\",\"b\",\"bab\"],[\"a\",\"bb\",\"a\",\"b\"],[\"abba\",\"b\"]]\n",
    "\n",
    "s = \"abaca\"\n",
    "output = [[\"a\",\"b\",\"a\",\"c\",\"a\"],[\"a\",\"b\",\"aca\"],[\"aba\",\"c\",\"a\"]]\n",
    "\n",
    "s = \"aaa\"\n",
    "output = [[\"a\",\"a\",\"a\"],[\"a\",\"aa\"],[\"aa\",\"a\"],[\"aaa\"]]"
   ]
  },
  {
   "cell_type": "markdown",
   "id": "e7fd82fa",
   "metadata": {},
   "source": [
    "# 79. Word Search"
   ]
  },
  {
   "cell_type": "code",
   "execution_count": null,
   "id": "00be3d6f",
   "metadata": {},
   "outputs": [],
   "source": [
    "class Solution:\n",
    "    def exist(self, board: List[List[str]], word: str) -> bool:\n",
    "        def dfs(board, y, x, word):\n",
    "            if len(word) == 0:\n",
    "                return True\n",
    "            if y < 0 or x < 0 or y == len(board) or x == len(board[y]) or board[y][x] != word[0]:\n",
    "                return False\n",
    "            \n",
    "            temp = board[y][x]\n",
    "            board[y][x] = '#'\n",
    "            \n",
    "            if dfs(board, y, x + 1, word[1:]) or dfs(board, y, x - 1, word[1:]) \\\n",
    "               or dfs(board, y + 1, x, word[1:]) or dfs(board, y - 1, x, word[1:]):\n",
    "                return True\n",
    "            \n",
    "            board[y][x] = temp\n",
    "            return False\n",
    "        \n",
    "        for y in range(len(board)):\n",
    "            for x in range(len(board[y])):\n",
    "                if dfs(board, y, x, word):\n",
    "                    return True\n",
    "        return False"
   ]
  },
  {
   "cell_type": "code",
   "execution_count": 12,
   "id": "122d5dda",
   "metadata": {
    "scrolled": false
   },
   "outputs": [
    {
     "name": "stdout",
     "output_type": "stream",
     "text": [
      "c='',l='a',d[1:]='34',d='234',res=[]\n",
      "c='a',l='d',d[1:]='4',d='34',res=[]\n",
      "c='ad',l='g',d[1:]='',d='4',res=[]\n",
      "c='ad',l='h',d[1:]='',d='4',res=['adg']\n",
      "c='ad',l='i',d[1:]='',d='4',res=['adg', 'adh']\n",
      "c='a',l='e',d[1:]='4',d='34',res=['adg', 'adh', 'adi']\n",
      "c='ae',l='g',d[1:]='',d='4',res=['adg', 'adh', 'adi']\n",
      "c='ae',l='h',d[1:]='',d='4',res=['adg', 'adh', 'adi', 'aeg']\n",
      "c='ae',l='i',d[1:]='',d='4',res=['adg', 'adh', 'adi', 'aeg', 'aeh']\n",
      "c='a',l='f',d[1:]='4',d='34',res=['adg', 'adh', 'adi', 'aeg', 'aeh', 'aei']\n",
      "c='af',l='g',d[1:]='',d='4',res=['adg', 'adh', 'adi', 'aeg', 'aeh', 'aei']\n",
      "c='af',l='h',d[1:]='',d='4',res=['adg', 'adh', 'adi', 'aeg', 'aeh', 'aei', 'afg']\n",
      "c='af',l='i',d[1:]='',d='4',res=['adg', 'adh', 'adi', 'aeg', 'aeh', 'aei', 'afg', 'afh']\n",
      "c='',l='b',d[1:]='34',d='234',res=['adg', 'adh', 'adi', 'aeg', 'aeh', 'aei', 'afg', 'afh', 'afi']\n",
      "c='b',l='d',d[1:]='4',d='34',res=['adg', 'adh', 'adi', 'aeg', 'aeh', 'aei', 'afg', 'afh', 'afi']\n",
      "c='bd',l='g',d[1:]='',d='4',res=['adg', 'adh', 'adi', 'aeg', 'aeh', 'aei', 'afg', 'afh', 'afi']\n",
      "c='bd',l='h',d[1:]='',d='4',res=['adg', 'adh', 'adi', 'aeg', 'aeh', 'aei', 'afg', 'afh', 'afi', 'bdg']\n",
      "c='bd',l='i',d[1:]='',d='4',res=['adg', 'adh', 'adi', 'aeg', 'aeh', 'aei', 'afg', 'afh', 'afi', 'bdg', 'bdh']\n",
      "c='b',l='e',d[1:]='4',d='34',res=['adg', 'adh', 'adi', 'aeg', 'aeh', 'aei', 'afg', 'afh', 'afi', 'bdg', 'bdh', 'bdi']\n",
      "c='be',l='g',d[1:]='',d='4',res=['adg', 'adh', 'adi', 'aeg', 'aeh', 'aei', 'afg', 'afh', 'afi', 'bdg', 'bdh', 'bdi']\n",
      "c='be',l='h',d[1:]='',d='4',res=['adg', 'adh', 'adi', 'aeg', 'aeh', 'aei', 'afg', 'afh', 'afi', 'bdg', 'bdh', 'bdi', 'beg']\n",
      "c='be',l='i',d[1:]='',d='4',res=['adg', 'adh', 'adi', 'aeg', 'aeh', 'aei', 'afg', 'afh', 'afi', 'bdg', 'bdh', 'bdi', 'beg', 'beh']\n",
      "c='b',l='f',d[1:]='4',d='34',res=['adg', 'adh', 'adi', 'aeg', 'aeh', 'aei', 'afg', 'afh', 'afi', 'bdg', 'bdh', 'bdi', 'beg', 'beh', 'bei']\n",
      "c='bf',l='g',d[1:]='',d='4',res=['adg', 'adh', 'adi', 'aeg', 'aeh', 'aei', 'afg', 'afh', 'afi', 'bdg', 'bdh', 'bdi', 'beg', 'beh', 'bei']\n",
      "c='bf',l='h',d[1:]='',d='4',res=['adg', 'adh', 'adi', 'aeg', 'aeh', 'aei', 'afg', 'afh', 'afi', 'bdg', 'bdh', 'bdi', 'beg', 'beh', 'bei', 'bfg']\n",
      "c='bf',l='i',d[1:]='',d='4',res=['adg', 'adh', 'adi', 'aeg', 'aeh', 'aei', 'afg', 'afh', 'afi', 'bdg', 'bdh', 'bdi', 'beg', 'beh', 'bei', 'bfg', 'bfh']\n",
      "c='',l='c',d[1:]='34',d='234',res=['adg', 'adh', 'adi', 'aeg', 'aeh', 'aei', 'afg', 'afh', 'afi', 'bdg', 'bdh', 'bdi', 'beg', 'beh', 'bei', 'bfg', 'bfh', 'bfi']\n",
      "c='c',l='d',d[1:]='4',d='34',res=['adg', 'adh', 'adi', 'aeg', 'aeh', 'aei', 'afg', 'afh', 'afi', 'bdg', 'bdh', 'bdi', 'beg', 'beh', 'bei', 'bfg', 'bfh', 'bfi']\n",
      "c='cd',l='g',d[1:]='',d='4',res=['adg', 'adh', 'adi', 'aeg', 'aeh', 'aei', 'afg', 'afh', 'afi', 'bdg', 'bdh', 'bdi', 'beg', 'beh', 'bei', 'bfg', 'bfh', 'bfi']\n",
      "c='cd',l='h',d[1:]='',d='4',res=['adg', 'adh', 'adi', 'aeg', 'aeh', 'aei', 'afg', 'afh', 'afi', 'bdg', 'bdh', 'bdi', 'beg', 'beh', 'bei', 'bfg', 'bfh', 'bfi', 'cdg']\n",
      "c='cd',l='i',d[1:]='',d='4',res=['adg', 'adh', 'adi', 'aeg', 'aeh', 'aei', 'afg', 'afh', 'afi', 'bdg', 'bdh', 'bdi', 'beg', 'beh', 'bei', 'bfg', 'bfh', 'bfi', 'cdg', 'cdh']\n",
      "c='c',l='e',d[1:]='4',d='34',res=['adg', 'adh', 'adi', 'aeg', 'aeh', 'aei', 'afg', 'afh', 'afi', 'bdg', 'bdh', 'bdi', 'beg', 'beh', 'bei', 'bfg', 'bfh', 'bfi', 'cdg', 'cdh', 'cdi']\n",
      "c='ce',l='g',d[1:]='',d='4',res=['adg', 'adh', 'adi', 'aeg', 'aeh', 'aei', 'afg', 'afh', 'afi', 'bdg', 'bdh', 'bdi', 'beg', 'beh', 'bei', 'bfg', 'bfh', 'bfi', 'cdg', 'cdh', 'cdi']\n",
      "c='ce',l='h',d[1:]='',d='4',res=['adg', 'adh', 'adi', 'aeg', 'aeh', 'aei', 'afg', 'afh', 'afi', 'bdg', 'bdh', 'bdi', 'beg', 'beh', 'bei', 'bfg', 'bfh', 'bfi', 'cdg', 'cdh', 'cdi', 'ceg']\n",
      "c='ce',l='i',d[1:]='',d='4',res=['adg', 'adh', 'adi', 'aeg', 'aeh', 'aei', 'afg', 'afh', 'afi', 'bdg', 'bdh', 'bdi', 'beg', 'beh', 'bei', 'bfg', 'bfh', 'bfi', 'cdg', 'cdh', 'cdi', 'ceg', 'ceh']\n",
      "c='c',l='f',d[1:]='4',d='34',res=['adg', 'adh', 'adi', 'aeg', 'aeh', 'aei', 'afg', 'afh', 'afi', 'bdg', 'bdh', 'bdi', 'beg', 'beh', 'bei', 'bfg', 'bfh', 'bfi', 'cdg', 'cdh', 'cdi', 'ceg', 'ceh', 'cei']\n",
      "c='cf',l='g',d[1:]='',d='4',res=['adg', 'adh', 'adi', 'aeg', 'aeh', 'aei', 'afg', 'afh', 'afi', 'bdg', 'bdh', 'bdi', 'beg', 'beh', 'bei', 'bfg', 'bfh', 'bfi', 'cdg', 'cdh', 'cdi', 'ceg', 'ceh', 'cei']\n",
      "c='cf',l='h',d[1:]='',d='4',res=['adg', 'adh', 'adi', 'aeg', 'aeh', 'aei', 'afg', 'afh', 'afi', 'bdg', 'bdh', 'bdi', 'beg', 'beh', 'bei', 'bfg', 'bfh', 'bfi', 'cdg', 'cdh', 'cdi', 'ceg', 'ceh', 'cei', 'cfg']\n",
      "c='cf',l='i',d[1:]='',d='4',res=['adg', 'adh', 'adi', 'aeg', 'aeh', 'aei', 'afg', 'afh', 'afi', 'bdg', 'bdh', 'bdi', 'beg', 'beh', 'bei', 'bfg', 'bfh', 'bfi', 'cdg', 'cdh', 'cdi', 'ceg', 'ceh', 'cei', 'cfg', 'cfh']\n",
      "['adg', 'adh', 'adi', 'aeg', 'aeh', 'aei', 'afg', 'afh', 'afi', 'bdg', 'bdh', 'bdi', 'beg', 'beh', 'bei', 'bfg', 'bfh', 'bfi', 'cdg', 'cdh', 'cdi', 'ceg', 'ceh', 'cei', 'cfg', 'cfh', 'cfi']\n"
     ]
    }
   ],
   "source": [
    "def letterCombinations(digits):\n",
    "    if not digits:\n",
    "        return []\n",
    "\n",
    "    phone = {\"2\": \"abc\", \"3\": \"def\", \"4\": \"ghi\", \"5\": \"jkl\", \"6\": \"mno\", \"7\": \"pqrs\", \"8\": \"tuv\", \"9\": \"wxyz\"}\n",
    "    res = []\n",
    "\n",
    "    def dfs(comb, digits):\n",
    "        if not digits:\n",
    "            res.append(comb)\n",
    "            return\n",
    "\n",
    "        for letter in phone[digits[0]]:\n",
    "            print(f\"c='{comb}',l='{letter}',d[1:]='{digits[1:]}',d='{digits}',res={res}\")\n",
    "            dfs(comb + letter, digits[1:])\n",
    "\n",
    "    dfs(\"\", digits)\n",
    "    return res\n",
    "\n",
    "# Test Case: digits = \"234\"\n",
    "result = letterCombinations(\"234\")\n",
    "print(result)"
   ]
  },
  {
   "cell_type": "code",
   "execution_count": 16,
   "id": "6822d67a",
   "metadata": {},
   "outputs": [],
   "source": [
    "  def partition(s):\n",
    "        res = []\n",
    "        def dfs(s,comb):\n",
    "            if not s:\n",
    "                res.append(comb.copy())\n",
    "                while comb:\n",
    "                    comb.pop()\n",
    "                return\n",
    "            for i in range(len(s)):\n",
    "                if s[:i+1] == s[:i+1][::-1]:\n",
    "                    comb.append(s[:i+1])\n",
    "                    dfs(s[i+1:], comb)\n",
    "        dfs(s,[])\n",
    "        return res"
   ]
  },
  {
   "cell_type": "code",
   "execution_count": 17,
   "id": "4c6f55a4",
   "metadata": {},
   "outputs": [
    {
     "data": {
      "text/plain": [
       "[['a', 'a', 'a'], ['aa'], ['aa', 'a'], ['aaa']]"
      ]
     },
     "execution_count": 17,
     "metadata": {},
     "output_type": "execute_result"
    }
   ],
   "source": [
    "partition(\"aaa\")"
   ]
  },
  {
   "cell_type": "code",
   "execution_count": 19,
   "id": "693988b9",
   "metadata": {},
   "outputs": [],
   "source": [
    "  def partition(s):   \n",
    "        res = []\n",
    "        def dfs(s,comb):\n",
    "            if not s:\n",
    "                res.append(comb.copy())\n",
    "                return\n",
    "            for i in range(len(s)):\n",
    "                if s[:i+1] == s[:i+1][::-1]:\n",
    "                    comb.append(s[:i+1])\n",
    "                    dfs(s[i+1:], comb)\n",
    "                    comb.pop()\n",
    "        dfs(s,[])\n",
    "        return res"
   ]
  },
  {
   "cell_type": "code",
   "execution_count": 20,
   "id": "2026def5",
   "metadata": {},
   "outputs": [
    {
     "data": {
      "text/plain": [
       "[['a', 'a', 'a'], ['a', 'aa'], ['aa', 'a'], ['aaa']]"
      ]
     },
     "execution_count": 20,
     "metadata": {},
     "output_type": "execute_result"
    }
   ],
   "source": [
    "partition(\"aaa\")"
   ]
  },
  {
   "cell_type": "code",
   "execution_count": null,
   "id": "68188cfb",
   "metadata": {},
   "outputs": [],
   "source": []
  }
 ],
 "metadata": {
  "kernelspec": {
   "display_name": "Python 3 (ipykernel)",
   "language": "python",
   "name": "python3"
  },
  "language_info": {
   "codemirror_mode": {
    "name": "ipython",
    "version": 3
   },
   "file_extension": ".py",
   "mimetype": "text/x-python",
   "name": "python",
   "nbconvert_exporter": "python",
   "pygments_lexer": "ipython3",
   "version": "3.10.2"
  }
 },
 "nbformat": 4,
 "nbformat_minor": 5
}
