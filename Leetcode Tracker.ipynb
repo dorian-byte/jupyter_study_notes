{
 "cells": [
  {
   "cell_type": "code",
   "execution_count": 12,
   "id": "c05b6e09",
   "metadata": {},
   "outputs": [],
   "source": [
    "dct = {}"
   ]
  },
  {
   "cell_type": "code",
   "execution_count": 13,
   "id": "1ae4fe0f",
   "metadata": {},
   "outputs": [],
   "source": [
    "dct['number'] = 217"
   ]
  },
  {
   "cell_type": "code",
   "execution_count": 14,
   "id": "da5d3fa1",
   "metadata": {},
   "outputs": [],
   "source": [
    "dct['name'] = 'Contains Duplicate'"
   ]
  },
  {
   "cell_type": "code",
   "execution_count": 15,
   "id": "f78a62bb",
   "metadata": {},
   "outputs": [],
   "source": [
    "from datetime import datetime\n",
    "dct['attempted_at'] = datetime.now()"
   ]
  },
  {
   "cell_type": "code",
   "execution_count": 17,
   "id": "fc1bd75a",
   "metadata": {},
   "outputs": [],
   "source": [
    "dct['passed'] = True"
   ]
  },
  {
   "cell_type": "code",
   "execution_count": 18,
   "id": "7e966d16",
   "metadata": {},
   "outputs": [
    {
     "data": {
      "text/plain": [
       "{'number': 217,\n",
       " 'name': 'Contains Duplicate',\n",
       " 'attempted_at': datetime.datetime(2023, 5, 7, 12, 27, 11, 59195),\n",
       " 'passed': True}"
      ]
     },
     "execution_count": 18,
     "metadata": {},
     "output_type": "execute_result"
    }
   ],
   "source": [
    "dct"
   ]
  },
  {
   "cell_type": "markdown",
   "id": "420f21ca",
   "metadata": {},
   "source": [
    "# Trapping Rain Water"
   ]
  },
  {
   "cell_type": "code",
   "execution_count": null,
   "id": "4ce792ef",
   "metadata": {},
   "outputs": [],
   "source": [
    "class Solution:\n",
    "    def trap(self, height: List[int]) -> int:\n",
    "        if not height:\n",
    "            return 0\n",
    "        \n",
    "        n = len(height)\n",
    "        left_max = [0] * n\n",
    "        right_max = [0] * n\n",
    "        \n",
    "        left_max[0] = height[0]\n",
    "        for i in range(1, n):\n",
    "            left_max[i] = max(left_max[i - 1], height[i])\n",
    "        \n",
    "        right_max[n - 1] = height[n - 1]\n",
    "        for i in range(n - 2, -1, -1):\n",
    "            right_max[i] = max(right_max[i + 1], height[i])\n",
    "        \n",
    "        total_water = 0\n",
    "        for i in range(n):\n",
    "            total_water += min(left_max[i], right_max[i]) - height[i]\n",
    "        \n",
    "        return total_water"
   ]
  },
  {
   "cell_type": "code",
   "execution_count": null,
   "id": "9c9a004f",
   "metadata": {},
   "outputs": [],
   "source": []
  }
 ],
 "metadata": {
  "kernelspec": {
   "display_name": "Python 3 (ipykernel)",
   "language": "python",
   "name": "python3"
  },
  "language_info": {
   "codemirror_mode": {
    "name": "ipython",
    "version": 3
   },
   "file_extension": ".py",
   "mimetype": "text/x-python",
   "name": "python",
   "nbconvert_exporter": "python",
   "pygments_lexer": "ipython3",
   "version": "3.10.2"
  }
 },
 "nbformat": 4,
 "nbformat_minor": 5
}
