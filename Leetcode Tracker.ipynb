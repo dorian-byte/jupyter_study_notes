{
 "cells": [
  {
   "cell_type": "code",
   "execution_count": 12,
   "id": "9721f1a2",
   "metadata": {},
   "outputs": [],
   "source": [
    "dct = {}"
   ]
  },
  {
   "cell_type": "code",
   "execution_count": 13,
   "id": "9c92e702",
   "metadata": {},
   "outputs": [],
   "source": [
    "dct['number'] = 217"
   ]
  },
  {
   "cell_type": "code",
   "execution_count": 14,
   "id": "9149a917",
   "metadata": {},
   "outputs": [],
   "source": [
    "dct['name'] = 'Contains Duplicate'"
   ]
  },
  {
   "cell_type": "code",
   "execution_count": 15,
   "id": "6701dbea",
   "metadata": {},
   "outputs": [],
   "source": [
    "from datetime import datetime\n",
    "dct['attempted_at'] = datetime.now()"
   ]
  },
  {
   "cell_type": "code",
   "execution_count": 17,
   "id": "ea4ff106",
   "metadata": {},
   "outputs": [],
   "source": [
    "dct['passed'] = True"
   ]
  },
  {
   "cell_type": "code",
   "execution_count": 18,
   "id": "dbb63ddd",
   "metadata": {},
   "outputs": [
    {
     "data": {
      "text/plain": [
       "{'number': 217,\n",
       " 'name': 'Contains Duplicate',\n",
       " 'attempted_at': datetime.datetime(2023, 5, 7, 12, 27, 11, 59195),\n",
       " 'passed': True}"
      ]
     },
     "execution_count": 18,
     "metadata": {},
     "output_type": "execute_result"
    }
   ],
   "source": [
    "dct"
   ]
  },
  {
   "cell_type": "markdown",
   "id": "25a9d18e",
   "metadata": {},
   "source": [
    "# Trapping Rain Water"
   ]
  },
  {
   "cell_type": "markdown",
   "id": "964c0795",
   "metadata": {},
   "source": [
    "# solution 1"
   ]
  },
  {
   "cell_type": "code",
   "execution_count": null,
   "id": "86d2b736",
   "metadata": {},
   "outputs": [],
   "source": [
    "class Solution:\n",
    "    def trap(self, height: List[int]) -> int:\n",
    "        if not height:\n",
    "            return 0\n",
    "        \n",
    "        n = len(height)\n",
    "        left_max = [0] * n\n",
    "        right_max = [0] * n\n",
    "        \n",
    "        left_max[0] = height[0]\n",
    "        for i in range(1, n):\n",
    "            left_max[i] = max(left_max[i - 1], height[i])\n",
    "        \n",
    "        right_max[n - 1] = height[n - 1]\n",
    "        for i in range(n - 2, -1, -1):\n",
    "            right_max[i] = max(right_max[i + 1], height[i])\n",
    "        \n",
    "        tot_water = 0\n",
    "        for i in range(n):\n",
    "            tot_water += min(left_max[i], right_max[i]) - height[i]\n",
    "        \n",
    "        return tot_water"
   ]
  },
  {
   "cell_type": "markdown",
   "id": "a1e91c05",
   "metadata": {},
   "source": [
    "# solution 2"
   ]
  },
  {
   "cell_type": "code",
   "execution_count": null,
   "id": "9edb3c2e",
   "metadata": {},
   "outputs": [],
   "source": [
    "class Solution:\n",
    "    def trap(self, height: List[int]) -> int:\n",
    "        n = len(height)\n",
    "        stk = []\n",
    "        tot_water = 0\n",
    "        \n",
    "        for i in range(n):\n",
    "            while stk and height[stk[-1]] < height[i]:\n",
    "                top = stk.pop()\n",
    "                if not stk:\n",
    "                    break\n",
    "                min_height = min(height[stk[-1]], height[i]) - height[top]\n",
    "                width = i - stk[-1] - 1\n",
    "                tot_water += min_height * width\n",
    "            stk.append(i)\n",
    "        \n",
    "        return tot_water"
   ]
  },
  {
   "cell_type": "markdown",
   "id": "cca2cc09",
   "metadata": {},
   "source": [
    "# solution 3"
   ]
  },
  {
   "cell_type": "code",
   "execution_count": null,
   "id": "b83838a0",
   "metadata": {},
   "outputs": [],
   "source": [
    "class Solution:\n",
    "    def trap(self, height: List[int]) -> int:\n",
    "        i, j = 0, len(height) - 1\n",
    "        left_max, right_max = height[i], height[j]\n",
    "        \n",
    "        tot_water = 0\n",
    "        while i < j:\n",
    "            if height[i] < height[j]:\n",
    "                if left_max > height[i]:\n",
    "                    tot_water += left_max - height[i]\n",
    "                else:\n",
    "                    left_max = height[i]\n",
    "                i += 1\n",
    "            else:\n",
    "                if right_max > height[j]:\n",
    "                    tot_water += right_max - height[j]\n",
    "                else:\n",
    "                    right_max = height[j]\n",
    "                j -= 1\n",
    "        \n",
    "        return tot_water"
   ]
  },
  {
   "cell_type": "markdown",
   "id": "edf618d2",
   "metadata": {},
   "source": [
    "# solution 4\n",
    "source:\n",
    "https://leetcode.cn/problems/trapping-rain-water/solution/by-ddz16-5c0s/"
   ]
  },
  {
   "cell_type": "code",
   "execution_count": null,
   "id": "3c4f6f67",
   "metadata": {},
   "outputs": [],
   "source": [
    "class Solution:\n",
    "    def trap(self, height: List[int]) -> int:\n",
    "        ans = 0\n",
    "        h1 = 0\n",
    "        h2 = 0\n",
    "        for i in range(len(height)):\n",
    "            h1 = max(h1,height[i])\n",
    "            h2 = max(h2,height[-i-1])\n",
    "            ans = ans + h1 + h2 -height[i]\n",
    "        return  ans - len(height)*h1"
   ]
  },
  {
   "cell_type": "markdown",
   "id": "fd200f0a",
   "metadata": {},
   "source": [
    "# Longest Peak"
   ]
  },
  {
   "cell_type": "code",
   "execution_count": 1,
   "id": "f4683ade",
   "metadata": {},
   "outputs": [],
   "source": [
    "def longestPeak(array):\n",
    "    max_len = 0\n",
    "    i = 1\n",
    "\n",
    "    while i < len(array) - 1:\n",
    "        is_peak = array[i - 1] < array[i] > array[i + 1]\n",
    "\n",
    "        if not is_peak:\n",
    "            i += 1\n",
    "            continue\n",
    "\n",
    "        l = i - 2\n",
    "        while l >= 0 and array[l] < array[l + 1]:\n",
    "            l -= 1\n",
    "\n",
    "        r = i + 2\n",
    "        while r < len(array) and array[r] < array[r - 1]:\n",
    "            r += 1\n",
    "\n",
    "        peak_len = r - l - 1\n",
    "        max_len = max(max_len, peak_len)\n",
    "        i = r\n",
    "\n",
    "    return max_len"
   ]
  },
  {
   "cell_type": "code",
   "execution_count": null,
   "id": "5048881e",
   "metadata": {},
   "outputs": [],
   "source": []
  }
 ],
 "metadata": {
  "kernelspec": {
   "display_name": "Python 3 (ipykernel)",
   "language": "python",
   "name": "python3"
  },
  "language_info": {
   "codemirror_mode": {
    "name": "ipython",
    "version": 3
   },
   "file_extension": ".py",
   "mimetype": "text/x-python",
   "name": "python",
   "nbconvert_exporter": "python",
   "pygments_lexer": "ipython3",
   "version": "3.10.2"
  }
 },
 "nbformat": 4,
 "nbformat_minor": 5
}
