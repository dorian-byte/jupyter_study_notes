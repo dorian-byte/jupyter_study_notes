{
 "cells": [
  {
   "cell_type": "code",
   "execution_count": 12,
   "id": "5d339224",
   "metadata": {},
   "outputs": [],
   "source": [
    "dct = {}"
   ]
  },
  {
   "cell_type": "code",
   "execution_count": 13,
   "id": "ea1ad2f6",
   "metadata": {},
   "outputs": [],
   "source": [
    "dct['number'] = 217"
   ]
  },
  {
   "cell_type": "code",
   "execution_count": 14,
   "id": "6c7bec0e",
   "metadata": {},
   "outputs": [],
   "source": [
    "dct['name'] = 'Contains Duplicate'"
   ]
  },
  {
   "cell_type": "code",
   "execution_count": 15,
   "id": "33293d57",
   "metadata": {},
   "outputs": [],
   "source": [
    "from datetime import datetime\n",
    "dct['attempted_at'] = datetime.now()"
   ]
  },
  {
   "cell_type": "code",
   "execution_count": 16,
   "id": "20983d5e",
   "metadata": {},
   "outputs": [
    {
     "data": {
      "text/plain": [
       "{'number': 217,\n",
       " 'name': 'Contains Duplicate',\n",
       " 'attempted_at': datetime.datetime(2023, 5, 7, 12, 27, 11, 59195)}"
      ]
     },
     "execution_count": 16,
     "metadata": {},
     "output_type": "execute_result"
    }
   ],
   "source": [
    "dct"
   ]
  },
  {
   "cell_type": "code",
   "execution_count": null,
   "id": "54946748",
   "metadata": {},
   "outputs": [],
   "source": []
  }
 ],
 "metadata": {
  "kernelspec": {
   "display_name": "Python 3 (ipykernel)",
   "language": "python",
   "name": "python3"
  },
  "language_info": {
   "codemirror_mode": {
    "name": "ipython",
    "version": 3
   },
   "file_extension": ".py",
   "mimetype": "text/x-python",
   "name": "python",
   "nbconvert_exporter": "python",
   "pygments_lexer": "ipython3",
   "version": "3.10.2"
  }
 },
 "nbformat": 4,
 "nbformat_minor": 5
}
